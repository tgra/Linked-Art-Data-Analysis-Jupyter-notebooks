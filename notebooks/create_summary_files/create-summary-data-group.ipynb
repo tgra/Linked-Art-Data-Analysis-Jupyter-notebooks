{
 "cells": [
  {
   "cell_type": "markdown",
   "metadata": {},
   "source": [
    "# Linked Art - Create Summary Data Files - Group\n",
    "This notebook will create summary data files for the MOMA alternative data transformed to Linked Art JSON-LD, for use with an exhibition browser.\n",
    "\n",
    "The JSON data files are in the `/linked_data` directory as follows:\n",
    "\n",
    "- `/linked_data`\n",
    "  - `activity`\n",
    "  - `group`\n",
    "  - `person`\n",
    "\n",
    "Where:\n",
    "- activity -> exhibition event \n",
    "- group -> organisation involved in exhibition events\n",
    "- person -> person involved in exhibition events\n"
   ]
  },
  {
   "cell_type": "markdown",
   "metadata": {},
   "source": [
    "# Import libraries"
   ]
  },
  {
   "cell_type": "code",
   "execution_count": 1,
   "metadata": {},
   "outputs": [],
   "source": [
    "try:\n",
    "    import json\n",
    "except:\n",
    "    %pip install json\n",
    "    import json\n"
   ]
  },
  {
   "cell_type": "markdown",
   "metadata": {},
   "source": [
    "#  Create JSON file for all *Group* entities\n",
    "The following code will create a JSON file \n",
    "`api/groups_all.json`\n",
    "\n",
    "The JSON file contains summary information about each group entity defined in the `data/group` directory:\n",
    "- id\n",
    "- _label"
   ]
  },
  {
   "cell_type": "code",
   "execution_count": 3,
   "metadata": {},
   "outputs": [
    {
     "name": "stdout",
     "output_type": "stream",
     "text": [
      "File created: ../../output/summary/group/groups_all.json\n"
     ]
    }
   ],
   "source": [
    "# location of Linked Art files containing group descriptions\n",
    "linked_data_filepath = \"../../linked_data/group/\"\n",
    "\n",
    "# output file\n",
    "groups_all_file = \"../../output/summary/group/groups_all.json\"\n",
    "\n",
    "groups = []\n",
    "\n",
    "group_template = {\n",
    "    \"id\": \"\",\n",
    "    \"_label\": \"\",\n",
    "     \n",
    "}\n",
    "\n",
    "for filename in os.listdir(linked_data_filepath):\n",
    "    try:\n",
    "        with open(os.path.join(linked_data_filepath, filename), 'r') as json_file:\n",
    "            data = json.load(json_file)\n",
    "\n",
    "            # copy template for group\n",
    "            this_group = group_template.copy()\n",
    "            this_group[\"id\"] = data.get(\"id\")\n",
    "            this_group[\"_label\"] = data.get(\"_label\")\n",
    "           \n",
    "            group_copy = this_group.copy()\n",
    "\n",
    "            # append group to list groups\n",
    "            groups.append(group_copy) \n",
    "            \n",
    "    except:\n",
    "        continue\n",
    "\n",
    "\n",
    "# write groups list to JSON file\n",
    "with open(groups_all_file, 'w') as ex_file:\n",
    "     ex_file.write(json.dumps({\"groups\": groups}, indent=2))\n",
    "\n",
    "     print(\"File created: \" + groups_all_file )"
   ]
  },
  {
   "cell_type": "markdown",
   "metadata": {},
   "source": []
  }
 ],
 "metadata": {
  "kernelspec": {
   "display_name": "Python 3.8.8 ('base')",
   "language": "python",
   "name": "python3"
  },
  "language_info": {
   "codemirror_mode": {
    "name": "ipython",
    "version": 3
   },
   "file_extension": ".py",
   "mimetype": "text/x-python",
   "name": "python",
   "nbconvert_exporter": "python",
   "pygments_lexer": "ipython3",
   "version": "3.8.8"
  },
  "orig_nbformat": 4,
  "vscode": {
   "interpreter": {
    "hash": "40d3a090f54c6569ab1632332b64b2c03c39dcf918b08424e98f38b5ae0af88f"
   }
  }
 },
 "nbformat": 4,
 "nbformat_minor": 2
}
