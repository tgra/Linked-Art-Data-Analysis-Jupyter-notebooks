{
 "cells": [
  {
   "cell_type": "markdown",
   "metadata": {},
   "source": [
    "# Timeline Visualisation\n",
    "\n",
    "This notebook creates JSON files of exhibition data and renders them as a timeline visualisation using the Timeline code from KnightLab https://timeline.knightlab.com/ "
   ]
  },
  {
   "cell_type": "markdown",
   "metadata": {},
   "source": [
    "# Import libraries and variables "
   ]
  },
  {
   "cell_type": "code",
   "execution_count": 34,
   "metadata": {},
   "outputs": [],
   "source": [
    "import json\n",
    "import ipywidgets\n",
    "from IPython.display import display, HTML,clear_output\n",
    "\n",
    "\n",
    "%store -r activity_dir\n",
    "%store -r activity_all_file\n",
    "%store -r datavis_events_all_timeline\n",
    "%store -r datavis_venue_exhibitions\n",
    "%store -r datavis_venue_timeline\n",
    "%store -r json_suffix\n"
   ]
  },
  {
   "cell_type": "markdown",
   "metadata": {},
   "source": [
    "## Create JSON data files from Linked Art for exhibitions"
   ]
  },
  {
   "cell_type": "markdown",
   "metadata": {},
   "source": [
    "### Create a timeline JSON file for all exhibition events."
   ]
  },
  {
   "cell_type": "code",
   "execution_count": 35,
   "metadata": {},
   "outputs": [],
   "source": [
    "# Make JSON data file\n",
    "\n",
    "\n",
    "events_list = []\n",
    "\n",
    "with open(os.path.join(activity_dir, activity_all_file), 'r') as json_file:\n",
    "    data = json.load(json_file)\n",
    "    for event in data.get(\"events\"):\n",
    "\n",
    "        start = event.get(\"start\").split(\"T\")[0]\n",
    "\n",
    "        start_year = start.split(\"-\")[0]\n",
    "        start_month = start.split(\"-\")[1]\n",
    "        start_day = start.split(\"-\")[2]\n",
    "\n",
    "        end = event.get(\"start\").split(\"T\")[0]\n",
    "\n",
    "        end_year = start.split(\"-\")[0]\n",
    "        end_month = start.split(\"-\")[1]\n",
    "        end_day = start.split(\"-\")[2]\n",
    "         \n",
    "        \n",
    "\n",
    "        display_date = str(start) + \" - \" + str(end)\n",
    "\n",
    "        headline = event.get(\"_label\")\n",
    "\n",
    "        event_vis = {\n",
    "      \"media\": {\n",
    "        \"url\": \"\",\n",
    "        \"caption\": \"\",\n",
    "        \"credit\": \"\",\n",
    "        \"thumbnail\": \"\"\n",
    "      },\n",
    "      \"display_date\": display_date,\n",
    "      \"start_date\": {\n",
    "        \"year\": start_year,\n",
    "        \"month\": start_month,\n",
    "        \"day\": start_day\n",
    "      },\n",
    "      \"end_date\": {\n",
    "        \"year\": end_year,\n",
    "        \"month\": end_month,\n",
    "        \"day\": end_day\n",
    "      },\n",
    "      \"text\": {\n",
    "        \"headline\": headline,\n",
    "        \"text\": \"\"\n",
    "      },\n",
    "      \"type\": \"title\",\n",
    "      \"background\": {  \"color\": \"#3f83e8\"  }\n",
    "    }\n",
    "        events_list.append(event_vis)\n",
    "\n",
    "with open(datavis_events_all_timeline, 'w') as file:\n",
    "        file.write(json.dumps({\"events\": events_list},indent=2))"
   ]
  },
  {
   "cell_type": "markdown",
   "metadata": {},
   "source": [
    "### Create individual JSON files of exhibitions for each venue"
   ]
  },
  {
   "cell_type": "code",
   "execution_count": 36,
   "metadata": {},
   "outputs": [],
   "source": [
    "\n",
    "with open(os.path.join(datavis_venue_exhibitions, 'index.json'), 'r') as json_file:\n",
    "    data = json.load(json_file)\n",
    "\n",
    "    for venue in data.get(\"venues\"):\n",
    "      events_list = []\n",
    "\n",
    "      filename_venue = venue.get(\"filename\") + \".json\"\n",
    "      with open(os.path.join(datavis_venue_exhibitions, filename_venue), 'r') as venue_file:\n",
    "        data = json.load(venue_file)\n",
    "     \n",
    "\n",
    "        for event in data.get(\"events\"):\n",
    "\n",
    "          start = event.get(\"start\").split(\"T\")[0]\n",
    "          start_year = start.split(\"-\")[0]\n",
    "          start_month = start.split(\"-\")[1]\n",
    "          start_day = start.split(\"-\")[2]\n",
    "\n",
    "          end = event.get(\"start\").split(\"T\")[0]\n",
    "          end_year = start.split(\"-\")[0]\n",
    "          end_month = start.split(\"-\")[1]\n",
    "          end_day = start.split(\"-\")[2]\n",
    "          display_date = str(start) + \" - \" + str(end)\n",
    "          headline = event.get(\"_label\")\n",
    "\n",
    "          event_vis = {\n",
    "              \"media\": {   \"url\": \"\",   \"caption\": \"\",   \"credit\": \"\",  \"thumbnail\": \"\"   },\n",
    "              \"display_date\": display_date,\n",
    "              \"start_date\": {   \"year\": start_year,  \"month\": start_month, \"day\": start_day },\n",
    "              \"end_date\": { \"year\": end_year, \"month\": end_month, \"day\": end_day},\n",
    "              \"text\": {   \"headline\": headline,\"text\": \"\"  },\n",
    "              \"type\": \"title\",\n",
    "              \"background\": {  \"color\": \"#3f83e8\"  }\n",
    "            }\n",
    "          events_list.append(event_vis)\n",
    "\n",
    "      \n",
    "      with open(os.path.join(datavis_venue_timeline, filename_venue) , 'w') as file:\n",
    "        file.write(json.dumps({\"events\": events_list},indent=2))"
   ]
  },
  {
   "cell_type": "markdown",
   "metadata": {},
   "source": [
    "## Timeline visualisation\n",
    "\n",
    "Example visualisation for the Hansa Gallery"
   ]
  },
  {
   "cell_type": "code",
   "execution_count": 37,
   "metadata": {},
   "outputs": [
    {
     "data": {
      "text/html": [
       "<head></head><body>        <link title=\"timeline-styles\" rel=\"stylesheet\"  href=\"https://cdn.knightlab.com/libs/timeline3/latest/css/timeline.css\"/>        <script src=\"https://cdn.knightlab.com/libs/timeline3/latest/js/timeline.js\"></script>            <h1>Timeline of exhibition data</h1>        <div id=\"timeline-embed\" style=\"width: 100%; height: 700px\"></div>        <script type=\"text/javascript\"> window.timeline = new TL.Timeline(\"timeline-embed\", \"../../output/datavis/venue/timeline//HansaGallery.json\");</script></body>"
      ],
      "text/plain": [
       "<IPython.core.display.HTML object>"
      ]
     },
     "execution_count": 37,
     "metadata": {},
     "output_type": "execute_result"
    }
   ],
   "source": [
    "local_html_file = '<head>\\\n",
    "</head>\\\n",
    "<body>\\\n",
    "        <link title=\"timeline-styles\" rel=\"stylesheet\"  href=\"https://cdn.knightlab.com/libs/timeline3/latest/css/timeline.css\"/>\\\n",
    "        <script src=\"https://cdn.knightlab.com/libs/timeline3/latest/js/timeline.js\"></script>\\\n",
    "            <h1>Timeline of exhibition data</h1>\\\n",
    "        <div id=\"timeline-embed\" style=\"width: 100%; height: 700px\"></div>\\\n",
    "        <script type=\"text/javascript\"> window.timeline = new TL.Timeline(\"timeline-embed\", \"'\n",
    "local_html_file +=  datavis_venue_timeline\n",
    "local_html_file += '/HansaGallery.json\");</script>\\\n",
    "</body>'\n",
    "\n",
    "HTML(local_html_file)"
   ]
  },
  {
   "cell_type": "markdown",
   "metadata": {},
   "source": [
    "## Data Visualisation\n",
    "\n",
    "Timeline data visualisations for all venues. Select venue from the drop-down and the corresponding timeline will be displayed."
   ]
  },
  {
   "cell_type": "code",
   "execution_count": 38,
   "metadata": {},
   "outputs": [
    {
     "data": {
      "application/vnd.jupyter.widget-view+json": {
       "model_id": "79580875f22442edbb3971bcad28dc69",
       "version_major": 2,
       "version_minor": 0
      },
      "text/plain": [
       "Dropdown(options=(('Please select a venue', ''), ('42nd Venice Biennale', '42ndVeniceBiennale'), ('44th Venice…"
      ]
     },
     "metadata": {},
     "output_type": "display_data"
    },
    {
     "data": {
      "text/html": [
       "<link title=\"timeline-styles\" rel=\"stylesheet\"  href=\"https://cdn.knightlab.com/libs/timeline3/latest/css/timeline.css\"/><script src=\"https://cdn.knightlab.com/libs/timeline3/latest/js/timeline.js\"></script><h1>Timeline of exhibition data Danceteria</h1>        <div id=\"timeline-embed-MoMA\" style=\"background-color:blue;width: 100%; height: 700px\">Danceteria</div>        <script type=\"text/javascript\"> window.timeline = new TL.Timeline(\"timeline-embed-MoMA\", \"../../output/datavis/venue/timeline/Danceteria.json\");</script>"
      ],
      "text/plain": [
       "<IPython.core.display.HTML object>"
      ]
     },
     "metadata": {},
     "output_type": "display_data"
    }
   ],
   "source": [
    "\n",
    "\n",
    "\n",
    "selectOptions = []\n",
    "selectOptions = [('Please select a venue', '')]\n",
    "\n",
    "\n",
    "\n",
    "with open(os.path.join(datavis_venue_exhibitions, 'index.json'), 'r') as json_file:\n",
    "    data = json.load(json_file)\n",
    "    for venue in data.get(\"venues\"):\n",
    "        filename = venue.get(\"filename\")\n",
    "        name = venue.get(\"name\")\n",
    "        selectOptions.append( (name , filename))\n",
    "\n",
    "\n",
    "\n",
    "def dropdown_eventhandler(change):\n",
    "    clear_output()\n",
    "    local_html_file = \"\"\n",
    "    filename_venue=change.new\n",
    "    with open(os.path.join(datavis_venue_timeline, filename_venue + '.json'), 'r') as venue_file:\n",
    "        \n",
    "        local_html_file = '<link title=\"timeline-styles\" rel=\"stylesheet\"  href=\"https://cdn.knightlab.com/libs/timeline3/latest/css/timeline.css\"/><script src=\"https://cdn.knightlab.com/libs/timeline3/latest/js/timeline.js\"></script>'\n",
    "\n",
    "        local_html_file += '<h1>Timeline of exhibition data ' + filename_venue + '</h1>\\\n",
    "        <div id=\"timeline-embed-' + venue.get(\"filename\") + '\" style=\"background-color:blue;width: 100%; height: 700px\">' + filename_venue +'</div>\\\n",
    "        <script type=\"text/javascript\"> window.timeline = new TL.Timeline(\"timeline-embed-' + venue.get(\"filename\") + '\", \"' \n",
    "        local_html_file += datavis_venue_timeline + filename_venue + json_suffix\n",
    "        local_html_file +=  '\");</script>'\n",
    "    \n",
    "    selectObject = ipywidgets.Dropdown(options=selectOptions)\n",
    "    selectObject.observe(dropdown_eventhandler, names='value')\n",
    "    display(selectObject) \n",
    "    \n",
    "    display(HTML(local_html_file))\n",
    "    \n",
    "\n",
    "selectObject = ipywidgets.Dropdown(options=selectOptions)\n",
    "selectObject.observe(dropdown_eventhandler, names='value')\n",
    "display(selectObject)   \n",
    "    \n"
   ]
  }
 ],
 "metadata": {
  "kernelspec": {
   "display_name": "Python 3",
   "language": "python",
   "name": "python3"
  },
  "language_info": {
   "codemirror_mode": {
    "name": "ipython",
    "version": 3
   },
   "file_extension": ".py",
   "mimetype": "text/x-python",
   "name": "python",
   "nbconvert_exporter": "python",
   "pygments_lexer": "ipython3",
   "version": "3.9.12"
  },
  "vscode": {
   "interpreter": {
    "hash": "aee8b7b246df8f9039afb4144a1f6fd8d2ca17a180786b69acc140d282b71a49"
   }
  }
 },
 "nbformat": 4,
 "nbformat_minor": 2
}
