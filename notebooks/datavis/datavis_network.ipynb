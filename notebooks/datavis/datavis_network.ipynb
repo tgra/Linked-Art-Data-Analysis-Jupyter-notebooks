{
 "cells": [
  {
   "cell_type": "markdown",
   "metadata": {},
   "source": [
    "# Import libraries and variables"
   ]
  },
  {
   "cell_type": "code",
   "execution_count": 19,
   "metadata": {},
   "outputs": [],
   "source": [
    "import json\n",
    "import os\n",
    "from sortedcontainers import SortedDict\n",
    "\n",
    "%store -r output_activity_dir\n",
    "%store -r activity_all_file\n",
    "\n",
    "\n",
    "%store -r events_nonmoma\n",
    "%store -r json_suffix\n",
    "\n",
    "%store -r output_datavis_venue_exhibitions \n",
    "\n",
    "%store -r output_datavis_dir\n",
    "\n",
    "%store -r datavis_network \n",
    "%store -r org_artist_links_nonmoma \n",
    "%store -r org_artist_links_10thstreet\n"
   ]
  },
  {
   "cell_type": "markdown",
   "metadata": {},
   "source": [
    "# Create a forced network diagram\n",
    "\n",
    "diagram with links between artists and organisations (via inclusion in exhibitions)"
   ]
  },
  {
   "cell_type": "code",
   "execution_count": 28,
   "metadata": {},
   "outputs": [],
   "source": [
    "\n",
    "with open(os.path.join(output_activity_dir, activity_all_file), 'r') as json_file:\n",
    "  \n",
    "    nodes = []\n",
    "    links = []\n",
    "\n",
    "    data = json.load(json_file)\n",
    "    for event in data.get(\"events\"):\n",
    "\n",
    "        org = event.get(\"org\")\n",
    "\n",
    "        nodes_ids  = [x['id'] for x in nodes]\n",
    "       \n",
    "        if org == \"The \":\n",
    "            continue\n",
    "        if org == \"MoMA PS1\":\n",
    "            continue\n",
    "        if org not in nodes_ids:\n",
    "            nodes.append({\"id\": org, \"group\": 1})\n",
    "\n",
    "          \n",
    "        influenced_by = event.get(\"influenced_by\")\n",
    "        for person in influenced_by:\n",
    "            if person not in nodes_ids:\n",
    "                nodes.append({\"id\": person, \"group\": 2})\n",
    "\n",
    "            #links_sources  = [x['source'] for x in links]\n",
    "\n",
    "            links.append({\"source\": org, \"target\": person, \"value\": 1})\n",
    "\n",
    "    with open(os.path.join(output_datavis_dir , datavis_network, org_artist_links_nonmoma), 'w') as file:\n",
    "        file.write(json.dumps({\"nodes\": nodes, \"links\": links},indent=2))\n",
    "        "
   ]
  },
  {
   "cell_type": "code",
   "execution_count": 30,
   "metadata": {},
   "outputs": [],
   "source": [
    "\n",
    "with open(os.path.join(output_activity_dir, activity_all_file), 'r') as json_file:  \n",
    "    nodes = []\n",
    "    links = []\n",
    "\n",
    "    data = json.load(json_file)\n",
    "    for event in data.get(\"events\"):\n",
    "\n",
    "        org = event.get(\"org\")\n",
    "\n",
    "        nodes_ids  = [x['id'] for x in nodes]\n",
    "       # , \"MoMA PS1\"\n",
    "        list_orgs = ['Tanager Gallery', \"Brata Gallery\", \"Hansa Gallery\"]\n",
    "        if org not in list_orgs:\n",
    "            continue\n",
    "        \n",
    "        if org not in nodes_ids:\n",
    "            nodes.append({\"id\": org, \"group\": 1})\n",
    "\n",
    "        influenced_by = event.get(\"influenced_by\")\n",
    "        for person in influenced_by:\n",
    "            if person not in nodes_ids:\n",
    "                nodes.append({\"id\": person, \"group\": 2})\n",
    "\n",
    "            links.append({\"source\": org, \"target\": person, \"value\": 1})\n",
    "\n",
    "\n",
    "    list_links_persons  = [x['target'] for x in links]\n",
    "    list_nodes_ids = [x['id'] for x in nodes]\n",
    "\n",
    "    nonmoma_links = []\n",
    "    moma_links = []\n",
    "\n",
    "    for link in links:\n",
    "        if link.get(\"source\") not in [\"MoMA PS1\", \"The Museum of Modern Art\"]:\n",
    "            nonmoma_links.append(link)\n",
    "        else:\n",
    "            moma_links.append(link)\n",
    "\n",
    "    list_persons_nonmoma = [x['target'] for x in nonmoma_links]\n",
    "    list_persons_moma = [x['target'] for x in moma_links]\n",
    "\n",
    "    # get persons in moma list that are not in nonmoma list and then remove links including them \n",
    "    # and remove corresponding nodes\n",
    "\n",
    "    list_persons_uniquetomoma= []\n",
    "    for person in list_persons_moma:\n",
    "        if person not in list_persons_nonmoma:\n",
    "            list_persons_uniquetomoma.append(person)\n",
    "\n",
    "    \n",
    "    i = 0\n",
    "    while i < len(links):\n",
    "        link = links[i]\n",
    "        if \"target\" in link: \n",
    "            person = link.get(\"target\")\n",
    "            if person in list_persons_uniquetomoma:\n",
    "                \n",
    "                del links[i]\n",
    "        i += 1\n",
    "\n",
    "    i = 0\n",
    " \n",
    "\n",
    "    with open(os.path.join(output_datavis_dir , datavis_network, org_artist_links_10thstreet), 'w') as file:\n",
    "        file.write(json.dumps({\"nodes\": nodes, \"links\": links},indent=2))\n",
    "\n",
    "\n",
    " \n",
    "        "
   ]
  },
  {
   "cell_type": "markdown",
   "metadata": {},
   "source": [
    "# Data visualisation - 10th Street exhibition venues\n",
    "\n",
    "The resulting data file has been loaded into a notebook containing a d3.js force-directed graph visualisation:\n",
    "\n",
    "https://observablehq.com/d/5be8a88ffb1207ed"
   ]
  }
 ],
 "metadata": {
  "kernelspec": {
   "display_name": "Python 3",
   "language": "python",
   "name": "python3"
  },
  "language_info": {
   "codemirror_mode": {
    "name": "ipython",
    "version": 3
   },
   "file_extension": ".py",
   "mimetype": "text/x-python",
   "name": "python",
   "nbconvert_exporter": "python",
   "pygments_lexer": "ipython3",
   "version": "3.9.12"
  },
  "vscode": {
   "interpreter": {
    "hash": "aee8b7b246df8f9039afb4144a1f6fd8d2ca17a180786b69acc140d282b71a49"
   }
  }
 },
 "nbformat": 4,
 "nbformat_minor": 2
}
