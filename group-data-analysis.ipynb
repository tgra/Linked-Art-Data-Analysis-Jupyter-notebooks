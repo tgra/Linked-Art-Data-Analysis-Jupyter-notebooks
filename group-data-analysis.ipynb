{
 "cells": [
  {
   "cell_type": "markdown",
   "metadata": {},
   "source": [
    "This notebook will document a data analysis of the MOMA alternative data transformed to Linked Art JSON-LD.\n",
    "\n",
    "The .json data files are in the data directory as follows:\n",
    "\n",
    "- data\n",
    "  - activity\n",
    "  - group\n",
    "  - person\n",
    "\n",
    "\n",
    "activity - exhibition event \n",
    "group - organisation involved in exhibition events\n",
    "person - person involved in exhibition events\n"
   ]
  },
  {
   "cell_type": "markdown",
   "metadata": {},
   "source": [
    "# Activity - data analysis"
   ]
  },
  {
   "cell_type": "code",
   "execution_count": 1,
   "metadata": {},
   "outputs": [],
   "source": [
    "try:\n",
    "    import json\n",
    "except:\n",
    "    %pip install json\n",
    "    import json\n",
    "\n",
    "try:\n",
    "    import requests\n",
    "except:\n",
    "    %pip install requests\n",
    "    import requests\n",
    "\n",
    "try:\n",
    "    import pandas as pd\n",
    "except:\n",
    "    %pip install pandas\n",
    "    import pandas as pd\n",
    "\n",
    "from operator import itemgetter\n",
    "\n",
    "import os"
   ]
  },
  {
   "cell_type": "code",
   "execution_count": 8,
   "metadata": {},
   "outputs": [],
   "source": [
    "\n",
    "\n",
    "filepath = \"data/group/\"\n",
    "\n",
    "groups = []\n",
    "\n",
    "group_template = {\n",
    "    \"id\": \"\",\n",
    "    \"_label\": \"\",\n",
    "    \"identified_by\": [],\n",
    "   \n",
    "}\n",
    "\n",
    "\n",
    "for filename in os.listdir(filepath):\n",
    "    try:\n",
    "        with open(os.path.join(filepath, filename), 'r') as json_file:\n",
    "            \n",
    "\n",
    "            data = json.load(json_file)\n",
    "            \n",
    "            this_group = group_template.copy()\n",
    "            this_group[\"id\"] = data.get(\"id\")\n",
    "            this_group[\"_label\"] = data.get(\"_label\")\n",
    "           \n",
    "            group_copy = this_group.copy()\n",
    "            groups.append(group_copy) \n",
    "            \n",
    "    except:\n",
    "        continue\n",
    "\n",
    "\n",
    "\n",
    "with open('api/groups_all.json', 'w') as ex_file:\n",
    "     ex_file.write(json.dumps({\"groups\": groups}))\n"
   ]
  },
  {
   "cell_type": "markdown",
   "metadata": {},
   "source": []
  }
 ],
 "metadata": {
  "kernelspec": {
   "display_name": "Python 3.8.8 ('base')",
   "language": "python",
   "name": "python3"
  },
  "language_info": {
   "codemirror_mode": {
    "name": "ipython",
    "version": 3
   },
   "file_extension": ".py",
   "mimetype": "text/x-python",
   "name": "python",
   "nbconvert_exporter": "python",
   "pygments_lexer": "ipython3",
   "version": "3.8.8"
  },
  "orig_nbformat": 4,
  "vscode": {
   "interpreter": {
    "hash": "40d3a090f54c6569ab1632332b64b2c03c39dcf918b08424e98f38b5ae0af88f"
   }
  }
 },
 "nbformat": 4,
 "nbformat_minor": 2
}
