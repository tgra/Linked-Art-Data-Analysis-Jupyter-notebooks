{
 "cells": [
  {
   "cell_type": "code",
   "execution_count": 1,
   "metadata": {},
   "outputs": [],
   "source": [
    "from IPython.display import HTML\n",
    "\n",
    "import json\n",
    "try:\n",
    "    import json\n",
    "except:\n",
    "    %pip install json\n",
    "    import json\n",
    "\n",
    "try:\n",
    "    import pandas as pd\n",
    "except:\n",
    "    %pip install pandas\n",
    "    import pandas as pd\n",
    "\n",
    "from operator import itemgetter\n",
    "\n",
    "import os\n",
    "\n",
    "from datetime import datetime\n",
    "\n",
    "try:\n",
    "    from sortedcontainers import SortedDict\n",
    "\n",
    "except:\n",
    "    %pip install sortedcontainers\n",
    "    from sortedcontainers import SortedDict\n",
    "\n",
    "try:\n",
    "    import plotly.express as px\n",
    "except:\n",
    "    %pip install plotly.express\n",
    "    import plotly.express as px\n",
    "\n"
   ]
  },
  {
   "cell_type": "markdown",
   "metadata": {},
   "source": [
    "Load data file - events_all.json"
   ]
  },
  {
   "cell_type": "code",
   "execution_count": 2,
   "metadata": {},
   "outputs": [
    {
     "name": "stdout",
     "output_type": "stream",
     "text": [
      "SortedDict({'1929': 2, '1930': 8, '1931': 5, '1932': 7, '1933': 19, '1934': 13, '1935': 8, '1936': 13, '1937': 19, '1938': 13, '1939': 12, '1940': 24, '1941': 43, '1942': 37, '1943': 24, '1944': 21, '1945': 23, '1946': 32, '1947': 21, '1948': 27, '1949': 30, '1950': 28, '1951': 27, '1952': 39, '1953': 50, '1954': 39, '1955': 42, '1956': 44, '1957': 43, '1958': 39, '1959': 64, '1960': 59, '1961': 53, '1962': 42, '1963': 30, '1964': 34, '1965': 37, '1966': 34, '1967': 35, '1968': 39, '1969': 42, '1970': 40, '1971': 41, '1972': 37, '1973': 41, '1974': 48, '1975': 54, '1976': 69, '1977': 81, '1978': 93, '1979': 106, '1980': 81, '1981': 79, '1982': 57, '1983': 75, '1984': 55, '1985': 61, '1986': 70, '1987': 67, '1988': 63, '1989': 50, '1990': 50, '1991': 51, '1992': 41, '1993': 44, '1994': 39, '1995': 46, '1996': 33, '1997': 49, '1998': 61, '1999': 80, '2000': 67, '2001': 51, '2002': 39, '2003': 34, '2004': 52, '2005': 39, '2006': 61, '2007': 73, '2008': 50, '2009': 59, '2010': 48, '2011': 60, '2012': 72, '2013': 50, '2014': 14, '2015': 11, '2016': 13, '2017': 8, '2018': 3})\n"
     ]
    }
   ],
   "source": [
    "filepath = \"api\"\n",
    "filename = \"events_all.json\"\n",
    "\n",
    "with open(os.path.join(filepath, filename), 'r') as json_file:\n",
    "    \n",
    "    number_ex_by_year = {}\n",
    "\n",
    "    data = json.load(json_file)\n",
    "    for event in data.get(\"events\"):\n",
    "\n",
    "        start = event.get(\"start\")\n",
    "        year = start.split(\"-\")[0]\n",
    "\n",
    "        if year in number_ex_by_year:\n",
    "            number_ex_by_year[year] += 1\n",
    "        else:\n",
    "            number_ex_by_year[year] = 1\n",
    "        \n",
    "    number_ex_by_year = SortedDict(number_ex_by_year)\n",
    "\n",
    "    print(number_ex_by_year)"
   ]
  },
  {
   "cell_type": "markdown",
   "metadata": {},
   "source": [
    "## Histogram - number of exhibitions by year - all"
   ]
  },
  {
   "cell_type": "code",
   "execution_count": 3,
   "metadata": {},
   "outputs": [
    {
     "data": {
      "application/vnd.plotly.v1+json": {
       "config": {
        "plotlyServerURL": "https://plot.ly"
       },
       "data": [
        {
         "alignmentgroup": "True",
         "hovertemplate": "Year=%{x}<br>Number of exhibitions=%{y}<extra></extra>",
         "legendgroup": "",
         "marker": {
          "color": "#636efa",
          "pattern": {
           "shape": ""
          }
         },
         "name": "",
         "offsetgroup": "",
         "orientation": "v",
         "showlegend": false,
         "textposition": "auto",
         "type": "bar",
         "x": [
          "1929",
          "1930",
          "1931",
          "1932",
          "1933",
          "1934",
          "1935",
          "1936",
          "1937",
          "1938",
          "1939",
          "1940",
          "1941",
          "1942",
          "1943",
          "1944",
          "1945",
          "1946",
          "1947",
          "1948",
          "1949",
          "1950",
          "1951",
          "1952",
          "1953",
          "1954",
          "1955",
          "1956",
          "1957",
          "1958",
          "1959",
          "1960",
          "1961",
          "1962",
          "1963",
          "1964",
          "1965",
          "1966",
          "1967",
          "1968",
          "1969",
          "1970",
          "1971",
          "1972",
          "1973",
          "1974",
          "1975",
          "1976",
          "1977",
          "1978",
          "1979",
          "1980",
          "1981",
          "1982",
          "1983",
          "1984",
          "1985",
          "1986",
          "1987",
          "1988",
          "1989",
          "1990",
          "1991",
          "1992",
          "1993",
          "1994",
          "1995",
          "1996",
          "1997",
          "1998",
          "1999",
          "2000",
          "2001",
          "2002",
          "2003",
          "2004",
          "2005",
          "2006",
          "2007",
          "2008",
          "2009",
          "2010",
          "2011",
          "2012",
          "2013",
          "2014",
          "2015",
          "2016",
          "2017",
          "2018"
         ],
         "xaxis": "x",
         "y": [
          2,
          8,
          5,
          7,
          19,
          13,
          8,
          13,
          19,
          13,
          12,
          24,
          43,
          37,
          24,
          21,
          23,
          32,
          21,
          27,
          30,
          28,
          27,
          39,
          50,
          39,
          42,
          44,
          43,
          39,
          64,
          59,
          53,
          42,
          30,
          34,
          37,
          34,
          35,
          39,
          42,
          40,
          41,
          37,
          41,
          48,
          54,
          69,
          81,
          93,
          106,
          81,
          79,
          57,
          75,
          55,
          61,
          70,
          67,
          63,
          50,
          50,
          51,
          41,
          44,
          39,
          46,
          33,
          49,
          61,
          80,
          67,
          51,
          39,
          34,
          52,
          39,
          61,
          73,
          50,
          59,
          48,
          60,
          72,
          50,
          14,
          11,
          13,
          8,
          3
         ],
         "yaxis": "y"
        }
       ],
       "layout": {
        "barmode": "relative",
        "legend": {
         "tracegroupgap": 0
        },
        "template": {
         "data": {
          "bar": [
           {
            "error_x": {
             "color": "#2a3f5f"
            },
            "error_y": {
             "color": "#2a3f5f"
            },
            "marker": {
             "line": {
              "color": "#E5ECF6",
              "width": 0.5
             },
             "pattern": {
              "fillmode": "overlay",
              "size": 10,
              "solidity": 0.2
             }
            },
            "type": "bar"
           }
          ],
          "barpolar": [
           {
            "marker": {
             "line": {
              "color": "#E5ECF6",
              "width": 0.5
             },
             "pattern": {
              "fillmode": "overlay",
              "size": 10,
              "solidity": 0.2
             }
            },
            "type": "barpolar"
           }
          ],
          "carpet": [
           {
            "aaxis": {
             "endlinecolor": "#2a3f5f",
             "gridcolor": "white",
             "linecolor": "white",
             "minorgridcolor": "white",
             "startlinecolor": "#2a3f5f"
            },
            "baxis": {
             "endlinecolor": "#2a3f5f",
             "gridcolor": "white",
             "linecolor": "white",
             "minorgridcolor": "white",
             "startlinecolor": "#2a3f5f"
            },
            "type": "carpet"
           }
          ],
          "choropleth": [
           {
            "colorbar": {
             "outlinewidth": 0,
             "ticks": ""
            },
            "type": "choropleth"
           }
          ],
          "contour": [
           {
            "colorbar": {
             "outlinewidth": 0,
             "ticks": ""
            },
            "colorscale": [
             [
              0,
              "#0d0887"
             ],
             [
              0.1111111111111111,
              "#46039f"
             ],
             [
              0.2222222222222222,
              "#7201a8"
             ],
             [
              0.3333333333333333,
              "#9c179e"
             ],
             [
              0.4444444444444444,
              "#bd3786"
             ],
             [
              0.5555555555555556,
              "#d8576b"
             ],
             [
              0.6666666666666666,
              "#ed7953"
             ],
             [
              0.7777777777777778,
              "#fb9f3a"
             ],
             [
              0.8888888888888888,
              "#fdca26"
             ],
             [
              1,
              "#f0f921"
             ]
            ],
            "type": "contour"
           }
          ],
          "contourcarpet": [
           {
            "colorbar": {
             "outlinewidth": 0,
             "ticks": ""
            },
            "type": "contourcarpet"
           }
          ],
          "heatmap": [
           {
            "colorbar": {
             "outlinewidth": 0,
             "ticks": ""
            },
            "colorscale": [
             [
              0,
              "#0d0887"
             ],
             [
              0.1111111111111111,
              "#46039f"
             ],
             [
              0.2222222222222222,
              "#7201a8"
             ],
             [
              0.3333333333333333,
              "#9c179e"
             ],
             [
              0.4444444444444444,
              "#bd3786"
             ],
             [
              0.5555555555555556,
              "#d8576b"
             ],
             [
              0.6666666666666666,
              "#ed7953"
             ],
             [
              0.7777777777777778,
              "#fb9f3a"
             ],
             [
              0.8888888888888888,
              "#fdca26"
             ],
             [
              1,
              "#f0f921"
             ]
            ],
            "type": "heatmap"
           }
          ],
          "heatmapgl": [
           {
            "colorbar": {
             "outlinewidth": 0,
             "ticks": ""
            },
            "colorscale": [
             [
              0,
              "#0d0887"
             ],
             [
              0.1111111111111111,
              "#46039f"
             ],
             [
              0.2222222222222222,
              "#7201a8"
             ],
             [
              0.3333333333333333,
              "#9c179e"
             ],
             [
              0.4444444444444444,
              "#bd3786"
             ],
             [
              0.5555555555555556,
              "#d8576b"
             ],
             [
              0.6666666666666666,
              "#ed7953"
             ],
             [
              0.7777777777777778,
              "#fb9f3a"
             ],
             [
              0.8888888888888888,
              "#fdca26"
             ],
             [
              1,
              "#f0f921"
             ]
            ],
            "type": "heatmapgl"
           }
          ],
          "histogram": [
           {
            "marker": {
             "pattern": {
              "fillmode": "overlay",
              "size": 10,
              "solidity": 0.2
             }
            },
            "type": "histogram"
           }
          ],
          "histogram2d": [
           {
            "colorbar": {
             "outlinewidth": 0,
             "ticks": ""
            },
            "colorscale": [
             [
              0,
              "#0d0887"
             ],
             [
              0.1111111111111111,
              "#46039f"
             ],
             [
              0.2222222222222222,
              "#7201a8"
             ],
             [
              0.3333333333333333,
              "#9c179e"
             ],
             [
              0.4444444444444444,
              "#bd3786"
             ],
             [
              0.5555555555555556,
              "#d8576b"
             ],
             [
              0.6666666666666666,
              "#ed7953"
             ],
             [
              0.7777777777777778,
              "#fb9f3a"
             ],
             [
              0.8888888888888888,
              "#fdca26"
             ],
             [
              1,
              "#f0f921"
             ]
            ],
            "type": "histogram2d"
           }
          ],
          "histogram2dcontour": [
           {
            "colorbar": {
             "outlinewidth": 0,
             "ticks": ""
            },
            "colorscale": [
             [
              0,
              "#0d0887"
             ],
             [
              0.1111111111111111,
              "#46039f"
             ],
             [
              0.2222222222222222,
              "#7201a8"
             ],
             [
              0.3333333333333333,
              "#9c179e"
             ],
             [
              0.4444444444444444,
              "#bd3786"
             ],
             [
              0.5555555555555556,
              "#d8576b"
             ],
             [
              0.6666666666666666,
              "#ed7953"
             ],
             [
              0.7777777777777778,
              "#fb9f3a"
             ],
             [
              0.8888888888888888,
              "#fdca26"
             ],
             [
              1,
              "#f0f921"
             ]
            ],
            "type": "histogram2dcontour"
           }
          ],
          "mesh3d": [
           {
            "colorbar": {
             "outlinewidth": 0,
             "ticks": ""
            },
            "type": "mesh3d"
           }
          ],
          "parcoords": [
           {
            "line": {
             "colorbar": {
              "outlinewidth": 0,
              "ticks": ""
             }
            },
            "type": "parcoords"
           }
          ],
          "pie": [
           {
            "automargin": true,
            "type": "pie"
           }
          ],
          "scatter": [
           {
            "fillpattern": {
             "fillmode": "overlay",
             "size": 10,
             "solidity": 0.2
            },
            "type": "scatter"
           }
          ],
          "scatter3d": [
           {
            "line": {
             "colorbar": {
              "outlinewidth": 0,
              "ticks": ""
             }
            },
            "marker": {
             "colorbar": {
              "outlinewidth": 0,
              "ticks": ""
             }
            },
            "type": "scatter3d"
           }
          ],
          "scattercarpet": [
           {
            "marker": {
             "colorbar": {
              "outlinewidth": 0,
              "ticks": ""
             }
            },
            "type": "scattercarpet"
           }
          ],
          "scattergeo": [
           {
            "marker": {
             "colorbar": {
              "outlinewidth": 0,
              "ticks": ""
             }
            },
            "type": "scattergeo"
           }
          ],
          "scattergl": [
           {
            "marker": {
             "colorbar": {
              "outlinewidth": 0,
              "ticks": ""
             }
            },
            "type": "scattergl"
           }
          ],
          "scattermapbox": [
           {
            "marker": {
             "colorbar": {
              "outlinewidth": 0,
              "ticks": ""
             }
            },
            "type": "scattermapbox"
           }
          ],
          "scatterpolar": [
           {
            "marker": {
             "colorbar": {
              "outlinewidth": 0,
              "ticks": ""
             }
            },
            "type": "scatterpolar"
           }
          ],
          "scatterpolargl": [
           {
            "marker": {
             "colorbar": {
              "outlinewidth": 0,
              "ticks": ""
             }
            },
            "type": "scatterpolargl"
           }
          ],
          "scatterternary": [
           {
            "marker": {
             "colorbar": {
              "outlinewidth": 0,
              "ticks": ""
             }
            },
            "type": "scatterternary"
           }
          ],
          "surface": [
           {
            "colorbar": {
             "outlinewidth": 0,
             "ticks": ""
            },
            "colorscale": [
             [
              0,
              "#0d0887"
             ],
             [
              0.1111111111111111,
              "#46039f"
             ],
             [
              0.2222222222222222,
              "#7201a8"
             ],
             [
              0.3333333333333333,
              "#9c179e"
             ],
             [
              0.4444444444444444,
              "#bd3786"
             ],
             [
              0.5555555555555556,
              "#d8576b"
             ],
             [
              0.6666666666666666,
              "#ed7953"
             ],
             [
              0.7777777777777778,
              "#fb9f3a"
             ],
             [
              0.8888888888888888,
              "#fdca26"
             ],
             [
              1,
              "#f0f921"
             ]
            ],
            "type": "surface"
           }
          ],
          "table": [
           {
            "cells": {
             "fill": {
              "color": "#EBF0F8"
             },
             "line": {
              "color": "white"
             }
            },
            "header": {
             "fill": {
              "color": "#C8D4E3"
             },
             "line": {
              "color": "white"
             }
            },
            "type": "table"
           }
          ]
         },
         "layout": {
          "annotationdefaults": {
           "arrowcolor": "#2a3f5f",
           "arrowhead": 0,
           "arrowwidth": 1
          },
          "autotypenumbers": "strict",
          "coloraxis": {
           "colorbar": {
            "outlinewidth": 0,
            "ticks": ""
           }
          },
          "colorscale": {
           "diverging": [
            [
             0,
             "#8e0152"
            ],
            [
             0.1,
             "#c51b7d"
            ],
            [
             0.2,
             "#de77ae"
            ],
            [
             0.3,
             "#f1b6da"
            ],
            [
             0.4,
             "#fde0ef"
            ],
            [
             0.5,
             "#f7f7f7"
            ],
            [
             0.6,
             "#e6f5d0"
            ],
            [
             0.7,
             "#b8e186"
            ],
            [
             0.8,
             "#7fbc41"
            ],
            [
             0.9,
             "#4d9221"
            ],
            [
             1,
             "#276419"
            ]
           ],
           "sequential": [
            [
             0,
             "#0d0887"
            ],
            [
             0.1111111111111111,
             "#46039f"
            ],
            [
             0.2222222222222222,
             "#7201a8"
            ],
            [
             0.3333333333333333,
             "#9c179e"
            ],
            [
             0.4444444444444444,
             "#bd3786"
            ],
            [
             0.5555555555555556,
             "#d8576b"
            ],
            [
             0.6666666666666666,
             "#ed7953"
            ],
            [
             0.7777777777777778,
             "#fb9f3a"
            ],
            [
             0.8888888888888888,
             "#fdca26"
            ],
            [
             1,
             "#f0f921"
            ]
           ],
           "sequentialminus": [
            [
             0,
             "#0d0887"
            ],
            [
             0.1111111111111111,
             "#46039f"
            ],
            [
             0.2222222222222222,
             "#7201a8"
            ],
            [
             0.3333333333333333,
             "#9c179e"
            ],
            [
             0.4444444444444444,
             "#bd3786"
            ],
            [
             0.5555555555555556,
             "#d8576b"
            ],
            [
             0.6666666666666666,
             "#ed7953"
            ],
            [
             0.7777777777777778,
             "#fb9f3a"
            ],
            [
             0.8888888888888888,
             "#fdca26"
            ],
            [
             1,
             "#f0f921"
            ]
           ]
          },
          "colorway": [
           "#636efa",
           "#EF553B",
           "#00cc96",
           "#ab63fa",
           "#FFA15A",
           "#19d3f3",
           "#FF6692",
           "#B6E880",
           "#FF97FF",
           "#FECB52"
          ],
          "font": {
           "color": "#2a3f5f"
          },
          "geo": {
           "bgcolor": "white",
           "lakecolor": "white",
           "landcolor": "#E5ECF6",
           "showlakes": true,
           "showland": true,
           "subunitcolor": "white"
          },
          "hoverlabel": {
           "align": "left"
          },
          "hovermode": "closest",
          "mapbox": {
           "style": "light"
          },
          "paper_bgcolor": "white",
          "plot_bgcolor": "#E5ECF6",
          "polar": {
           "angularaxis": {
            "gridcolor": "white",
            "linecolor": "white",
            "ticks": ""
           },
           "bgcolor": "#E5ECF6",
           "radialaxis": {
            "gridcolor": "white",
            "linecolor": "white",
            "ticks": ""
           }
          },
          "scene": {
           "xaxis": {
            "backgroundcolor": "#E5ECF6",
            "gridcolor": "white",
            "gridwidth": 2,
            "linecolor": "white",
            "showbackground": true,
            "ticks": "",
            "zerolinecolor": "white"
           },
           "yaxis": {
            "backgroundcolor": "#E5ECF6",
            "gridcolor": "white",
            "gridwidth": 2,
            "linecolor": "white",
            "showbackground": true,
            "ticks": "",
            "zerolinecolor": "white"
           },
           "zaxis": {
            "backgroundcolor": "#E5ECF6",
            "gridcolor": "white",
            "gridwidth": 2,
            "linecolor": "white",
            "showbackground": true,
            "ticks": "",
            "zerolinecolor": "white"
           }
          },
          "shapedefaults": {
           "line": {
            "color": "#2a3f5f"
           }
          },
          "ternary": {
           "aaxis": {
            "gridcolor": "white",
            "linecolor": "white",
            "ticks": ""
           },
           "baxis": {
            "gridcolor": "white",
            "linecolor": "white",
            "ticks": ""
           },
           "bgcolor": "#E5ECF6",
           "caxis": {
            "gridcolor": "white",
            "linecolor": "white",
            "ticks": ""
           }
          },
          "title": {
           "x": 0.05
          },
          "xaxis": {
           "automargin": true,
           "gridcolor": "white",
           "linecolor": "white",
           "ticks": "",
           "title": {
            "standoff": 15
           },
           "zerolinecolor": "white",
           "zerolinewidth": 2
          },
          "yaxis": {
           "automargin": true,
           "gridcolor": "white",
           "linecolor": "white",
           "ticks": "",
           "title": {
            "standoff": 15
           },
           "zerolinecolor": "white",
           "zerolinewidth": 2
          }
         }
        },
        "title": {
         "text": "Number of exhibitions by year"
        },
        "xaxis": {
         "anchor": "y",
         "domain": [
          0,
          1
         ],
         "title": {
          "text": "Year"
         }
        },
        "yaxis": {
         "anchor": "x",
         "domain": [
          0,
          1
         ],
         "title": {
          "text": "Number of exhibitions"
         }
        }
       }
      }
     },
     "metadata": {},
     "output_type": "display_data"
    }
   ],
   "source": [
    "\n",
    "x_values = number_ex_by_year.keys()\n",
    "y_values = number_ex_by_year.values()\n",
    "\n",
    "fig = px.bar(x=x_values, y=y_values, \n",
    "labels={\"x\": \"Year\", \"y\": \"Number of exhibitions\"},\n",
    "title=\"Number of exhibitions by year\"\n",
    ")\n",
    "fig.show()"
   ]
  },
  {
   "cell_type": "markdown",
   "metadata": {},
   "source": [
    "# History - exhibitions per year - non MoMa"
   ]
  },
  {
   "cell_type": "code",
   "execution_count": 4,
   "metadata": {},
   "outputs": [
    {
     "name": "stdout",
     "output_type": "stream",
     "text": [
      "SortedDict({'1952': 11, '1953': 28, '1954': 23, '1955': 17, '1956': 21, '1957': 26, '1958': 27, '1959': 39, '1960': 37, '1961': 27, '1962': 19, '1963': 10, '1964': 11, '1965': 6, '1990': 1})\n"
     ]
    },
    {
     "data": {
      "application/vnd.plotly.v1+json": {
       "config": {
        "plotlyServerURL": "https://plot.ly"
       },
       "data": [
        {
         "alignmentgroup": "True",
         "hovertemplate": "Year=%{x}<br>Number of exhibitions=%{y}<extra></extra>",
         "legendgroup": "",
         "marker": {
          "color": "#636efa",
          "pattern": {
           "shape": ""
          }
         },
         "name": "",
         "offsetgroup": "",
         "orientation": "v",
         "showlegend": false,
         "textposition": "auto",
         "type": "bar",
         "x": [
          "1952",
          "1953",
          "1954",
          "1955",
          "1956",
          "1957",
          "1958",
          "1959",
          "1960",
          "1961",
          "1962",
          "1963",
          "1964",
          "1965",
          "1990"
         ],
         "xaxis": "x",
         "y": [
          11,
          28,
          23,
          17,
          21,
          26,
          27,
          39,
          37,
          27,
          19,
          10,
          11,
          6,
          1
         ],
         "yaxis": "y"
        }
       ],
       "layout": {
        "barmode": "relative",
        "legend": {
         "tracegroupgap": 0
        },
        "template": {
         "data": {
          "bar": [
           {
            "error_x": {
             "color": "#2a3f5f"
            },
            "error_y": {
             "color": "#2a3f5f"
            },
            "marker": {
             "line": {
              "color": "#E5ECF6",
              "width": 0.5
             },
             "pattern": {
              "fillmode": "overlay",
              "size": 10,
              "solidity": 0.2
             }
            },
            "type": "bar"
           }
          ],
          "barpolar": [
           {
            "marker": {
             "line": {
              "color": "#E5ECF6",
              "width": 0.5
             },
             "pattern": {
              "fillmode": "overlay",
              "size": 10,
              "solidity": 0.2
             }
            },
            "type": "barpolar"
           }
          ],
          "carpet": [
           {
            "aaxis": {
             "endlinecolor": "#2a3f5f",
             "gridcolor": "white",
             "linecolor": "white",
             "minorgridcolor": "white",
             "startlinecolor": "#2a3f5f"
            },
            "baxis": {
             "endlinecolor": "#2a3f5f",
             "gridcolor": "white",
             "linecolor": "white",
             "minorgridcolor": "white",
             "startlinecolor": "#2a3f5f"
            },
            "type": "carpet"
           }
          ],
          "choropleth": [
           {
            "colorbar": {
             "outlinewidth": 0,
             "ticks": ""
            },
            "type": "choropleth"
           }
          ],
          "contour": [
           {
            "colorbar": {
             "outlinewidth": 0,
             "ticks": ""
            },
            "colorscale": [
             [
              0,
              "#0d0887"
             ],
             [
              0.1111111111111111,
              "#46039f"
             ],
             [
              0.2222222222222222,
              "#7201a8"
             ],
             [
              0.3333333333333333,
              "#9c179e"
             ],
             [
              0.4444444444444444,
              "#bd3786"
             ],
             [
              0.5555555555555556,
              "#d8576b"
             ],
             [
              0.6666666666666666,
              "#ed7953"
             ],
             [
              0.7777777777777778,
              "#fb9f3a"
             ],
             [
              0.8888888888888888,
              "#fdca26"
             ],
             [
              1,
              "#f0f921"
             ]
            ],
            "type": "contour"
           }
          ],
          "contourcarpet": [
           {
            "colorbar": {
             "outlinewidth": 0,
             "ticks": ""
            },
            "type": "contourcarpet"
           }
          ],
          "heatmap": [
           {
            "colorbar": {
             "outlinewidth": 0,
             "ticks": ""
            },
            "colorscale": [
             [
              0,
              "#0d0887"
             ],
             [
              0.1111111111111111,
              "#46039f"
             ],
             [
              0.2222222222222222,
              "#7201a8"
             ],
             [
              0.3333333333333333,
              "#9c179e"
             ],
             [
              0.4444444444444444,
              "#bd3786"
             ],
             [
              0.5555555555555556,
              "#d8576b"
             ],
             [
              0.6666666666666666,
              "#ed7953"
             ],
             [
              0.7777777777777778,
              "#fb9f3a"
             ],
             [
              0.8888888888888888,
              "#fdca26"
             ],
             [
              1,
              "#f0f921"
             ]
            ],
            "type": "heatmap"
           }
          ],
          "heatmapgl": [
           {
            "colorbar": {
             "outlinewidth": 0,
             "ticks": ""
            },
            "colorscale": [
             [
              0,
              "#0d0887"
             ],
             [
              0.1111111111111111,
              "#46039f"
             ],
             [
              0.2222222222222222,
              "#7201a8"
             ],
             [
              0.3333333333333333,
              "#9c179e"
             ],
             [
              0.4444444444444444,
              "#bd3786"
             ],
             [
              0.5555555555555556,
              "#d8576b"
             ],
             [
              0.6666666666666666,
              "#ed7953"
             ],
             [
              0.7777777777777778,
              "#fb9f3a"
             ],
             [
              0.8888888888888888,
              "#fdca26"
             ],
             [
              1,
              "#f0f921"
             ]
            ],
            "type": "heatmapgl"
           }
          ],
          "histogram": [
           {
            "marker": {
             "pattern": {
              "fillmode": "overlay",
              "size": 10,
              "solidity": 0.2
             }
            },
            "type": "histogram"
           }
          ],
          "histogram2d": [
           {
            "colorbar": {
             "outlinewidth": 0,
             "ticks": ""
            },
            "colorscale": [
             [
              0,
              "#0d0887"
             ],
             [
              0.1111111111111111,
              "#46039f"
             ],
             [
              0.2222222222222222,
              "#7201a8"
             ],
             [
              0.3333333333333333,
              "#9c179e"
             ],
             [
              0.4444444444444444,
              "#bd3786"
             ],
             [
              0.5555555555555556,
              "#d8576b"
             ],
             [
              0.6666666666666666,
              "#ed7953"
             ],
             [
              0.7777777777777778,
              "#fb9f3a"
             ],
             [
              0.8888888888888888,
              "#fdca26"
             ],
             [
              1,
              "#f0f921"
             ]
            ],
            "type": "histogram2d"
           }
          ],
          "histogram2dcontour": [
           {
            "colorbar": {
             "outlinewidth": 0,
             "ticks": ""
            },
            "colorscale": [
             [
              0,
              "#0d0887"
             ],
             [
              0.1111111111111111,
              "#46039f"
             ],
             [
              0.2222222222222222,
              "#7201a8"
             ],
             [
              0.3333333333333333,
              "#9c179e"
             ],
             [
              0.4444444444444444,
              "#bd3786"
             ],
             [
              0.5555555555555556,
              "#d8576b"
             ],
             [
              0.6666666666666666,
              "#ed7953"
             ],
             [
              0.7777777777777778,
              "#fb9f3a"
             ],
             [
              0.8888888888888888,
              "#fdca26"
             ],
             [
              1,
              "#f0f921"
             ]
            ],
            "type": "histogram2dcontour"
           }
          ],
          "mesh3d": [
           {
            "colorbar": {
             "outlinewidth": 0,
             "ticks": ""
            },
            "type": "mesh3d"
           }
          ],
          "parcoords": [
           {
            "line": {
             "colorbar": {
              "outlinewidth": 0,
              "ticks": ""
             }
            },
            "type": "parcoords"
           }
          ],
          "pie": [
           {
            "automargin": true,
            "type": "pie"
           }
          ],
          "scatter": [
           {
            "fillpattern": {
             "fillmode": "overlay",
             "size": 10,
             "solidity": 0.2
            },
            "type": "scatter"
           }
          ],
          "scatter3d": [
           {
            "line": {
             "colorbar": {
              "outlinewidth": 0,
              "ticks": ""
             }
            },
            "marker": {
             "colorbar": {
              "outlinewidth": 0,
              "ticks": ""
             }
            },
            "type": "scatter3d"
           }
          ],
          "scattercarpet": [
           {
            "marker": {
             "colorbar": {
              "outlinewidth": 0,
              "ticks": ""
             }
            },
            "type": "scattercarpet"
           }
          ],
          "scattergeo": [
           {
            "marker": {
             "colorbar": {
              "outlinewidth": 0,
              "ticks": ""
             }
            },
            "type": "scattergeo"
           }
          ],
          "scattergl": [
           {
            "marker": {
             "colorbar": {
              "outlinewidth": 0,
              "ticks": ""
             }
            },
            "type": "scattergl"
           }
          ],
          "scattermapbox": [
           {
            "marker": {
             "colorbar": {
              "outlinewidth": 0,
              "ticks": ""
             }
            },
            "type": "scattermapbox"
           }
          ],
          "scatterpolar": [
           {
            "marker": {
             "colorbar": {
              "outlinewidth": 0,
              "ticks": ""
             }
            },
            "type": "scatterpolar"
           }
          ],
          "scatterpolargl": [
           {
            "marker": {
             "colorbar": {
              "outlinewidth": 0,
              "ticks": ""
             }
            },
            "type": "scatterpolargl"
           }
          ],
          "scatterternary": [
           {
            "marker": {
             "colorbar": {
              "outlinewidth": 0,
              "ticks": ""
             }
            },
            "type": "scatterternary"
           }
          ],
          "surface": [
           {
            "colorbar": {
             "outlinewidth": 0,
             "ticks": ""
            },
            "colorscale": [
             [
              0,
              "#0d0887"
             ],
             [
              0.1111111111111111,
              "#46039f"
             ],
             [
              0.2222222222222222,
              "#7201a8"
             ],
             [
              0.3333333333333333,
              "#9c179e"
             ],
             [
              0.4444444444444444,
              "#bd3786"
             ],
             [
              0.5555555555555556,
              "#d8576b"
             ],
             [
              0.6666666666666666,
              "#ed7953"
             ],
             [
              0.7777777777777778,
              "#fb9f3a"
             ],
             [
              0.8888888888888888,
              "#fdca26"
             ],
             [
              1,
              "#f0f921"
             ]
            ],
            "type": "surface"
           }
          ],
          "table": [
           {
            "cells": {
             "fill": {
              "color": "#EBF0F8"
             },
             "line": {
              "color": "white"
             }
            },
            "header": {
             "fill": {
              "color": "#C8D4E3"
             },
             "line": {
              "color": "white"
             }
            },
            "type": "table"
           }
          ]
         },
         "layout": {
          "annotationdefaults": {
           "arrowcolor": "#2a3f5f",
           "arrowhead": 0,
           "arrowwidth": 1
          },
          "autotypenumbers": "strict",
          "coloraxis": {
           "colorbar": {
            "outlinewidth": 0,
            "ticks": ""
           }
          },
          "colorscale": {
           "diverging": [
            [
             0,
             "#8e0152"
            ],
            [
             0.1,
             "#c51b7d"
            ],
            [
             0.2,
             "#de77ae"
            ],
            [
             0.3,
             "#f1b6da"
            ],
            [
             0.4,
             "#fde0ef"
            ],
            [
             0.5,
             "#f7f7f7"
            ],
            [
             0.6,
             "#e6f5d0"
            ],
            [
             0.7,
             "#b8e186"
            ],
            [
             0.8,
             "#7fbc41"
            ],
            [
             0.9,
             "#4d9221"
            ],
            [
             1,
             "#276419"
            ]
           ],
           "sequential": [
            [
             0,
             "#0d0887"
            ],
            [
             0.1111111111111111,
             "#46039f"
            ],
            [
             0.2222222222222222,
             "#7201a8"
            ],
            [
             0.3333333333333333,
             "#9c179e"
            ],
            [
             0.4444444444444444,
             "#bd3786"
            ],
            [
             0.5555555555555556,
             "#d8576b"
            ],
            [
             0.6666666666666666,
             "#ed7953"
            ],
            [
             0.7777777777777778,
             "#fb9f3a"
            ],
            [
             0.8888888888888888,
             "#fdca26"
            ],
            [
             1,
             "#f0f921"
            ]
           ],
           "sequentialminus": [
            [
             0,
             "#0d0887"
            ],
            [
             0.1111111111111111,
             "#46039f"
            ],
            [
             0.2222222222222222,
             "#7201a8"
            ],
            [
             0.3333333333333333,
             "#9c179e"
            ],
            [
             0.4444444444444444,
             "#bd3786"
            ],
            [
             0.5555555555555556,
             "#d8576b"
            ],
            [
             0.6666666666666666,
             "#ed7953"
            ],
            [
             0.7777777777777778,
             "#fb9f3a"
            ],
            [
             0.8888888888888888,
             "#fdca26"
            ],
            [
             1,
             "#f0f921"
            ]
           ]
          },
          "colorway": [
           "#636efa",
           "#EF553B",
           "#00cc96",
           "#ab63fa",
           "#FFA15A",
           "#19d3f3",
           "#FF6692",
           "#B6E880",
           "#FF97FF",
           "#FECB52"
          ],
          "font": {
           "color": "#2a3f5f"
          },
          "geo": {
           "bgcolor": "white",
           "lakecolor": "white",
           "landcolor": "#E5ECF6",
           "showlakes": true,
           "showland": true,
           "subunitcolor": "white"
          },
          "hoverlabel": {
           "align": "left"
          },
          "hovermode": "closest",
          "mapbox": {
           "style": "light"
          },
          "paper_bgcolor": "white",
          "plot_bgcolor": "#E5ECF6",
          "polar": {
           "angularaxis": {
            "gridcolor": "white",
            "linecolor": "white",
            "ticks": ""
           },
           "bgcolor": "#E5ECF6",
           "radialaxis": {
            "gridcolor": "white",
            "linecolor": "white",
            "ticks": ""
           }
          },
          "scene": {
           "xaxis": {
            "backgroundcolor": "#E5ECF6",
            "gridcolor": "white",
            "gridwidth": 2,
            "linecolor": "white",
            "showbackground": true,
            "ticks": "",
            "zerolinecolor": "white"
           },
           "yaxis": {
            "backgroundcolor": "#E5ECF6",
            "gridcolor": "white",
            "gridwidth": 2,
            "linecolor": "white",
            "showbackground": true,
            "ticks": "",
            "zerolinecolor": "white"
           },
           "zaxis": {
            "backgroundcolor": "#E5ECF6",
            "gridcolor": "white",
            "gridwidth": 2,
            "linecolor": "white",
            "showbackground": true,
            "ticks": "",
            "zerolinecolor": "white"
           }
          },
          "shapedefaults": {
           "line": {
            "color": "#2a3f5f"
           }
          },
          "ternary": {
           "aaxis": {
            "gridcolor": "white",
            "linecolor": "white",
            "ticks": ""
           },
           "baxis": {
            "gridcolor": "white",
            "linecolor": "white",
            "ticks": ""
           },
           "bgcolor": "#E5ECF6",
           "caxis": {
            "gridcolor": "white",
            "linecolor": "white",
            "ticks": ""
           }
          },
          "title": {
           "x": 0.05
          },
          "xaxis": {
           "automargin": true,
           "gridcolor": "white",
           "linecolor": "white",
           "ticks": "",
           "title": {
            "standoff": 15
           },
           "zerolinecolor": "white",
           "zerolinewidth": 2
          },
          "yaxis": {
           "automargin": true,
           "gridcolor": "white",
           "linecolor": "white",
           "ticks": "",
           "title": {
            "standoff": 15
           },
           "zerolinecolor": "white",
           "zerolinewidth": 2
          }
         }
        },
        "title": {
         "text": "Number of exhibitions by year - non-MoMa data"
        },
        "xaxis": {
         "anchor": "y",
         "domain": [
          0,
          1
         ],
         "title": {
          "text": "Year"
         }
        },
        "yaxis": {
         "anchor": "x",
         "domain": [
          0,
          1
         ],
         "title": {
          "text": "Number of exhibitions"
         }
        }
       }
      }
     },
     "metadata": {},
     "output_type": "display_data"
    }
   ],
   "source": [
    "filepath = \"api\"\n",
    "filename = \"events_nonmoma.json\"\n",
    "\n",
    "with open(os.path.join(filepath, filename), 'r') as json_file:\n",
    "    \n",
    "    number_ex_by_year = {}\n",
    "\n",
    "    data = json.load(json_file)\n",
    "    for event in data.get(\"events\"):\n",
    "\n",
    "        start = event.get(\"start\")\n",
    "        year = start.split(\"-\")[0]\n",
    "\n",
    "        if year in number_ex_by_year:\n",
    "            number_ex_by_year[year] += 1\n",
    "        else:\n",
    "            number_ex_by_year[year] = 1\n",
    "        \n",
    "    number_ex_by_year = SortedDict(number_ex_by_year)\n",
    "\n",
    "    print(number_ex_by_year)\n",
    "\n",
    "    x_values = number_ex_by_year.keys()\n",
    "    y_values = number_ex_by_year.values()\n",
    "\n",
    "    fig = px.bar(x=x_values, y=y_values, \n",
    "    labels={\"x\": \"Year\", \"y\": \"Number of exhibitions\"},\n",
    "    title=\"Number of exhibitions by year - non-MoMa data\"\n",
    "    )\n",
    "    fig.show()"
   ]
  },
  {
   "cell_type": "markdown",
   "metadata": {},
   "source": [
    "# A histogram of number of exhibitions per institution !(MoMA+PS1+whitney) "
   ]
  },
  {
   "cell_type": "code",
   "execution_count": 5,
   "metadata": {},
   "outputs": [
    {
     "name": "stdout",
     "output_type": "stream",
     "text": [
      "{'Art Advisory Service': 1, 'Berliner Metallgewerbe Josef Müller': 1, 'Junior Council of The Museum of Modern Art': 2, 'Art Lending Service, The Museum of Modern Art, New York': 5, 'The City Gallery': 8, 'Judson Gallery': 16, 'Reuben Gallery': 21, 'Brata Gallery': 22, 'Green Gallery': 51, 'Hansa Gallery': 84, 'Tanager Gallery': 101, 'MoMA PS1': 1045, 'The Museum of Modern Art': 2439}\n"
     ]
    }
   ],
   "source": [
    "filepath = \"api\"\n",
    "filename = \"events_all.json\"\n",
    "\n",
    "with open(os.path.join(filepath, filename), 'r') as json_file:\n",
    "    \n",
    "    number_by_org = {}\n",
    "\n",
    "    data = json.load(json_file)\n",
    "    for event in data.get(\"events\"):\n",
    "        carried_out_by = event.get(\"carried_out_by\")\n",
    "        for org in carried_out_by: \n",
    "            if \"Person\" in org:\n",
    "                continue\n",
    "           \n",
    "\n",
    "            # get label for id\n",
    "            org_file = \"../data/group/\" + org.split(\"/\").pop() + \".json\"\n",
    "            with open(os.path.join(org_file), 'r') as org_file:\n",
    "                orgdata = json.load(org_file)\n",
    "\n",
    "                org_label = orgdata.get(\"_label\")\n",
    "\n",
    "            if org_label in number_by_org:\n",
    "                number_by_org[org_label] += 1\n",
    "            else:\n",
    "                number_by_org[org_label] = 1\n",
    "        \n",
    "    number_by_org = SortedDict(number_by_org)\n",
    "\n",
    "    \n",
    "    # sort by number\n",
    "    number_by_org = dict(sorted(number_by_org.items(), key=lambda item: item[1]))\n",
    "\n",
    "print(number_by_org)\n"
   ]
  },
  {
   "cell_type": "code",
   "execution_count": 6,
   "metadata": {},
   "outputs": [
    {
     "data": {
      "application/vnd.plotly.v1+json": {
       "config": {
        "plotlyServerURL": "https://plot.ly"
       },
       "data": [
        {
         "alignmentgroup": "True",
         "hovertemplate": "Org=%{x}<br>Number of exhibitions=%{y}<extra></extra>",
         "legendgroup": "",
         "marker": {
          "color": "#636efa",
          "pattern": {
           "shape": ""
          }
         },
         "name": "",
         "offsetgroup": "",
         "orientation": "v",
         "showlegend": false,
         "textposition": "auto",
         "type": "bar",
         "x": [
          "Art Advisory Service",
          "Berliner Metallgewerbe Josef Müller",
          "Junior Council of The Museum of Modern Art",
          "Art Lending Service, The Museum of Modern Art, New York",
          "The City Gallery",
          "Judson Gallery",
          "Reuben Gallery",
          "Brata Gallery",
          "Green Gallery",
          "Hansa Gallery",
          "Tanager Gallery",
          "MoMA PS1",
          "The Museum of Modern Art"
         ],
         "xaxis": "x",
         "y": [
          1,
          1,
          2,
          5,
          8,
          16,
          21,
          22,
          51,
          84,
          101,
          1045,
          2439
         ],
         "yaxis": "y"
        }
       ],
       "layout": {
        "barmode": "relative",
        "legend": {
         "tracegroupgap": 0
        },
        "template": {
         "data": {
          "bar": [
           {
            "error_x": {
             "color": "#2a3f5f"
            },
            "error_y": {
             "color": "#2a3f5f"
            },
            "marker": {
             "line": {
              "color": "#E5ECF6",
              "width": 0.5
             },
             "pattern": {
              "fillmode": "overlay",
              "size": 10,
              "solidity": 0.2
             }
            },
            "type": "bar"
           }
          ],
          "barpolar": [
           {
            "marker": {
             "line": {
              "color": "#E5ECF6",
              "width": 0.5
             },
             "pattern": {
              "fillmode": "overlay",
              "size": 10,
              "solidity": 0.2
             }
            },
            "type": "barpolar"
           }
          ],
          "carpet": [
           {
            "aaxis": {
             "endlinecolor": "#2a3f5f",
             "gridcolor": "white",
             "linecolor": "white",
             "minorgridcolor": "white",
             "startlinecolor": "#2a3f5f"
            },
            "baxis": {
             "endlinecolor": "#2a3f5f",
             "gridcolor": "white",
             "linecolor": "white",
             "minorgridcolor": "white",
             "startlinecolor": "#2a3f5f"
            },
            "type": "carpet"
           }
          ],
          "choropleth": [
           {
            "colorbar": {
             "outlinewidth": 0,
             "ticks": ""
            },
            "type": "choropleth"
           }
          ],
          "contour": [
           {
            "colorbar": {
             "outlinewidth": 0,
             "ticks": ""
            },
            "colorscale": [
             [
              0,
              "#0d0887"
             ],
             [
              0.1111111111111111,
              "#46039f"
             ],
             [
              0.2222222222222222,
              "#7201a8"
             ],
             [
              0.3333333333333333,
              "#9c179e"
             ],
             [
              0.4444444444444444,
              "#bd3786"
             ],
             [
              0.5555555555555556,
              "#d8576b"
             ],
             [
              0.6666666666666666,
              "#ed7953"
             ],
             [
              0.7777777777777778,
              "#fb9f3a"
             ],
             [
              0.8888888888888888,
              "#fdca26"
             ],
             [
              1,
              "#f0f921"
             ]
            ],
            "type": "contour"
           }
          ],
          "contourcarpet": [
           {
            "colorbar": {
             "outlinewidth": 0,
             "ticks": ""
            },
            "type": "contourcarpet"
           }
          ],
          "heatmap": [
           {
            "colorbar": {
             "outlinewidth": 0,
             "ticks": ""
            },
            "colorscale": [
             [
              0,
              "#0d0887"
             ],
             [
              0.1111111111111111,
              "#46039f"
             ],
             [
              0.2222222222222222,
              "#7201a8"
             ],
             [
              0.3333333333333333,
              "#9c179e"
             ],
             [
              0.4444444444444444,
              "#bd3786"
             ],
             [
              0.5555555555555556,
              "#d8576b"
             ],
             [
              0.6666666666666666,
              "#ed7953"
             ],
             [
              0.7777777777777778,
              "#fb9f3a"
             ],
             [
              0.8888888888888888,
              "#fdca26"
             ],
             [
              1,
              "#f0f921"
             ]
            ],
            "type": "heatmap"
           }
          ],
          "heatmapgl": [
           {
            "colorbar": {
             "outlinewidth": 0,
             "ticks": ""
            },
            "colorscale": [
             [
              0,
              "#0d0887"
             ],
             [
              0.1111111111111111,
              "#46039f"
             ],
             [
              0.2222222222222222,
              "#7201a8"
             ],
             [
              0.3333333333333333,
              "#9c179e"
             ],
             [
              0.4444444444444444,
              "#bd3786"
             ],
             [
              0.5555555555555556,
              "#d8576b"
             ],
             [
              0.6666666666666666,
              "#ed7953"
             ],
             [
              0.7777777777777778,
              "#fb9f3a"
             ],
             [
              0.8888888888888888,
              "#fdca26"
             ],
             [
              1,
              "#f0f921"
             ]
            ],
            "type": "heatmapgl"
           }
          ],
          "histogram": [
           {
            "marker": {
             "pattern": {
              "fillmode": "overlay",
              "size": 10,
              "solidity": 0.2
             }
            },
            "type": "histogram"
           }
          ],
          "histogram2d": [
           {
            "colorbar": {
             "outlinewidth": 0,
             "ticks": ""
            },
            "colorscale": [
             [
              0,
              "#0d0887"
             ],
             [
              0.1111111111111111,
              "#46039f"
             ],
             [
              0.2222222222222222,
              "#7201a8"
             ],
             [
              0.3333333333333333,
              "#9c179e"
             ],
             [
              0.4444444444444444,
              "#bd3786"
             ],
             [
              0.5555555555555556,
              "#d8576b"
             ],
             [
              0.6666666666666666,
              "#ed7953"
             ],
             [
              0.7777777777777778,
              "#fb9f3a"
             ],
             [
              0.8888888888888888,
              "#fdca26"
             ],
             [
              1,
              "#f0f921"
             ]
            ],
            "type": "histogram2d"
           }
          ],
          "histogram2dcontour": [
           {
            "colorbar": {
             "outlinewidth": 0,
             "ticks": ""
            },
            "colorscale": [
             [
              0,
              "#0d0887"
             ],
             [
              0.1111111111111111,
              "#46039f"
             ],
             [
              0.2222222222222222,
              "#7201a8"
             ],
             [
              0.3333333333333333,
              "#9c179e"
             ],
             [
              0.4444444444444444,
              "#bd3786"
             ],
             [
              0.5555555555555556,
              "#d8576b"
             ],
             [
              0.6666666666666666,
              "#ed7953"
             ],
             [
              0.7777777777777778,
              "#fb9f3a"
             ],
             [
              0.8888888888888888,
              "#fdca26"
             ],
             [
              1,
              "#f0f921"
             ]
            ],
            "type": "histogram2dcontour"
           }
          ],
          "mesh3d": [
           {
            "colorbar": {
             "outlinewidth": 0,
             "ticks": ""
            },
            "type": "mesh3d"
           }
          ],
          "parcoords": [
           {
            "line": {
             "colorbar": {
              "outlinewidth": 0,
              "ticks": ""
             }
            },
            "type": "parcoords"
           }
          ],
          "pie": [
           {
            "automargin": true,
            "type": "pie"
           }
          ],
          "scatter": [
           {
            "fillpattern": {
             "fillmode": "overlay",
             "size": 10,
             "solidity": 0.2
            },
            "type": "scatter"
           }
          ],
          "scatter3d": [
           {
            "line": {
             "colorbar": {
              "outlinewidth": 0,
              "ticks": ""
             }
            },
            "marker": {
             "colorbar": {
              "outlinewidth": 0,
              "ticks": ""
             }
            },
            "type": "scatter3d"
           }
          ],
          "scattercarpet": [
           {
            "marker": {
             "colorbar": {
              "outlinewidth": 0,
              "ticks": ""
             }
            },
            "type": "scattercarpet"
           }
          ],
          "scattergeo": [
           {
            "marker": {
             "colorbar": {
              "outlinewidth": 0,
              "ticks": ""
             }
            },
            "type": "scattergeo"
           }
          ],
          "scattergl": [
           {
            "marker": {
             "colorbar": {
              "outlinewidth": 0,
              "ticks": ""
             }
            },
            "type": "scattergl"
           }
          ],
          "scattermapbox": [
           {
            "marker": {
             "colorbar": {
              "outlinewidth": 0,
              "ticks": ""
             }
            },
            "type": "scattermapbox"
           }
          ],
          "scatterpolar": [
           {
            "marker": {
             "colorbar": {
              "outlinewidth": 0,
              "ticks": ""
             }
            },
            "type": "scatterpolar"
           }
          ],
          "scatterpolargl": [
           {
            "marker": {
             "colorbar": {
              "outlinewidth": 0,
              "ticks": ""
             }
            },
            "type": "scatterpolargl"
           }
          ],
          "scatterternary": [
           {
            "marker": {
             "colorbar": {
              "outlinewidth": 0,
              "ticks": ""
             }
            },
            "type": "scatterternary"
           }
          ],
          "surface": [
           {
            "colorbar": {
             "outlinewidth": 0,
             "ticks": ""
            },
            "colorscale": [
             [
              0,
              "#0d0887"
             ],
             [
              0.1111111111111111,
              "#46039f"
             ],
             [
              0.2222222222222222,
              "#7201a8"
             ],
             [
              0.3333333333333333,
              "#9c179e"
             ],
             [
              0.4444444444444444,
              "#bd3786"
             ],
             [
              0.5555555555555556,
              "#d8576b"
             ],
             [
              0.6666666666666666,
              "#ed7953"
             ],
             [
              0.7777777777777778,
              "#fb9f3a"
             ],
             [
              0.8888888888888888,
              "#fdca26"
             ],
             [
              1,
              "#f0f921"
             ]
            ],
            "type": "surface"
           }
          ],
          "table": [
           {
            "cells": {
             "fill": {
              "color": "#EBF0F8"
             },
             "line": {
              "color": "white"
             }
            },
            "header": {
             "fill": {
              "color": "#C8D4E3"
             },
             "line": {
              "color": "white"
             }
            },
            "type": "table"
           }
          ]
         },
         "layout": {
          "annotationdefaults": {
           "arrowcolor": "#2a3f5f",
           "arrowhead": 0,
           "arrowwidth": 1
          },
          "autotypenumbers": "strict",
          "coloraxis": {
           "colorbar": {
            "outlinewidth": 0,
            "ticks": ""
           }
          },
          "colorscale": {
           "diverging": [
            [
             0,
             "#8e0152"
            ],
            [
             0.1,
             "#c51b7d"
            ],
            [
             0.2,
             "#de77ae"
            ],
            [
             0.3,
             "#f1b6da"
            ],
            [
             0.4,
             "#fde0ef"
            ],
            [
             0.5,
             "#f7f7f7"
            ],
            [
             0.6,
             "#e6f5d0"
            ],
            [
             0.7,
             "#b8e186"
            ],
            [
             0.8,
             "#7fbc41"
            ],
            [
             0.9,
             "#4d9221"
            ],
            [
             1,
             "#276419"
            ]
           ],
           "sequential": [
            [
             0,
             "#0d0887"
            ],
            [
             0.1111111111111111,
             "#46039f"
            ],
            [
             0.2222222222222222,
             "#7201a8"
            ],
            [
             0.3333333333333333,
             "#9c179e"
            ],
            [
             0.4444444444444444,
             "#bd3786"
            ],
            [
             0.5555555555555556,
             "#d8576b"
            ],
            [
             0.6666666666666666,
             "#ed7953"
            ],
            [
             0.7777777777777778,
             "#fb9f3a"
            ],
            [
             0.8888888888888888,
             "#fdca26"
            ],
            [
             1,
             "#f0f921"
            ]
           ],
           "sequentialminus": [
            [
             0,
             "#0d0887"
            ],
            [
             0.1111111111111111,
             "#46039f"
            ],
            [
             0.2222222222222222,
             "#7201a8"
            ],
            [
             0.3333333333333333,
             "#9c179e"
            ],
            [
             0.4444444444444444,
             "#bd3786"
            ],
            [
             0.5555555555555556,
             "#d8576b"
            ],
            [
             0.6666666666666666,
             "#ed7953"
            ],
            [
             0.7777777777777778,
             "#fb9f3a"
            ],
            [
             0.8888888888888888,
             "#fdca26"
            ],
            [
             1,
             "#f0f921"
            ]
           ]
          },
          "colorway": [
           "#636efa",
           "#EF553B",
           "#00cc96",
           "#ab63fa",
           "#FFA15A",
           "#19d3f3",
           "#FF6692",
           "#B6E880",
           "#FF97FF",
           "#FECB52"
          ],
          "font": {
           "color": "#2a3f5f"
          },
          "geo": {
           "bgcolor": "white",
           "lakecolor": "white",
           "landcolor": "#E5ECF6",
           "showlakes": true,
           "showland": true,
           "subunitcolor": "white"
          },
          "hoverlabel": {
           "align": "left"
          },
          "hovermode": "closest",
          "mapbox": {
           "style": "light"
          },
          "paper_bgcolor": "white",
          "plot_bgcolor": "#E5ECF6",
          "polar": {
           "angularaxis": {
            "gridcolor": "white",
            "linecolor": "white",
            "ticks": ""
           },
           "bgcolor": "#E5ECF6",
           "radialaxis": {
            "gridcolor": "white",
            "linecolor": "white",
            "ticks": ""
           }
          },
          "scene": {
           "xaxis": {
            "backgroundcolor": "#E5ECF6",
            "gridcolor": "white",
            "gridwidth": 2,
            "linecolor": "white",
            "showbackground": true,
            "ticks": "",
            "zerolinecolor": "white"
           },
           "yaxis": {
            "backgroundcolor": "#E5ECF6",
            "gridcolor": "white",
            "gridwidth": 2,
            "linecolor": "white",
            "showbackground": true,
            "ticks": "",
            "zerolinecolor": "white"
           },
           "zaxis": {
            "backgroundcolor": "#E5ECF6",
            "gridcolor": "white",
            "gridwidth": 2,
            "linecolor": "white",
            "showbackground": true,
            "ticks": "",
            "zerolinecolor": "white"
           }
          },
          "shapedefaults": {
           "line": {
            "color": "#2a3f5f"
           }
          },
          "ternary": {
           "aaxis": {
            "gridcolor": "white",
            "linecolor": "white",
            "ticks": ""
           },
           "baxis": {
            "gridcolor": "white",
            "linecolor": "white",
            "ticks": ""
           },
           "bgcolor": "#E5ECF6",
           "caxis": {
            "gridcolor": "white",
            "linecolor": "white",
            "ticks": ""
           }
          },
          "title": {
           "x": 0.05
          },
          "xaxis": {
           "automargin": true,
           "gridcolor": "white",
           "linecolor": "white",
           "ticks": "",
           "title": {
            "standoff": 15
           },
           "zerolinecolor": "white",
           "zerolinewidth": 2
          },
          "yaxis": {
           "automargin": true,
           "gridcolor": "white",
           "linecolor": "white",
           "ticks": "",
           "title": {
            "standoff": 15
           },
           "zerolinecolor": "white",
           "zerolinewidth": 2
          }
         }
        },
        "title": {
         "text": "Number of exhibitions by org"
        },
        "xaxis": {
         "anchor": "y",
         "domain": [
          0,
          1
         ],
         "title": {
          "text": "Org"
         }
        },
        "yaxis": {
         "anchor": "x",
         "domain": [
          0,
          1
         ],
         "title": {
          "text": "Number of exhibitions"
         }
        }
       }
      }
     },
     "metadata": {},
     "output_type": "display_data"
    }
   ],
   "source": [
    "x_values = number_by_org.keys()\n",
    "y_values = number_by_org.values()\n",
    "\n",
    "fig = px.bar(x=x_values, y=y_values, \n",
    "labels={\"x\": \"Org\", \"y\": \"Number of exhibitions\"},\n",
    "title=\"Number of exhibitions by org\"\n",
    ")\n",
    "fig.show()"
   ]
  },
  {
   "cell_type": "markdown",
   "metadata": {},
   "source": [
    "# remove museum of modern art and moma PS1\n",
    " "
   ]
  },
  {
   "cell_type": "code",
   "execution_count": 7,
   "metadata": {},
   "outputs": [],
   "source": [
    "if \"The Museum of Modern Art\" in number_by_org:\n",
    "    del number_by_org[\"The Museum of Modern Art\"]\n",
    "if \"MoMA PS1\" in number_by_org:\n",
    "    del number_by_org[\"MoMA PS1\"]"
   ]
  },
  {
   "cell_type": "code",
   "execution_count": 8,
   "metadata": {},
   "outputs": [
    {
     "data": {
      "application/vnd.plotly.v1+json": {
       "config": {
        "plotlyServerURL": "https://plot.ly"
       },
       "data": [
        {
         "alignmentgroup": "True",
         "hovertemplate": "Org=%{x}<br>Number of exhibitions=%{y}<extra></extra>",
         "legendgroup": "",
         "marker": {
          "color": "#636efa",
          "pattern": {
           "shape": ""
          }
         },
         "name": "",
         "offsetgroup": "",
         "orientation": "v",
         "showlegend": false,
         "textposition": "auto",
         "type": "bar",
         "x": [
          "Art Advisory Service",
          "Berliner Metallgewerbe Josef Müller",
          "Junior Council of The Museum of Modern Art",
          "Art Lending Service, The Museum of Modern Art, New York",
          "The City Gallery",
          "Judson Gallery",
          "Reuben Gallery",
          "Brata Gallery",
          "Green Gallery",
          "Hansa Gallery",
          "Tanager Gallery"
         ],
         "xaxis": "x",
         "y": [
          1,
          1,
          2,
          5,
          8,
          16,
          21,
          22,
          51,
          84,
          101
         ],
         "yaxis": "y"
        }
       ],
       "layout": {
        "barmode": "relative",
        "legend": {
         "tracegroupgap": 0
        },
        "template": {
         "data": {
          "bar": [
           {
            "error_x": {
             "color": "#2a3f5f"
            },
            "error_y": {
             "color": "#2a3f5f"
            },
            "marker": {
             "line": {
              "color": "#E5ECF6",
              "width": 0.5
             },
             "pattern": {
              "fillmode": "overlay",
              "size": 10,
              "solidity": 0.2
             }
            },
            "type": "bar"
           }
          ],
          "barpolar": [
           {
            "marker": {
             "line": {
              "color": "#E5ECF6",
              "width": 0.5
             },
             "pattern": {
              "fillmode": "overlay",
              "size": 10,
              "solidity": 0.2
             }
            },
            "type": "barpolar"
           }
          ],
          "carpet": [
           {
            "aaxis": {
             "endlinecolor": "#2a3f5f",
             "gridcolor": "white",
             "linecolor": "white",
             "minorgridcolor": "white",
             "startlinecolor": "#2a3f5f"
            },
            "baxis": {
             "endlinecolor": "#2a3f5f",
             "gridcolor": "white",
             "linecolor": "white",
             "minorgridcolor": "white",
             "startlinecolor": "#2a3f5f"
            },
            "type": "carpet"
           }
          ],
          "choropleth": [
           {
            "colorbar": {
             "outlinewidth": 0,
             "ticks": ""
            },
            "type": "choropleth"
           }
          ],
          "contour": [
           {
            "colorbar": {
             "outlinewidth": 0,
             "ticks": ""
            },
            "colorscale": [
             [
              0,
              "#0d0887"
             ],
             [
              0.1111111111111111,
              "#46039f"
             ],
             [
              0.2222222222222222,
              "#7201a8"
             ],
             [
              0.3333333333333333,
              "#9c179e"
             ],
             [
              0.4444444444444444,
              "#bd3786"
             ],
             [
              0.5555555555555556,
              "#d8576b"
             ],
             [
              0.6666666666666666,
              "#ed7953"
             ],
             [
              0.7777777777777778,
              "#fb9f3a"
             ],
             [
              0.8888888888888888,
              "#fdca26"
             ],
             [
              1,
              "#f0f921"
             ]
            ],
            "type": "contour"
           }
          ],
          "contourcarpet": [
           {
            "colorbar": {
             "outlinewidth": 0,
             "ticks": ""
            },
            "type": "contourcarpet"
           }
          ],
          "heatmap": [
           {
            "colorbar": {
             "outlinewidth": 0,
             "ticks": ""
            },
            "colorscale": [
             [
              0,
              "#0d0887"
             ],
             [
              0.1111111111111111,
              "#46039f"
             ],
             [
              0.2222222222222222,
              "#7201a8"
             ],
             [
              0.3333333333333333,
              "#9c179e"
             ],
             [
              0.4444444444444444,
              "#bd3786"
             ],
             [
              0.5555555555555556,
              "#d8576b"
             ],
             [
              0.6666666666666666,
              "#ed7953"
             ],
             [
              0.7777777777777778,
              "#fb9f3a"
             ],
             [
              0.8888888888888888,
              "#fdca26"
             ],
             [
              1,
              "#f0f921"
             ]
            ],
            "type": "heatmap"
           }
          ],
          "heatmapgl": [
           {
            "colorbar": {
             "outlinewidth": 0,
             "ticks": ""
            },
            "colorscale": [
             [
              0,
              "#0d0887"
             ],
             [
              0.1111111111111111,
              "#46039f"
             ],
             [
              0.2222222222222222,
              "#7201a8"
             ],
             [
              0.3333333333333333,
              "#9c179e"
             ],
             [
              0.4444444444444444,
              "#bd3786"
             ],
             [
              0.5555555555555556,
              "#d8576b"
             ],
             [
              0.6666666666666666,
              "#ed7953"
             ],
             [
              0.7777777777777778,
              "#fb9f3a"
             ],
             [
              0.8888888888888888,
              "#fdca26"
             ],
             [
              1,
              "#f0f921"
             ]
            ],
            "type": "heatmapgl"
           }
          ],
          "histogram": [
           {
            "marker": {
             "pattern": {
              "fillmode": "overlay",
              "size": 10,
              "solidity": 0.2
             }
            },
            "type": "histogram"
           }
          ],
          "histogram2d": [
           {
            "colorbar": {
             "outlinewidth": 0,
             "ticks": ""
            },
            "colorscale": [
             [
              0,
              "#0d0887"
             ],
             [
              0.1111111111111111,
              "#46039f"
             ],
             [
              0.2222222222222222,
              "#7201a8"
             ],
             [
              0.3333333333333333,
              "#9c179e"
             ],
             [
              0.4444444444444444,
              "#bd3786"
             ],
             [
              0.5555555555555556,
              "#d8576b"
             ],
             [
              0.6666666666666666,
              "#ed7953"
             ],
             [
              0.7777777777777778,
              "#fb9f3a"
             ],
             [
              0.8888888888888888,
              "#fdca26"
             ],
             [
              1,
              "#f0f921"
             ]
            ],
            "type": "histogram2d"
           }
          ],
          "histogram2dcontour": [
           {
            "colorbar": {
             "outlinewidth": 0,
             "ticks": ""
            },
            "colorscale": [
             [
              0,
              "#0d0887"
             ],
             [
              0.1111111111111111,
              "#46039f"
             ],
             [
              0.2222222222222222,
              "#7201a8"
             ],
             [
              0.3333333333333333,
              "#9c179e"
             ],
             [
              0.4444444444444444,
              "#bd3786"
             ],
             [
              0.5555555555555556,
              "#d8576b"
             ],
             [
              0.6666666666666666,
              "#ed7953"
             ],
             [
              0.7777777777777778,
              "#fb9f3a"
             ],
             [
              0.8888888888888888,
              "#fdca26"
             ],
             [
              1,
              "#f0f921"
             ]
            ],
            "type": "histogram2dcontour"
           }
          ],
          "mesh3d": [
           {
            "colorbar": {
             "outlinewidth": 0,
             "ticks": ""
            },
            "type": "mesh3d"
           }
          ],
          "parcoords": [
           {
            "line": {
             "colorbar": {
              "outlinewidth": 0,
              "ticks": ""
             }
            },
            "type": "parcoords"
           }
          ],
          "pie": [
           {
            "automargin": true,
            "type": "pie"
           }
          ],
          "scatter": [
           {
            "fillpattern": {
             "fillmode": "overlay",
             "size": 10,
             "solidity": 0.2
            },
            "type": "scatter"
           }
          ],
          "scatter3d": [
           {
            "line": {
             "colorbar": {
              "outlinewidth": 0,
              "ticks": ""
             }
            },
            "marker": {
             "colorbar": {
              "outlinewidth": 0,
              "ticks": ""
             }
            },
            "type": "scatter3d"
           }
          ],
          "scattercarpet": [
           {
            "marker": {
             "colorbar": {
              "outlinewidth": 0,
              "ticks": ""
             }
            },
            "type": "scattercarpet"
           }
          ],
          "scattergeo": [
           {
            "marker": {
             "colorbar": {
              "outlinewidth": 0,
              "ticks": ""
             }
            },
            "type": "scattergeo"
           }
          ],
          "scattergl": [
           {
            "marker": {
             "colorbar": {
              "outlinewidth": 0,
              "ticks": ""
             }
            },
            "type": "scattergl"
           }
          ],
          "scattermapbox": [
           {
            "marker": {
             "colorbar": {
              "outlinewidth": 0,
              "ticks": ""
             }
            },
            "type": "scattermapbox"
           }
          ],
          "scatterpolar": [
           {
            "marker": {
             "colorbar": {
              "outlinewidth": 0,
              "ticks": ""
             }
            },
            "type": "scatterpolar"
           }
          ],
          "scatterpolargl": [
           {
            "marker": {
             "colorbar": {
              "outlinewidth": 0,
              "ticks": ""
             }
            },
            "type": "scatterpolargl"
           }
          ],
          "scatterternary": [
           {
            "marker": {
             "colorbar": {
              "outlinewidth": 0,
              "ticks": ""
             }
            },
            "type": "scatterternary"
           }
          ],
          "surface": [
           {
            "colorbar": {
             "outlinewidth": 0,
             "ticks": ""
            },
            "colorscale": [
             [
              0,
              "#0d0887"
             ],
             [
              0.1111111111111111,
              "#46039f"
             ],
             [
              0.2222222222222222,
              "#7201a8"
             ],
             [
              0.3333333333333333,
              "#9c179e"
             ],
             [
              0.4444444444444444,
              "#bd3786"
             ],
             [
              0.5555555555555556,
              "#d8576b"
             ],
             [
              0.6666666666666666,
              "#ed7953"
             ],
             [
              0.7777777777777778,
              "#fb9f3a"
             ],
             [
              0.8888888888888888,
              "#fdca26"
             ],
             [
              1,
              "#f0f921"
             ]
            ],
            "type": "surface"
           }
          ],
          "table": [
           {
            "cells": {
             "fill": {
              "color": "#EBF0F8"
             },
             "line": {
              "color": "white"
             }
            },
            "header": {
             "fill": {
              "color": "#C8D4E3"
             },
             "line": {
              "color": "white"
             }
            },
            "type": "table"
           }
          ]
         },
         "layout": {
          "annotationdefaults": {
           "arrowcolor": "#2a3f5f",
           "arrowhead": 0,
           "arrowwidth": 1
          },
          "autotypenumbers": "strict",
          "coloraxis": {
           "colorbar": {
            "outlinewidth": 0,
            "ticks": ""
           }
          },
          "colorscale": {
           "diverging": [
            [
             0,
             "#8e0152"
            ],
            [
             0.1,
             "#c51b7d"
            ],
            [
             0.2,
             "#de77ae"
            ],
            [
             0.3,
             "#f1b6da"
            ],
            [
             0.4,
             "#fde0ef"
            ],
            [
             0.5,
             "#f7f7f7"
            ],
            [
             0.6,
             "#e6f5d0"
            ],
            [
             0.7,
             "#b8e186"
            ],
            [
             0.8,
             "#7fbc41"
            ],
            [
             0.9,
             "#4d9221"
            ],
            [
             1,
             "#276419"
            ]
           ],
           "sequential": [
            [
             0,
             "#0d0887"
            ],
            [
             0.1111111111111111,
             "#46039f"
            ],
            [
             0.2222222222222222,
             "#7201a8"
            ],
            [
             0.3333333333333333,
             "#9c179e"
            ],
            [
             0.4444444444444444,
             "#bd3786"
            ],
            [
             0.5555555555555556,
             "#d8576b"
            ],
            [
             0.6666666666666666,
             "#ed7953"
            ],
            [
             0.7777777777777778,
             "#fb9f3a"
            ],
            [
             0.8888888888888888,
             "#fdca26"
            ],
            [
             1,
             "#f0f921"
            ]
           ],
           "sequentialminus": [
            [
             0,
             "#0d0887"
            ],
            [
             0.1111111111111111,
             "#46039f"
            ],
            [
             0.2222222222222222,
             "#7201a8"
            ],
            [
             0.3333333333333333,
             "#9c179e"
            ],
            [
             0.4444444444444444,
             "#bd3786"
            ],
            [
             0.5555555555555556,
             "#d8576b"
            ],
            [
             0.6666666666666666,
             "#ed7953"
            ],
            [
             0.7777777777777778,
             "#fb9f3a"
            ],
            [
             0.8888888888888888,
             "#fdca26"
            ],
            [
             1,
             "#f0f921"
            ]
           ]
          },
          "colorway": [
           "#636efa",
           "#EF553B",
           "#00cc96",
           "#ab63fa",
           "#FFA15A",
           "#19d3f3",
           "#FF6692",
           "#B6E880",
           "#FF97FF",
           "#FECB52"
          ],
          "font": {
           "color": "#2a3f5f"
          },
          "geo": {
           "bgcolor": "white",
           "lakecolor": "white",
           "landcolor": "#E5ECF6",
           "showlakes": true,
           "showland": true,
           "subunitcolor": "white"
          },
          "hoverlabel": {
           "align": "left"
          },
          "hovermode": "closest",
          "mapbox": {
           "style": "light"
          },
          "paper_bgcolor": "white",
          "plot_bgcolor": "#E5ECF6",
          "polar": {
           "angularaxis": {
            "gridcolor": "white",
            "linecolor": "white",
            "ticks": ""
           },
           "bgcolor": "#E5ECF6",
           "radialaxis": {
            "gridcolor": "white",
            "linecolor": "white",
            "ticks": ""
           }
          },
          "scene": {
           "xaxis": {
            "backgroundcolor": "#E5ECF6",
            "gridcolor": "white",
            "gridwidth": 2,
            "linecolor": "white",
            "showbackground": true,
            "ticks": "",
            "zerolinecolor": "white"
           },
           "yaxis": {
            "backgroundcolor": "#E5ECF6",
            "gridcolor": "white",
            "gridwidth": 2,
            "linecolor": "white",
            "showbackground": true,
            "ticks": "",
            "zerolinecolor": "white"
           },
           "zaxis": {
            "backgroundcolor": "#E5ECF6",
            "gridcolor": "white",
            "gridwidth": 2,
            "linecolor": "white",
            "showbackground": true,
            "ticks": "",
            "zerolinecolor": "white"
           }
          },
          "shapedefaults": {
           "line": {
            "color": "#2a3f5f"
           }
          },
          "ternary": {
           "aaxis": {
            "gridcolor": "white",
            "linecolor": "white",
            "ticks": ""
           },
           "baxis": {
            "gridcolor": "white",
            "linecolor": "white",
            "ticks": ""
           },
           "bgcolor": "#E5ECF6",
           "caxis": {
            "gridcolor": "white",
            "linecolor": "white",
            "ticks": ""
           }
          },
          "title": {
           "x": 0.05
          },
          "xaxis": {
           "automargin": true,
           "gridcolor": "white",
           "linecolor": "white",
           "ticks": "",
           "title": {
            "standoff": 15
           },
           "zerolinecolor": "white",
           "zerolinewidth": 2
          },
          "yaxis": {
           "automargin": true,
           "gridcolor": "white",
           "linecolor": "white",
           "ticks": "",
           "title": {
            "standoff": 15
           },
           "zerolinecolor": "white",
           "zerolinewidth": 2
          }
         }
        },
        "title": {
         "text": "Number of exhibitions by org"
        },
        "xaxis": {
         "anchor": "y",
         "domain": [
          0,
          1
         ],
         "title": {
          "text": "Org"
         }
        },
        "yaxis": {
         "anchor": "x",
         "domain": [
          0,
          1
         ],
         "title": {
          "text": "Number of exhibitions"
         }
        }
       }
      }
     },
     "metadata": {},
     "output_type": "display_data"
    }
   ],
   "source": [
    "# sort by number\n",
    "number_by_org = dict(sorted(number_by_org.items(), key=lambda item: item[1]))\n",
    "\n",
    "x_values = number_by_org.keys()\n",
    "y_values = number_by_org.values()\n",
    "\n",
    "fig = px.bar(x=x_values, y=y_values, \n",
    "labels={\"x\": \"Org\", \"y\": \"Number of exhibitions\"},\n",
    "title=\"Number of exhibitions by org\"\n",
    ")\n",
    "fig.show()\n"
   ]
  },
  {
   "cell_type": "code",
   "execution_count": null,
   "metadata": {},
   "outputs": [],
   "source": []
  },
  {
   "cell_type": "markdown",
   "metadata": {},
   "source": [
    "# Number of exhibitions per venue"
   ]
  },
  {
   "cell_type": "code",
   "execution_count": 9,
   "metadata": {},
   "outputs": [],
   "source": [
    "filepath = \"api\"\n",
    "filename = \"events_all.json\"\n",
    "\n",
    "\n",
    "\n",
    "with open(os.path.join(filepath, filename), 'r') as json_file:\n",
    "    events_venue = {}\n",
    "    number_dict = {}\n",
    "\n",
    "    data = json.load(json_file)\n",
    "    for event in data.get(\"events\"):\n",
    "        venue = event.get(\"venue\")\n",
    "\n",
    "        \n",
    "        \n",
    "        if venue in number_dict:\n",
    "            number_dict[venue] += 1\n",
    "            events_venue[venue].append(event)\n",
    "        else:\n",
    "            number_dict[venue] = 1\n",
    "            events_venue[venue] = [event]\n",
    "        \n",
    "    number_dict = SortedDict(number_dict)\n",
    "\n",
    "    \n",
    "    # sort by number\n",
    "    number_dict = dict(sorted(number_dict.items(), key=lambda item: item[1]))\n",
    "\n",
    "    \n",
    "\n",
    "    for venue in events_venue:\n",
    "        \n",
    "        venue_filename = venue.replace(\" \", \"\")\n",
    "        venue_filename = venue_filename.replace(\".\", \"\")\n",
    "        venue_filename = venue_filename.replace(\"/\", \"\")\n",
    "        with open('data/summary/venue/exhibitions/' + venue_filename + '.json', 'w') as ex_file:\n",
    "            ex_file.write(json.dumps({\"meta\": {\"venue\": venue, \"exhibition_count\": number_dict[venue]},\"events\": events_venue[venue]}))\n",
    "\n",
    "\n",
    "    venue_index = []\n",
    "\n",
    "    for venue in number_dict:\n",
    "        venue_filename = venue.replace(\" \", \"\")\n",
    "        venue_filename = venue_filename.replace(\".\", \"\")\n",
    "        venue_filename = venue_filename.replace(\"/\", \"\")\n",
    "        venue_index.append({\"name\": venue, \"filename\": venue_filename,  \"number_exhibitions\": number_dict[venue]})\n",
    "\n",
    "    with open('data/summary/venue/exhibitions/index.json', 'w') as ex_file:\n",
    "            ex_file.write(json.dumps({\"venues\": venue_index}))\n",
    "\n",
    "    "
   ]
  },
  {
   "cell_type": "code",
   "execution_count": 10,
   "metadata": {},
   "outputs": [
    {
     "data": {
      "application/vnd.plotly.v1+json": {
       "config": {
        "plotlyServerURL": "https://plot.ly"
       },
       "data": [
        {
         "alignmentgroup": "True",
         "hovertemplate": "Venue=%{x}<br>Number of exhibitions=%{y}<extra></extra>",
         "legendgroup": "",
         "marker": {
          "color": "#636efa",
          "pattern": {
           "shape": ""
          }
         },
         "name": "",
         "offsetgroup": "",
         "orientation": "v",
         "showlegend": false,
         "textposition": "auto",
         "type": "bar",
         "x": [
          "42nd Venice Biennale",
          "44th Venice Biennale",
          "45th Venice Biennale",
          "Angel Orensanz Center",
          "Art Basel Miami Beach",
          "Bird S. Coler Hospital (now NYC Health + Hospitals/Coler)",
          "Bonwit Teller Building",
          "British Museum",
          "Calais",
          "Chelsea Hotel",
          "Country Art Gallery",
          "Danceteria",
          "Former Neptune Beverage Company, Coney Island",
          "Gorman Park Queens",
          "Grand Central Terminal",
          "Holland Tunnel",
          "Lausanne",
          "Parke-Bernet Galleries",
          "Rockefeller Guest House",
          "The Brooklyn Bridge",
          "The New York Coliseum",
          "The Public Theater",
          "The Town Hall",
          "Xenon Discotheque",
          "Manhattan",
          "City Gallery",
          "The Idea Warehouse",
          "The Museum of Modern Art",
          "Judson Memorial Church",
          "Crown Building",
          "Reuben Gallery",
          "Brata Gallery",
          "Rockefeller Center",
          "Green Gallery",
          "Hansa Gallery",
          "Tanager Gallery",
          "Clocktower Gallery",
          "MoMA PS1",
          "MoMA"
         ],
         "xaxis": "x",
         "y": [
          1,
          1,
          1,
          1,
          1,
          1,
          1,
          1,
          1,
          1,
          1,
          1,
          1,
          1,
          1,
          1,
          1,
          1,
          1,
          1,
          1,
          1,
          1,
          1,
          2,
          8,
          11,
          12,
          16,
          17,
          21,
          22,
          23,
          49,
          84,
          101,
          199,
          815,
          2383
         ],
         "yaxis": "y"
        }
       ],
       "layout": {
        "barmode": "relative",
        "legend": {
         "tracegroupgap": 0
        },
        "template": {
         "data": {
          "bar": [
           {
            "error_x": {
             "color": "#2a3f5f"
            },
            "error_y": {
             "color": "#2a3f5f"
            },
            "marker": {
             "line": {
              "color": "#E5ECF6",
              "width": 0.5
             },
             "pattern": {
              "fillmode": "overlay",
              "size": 10,
              "solidity": 0.2
             }
            },
            "type": "bar"
           }
          ],
          "barpolar": [
           {
            "marker": {
             "line": {
              "color": "#E5ECF6",
              "width": 0.5
             },
             "pattern": {
              "fillmode": "overlay",
              "size": 10,
              "solidity": 0.2
             }
            },
            "type": "barpolar"
           }
          ],
          "carpet": [
           {
            "aaxis": {
             "endlinecolor": "#2a3f5f",
             "gridcolor": "white",
             "linecolor": "white",
             "minorgridcolor": "white",
             "startlinecolor": "#2a3f5f"
            },
            "baxis": {
             "endlinecolor": "#2a3f5f",
             "gridcolor": "white",
             "linecolor": "white",
             "minorgridcolor": "white",
             "startlinecolor": "#2a3f5f"
            },
            "type": "carpet"
           }
          ],
          "choropleth": [
           {
            "colorbar": {
             "outlinewidth": 0,
             "ticks": ""
            },
            "type": "choropleth"
           }
          ],
          "contour": [
           {
            "colorbar": {
             "outlinewidth": 0,
             "ticks": ""
            },
            "colorscale": [
             [
              0,
              "#0d0887"
             ],
             [
              0.1111111111111111,
              "#46039f"
             ],
             [
              0.2222222222222222,
              "#7201a8"
             ],
             [
              0.3333333333333333,
              "#9c179e"
             ],
             [
              0.4444444444444444,
              "#bd3786"
             ],
             [
              0.5555555555555556,
              "#d8576b"
             ],
             [
              0.6666666666666666,
              "#ed7953"
             ],
             [
              0.7777777777777778,
              "#fb9f3a"
             ],
             [
              0.8888888888888888,
              "#fdca26"
             ],
             [
              1,
              "#f0f921"
             ]
            ],
            "type": "contour"
           }
          ],
          "contourcarpet": [
           {
            "colorbar": {
             "outlinewidth": 0,
             "ticks": ""
            },
            "type": "contourcarpet"
           }
          ],
          "heatmap": [
           {
            "colorbar": {
             "outlinewidth": 0,
             "ticks": ""
            },
            "colorscale": [
             [
              0,
              "#0d0887"
             ],
             [
              0.1111111111111111,
              "#46039f"
             ],
             [
              0.2222222222222222,
              "#7201a8"
             ],
             [
              0.3333333333333333,
              "#9c179e"
             ],
             [
              0.4444444444444444,
              "#bd3786"
             ],
             [
              0.5555555555555556,
              "#d8576b"
             ],
             [
              0.6666666666666666,
              "#ed7953"
             ],
             [
              0.7777777777777778,
              "#fb9f3a"
             ],
             [
              0.8888888888888888,
              "#fdca26"
             ],
             [
              1,
              "#f0f921"
             ]
            ],
            "type": "heatmap"
           }
          ],
          "heatmapgl": [
           {
            "colorbar": {
             "outlinewidth": 0,
             "ticks": ""
            },
            "colorscale": [
             [
              0,
              "#0d0887"
             ],
             [
              0.1111111111111111,
              "#46039f"
             ],
             [
              0.2222222222222222,
              "#7201a8"
             ],
             [
              0.3333333333333333,
              "#9c179e"
             ],
             [
              0.4444444444444444,
              "#bd3786"
             ],
             [
              0.5555555555555556,
              "#d8576b"
             ],
             [
              0.6666666666666666,
              "#ed7953"
             ],
             [
              0.7777777777777778,
              "#fb9f3a"
             ],
             [
              0.8888888888888888,
              "#fdca26"
             ],
             [
              1,
              "#f0f921"
             ]
            ],
            "type": "heatmapgl"
           }
          ],
          "histogram": [
           {
            "marker": {
             "pattern": {
              "fillmode": "overlay",
              "size": 10,
              "solidity": 0.2
             }
            },
            "type": "histogram"
           }
          ],
          "histogram2d": [
           {
            "colorbar": {
             "outlinewidth": 0,
             "ticks": ""
            },
            "colorscale": [
             [
              0,
              "#0d0887"
             ],
             [
              0.1111111111111111,
              "#46039f"
             ],
             [
              0.2222222222222222,
              "#7201a8"
             ],
             [
              0.3333333333333333,
              "#9c179e"
             ],
             [
              0.4444444444444444,
              "#bd3786"
             ],
             [
              0.5555555555555556,
              "#d8576b"
             ],
             [
              0.6666666666666666,
              "#ed7953"
             ],
             [
              0.7777777777777778,
              "#fb9f3a"
             ],
             [
              0.8888888888888888,
              "#fdca26"
             ],
             [
              1,
              "#f0f921"
             ]
            ],
            "type": "histogram2d"
           }
          ],
          "histogram2dcontour": [
           {
            "colorbar": {
             "outlinewidth": 0,
             "ticks": ""
            },
            "colorscale": [
             [
              0,
              "#0d0887"
             ],
             [
              0.1111111111111111,
              "#46039f"
             ],
             [
              0.2222222222222222,
              "#7201a8"
             ],
             [
              0.3333333333333333,
              "#9c179e"
             ],
             [
              0.4444444444444444,
              "#bd3786"
             ],
             [
              0.5555555555555556,
              "#d8576b"
             ],
             [
              0.6666666666666666,
              "#ed7953"
             ],
             [
              0.7777777777777778,
              "#fb9f3a"
             ],
             [
              0.8888888888888888,
              "#fdca26"
             ],
             [
              1,
              "#f0f921"
             ]
            ],
            "type": "histogram2dcontour"
           }
          ],
          "mesh3d": [
           {
            "colorbar": {
             "outlinewidth": 0,
             "ticks": ""
            },
            "type": "mesh3d"
           }
          ],
          "parcoords": [
           {
            "line": {
             "colorbar": {
              "outlinewidth": 0,
              "ticks": ""
             }
            },
            "type": "parcoords"
           }
          ],
          "pie": [
           {
            "automargin": true,
            "type": "pie"
           }
          ],
          "scatter": [
           {
            "fillpattern": {
             "fillmode": "overlay",
             "size": 10,
             "solidity": 0.2
            },
            "type": "scatter"
           }
          ],
          "scatter3d": [
           {
            "line": {
             "colorbar": {
              "outlinewidth": 0,
              "ticks": ""
             }
            },
            "marker": {
             "colorbar": {
              "outlinewidth": 0,
              "ticks": ""
             }
            },
            "type": "scatter3d"
           }
          ],
          "scattercarpet": [
           {
            "marker": {
             "colorbar": {
              "outlinewidth": 0,
              "ticks": ""
             }
            },
            "type": "scattercarpet"
           }
          ],
          "scattergeo": [
           {
            "marker": {
             "colorbar": {
              "outlinewidth": 0,
              "ticks": ""
             }
            },
            "type": "scattergeo"
           }
          ],
          "scattergl": [
           {
            "marker": {
             "colorbar": {
              "outlinewidth": 0,
              "ticks": ""
             }
            },
            "type": "scattergl"
           }
          ],
          "scattermapbox": [
           {
            "marker": {
             "colorbar": {
              "outlinewidth": 0,
              "ticks": ""
             }
            },
            "type": "scattermapbox"
           }
          ],
          "scatterpolar": [
           {
            "marker": {
             "colorbar": {
              "outlinewidth": 0,
              "ticks": ""
             }
            },
            "type": "scatterpolar"
           }
          ],
          "scatterpolargl": [
           {
            "marker": {
             "colorbar": {
              "outlinewidth": 0,
              "ticks": ""
             }
            },
            "type": "scatterpolargl"
           }
          ],
          "scatterternary": [
           {
            "marker": {
             "colorbar": {
              "outlinewidth": 0,
              "ticks": ""
             }
            },
            "type": "scatterternary"
           }
          ],
          "surface": [
           {
            "colorbar": {
             "outlinewidth": 0,
             "ticks": ""
            },
            "colorscale": [
             [
              0,
              "#0d0887"
             ],
             [
              0.1111111111111111,
              "#46039f"
             ],
             [
              0.2222222222222222,
              "#7201a8"
             ],
             [
              0.3333333333333333,
              "#9c179e"
             ],
             [
              0.4444444444444444,
              "#bd3786"
             ],
             [
              0.5555555555555556,
              "#d8576b"
             ],
             [
              0.6666666666666666,
              "#ed7953"
             ],
             [
              0.7777777777777778,
              "#fb9f3a"
             ],
             [
              0.8888888888888888,
              "#fdca26"
             ],
             [
              1,
              "#f0f921"
             ]
            ],
            "type": "surface"
           }
          ],
          "table": [
           {
            "cells": {
             "fill": {
              "color": "#EBF0F8"
             },
             "line": {
              "color": "white"
             }
            },
            "header": {
             "fill": {
              "color": "#C8D4E3"
             },
             "line": {
              "color": "white"
             }
            },
            "type": "table"
           }
          ]
         },
         "layout": {
          "annotationdefaults": {
           "arrowcolor": "#2a3f5f",
           "arrowhead": 0,
           "arrowwidth": 1
          },
          "autotypenumbers": "strict",
          "coloraxis": {
           "colorbar": {
            "outlinewidth": 0,
            "ticks": ""
           }
          },
          "colorscale": {
           "diverging": [
            [
             0,
             "#8e0152"
            ],
            [
             0.1,
             "#c51b7d"
            ],
            [
             0.2,
             "#de77ae"
            ],
            [
             0.3,
             "#f1b6da"
            ],
            [
             0.4,
             "#fde0ef"
            ],
            [
             0.5,
             "#f7f7f7"
            ],
            [
             0.6,
             "#e6f5d0"
            ],
            [
             0.7,
             "#b8e186"
            ],
            [
             0.8,
             "#7fbc41"
            ],
            [
             0.9,
             "#4d9221"
            ],
            [
             1,
             "#276419"
            ]
           ],
           "sequential": [
            [
             0,
             "#0d0887"
            ],
            [
             0.1111111111111111,
             "#46039f"
            ],
            [
             0.2222222222222222,
             "#7201a8"
            ],
            [
             0.3333333333333333,
             "#9c179e"
            ],
            [
             0.4444444444444444,
             "#bd3786"
            ],
            [
             0.5555555555555556,
             "#d8576b"
            ],
            [
             0.6666666666666666,
             "#ed7953"
            ],
            [
             0.7777777777777778,
             "#fb9f3a"
            ],
            [
             0.8888888888888888,
             "#fdca26"
            ],
            [
             1,
             "#f0f921"
            ]
           ],
           "sequentialminus": [
            [
             0,
             "#0d0887"
            ],
            [
             0.1111111111111111,
             "#46039f"
            ],
            [
             0.2222222222222222,
             "#7201a8"
            ],
            [
             0.3333333333333333,
             "#9c179e"
            ],
            [
             0.4444444444444444,
             "#bd3786"
            ],
            [
             0.5555555555555556,
             "#d8576b"
            ],
            [
             0.6666666666666666,
             "#ed7953"
            ],
            [
             0.7777777777777778,
             "#fb9f3a"
            ],
            [
             0.8888888888888888,
             "#fdca26"
            ],
            [
             1,
             "#f0f921"
            ]
           ]
          },
          "colorway": [
           "#636efa",
           "#EF553B",
           "#00cc96",
           "#ab63fa",
           "#FFA15A",
           "#19d3f3",
           "#FF6692",
           "#B6E880",
           "#FF97FF",
           "#FECB52"
          ],
          "font": {
           "color": "#2a3f5f"
          },
          "geo": {
           "bgcolor": "white",
           "lakecolor": "white",
           "landcolor": "#E5ECF6",
           "showlakes": true,
           "showland": true,
           "subunitcolor": "white"
          },
          "hoverlabel": {
           "align": "left"
          },
          "hovermode": "closest",
          "mapbox": {
           "style": "light"
          },
          "paper_bgcolor": "white",
          "plot_bgcolor": "#E5ECF6",
          "polar": {
           "angularaxis": {
            "gridcolor": "white",
            "linecolor": "white",
            "ticks": ""
           },
           "bgcolor": "#E5ECF6",
           "radialaxis": {
            "gridcolor": "white",
            "linecolor": "white",
            "ticks": ""
           }
          },
          "scene": {
           "xaxis": {
            "backgroundcolor": "#E5ECF6",
            "gridcolor": "white",
            "gridwidth": 2,
            "linecolor": "white",
            "showbackground": true,
            "ticks": "",
            "zerolinecolor": "white"
           },
           "yaxis": {
            "backgroundcolor": "#E5ECF6",
            "gridcolor": "white",
            "gridwidth": 2,
            "linecolor": "white",
            "showbackground": true,
            "ticks": "",
            "zerolinecolor": "white"
           },
           "zaxis": {
            "backgroundcolor": "#E5ECF6",
            "gridcolor": "white",
            "gridwidth": 2,
            "linecolor": "white",
            "showbackground": true,
            "ticks": "",
            "zerolinecolor": "white"
           }
          },
          "shapedefaults": {
           "line": {
            "color": "#2a3f5f"
           }
          },
          "ternary": {
           "aaxis": {
            "gridcolor": "white",
            "linecolor": "white",
            "ticks": ""
           },
           "baxis": {
            "gridcolor": "white",
            "linecolor": "white",
            "ticks": ""
           },
           "bgcolor": "#E5ECF6",
           "caxis": {
            "gridcolor": "white",
            "linecolor": "white",
            "ticks": ""
           }
          },
          "title": {
           "x": 0.05
          },
          "xaxis": {
           "automargin": true,
           "gridcolor": "white",
           "linecolor": "white",
           "ticks": "",
           "title": {
            "standoff": 15
           },
           "zerolinecolor": "white",
           "zerolinewidth": 2
          },
          "yaxis": {
           "automargin": true,
           "gridcolor": "white",
           "linecolor": "white",
           "ticks": "",
           "title": {
            "standoff": 15
           },
           "zerolinecolor": "white",
           "zerolinewidth": 2
          }
         }
        },
        "title": {
         "text": "Number of exhibitions by venue"
        },
        "xaxis": {
         "anchor": "y",
         "domain": [
          0,
          1
         ],
         "title": {
          "text": "Venue"
         }
        },
        "yaxis": {
         "anchor": "x",
         "domain": [
          0,
          1
         ],
         "title": {
          "text": "Number of exhibitions"
         }
        }
       }
      }
     },
     "metadata": {},
     "output_type": "display_data"
    }
   ],
   "source": [
    "x_values = number_dict.keys()\n",
    "y_values = number_dict.values()\n",
    "\n",
    "fig = px.bar(x=x_values, y=y_values, \n",
    "labels={\"x\": \"Venue\", \"y\": \"Number of exhibitions\"},\n",
    "title=\"Number of exhibitions by venue\"\n",
    ")\n",
    "fig.show()"
   ]
  },
  {
   "cell_type": "code",
   "execution_count": 11,
   "metadata": {},
   "outputs": [],
   "source": [
    "if \"MoMA\" in number_dict:\n",
    "    del number_dict[\"MoMA\"]\n",
    "if \"MoMA PS1\" in number_dict:\n",
    "    del number_dict[\"MoMA PS1\"]"
   ]
  },
  {
   "cell_type": "code",
   "execution_count": 12,
   "metadata": {},
   "outputs": [
    {
     "data": {
      "application/vnd.plotly.v1+json": {
       "config": {
        "plotlyServerURL": "https://plot.ly"
       },
       "data": [
        {
         "alignmentgroup": "True",
         "hovertemplate": "Venue=%{x}<br>Number of exhibitions=%{y}<extra></extra>",
         "legendgroup": "",
         "marker": {
          "color": "#636efa",
          "pattern": {
           "shape": ""
          }
         },
         "name": "",
         "offsetgroup": "",
         "orientation": "v",
         "showlegend": false,
         "textposition": "auto",
         "type": "bar",
         "x": [
          "42nd Venice Biennale",
          "44th Venice Biennale",
          "45th Venice Biennale",
          "Angel Orensanz Center",
          "Art Basel Miami Beach",
          "Bird S. Coler Hospital (now NYC Health + Hospitals/Coler)",
          "Bonwit Teller Building",
          "British Museum",
          "Calais",
          "Chelsea Hotel",
          "Country Art Gallery",
          "Danceteria",
          "Former Neptune Beverage Company, Coney Island",
          "Gorman Park Queens",
          "Grand Central Terminal",
          "Holland Tunnel",
          "Lausanne",
          "Parke-Bernet Galleries",
          "Rockefeller Guest House",
          "The Brooklyn Bridge",
          "The New York Coliseum",
          "The Public Theater",
          "The Town Hall",
          "Xenon Discotheque",
          "Manhattan",
          "City Gallery",
          "The Idea Warehouse",
          "The Museum of Modern Art",
          "Judson Memorial Church",
          "Crown Building",
          "Reuben Gallery",
          "Brata Gallery",
          "Rockefeller Center",
          "Green Gallery",
          "Hansa Gallery",
          "Tanager Gallery",
          "Clocktower Gallery"
         ],
         "xaxis": "x",
         "y": [
          1,
          1,
          1,
          1,
          1,
          1,
          1,
          1,
          1,
          1,
          1,
          1,
          1,
          1,
          1,
          1,
          1,
          1,
          1,
          1,
          1,
          1,
          1,
          1,
          2,
          8,
          11,
          12,
          16,
          17,
          21,
          22,
          23,
          49,
          84,
          101,
          199
         ],
         "yaxis": "y"
        }
       ],
       "layout": {
        "barmode": "relative",
        "legend": {
         "tracegroupgap": 0
        },
        "template": {
         "data": {
          "bar": [
           {
            "error_x": {
             "color": "#2a3f5f"
            },
            "error_y": {
             "color": "#2a3f5f"
            },
            "marker": {
             "line": {
              "color": "#E5ECF6",
              "width": 0.5
             },
             "pattern": {
              "fillmode": "overlay",
              "size": 10,
              "solidity": 0.2
             }
            },
            "type": "bar"
           }
          ],
          "barpolar": [
           {
            "marker": {
             "line": {
              "color": "#E5ECF6",
              "width": 0.5
             },
             "pattern": {
              "fillmode": "overlay",
              "size": 10,
              "solidity": 0.2
             }
            },
            "type": "barpolar"
           }
          ],
          "carpet": [
           {
            "aaxis": {
             "endlinecolor": "#2a3f5f",
             "gridcolor": "white",
             "linecolor": "white",
             "minorgridcolor": "white",
             "startlinecolor": "#2a3f5f"
            },
            "baxis": {
             "endlinecolor": "#2a3f5f",
             "gridcolor": "white",
             "linecolor": "white",
             "minorgridcolor": "white",
             "startlinecolor": "#2a3f5f"
            },
            "type": "carpet"
           }
          ],
          "choropleth": [
           {
            "colorbar": {
             "outlinewidth": 0,
             "ticks": ""
            },
            "type": "choropleth"
           }
          ],
          "contour": [
           {
            "colorbar": {
             "outlinewidth": 0,
             "ticks": ""
            },
            "colorscale": [
             [
              0,
              "#0d0887"
             ],
             [
              0.1111111111111111,
              "#46039f"
             ],
             [
              0.2222222222222222,
              "#7201a8"
             ],
             [
              0.3333333333333333,
              "#9c179e"
             ],
             [
              0.4444444444444444,
              "#bd3786"
             ],
             [
              0.5555555555555556,
              "#d8576b"
             ],
             [
              0.6666666666666666,
              "#ed7953"
             ],
             [
              0.7777777777777778,
              "#fb9f3a"
             ],
             [
              0.8888888888888888,
              "#fdca26"
             ],
             [
              1,
              "#f0f921"
             ]
            ],
            "type": "contour"
           }
          ],
          "contourcarpet": [
           {
            "colorbar": {
             "outlinewidth": 0,
             "ticks": ""
            },
            "type": "contourcarpet"
           }
          ],
          "heatmap": [
           {
            "colorbar": {
             "outlinewidth": 0,
             "ticks": ""
            },
            "colorscale": [
             [
              0,
              "#0d0887"
             ],
             [
              0.1111111111111111,
              "#46039f"
             ],
             [
              0.2222222222222222,
              "#7201a8"
             ],
             [
              0.3333333333333333,
              "#9c179e"
             ],
             [
              0.4444444444444444,
              "#bd3786"
             ],
             [
              0.5555555555555556,
              "#d8576b"
             ],
             [
              0.6666666666666666,
              "#ed7953"
             ],
             [
              0.7777777777777778,
              "#fb9f3a"
             ],
             [
              0.8888888888888888,
              "#fdca26"
             ],
             [
              1,
              "#f0f921"
             ]
            ],
            "type": "heatmap"
           }
          ],
          "heatmapgl": [
           {
            "colorbar": {
             "outlinewidth": 0,
             "ticks": ""
            },
            "colorscale": [
             [
              0,
              "#0d0887"
             ],
             [
              0.1111111111111111,
              "#46039f"
             ],
             [
              0.2222222222222222,
              "#7201a8"
             ],
             [
              0.3333333333333333,
              "#9c179e"
             ],
             [
              0.4444444444444444,
              "#bd3786"
             ],
             [
              0.5555555555555556,
              "#d8576b"
             ],
             [
              0.6666666666666666,
              "#ed7953"
             ],
             [
              0.7777777777777778,
              "#fb9f3a"
             ],
             [
              0.8888888888888888,
              "#fdca26"
             ],
             [
              1,
              "#f0f921"
             ]
            ],
            "type": "heatmapgl"
           }
          ],
          "histogram": [
           {
            "marker": {
             "pattern": {
              "fillmode": "overlay",
              "size": 10,
              "solidity": 0.2
             }
            },
            "type": "histogram"
           }
          ],
          "histogram2d": [
           {
            "colorbar": {
             "outlinewidth": 0,
             "ticks": ""
            },
            "colorscale": [
             [
              0,
              "#0d0887"
             ],
             [
              0.1111111111111111,
              "#46039f"
             ],
             [
              0.2222222222222222,
              "#7201a8"
             ],
             [
              0.3333333333333333,
              "#9c179e"
             ],
             [
              0.4444444444444444,
              "#bd3786"
             ],
             [
              0.5555555555555556,
              "#d8576b"
             ],
             [
              0.6666666666666666,
              "#ed7953"
             ],
             [
              0.7777777777777778,
              "#fb9f3a"
             ],
             [
              0.8888888888888888,
              "#fdca26"
             ],
             [
              1,
              "#f0f921"
             ]
            ],
            "type": "histogram2d"
           }
          ],
          "histogram2dcontour": [
           {
            "colorbar": {
             "outlinewidth": 0,
             "ticks": ""
            },
            "colorscale": [
             [
              0,
              "#0d0887"
             ],
             [
              0.1111111111111111,
              "#46039f"
             ],
             [
              0.2222222222222222,
              "#7201a8"
             ],
             [
              0.3333333333333333,
              "#9c179e"
             ],
             [
              0.4444444444444444,
              "#bd3786"
             ],
             [
              0.5555555555555556,
              "#d8576b"
             ],
             [
              0.6666666666666666,
              "#ed7953"
             ],
             [
              0.7777777777777778,
              "#fb9f3a"
             ],
             [
              0.8888888888888888,
              "#fdca26"
             ],
             [
              1,
              "#f0f921"
             ]
            ],
            "type": "histogram2dcontour"
           }
          ],
          "mesh3d": [
           {
            "colorbar": {
             "outlinewidth": 0,
             "ticks": ""
            },
            "type": "mesh3d"
           }
          ],
          "parcoords": [
           {
            "line": {
             "colorbar": {
              "outlinewidth": 0,
              "ticks": ""
             }
            },
            "type": "parcoords"
           }
          ],
          "pie": [
           {
            "automargin": true,
            "type": "pie"
           }
          ],
          "scatter": [
           {
            "fillpattern": {
             "fillmode": "overlay",
             "size": 10,
             "solidity": 0.2
            },
            "type": "scatter"
           }
          ],
          "scatter3d": [
           {
            "line": {
             "colorbar": {
              "outlinewidth": 0,
              "ticks": ""
             }
            },
            "marker": {
             "colorbar": {
              "outlinewidth": 0,
              "ticks": ""
             }
            },
            "type": "scatter3d"
           }
          ],
          "scattercarpet": [
           {
            "marker": {
             "colorbar": {
              "outlinewidth": 0,
              "ticks": ""
             }
            },
            "type": "scattercarpet"
           }
          ],
          "scattergeo": [
           {
            "marker": {
             "colorbar": {
              "outlinewidth": 0,
              "ticks": ""
             }
            },
            "type": "scattergeo"
           }
          ],
          "scattergl": [
           {
            "marker": {
             "colorbar": {
              "outlinewidth": 0,
              "ticks": ""
             }
            },
            "type": "scattergl"
           }
          ],
          "scattermapbox": [
           {
            "marker": {
             "colorbar": {
              "outlinewidth": 0,
              "ticks": ""
             }
            },
            "type": "scattermapbox"
           }
          ],
          "scatterpolar": [
           {
            "marker": {
             "colorbar": {
              "outlinewidth": 0,
              "ticks": ""
             }
            },
            "type": "scatterpolar"
           }
          ],
          "scatterpolargl": [
           {
            "marker": {
             "colorbar": {
              "outlinewidth": 0,
              "ticks": ""
             }
            },
            "type": "scatterpolargl"
           }
          ],
          "scatterternary": [
           {
            "marker": {
             "colorbar": {
              "outlinewidth": 0,
              "ticks": ""
             }
            },
            "type": "scatterternary"
           }
          ],
          "surface": [
           {
            "colorbar": {
             "outlinewidth": 0,
             "ticks": ""
            },
            "colorscale": [
             [
              0,
              "#0d0887"
             ],
             [
              0.1111111111111111,
              "#46039f"
             ],
             [
              0.2222222222222222,
              "#7201a8"
             ],
             [
              0.3333333333333333,
              "#9c179e"
             ],
             [
              0.4444444444444444,
              "#bd3786"
             ],
             [
              0.5555555555555556,
              "#d8576b"
             ],
             [
              0.6666666666666666,
              "#ed7953"
             ],
             [
              0.7777777777777778,
              "#fb9f3a"
             ],
             [
              0.8888888888888888,
              "#fdca26"
             ],
             [
              1,
              "#f0f921"
             ]
            ],
            "type": "surface"
           }
          ],
          "table": [
           {
            "cells": {
             "fill": {
              "color": "#EBF0F8"
             },
             "line": {
              "color": "white"
             }
            },
            "header": {
             "fill": {
              "color": "#C8D4E3"
             },
             "line": {
              "color": "white"
             }
            },
            "type": "table"
           }
          ]
         },
         "layout": {
          "annotationdefaults": {
           "arrowcolor": "#2a3f5f",
           "arrowhead": 0,
           "arrowwidth": 1
          },
          "autotypenumbers": "strict",
          "coloraxis": {
           "colorbar": {
            "outlinewidth": 0,
            "ticks": ""
           }
          },
          "colorscale": {
           "diverging": [
            [
             0,
             "#8e0152"
            ],
            [
             0.1,
             "#c51b7d"
            ],
            [
             0.2,
             "#de77ae"
            ],
            [
             0.3,
             "#f1b6da"
            ],
            [
             0.4,
             "#fde0ef"
            ],
            [
             0.5,
             "#f7f7f7"
            ],
            [
             0.6,
             "#e6f5d0"
            ],
            [
             0.7,
             "#b8e186"
            ],
            [
             0.8,
             "#7fbc41"
            ],
            [
             0.9,
             "#4d9221"
            ],
            [
             1,
             "#276419"
            ]
           ],
           "sequential": [
            [
             0,
             "#0d0887"
            ],
            [
             0.1111111111111111,
             "#46039f"
            ],
            [
             0.2222222222222222,
             "#7201a8"
            ],
            [
             0.3333333333333333,
             "#9c179e"
            ],
            [
             0.4444444444444444,
             "#bd3786"
            ],
            [
             0.5555555555555556,
             "#d8576b"
            ],
            [
             0.6666666666666666,
             "#ed7953"
            ],
            [
             0.7777777777777778,
             "#fb9f3a"
            ],
            [
             0.8888888888888888,
             "#fdca26"
            ],
            [
             1,
             "#f0f921"
            ]
           ],
           "sequentialminus": [
            [
             0,
             "#0d0887"
            ],
            [
             0.1111111111111111,
             "#46039f"
            ],
            [
             0.2222222222222222,
             "#7201a8"
            ],
            [
             0.3333333333333333,
             "#9c179e"
            ],
            [
             0.4444444444444444,
             "#bd3786"
            ],
            [
             0.5555555555555556,
             "#d8576b"
            ],
            [
             0.6666666666666666,
             "#ed7953"
            ],
            [
             0.7777777777777778,
             "#fb9f3a"
            ],
            [
             0.8888888888888888,
             "#fdca26"
            ],
            [
             1,
             "#f0f921"
            ]
           ]
          },
          "colorway": [
           "#636efa",
           "#EF553B",
           "#00cc96",
           "#ab63fa",
           "#FFA15A",
           "#19d3f3",
           "#FF6692",
           "#B6E880",
           "#FF97FF",
           "#FECB52"
          ],
          "font": {
           "color": "#2a3f5f"
          },
          "geo": {
           "bgcolor": "white",
           "lakecolor": "white",
           "landcolor": "#E5ECF6",
           "showlakes": true,
           "showland": true,
           "subunitcolor": "white"
          },
          "hoverlabel": {
           "align": "left"
          },
          "hovermode": "closest",
          "mapbox": {
           "style": "light"
          },
          "paper_bgcolor": "white",
          "plot_bgcolor": "#E5ECF6",
          "polar": {
           "angularaxis": {
            "gridcolor": "white",
            "linecolor": "white",
            "ticks": ""
           },
           "bgcolor": "#E5ECF6",
           "radialaxis": {
            "gridcolor": "white",
            "linecolor": "white",
            "ticks": ""
           }
          },
          "scene": {
           "xaxis": {
            "backgroundcolor": "#E5ECF6",
            "gridcolor": "white",
            "gridwidth": 2,
            "linecolor": "white",
            "showbackground": true,
            "ticks": "",
            "zerolinecolor": "white"
           },
           "yaxis": {
            "backgroundcolor": "#E5ECF6",
            "gridcolor": "white",
            "gridwidth": 2,
            "linecolor": "white",
            "showbackground": true,
            "ticks": "",
            "zerolinecolor": "white"
           },
           "zaxis": {
            "backgroundcolor": "#E5ECF6",
            "gridcolor": "white",
            "gridwidth": 2,
            "linecolor": "white",
            "showbackground": true,
            "ticks": "",
            "zerolinecolor": "white"
           }
          },
          "shapedefaults": {
           "line": {
            "color": "#2a3f5f"
           }
          },
          "ternary": {
           "aaxis": {
            "gridcolor": "white",
            "linecolor": "white",
            "ticks": ""
           },
           "baxis": {
            "gridcolor": "white",
            "linecolor": "white",
            "ticks": ""
           },
           "bgcolor": "#E5ECF6",
           "caxis": {
            "gridcolor": "white",
            "linecolor": "white",
            "ticks": ""
           }
          },
          "title": {
           "x": 0.05
          },
          "xaxis": {
           "automargin": true,
           "gridcolor": "white",
           "linecolor": "white",
           "ticks": "",
           "title": {
            "standoff": 15
           },
           "zerolinecolor": "white",
           "zerolinewidth": 2
          },
          "yaxis": {
           "automargin": true,
           "gridcolor": "white",
           "linecolor": "white",
           "ticks": "",
           "title": {
            "standoff": 15
           },
           "zerolinecolor": "white",
           "zerolinewidth": 2
          }
         }
        },
        "title": {
         "text": "Number of exhibitions by venue"
        },
        "xaxis": {
         "anchor": "y",
         "domain": [
          0,
          1
         ],
         "title": {
          "text": "Venue"
         }
        },
        "yaxis": {
         "anchor": "x",
         "domain": [
          0,
          1
         ],
         "title": {
          "text": "Number of exhibitions"
         }
        }
       }
      }
     },
     "metadata": {},
     "output_type": "display_data"
    }
   ],
   "source": [
    "x_values = number_dict.keys()\n",
    "y_values = number_dict.values()\n",
    "\n",
    "fig = px.bar(x=x_values, y=y_values, \n",
    "labels={\"x\": \"Venue\", \"y\": \"Number of exhibitions\"},\n",
    "title=\"Number of exhibitions by venue\"\n",
    ")\n",
    "fig.show()"
   ]
  },
  {
   "cell_type": "markdown",
   "metadata": {},
   "source": [
    "# Number of artists per Nationality"
   ]
  },
  {
   "cell_type": "code",
   "execution_count": 13,
   "metadata": {},
   "outputs": [
    {
     "name": "stdout",
     "output_type": "stream",
     "text": [
      "{'Greek': 2, 'Egyptian': 3, 'Indian': 3, 'Norwegian': 4, 'Belgian': 4, 'Portuguese': 4, 'Irish': 4, 'Australian': 5, 'Hungarian': 9, 'Chinese': 9, 'Mexican': 11, 'Austrian': 13, None: 13, 'Danish': 14, 'Polish': 14, 'Czech': 14, 'Swiss': 17, 'Swedish': 19, 'Spanish': 20, 'Canadian': 21, 'Dutch': 22, 'Russian': 22, 'Italian': 34, 'Japanese': 39, 'French': 76, 'British': 83, 'German': 99, 'Female': 1610, 'Male': 7145}\n"
     ]
    }
   ],
   "source": [
    "filepath = \"api\"\n",
    "filename = \"persons_all.json\"\n",
    "\n",
    "with open(os.path.join(filepath, filename), 'r') as json_file:\n",
    "    \n",
    "    number_dict = {}\n",
    "\n",
    "    data = json.load(json_file)\n",
    "    for event in data.get(\"persons\"):\n",
    "\n",
    "        if \"nationality\" in event:\n",
    "            nat = event.get(\"nationality\")\n",
    "\n",
    "            if nat == \"\":\n",
    "                continue\n",
    "            if nat == \"American\":\n",
    "                continue\n",
    "            if nat in number_dict:\n",
    "                number_dict[nat] += 1\n",
    "            else:\n",
    "                number_dict[nat] = 1\n",
    "        \n",
    "    number_dict = dict(sorted(number_dict.items(), key=lambda item: item[1]))\n",
    "\n",
    "    # sort by number\n",
    "    \n",
    "    print(number_dict)"
   ]
  },
  {
   "cell_type": "code",
   "execution_count": 14,
   "metadata": {},
   "outputs": [
    {
     "data": {
      "application/vnd.plotly.v1+json": {
       "config": {
        "plotlyServerURL": "https://plot.ly"
       },
       "data": [
        {
         "alignmentgroup": "True",
         "hovertemplate": "Nationality=%{x}<br>Number of people=%{y}<extra></extra>",
         "legendgroup": "",
         "marker": {
          "color": "#636efa",
          "pattern": {
           "shape": ""
          }
         },
         "name": "",
         "offsetgroup": "",
         "orientation": "v",
         "showlegend": false,
         "textposition": "auto",
         "type": "bar",
         "x": [
          "Greek",
          "Egyptian",
          "Indian",
          "Norwegian",
          "Belgian",
          "Portuguese",
          "Irish",
          "Australian",
          "Hungarian",
          "Chinese",
          "Mexican",
          "Austrian",
          null,
          "Danish",
          "Polish",
          "Czech",
          "Swiss",
          "Swedish",
          "Spanish",
          "Canadian",
          "Dutch",
          "Russian",
          "Italian",
          "Japanese",
          "French",
          "British",
          "German",
          "Female",
          "Male"
         ],
         "xaxis": "x",
         "y": [
          2,
          3,
          3,
          4,
          4,
          4,
          4,
          5,
          9,
          9,
          11,
          13,
          13,
          14,
          14,
          14,
          17,
          19,
          20,
          21,
          22,
          22,
          34,
          39,
          76,
          83,
          99,
          1610,
          7145
         ],
         "yaxis": "y"
        }
       ],
       "layout": {
        "barmode": "relative",
        "legend": {
         "tracegroupgap": 0
        },
        "template": {
         "data": {
          "bar": [
           {
            "error_x": {
             "color": "#2a3f5f"
            },
            "error_y": {
             "color": "#2a3f5f"
            },
            "marker": {
             "line": {
              "color": "#E5ECF6",
              "width": 0.5
             },
             "pattern": {
              "fillmode": "overlay",
              "size": 10,
              "solidity": 0.2
             }
            },
            "type": "bar"
           }
          ],
          "barpolar": [
           {
            "marker": {
             "line": {
              "color": "#E5ECF6",
              "width": 0.5
             },
             "pattern": {
              "fillmode": "overlay",
              "size": 10,
              "solidity": 0.2
             }
            },
            "type": "barpolar"
           }
          ],
          "carpet": [
           {
            "aaxis": {
             "endlinecolor": "#2a3f5f",
             "gridcolor": "white",
             "linecolor": "white",
             "minorgridcolor": "white",
             "startlinecolor": "#2a3f5f"
            },
            "baxis": {
             "endlinecolor": "#2a3f5f",
             "gridcolor": "white",
             "linecolor": "white",
             "minorgridcolor": "white",
             "startlinecolor": "#2a3f5f"
            },
            "type": "carpet"
           }
          ],
          "choropleth": [
           {
            "colorbar": {
             "outlinewidth": 0,
             "ticks": ""
            },
            "type": "choropleth"
           }
          ],
          "contour": [
           {
            "colorbar": {
             "outlinewidth": 0,
             "ticks": ""
            },
            "colorscale": [
             [
              0,
              "#0d0887"
             ],
             [
              0.1111111111111111,
              "#46039f"
             ],
             [
              0.2222222222222222,
              "#7201a8"
             ],
             [
              0.3333333333333333,
              "#9c179e"
             ],
             [
              0.4444444444444444,
              "#bd3786"
             ],
             [
              0.5555555555555556,
              "#d8576b"
             ],
             [
              0.6666666666666666,
              "#ed7953"
             ],
             [
              0.7777777777777778,
              "#fb9f3a"
             ],
             [
              0.8888888888888888,
              "#fdca26"
             ],
             [
              1,
              "#f0f921"
             ]
            ],
            "type": "contour"
           }
          ],
          "contourcarpet": [
           {
            "colorbar": {
             "outlinewidth": 0,
             "ticks": ""
            },
            "type": "contourcarpet"
           }
          ],
          "heatmap": [
           {
            "colorbar": {
             "outlinewidth": 0,
             "ticks": ""
            },
            "colorscale": [
             [
              0,
              "#0d0887"
             ],
             [
              0.1111111111111111,
              "#46039f"
             ],
             [
              0.2222222222222222,
              "#7201a8"
             ],
             [
              0.3333333333333333,
              "#9c179e"
             ],
             [
              0.4444444444444444,
              "#bd3786"
             ],
             [
              0.5555555555555556,
              "#d8576b"
             ],
             [
              0.6666666666666666,
              "#ed7953"
             ],
             [
              0.7777777777777778,
              "#fb9f3a"
             ],
             [
              0.8888888888888888,
              "#fdca26"
             ],
             [
              1,
              "#f0f921"
             ]
            ],
            "type": "heatmap"
           }
          ],
          "heatmapgl": [
           {
            "colorbar": {
             "outlinewidth": 0,
             "ticks": ""
            },
            "colorscale": [
             [
              0,
              "#0d0887"
             ],
             [
              0.1111111111111111,
              "#46039f"
             ],
             [
              0.2222222222222222,
              "#7201a8"
             ],
             [
              0.3333333333333333,
              "#9c179e"
             ],
             [
              0.4444444444444444,
              "#bd3786"
             ],
             [
              0.5555555555555556,
              "#d8576b"
             ],
             [
              0.6666666666666666,
              "#ed7953"
             ],
             [
              0.7777777777777778,
              "#fb9f3a"
             ],
             [
              0.8888888888888888,
              "#fdca26"
             ],
             [
              1,
              "#f0f921"
             ]
            ],
            "type": "heatmapgl"
           }
          ],
          "histogram": [
           {
            "marker": {
             "pattern": {
              "fillmode": "overlay",
              "size": 10,
              "solidity": 0.2
             }
            },
            "type": "histogram"
           }
          ],
          "histogram2d": [
           {
            "colorbar": {
             "outlinewidth": 0,
             "ticks": ""
            },
            "colorscale": [
             [
              0,
              "#0d0887"
             ],
             [
              0.1111111111111111,
              "#46039f"
             ],
             [
              0.2222222222222222,
              "#7201a8"
             ],
             [
              0.3333333333333333,
              "#9c179e"
             ],
             [
              0.4444444444444444,
              "#bd3786"
             ],
             [
              0.5555555555555556,
              "#d8576b"
             ],
             [
              0.6666666666666666,
              "#ed7953"
             ],
             [
              0.7777777777777778,
              "#fb9f3a"
             ],
             [
              0.8888888888888888,
              "#fdca26"
             ],
             [
              1,
              "#f0f921"
             ]
            ],
            "type": "histogram2d"
           }
          ],
          "histogram2dcontour": [
           {
            "colorbar": {
             "outlinewidth": 0,
             "ticks": ""
            },
            "colorscale": [
             [
              0,
              "#0d0887"
             ],
             [
              0.1111111111111111,
              "#46039f"
             ],
             [
              0.2222222222222222,
              "#7201a8"
             ],
             [
              0.3333333333333333,
              "#9c179e"
             ],
             [
              0.4444444444444444,
              "#bd3786"
             ],
             [
              0.5555555555555556,
              "#d8576b"
             ],
             [
              0.6666666666666666,
              "#ed7953"
             ],
             [
              0.7777777777777778,
              "#fb9f3a"
             ],
             [
              0.8888888888888888,
              "#fdca26"
             ],
             [
              1,
              "#f0f921"
             ]
            ],
            "type": "histogram2dcontour"
           }
          ],
          "mesh3d": [
           {
            "colorbar": {
             "outlinewidth": 0,
             "ticks": ""
            },
            "type": "mesh3d"
           }
          ],
          "parcoords": [
           {
            "line": {
             "colorbar": {
              "outlinewidth": 0,
              "ticks": ""
             }
            },
            "type": "parcoords"
           }
          ],
          "pie": [
           {
            "automargin": true,
            "type": "pie"
           }
          ],
          "scatter": [
           {
            "fillpattern": {
             "fillmode": "overlay",
             "size": 10,
             "solidity": 0.2
            },
            "type": "scatter"
           }
          ],
          "scatter3d": [
           {
            "line": {
             "colorbar": {
              "outlinewidth": 0,
              "ticks": ""
             }
            },
            "marker": {
             "colorbar": {
              "outlinewidth": 0,
              "ticks": ""
             }
            },
            "type": "scatter3d"
           }
          ],
          "scattercarpet": [
           {
            "marker": {
             "colorbar": {
              "outlinewidth": 0,
              "ticks": ""
             }
            },
            "type": "scattercarpet"
           }
          ],
          "scattergeo": [
           {
            "marker": {
             "colorbar": {
              "outlinewidth": 0,
              "ticks": ""
             }
            },
            "type": "scattergeo"
           }
          ],
          "scattergl": [
           {
            "marker": {
             "colorbar": {
              "outlinewidth": 0,
              "ticks": ""
             }
            },
            "type": "scattergl"
           }
          ],
          "scattermapbox": [
           {
            "marker": {
             "colorbar": {
              "outlinewidth": 0,
              "ticks": ""
             }
            },
            "type": "scattermapbox"
           }
          ],
          "scatterpolar": [
           {
            "marker": {
             "colorbar": {
              "outlinewidth": 0,
              "ticks": ""
             }
            },
            "type": "scatterpolar"
           }
          ],
          "scatterpolargl": [
           {
            "marker": {
             "colorbar": {
              "outlinewidth": 0,
              "ticks": ""
             }
            },
            "type": "scatterpolargl"
           }
          ],
          "scatterternary": [
           {
            "marker": {
             "colorbar": {
              "outlinewidth": 0,
              "ticks": ""
             }
            },
            "type": "scatterternary"
           }
          ],
          "surface": [
           {
            "colorbar": {
             "outlinewidth": 0,
             "ticks": ""
            },
            "colorscale": [
             [
              0,
              "#0d0887"
             ],
             [
              0.1111111111111111,
              "#46039f"
             ],
             [
              0.2222222222222222,
              "#7201a8"
             ],
             [
              0.3333333333333333,
              "#9c179e"
             ],
             [
              0.4444444444444444,
              "#bd3786"
             ],
             [
              0.5555555555555556,
              "#d8576b"
             ],
             [
              0.6666666666666666,
              "#ed7953"
             ],
             [
              0.7777777777777778,
              "#fb9f3a"
             ],
             [
              0.8888888888888888,
              "#fdca26"
             ],
             [
              1,
              "#f0f921"
             ]
            ],
            "type": "surface"
           }
          ],
          "table": [
           {
            "cells": {
             "fill": {
              "color": "#EBF0F8"
             },
             "line": {
              "color": "white"
             }
            },
            "header": {
             "fill": {
              "color": "#C8D4E3"
             },
             "line": {
              "color": "white"
             }
            },
            "type": "table"
           }
          ]
         },
         "layout": {
          "annotationdefaults": {
           "arrowcolor": "#2a3f5f",
           "arrowhead": 0,
           "arrowwidth": 1
          },
          "autotypenumbers": "strict",
          "coloraxis": {
           "colorbar": {
            "outlinewidth": 0,
            "ticks": ""
           }
          },
          "colorscale": {
           "diverging": [
            [
             0,
             "#8e0152"
            ],
            [
             0.1,
             "#c51b7d"
            ],
            [
             0.2,
             "#de77ae"
            ],
            [
             0.3,
             "#f1b6da"
            ],
            [
             0.4,
             "#fde0ef"
            ],
            [
             0.5,
             "#f7f7f7"
            ],
            [
             0.6,
             "#e6f5d0"
            ],
            [
             0.7,
             "#b8e186"
            ],
            [
             0.8,
             "#7fbc41"
            ],
            [
             0.9,
             "#4d9221"
            ],
            [
             1,
             "#276419"
            ]
           ],
           "sequential": [
            [
             0,
             "#0d0887"
            ],
            [
             0.1111111111111111,
             "#46039f"
            ],
            [
             0.2222222222222222,
             "#7201a8"
            ],
            [
             0.3333333333333333,
             "#9c179e"
            ],
            [
             0.4444444444444444,
             "#bd3786"
            ],
            [
             0.5555555555555556,
             "#d8576b"
            ],
            [
             0.6666666666666666,
             "#ed7953"
            ],
            [
             0.7777777777777778,
             "#fb9f3a"
            ],
            [
             0.8888888888888888,
             "#fdca26"
            ],
            [
             1,
             "#f0f921"
            ]
           ],
           "sequentialminus": [
            [
             0,
             "#0d0887"
            ],
            [
             0.1111111111111111,
             "#46039f"
            ],
            [
             0.2222222222222222,
             "#7201a8"
            ],
            [
             0.3333333333333333,
             "#9c179e"
            ],
            [
             0.4444444444444444,
             "#bd3786"
            ],
            [
             0.5555555555555556,
             "#d8576b"
            ],
            [
             0.6666666666666666,
             "#ed7953"
            ],
            [
             0.7777777777777778,
             "#fb9f3a"
            ],
            [
             0.8888888888888888,
             "#fdca26"
            ],
            [
             1,
             "#f0f921"
            ]
           ]
          },
          "colorway": [
           "#636efa",
           "#EF553B",
           "#00cc96",
           "#ab63fa",
           "#FFA15A",
           "#19d3f3",
           "#FF6692",
           "#B6E880",
           "#FF97FF",
           "#FECB52"
          ],
          "font": {
           "color": "#2a3f5f"
          },
          "geo": {
           "bgcolor": "white",
           "lakecolor": "white",
           "landcolor": "#E5ECF6",
           "showlakes": true,
           "showland": true,
           "subunitcolor": "white"
          },
          "hoverlabel": {
           "align": "left"
          },
          "hovermode": "closest",
          "mapbox": {
           "style": "light"
          },
          "paper_bgcolor": "white",
          "plot_bgcolor": "#E5ECF6",
          "polar": {
           "angularaxis": {
            "gridcolor": "white",
            "linecolor": "white",
            "ticks": ""
           },
           "bgcolor": "#E5ECF6",
           "radialaxis": {
            "gridcolor": "white",
            "linecolor": "white",
            "ticks": ""
           }
          },
          "scene": {
           "xaxis": {
            "backgroundcolor": "#E5ECF6",
            "gridcolor": "white",
            "gridwidth": 2,
            "linecolor": "white",
            "showbackground": true,
            "ticks": "",
            "zerolinecolor": "white"
           },
           "yaxis": {
            "backgroundcolor": "#E5ECF6",
            "gridcolor": "white",
            "gridwidth": 2,
            "linecolor": "white",
            "showbackground": true,
            "ticks": "",
            "zerolinecolor": "white"
           },
           "zaxis": {
            "backgroundcolor": "#E5ECF6",
            "gridcolor": "white",
            "gridwidth": 2,
            "linecolor": "white",
            "showbackground": true,
            "ticks": "",
            "zerolinecolor": "white"
           }
          },
          "shapedefaults": {
           "line": {
            "color": "#2a3f5f"
           }
          },
          "ternary": {
           "aaxis": {
            "gridcolor": "white",
            "linecolor": "white",
            "ticks": ""
           },
           "baxis": {
            "gridcolor": "white",
            "linecolor": "white",
            "ticks": ""
           },
           "bgcolor": "#E5ECF6",
           "caxis": {
            "gridcolor": "white",
            "linecolor": "white",
            "ticks": ""
           }
          },
          "title": {
           "x": 0.05
          },
          "xaxis": {
           "automargin": true,
           "gridcolor": "white",
           "linecolor": "white",
           "ticks": "",
           "title": {
            "standoff": 15
           },
           "zerolinecolor": "white",
           "zerolinewidth": 2
          },
          "yaxis": {
           "automargin": true,
           "gridcolor": "white",
           "linecolor": "white",
           "ticks": "",
           "title": {
            "standoff": 15
           },
           "zerolinecolor": "white",
           "zerolinewidth": 2
          }
         }
        },
        "title": {
         "text": "Number of people involved in exhibitions by nationality (excluding Americans and empty values)"
        },
        "xaxis": {
         "anchor": "y",
         "domain": [
          0,
          1
         ],
         "title": {
          "text": "Nationality"
         }
        },
        "yaxis": {
         "anchor": "x",
         "domain": [
          0,
          1
         ],
         "title": {
          "text": "Number of people"
         }
        }
       }
      }
     },
     "metadata": {},
     "output_type": "display_data"
    }
   ],
   "source": [
    "x_values = number_dict.keys()\n",
    "y_values = number_dict.values()\n",
    "\n",
    "fig = px.bar(x=x_values, y=y_values, \n",
    "labels={\"x\": \"Nationality\", \"y\": \"Number of people\"},\n",
    "title=\"Number of people involved in exhibitions by nationality (excluding Americans and empty values)\"\n",
    ")\n",
    "fig.show()"
   ]
  },
  {
   "cell_type": "markdown",
   "metadata": {},
   "source": [
    "# Number of exhibitions per year for each organisation"
   ]
  },
  {
   "cell_type": "code",
   "execution_count": 15,
   "metadata": {},
   "outputs": [
    {
     "name": "stdout",
     "output_type": "stream",
     "text": [
      "SortedDict({'1971': 1, '1973': 8, '1974': 8, '1975': 17, '1976': 21, '1977': 40, '1978': 41, '1979': 58, '1980': 56, '1981': 46, '1982': 39, '1983': 45, '1984': 32, '1985': 28, '1986': 38, '1987': 33, '1988': 27, '1989': 18, '1990': 16, '1991': 15, '1992': 12, '1993': 9, '1994': 6, '1995': 6, '1996': 5, '1997': 12, '1998': 23, '1999': 41, '2000': 25, '2001': 36, '2002': 24, '2003': 22, '2004': 33, '2005': 13, '2006': 28, '2007': 34, '2008': 11, '2009': 13, '2010': 11, '2011': 19, '2012': 19, '2013': 8, '2014': 14, '2015': 11, '2016': 13, '2017': 8, '2018': 2})\n"
     ]
    },
    {
     "data": {
      "application/vnd.plotly.v1+json": {
       "config": {
        "plotlyServerURL": "https://plot.ly"
       },
       "data": [
        {
         "alignmentgroup": "True",
         "hovertemplate": "Year=%{x}<br>Number of exhibitions=%{y}<extra></extra>",
         "legendgroup": "",
         "marker": {
          "color": "#636efa",
          "pattern": {
           "shape": ""
          }
         },
         "name": "",
         "offsetgroup": "",
         "orientation": "v",
         "showlegend": false,
         "textposition": "auto",
         "type": "bar",
         "x": [
          "1971",
          "1973",
          "1974",
          "1975",
          "1976",
          "1977",
          "1978",
          "1979",
          "1980",
          "1981",
          "1982",
          "1983",
          "1984",
          "1985",
          "1986",
          "1987",
          "1988",
          "1989",
          "1990",
          "1991",
          "1992",
          "1993",
          "1994",
          "1995",
          "1996",
          "1997",
          "1998",
          "1999",
          "2000",
          "2001",
          "2002",
          "2003",
          "2004",
          "2005",
          "2006",
          "2007",
          "2008",
          "2009",
          "2010",
          "2011",
          "2012",
          "2013",
          "2014",
          "2015",
          "2016",
          "2017",
          "2018"
         ],
         "xaxis": "x",
         "y": [
          1,
          8,
          8,
          17,
          21,
          40,
          41,
          58,
          56,
          46,
          39,
          45,
          32,
          28,
          38,
          33,
          27,
          18,
          16,
          15,
          12,
          9,
          6,
          6,
          5,
          12,
          23,
          41,
          25,
          36,
          24,
          22,
          33,
          13,
          28,
          34,
          11,
          13,
          11,
          19,
          19,
          8,
          14,
          11,
          13,
          8,
          2
         ],
         "yaxis": "y"
        }
       ],
       "layout": {
        "barmode": "relative",
        "legend": {
         "tracegroupgap": 0
        },
        "template": {
         "data": {
          "bar": [
           {
            "error_x": {
             "color": "#2a3f5f"
            },
            "error_y": {
             "color": "#2a3f5f"
            },
            "marker": {
             "line": {
              "color": "#E5ECF6",
              "width": 0.5
             },
             "pattern": {
              "fillmode": "overlay",
              "size": 10,
              "solidity": 0.2
             }
            },
            "type": "bar"
           }
          ],
          "barpolar": [
           {
            "marker": {
             "line": {
              "color": "#E5ECF6",
              "width": 0.5
             },
             "pattern": {
              "fillmode": "overlay",
              "size": 10,
              "solidity": 0.2
             }
            },
            "type": "barpolar"
           }
          ],
          "carpet": [
           {
            "aaxis": {
             "endlinecolor": "#2a3f5f",
             "gridcolor": "white",
             "linecolor": "white",
             "minorgridcolor": "white",
             "startlinecolor": "#2a3f5f"
            },
            "baxis": {
             "endlinecolor": "#2a3f5f",
             "gridcolor": "white",
             "linecolor": "white",
             "minorgridcolor": "white",
             "startlinecolor": "#2a3f5f"
            },
            "type": "carpet"
           }
          ],
          "choropleth": [
           {
            "colorbar": {
             "outlinewidth": 0,
             "ticks": ""
            },
            "type": "choropleth"
           }
          ],
          "contour": [
           {
            "colorbar": {
             "outlinewidth": 0,
             "ticks": ""
            },
            "colorscale": [
             [
              0,
              "#0d0887"
             ],
             [
              0.1111111111111111,
              "#46039f"
             ],
             [
              0.2222222222222222,
              "#7201a8"
             ],
             [
              0.3333333333333333,
              "#9c179e"
             ],
             [
              0.4444444444444444,
              "#bd3786"
             ],
             [
              0.5555555555555556,
              "#d8576b"
             ],
             [
              0.6666666666666666,
              "#ed7953"
             ],
             [
              0.7777777777777778,
              "#fb9f3a"
             ],
             [
              0.8888888888888888,
              "#fdca26"
             ],
             [
              1,
              "#f0f921"
             ]
            ],
            "type": "contour"
           }
          ],
          "contourcarpet": [
           {
            "colorbar": {
             "outlinewidth": 0,
             "ticks": ""
            },
            "type": "contourcarpet"
           }
          ],
          "heatmap": [
           {
            "colorbar": {
             "outlinewidth": 0,
             "ticks": ""
            },
            "colorscale": [
             [
              0,
              "#0d0887"
             ],
             [
              0.1111111111111111,
              "#46039f"
             ],
             [
              0.2222222222222222,
              "#7201a8"
             ],
             [
              0.3333333333333333,
              "#9c179e"
             ],
             [
              0.4444444444444444,
              "#bd3786"
             ],
             [
              0.5555555555555556,
              "#d8576b"
             ],
             [
              0.6666666666666666,
              "#ed7953"
             ],
             [
              0.7777777777777778,
              "#fb9f3a"
             ],
             [
              0.8888888888888888,
              "#fdca26"
             ],
             [
              1,
              "#f0f921"
             ]
            ],
            "type": "heatmap"
           }
          ],
          "heatmapgl": [
           {
            "colorbar": {
             "outlinewidth": 0,
             "ticks": ""
            },
            "colorscale": [
             [
              0,
              "#0d0887"
             ],
             [
              0.1111111111111111,
              "#46039f"
             ],
             [
              0.2222222222222222,
              "#7201a8"
             ],
             [
              0.3333333333333333,
              "#9c179e"
             ],
             [
              0.4444444444444444,
              "#bd3786"
             ],
             [
              0.5555555555555556,
              "#d8576b"
             ],
             [
              0.6666666666666666,
              "#ed7953"
             ],
             [
              0.7777777777777778,
              "#fb9f3a"
             ],
             [
              0.8888888888888888,
              "#fdca26"
             ],
             [
              1,
              "#f0f921"
             ]
            ],
            "type": "heatmapgl"
           }
          ],
          "histogram": [
           {
            "marker": {
             "pattern": {
              "fillmode": "overlay",
              "size": 10,
              "solidity": 0.2
             }
            },
            "type": "histogram"
           }
          ],
          "histogram2d": [
           {
            "colorbar": {
             "outlinewidth": 0,
             "ticks": ""
            },
            "colorscale": [
             [
              0,
              "#0d0887"
             ],
             [
              0.1111111111111111,
              "#46039f"
             ],
             [
              0.2222222222222222,
              "#7201a8"
             ],
             [
              0.3333333333333333,
              "#9c179e"
             ],
             [
              0.4444444444444444,
              "#bd3786"
             ],
             [
              0.5555555555555556,
              "#d8576b"
             ],
             [
              0.6666666666666666,
              "#ed7953"
             ],
             [
              0.7777777777777778,
              "#fb9f3a"
             ],
             [
              0.8888888888888888,
              "#fdca26"
             ],
             [
              1,
              "#f0f921"
             ]
            ],
            "type": "histogram2d"
           }
          ],
          "histogram2dcontour": [
           {
            "colorbar": {
             "outlinewidth": 0,
             "ticks": ""
            },
            "colorscale": [
             [
              0,
              "#0d0887"
             ],
             [
              0.1111111111111111,
              "#46039f"
             ],
             [
              0.2222222222222222,
              "#7201a8"
             ],
             [
              0.3333333333333333,
              "#9c179e"
             ],
             [
              0.4444444444444444,
              "#bd3786"
             ],
             [
              0.5555555555555556,
              "#d8576b"
             ],
             [
              0.6666666666666666,
              "#ed7953"
             ],
             [
              0.7777777777777778,
              "#fb9f3a"
             ],
             [
              0.8888888888888888,
              "#fdca26"
             ],
             [
              1,
              "#f0f921"
             ]
            ],
            "type": "histogram2dcontour"
           }
          ],
          "mesh3d": [
           {
            "colorbar": {
             "outlinewidth": 0,
             "ticks": ""
            },
            "type": "mesh3d"
           }
          ],
          "parcoords": [
           {
            "line": {
             "colorbar": {
              "outlinewidth": 0,
              "ticks": ""
             }
            },
            "type": "parcoords"
           }
          ],
          "pie": [
           {
            "automargin": true,
            "type": "pie"
           }
          ],
          "scatter": [
           {
            "fillpattern": {
             "fillmode": "overlay",
             "size": 10,
             "solidity": 0.2
            },
            "type": "scatter"
           }
          ],
          "scatter3d": [
           {
            "line": {
             "colorbar": {
              "outlinewidth": 0,
              "ticks": ""
             }
            },
            "marker": {
             "colorbar": {
              "outlinewidth": 0,
              "ticks": ""
             }
            },
            "type": "scatter3d"
           }
          ],
          "scattercarpet": [
           {
            "marker": {
             "colorbar": {
              "outlinewidth": 0,
              "ticks": ""
             }
            },
            "type": "scattercarpet"
           }
          ],
          "scattergeo": [
           {
            "marker": {
             "colorbar": {
              "outlinewidth": 0,
              "ticks": ""
             }
            },
            "type": "scattergeo"
           }
          ],
          "scattergl": [
           {
            "marker": {
             "colorbar": {
              "outlinewidth": 0,
              "ticks": ""
             }
            },
            "type": "scattergl"
           }
          ],
          "scattermapbox": [
           {
            "marker": {
             "colorbar": {
              "outlinewidth": 0,
              "ticks": ""
             }
            },
            "type": "scattermapbox"
           }
          ],
          "scatterpolar": [
           {
            "marker": {
             "colorbar": {
              "outlinewidth": 0,
              "ticks": ""
             }
            },
            "type": "scatterpolar"
           }
          ],
          "scatterpolargl": [
           {
            "marker": {
             "colorbar": {
              "outlinewidth": 0,
              "ticks": ""
             }
            },
            "type": "scatterpolargl"
           }
          ],
          "scatterternary": [
           {
            "marker": {
             "colorbar": {
              "outlinewidth": 0,
              "ticks": ""
             }
            },
            "type": "scatterternary"
           }
          ],
          "surface": [
           {
            "colorbar": {
             "outlinewidth": 0,
             "ticks": ""
            },
            "colorscale": [
             [
              0,
              "#0d0887"
             ],
             [
              0.1111111111111111,
              "#46039f"
             ],
             [
              0.2222222222222222,
              "#7201a8"
             ],
             [
              0.3333333333333333,
              "#9c179e"
             ],
             [
              0.4444444444444444,
              "#bd3786"
             ],
             [
              0.5555555555555556,
              "#d8576b"
             ],
             [
              0.6666666666666666,
              "#ed7953"
             ],
             [
              0.7777777777777778,
              "#fb9f3a"
             ],
             [
              0.8888888888888888,
              "#fdca26"
             ],
             [
              1,
              "#f0f921"
             ]
            ],
            "type": "surface"
           }
          ],
          "table": [
           {
            "cells": {
             "fill": {
              "color": "#EBF0F8"
             },
             "line": {
              "color": "white"
             }
            },
            "header": {
             "fill": {
              "color": "#C8D4E3"
             },
             "line": {
              "color": "white"
             }
            },
            "type": "table"
           }
          ]
         },
         "layout": {
          "annotationdefaults": {
           "arrowcolor": "#2a3f5f",
           "arrowhead": 0,
           "arrowwidth": 1
          },
          "autotypenumbers": "strict",
          "coloraxis": {
           "colorbar": {
            "outlinewidth": 0,
            "ticks": ""
           }
          },
          "colorscale": {
           "diverging": [
            [
             0,
             "#8e0152"
            ],
            [
             0.1,
             "#c51b7d"
            ],
            [
             0.2,
             "#de77ae"
            ],
            [
             0.3,
             "#f1b6da"
            ],
            [
             0.4,
             "#fde0ef"
            ],
            [
             0.5,
             "#f7f7f7"
            ],
            [
             0.6,
             "#e6f5d0"
            ],
            [
             0.7,
             "#b8e186"
            ],
            [
             0.8,
             "#7fbc41"
            ],
            [
             0.9,
             "#4d9221"
            ],
            [
             1,
             "#276419"
            ]
           ],
           "sequential": [
            [
             0,
             "#0d0887"
            ],
            [
             0.1111111111111111,
             "#46039f"
            ],
            [
             0.2222222222222222,
             "#7201a8"
            ],
            [
             0.3333333333333333,
             "#9c179e"
            ],
            [
             0.4444444444444444,
             "#bd3786"
            ],
            [
             0.5555555555555556,
             "#d8576b"
            ],
            [
             0.6666666666666666,
             "#ed7953"
            ],
            [
             0.7777777777777778,
             "#fb9f3a"
            ],
            [
             0.8888888888888888,
             "#fdca26"
            ],
            [
             1,
             "#f0f921"
            ]
           ],
           "sequentialminus": [
            [
             0,
             "#0d0887"
            ],
            [
             0.1111111111111111,
             "#46039f"
            ],
            [
             0.2222222222222222,
             "#7201a8"
            ],
            [
             0.3333333333333333,
             "#9c179e"
            ],
            [
             0.4444444444444444,
             "#bd3786"
            ],
            [
             0.5555555555555556,
             "#d8576b"
            ],
            [
             0.6666666666666666,
             "#ed7953"
            ],
            [
             0.7777777777777778,
             "#fb9f3a"
            ],
            [
             0.8888888888888888,
             "#fdca26"
            ],
            [
             1,
             "#f0f921"
            ]
           ]
          },
          "colorway": [
           "#636efa",
           "#EF553B",
           "#00cc96",
           "#ab63fa",
           "#FFA15A",
           "#19d3f3",
           "#FF6692",
           "#B6E880",
           "#FF97FF",
           "#FECB52"
          ],
          "font": {
           "color": "#2a3f5f"
          },
          "geo": {
           "bgcolor": "white",
           "lakecolor": "white",
           "landcolor": "#E5ECF6",
           "showlakes": true,
           "showland": true,
           "subunitcolor": "white"
          },
          "hoverlabel": {
           "align": "left"
          },
          "hovermode": "closest",
          "mapbox": {
           "style": "light"
          },
          "paper_bgcolor": "white",
          "plot_bgcolor": "#E5ECF6",
          "polar": {
           "angularaxis": {
            "gridcolor": "white",
            "linecolor": "white",
            "ticks": ""
           },
           "bgcolor": "#E5ECF6",
           "radialaxis": {
            "gridcolor": "white",
            "linecolor": "white",
            "ticks": ""
           }
          },
          "scene": {
           "xaxis": {
            "backgroundcolor": "#E5ECF6",
            "gridcolor": "white",
            "gridwidth": 2,
            "linecolor": "white",
            "showbackground": true,
            "ticks": "",
            "zerolinecolor": "white"
           },
           "yaxis": {
            "backgroundcolor": "#E5ECF6",
            "gridcolor": "white",
            "gridwidth": 2,
            "linecolor": "white",
            "showbackground": true,
            "ticks": "",
            "zerolinecolor": "white"
           },
           "zaxis": {
            "backgroundcolor": "#E5ECF6",
            "gridcolor": "white",
            "gridwidth": 2,
            "linecolor": "white",
            "showbackground": true,
            "ticks": "",
            "zerolinecolor": "white"
           }
          },
          "shapedefaults": {
           "line": {
            "color": "#2a3f5f"
           }
          },
          "ternary": {
           "aaxis": {
            "gridcolor": "white",
            "linecolor": "white",
            "ticks": ""
           },
           "baxis": {
            "gridcolor": "white",
            "linecolor": "white",
            "ticks": ""
           },
           "bgcolor": "#E5ECF6",
           "caxis": {
            "gridcolor": "white",
            "linecolor": "white",
            "ticks": ""
           }
          },
          "title": {
           "x": 0.05
          },
          "xaxis": {
           "automargin": true,
           "gridcolor": "white",
           "linecolor": "white",
           "ticks": "",
           "title": {
            "standoff": 15
           },
           "zerolinecolor": "white",
           "zerolinewidth": 2
          },
          "yaxis": {
           "automargin": true,
           "gridcolor": "white",
           "linecolor": "white",
           "ticks": "",
           "title": {
            "standoff": 15
           },
           "zerolinecolor": "white",
           "zerolinewidth": 2
          }
         }
        },
        "title": {
         "text": "Number of exhibitions by year - MoMA PS1"
        },
        "xaxis": {
         "anchor": "y",
         "domain": [
          0,
          1
         ],
         "title": {
          "text": "Year"
         }
        },
        "yaxis": {
         "anchor": "x",
         "domain": [
          0,
          1
         ],
         "title": {
          "text": "Number of exhibitions"
         }
        }
       }
      }
     },
     "metadata": {},
     "output_type": "display_data"
    },
    {
     "name": "stdout",
     "output_type": "stream",
     "text": [
      "SortedDict({'1929': 2, '1930': 8, '1931': 5, '1932': 7, '1933': 19, '1934': 13, '1935': 8, '1936': 13, '1937': 19, '1938': 13, '1939': 12, '1940': 24, '1941': 43, '1942': 37, '1943': 24, '1944': 21, '1945': 23, '1946': 32, '1947': 21, '1948': 27, '1949': 30, '1950': 28, '1951': 27, '1952': 28, '1953': 22, '1954': 16, '1955': 25, '1956': 23, '1957': 17, '1958': 12, '1959': 25, '1960': 22, '1961': 26, '1962': 23, '1963': 20, '1964': 23, '1965': 31, '1966': 34, '1967': 35, '1968': 39, '1969': 42, '1970': 40, '1971': 40, '1972': 37, '1973': 33, '1974': 40, '1975': 37, '1976': 48, '1977': 41, '1978': 52, '1979': 48, '1980': 25, '1981': 33, '1982': 18, '1983': 30, '1984': 23, '1985': 33, '1986': 32, '1987': 34, '1988': 36, '1989': 32, '1990': 33, '1991': 36, '1992': 29, '1993': 35, '1994': 33, '1995': 40, '1996': 28, '1997': 37, '1998': 38, '1999': 39, '2000': 42, '2001': 15, '2002': 15, '2003': 12, '2004': 19, '2005': 26, '2006': 33, '2007': 39, '2008': 39, '2009': 46, '2010': 37, '2011': 41, '2012': 53, '2013': 42, '2018': 1})\n"
     ]
    },
    {
     "data": {
      "application/vnd.plotly.v1+json": {
       "config": {
        "plotlyServerURL": "https://plot.ly"
       },
       "data": [
        {
         "alignmentgroup": "True",
         "hovertemplate": "Year=%{x}<br>Number of exhibitions=%{y}<extra></extra>",
         "legendgroup": "",
         "marker": {
          "color": "#636efa",
          "pattern": {
           "shape": ""
          }
         },
         "name": "",
         "offsetgroup": "",
         "orientation": "v",
         "showlegend": false,
         "textposition": "auto",
         "type": "bar",
         "x": [
          "1929",
          "1930",
          "1931",
          "1932",
          "1933",
          "1934",
          "1935",
          "1936",
          "1937",
          "1938",
          "1939",
          "1940",
          "1941",
          "1942",
          "1943",
          "1944",
          "1945",
          "1946",
          "1947",
          "1948",
          "1949",
          "1950",
          "1951",
          "1952",
          "1953",
          "1954",
          "1955",
          "1956",
          "1957",
          "1958",
          "1959",
          "1960",
          "1961",
          "1962",
          "1963",
          "1964",
          "1965",
          "1966",
          "1967",
          "1968",
          "1969",
          "1970",
          "1971",
          "1972",
          "1973",
          "1974",
          "1975",
          "1976",
          "1977",
          "1978",
          "1979",
          "1980",
          "1981",
          "1982",
          "1983",
          "1984",
          "1985",
          "1986",
          "1987",
          "1988",
          "1989",
          "1990",
          "1991",
          "1992",
          "1993",
          "1994",
          "1995",
          "1996",
          "1997",
          "1998",
          "1999",
          "2000",
          "2001",
          "2002",
          "2003",
          "2004",
          "2005",
          "2006",
          "2007",
          "2008",
          "2009",
          "2010",
          "2011",
          "2012",
          "2013",
          "2018"
         ],
         "xaxis": "x",
         "y": [
          2,
          8,
          5,
          7,
          19,
          13,
          8,
          13,
          19,
          13,
          12,
          24,
          43,
          37,
          24,
          21,
          23,
          32,
          21,
          27,
          30,
          28,
          27,
          28,
          22,
          16,
          25,
          23,
          17,
          12,
          25,
          22,
          26,
          23,
          20,
          23,
          31,
          34,
          35,
          39,
          42,
          40,
          40,
          37,
          33,
          40,
          37,
          48,
          41,
          52,
          48,
          25,
          33,
          18,
          30,
          23,
          33,
          32,
          34,
          36,
          32,
          33,
          36,
          29,
          35,
          33,
          40,
          28,
          37,
          38,
          39,
          42,
          15,
          15,
          12,
          19,
          26,
          33,
          39,
          39,
          46,
          37,
          41,
          53,
          42,
          1
         ],
         "yaxis": "y"
        }
       ],
       "layout": {
        "barmode": "relative",
        "legend": {
         "tracegroupgap": 0
        },
        "template": {
         "data": {
          "bar": [
           {
            "error_x": {
             "color": "#2a3f5f"
            },
            "error_y": {
             "color": "#2a3f5f"
            },
            "marker": {
             "line": {
              "color": "#E5ECF6",
              "width": 0.5
             },
             "pattern": {
              "fillmode": "overlay",
              "size": 10,
              "solidity": 0.2
             }
            },
            "type": "bar"
           }
          ],
          "barpolar": [
           {
            "marker": {
             "line": {
              "color": "#E5ECF6",
              "width": 0.5
             },
             "pattern": {
              "fillmode": "overlay",
              "size": 10,
              "solidity": 0.2
             }
            },
            "type": "barpolar"
           }
          ],
          "carpet": [
           {
            "aaxis": {
             "endlinecolor": "#2a3f5f",
             "gridcolor": "white",
             "linecolor": "white",
             "minorgridcolor": "white",
             "startlinecolor": "#2a3f5f"
            },
            "baxis": {
             "endlinecolor": "#2a3f5f",
             "gridcolor": "white",
             "linecolor": "white",
             "minorgridcolor": "white",
             "startlinecolor": "#2a3f5f"
            },
            "type": "carpet"
           }
          ],
          "choropleth": [
           {
            "colorbar": {
             "outlinewidth": 0,
             "ticks": ""
            },
            "type": "choropleth"
           }
          ],
          "contour": [
           {
            "colorbar": {
             "outlinewidth": 0,
             "ticks": ""
            },
            "colorscale": [
             [
              0,
              "#0d0887"
             ],
             [
              0.1111111111111111,
              "#46039f"
             ],
             [
              0.2222222222222222,
              "#7201a8"
             ],
             [
              0.3333333333333333,
              "#9c179e"
             ],
             [
              0.4444444444444444,
              "#bd3786"
             ],
             [
              0.5555555555555556,
              "#d8576b"
             ],
             [
              0.6666666666666666,
              "#ed7953"
             ],
             [
              0.7777777777777778,
              "#fb9f3a"
             ],
             [
              0.8888888888888888,
              "#fdca26"
             ],
             [
              1,
              "#f0f921"
             ]
            ],
            "type": "contour"
           }
          ],
          "contourcarpet": [
           {
            "colorbar": {
             "outlinewidth": 0,
             "ticks": ""
            },
            "type": "contourcarpet"
           }
          ],
          "heatmap": [
           {
            "colorbar": {
             "outlinewidth": 0,
             "ticks": ""
            },
            "colorscale": [
             [
              0,
              "#0d0887"
             ],
             [
              0.1111111111111111,
              "#46039f"
             ],
             [
              0.2222222222222222,
              "#7201a8"
             ],
             [
              0.3333333333333333,
              "#9c179e"
             ],
             [
              0.4444444444444444,
              "#bd3786"
             ],
             [
              0.5555555555555556,
              "#d8576b"
             ],
             [
              0.6666666666666666,
              "#ed7953"
             ],
             [
              0.7777777777777778,
              "#fb9f3a"
             ],
             [
              0.8888888888888888,
              "#fdca26"
             ],
             [
              1,
              "#f0f921"
             ]
            ],
            "type": "heatmap"
           }
          ],
          "heatmapgl": [
           {
            "colorbar": {
             "outlinewidth": 0,
             "ticks": ""
            },
            "colorscale": [
             [
              0,
              "#0d0887"
             ],
             [
              0.1111111111111111,
              "#46039f"
             ],
             [
              0.2222222222222222,
              "#7201a8"
             ],
             [
              0.3333333333333333,
              "#9c179e"
             ],
             [
              0.4444444444444444,
              "#bd3786"
             ],
             [
              0.5555555555555556,
              "#d8576b"
             ],
             [
              0.6666666666666666,
              "#ed7953"
             ],
             [
              0.7777777777777778,
              "#fb9f3a"
             ],
             [
              0.8888888888888888,
              "#fdca26"
             ],
             [
              1,
              "#f0f921"
             ]
            ],
            "type": "heatmapgl"
           }
          ],
          "histogram": [
           {
            "marker": {
             "pattern": {
              "fillmode": "overlay",
              "size": 10,
              "solidity": 0.2
             }
            },
            "type": "histogram"
           }
          ],
          "histogram2d": [
           {
            "colorbar": {
             "outlinewidth": 0,
             "ticks": ""
            },
            "colorscale": [
             [
              0,
              "#0d0887"
             ],
             [
              0.1111111111111111,
              "#46039f"
             ],
             [
              0.2222222222222222,
              "#7201a8"
             ],
             [
              0.3333333333333333,
              "#9c179e"
             ],
             [
              0.4444444444444444,
              "#bd3786"
             ],
             [
              0.5555555555555556,
              "#d8576b"
             ],
             [
              0.6666666666666666,
              "#ed7953"
             ],
             [
              0.7777777777777778,
              "#fb9f3a"
             ],
             [
              0.8888888888888888,
              "#fdca26"
             ],
             [
              1,
              "#f0f921"
             ]
            ],
            "type": "histogram2d"
           }
          ],
          "histogram2dcontour": [
           {
            "colorbar": {
             "outlinewidth": 0,
             "ticks": ""
            },
            "colorscale": [
             [
              0,
              "#0d0887"
             ],
             [
              0.1111111111111111,
              "#46039f"
             ],
             [
              0.2222222222222222,
              "#7201a8"
             ],
             [
              0.3333333333333333,
              "#9c179e"
             ],
             [
              0.4444444444444444,
              "#bd3786"
             ],
             [
              0.5555555555555556,
              "#d8576b"
             ],
             [
              0.6666666666666666,
              "#ed7953"
             ],
             [
              0.7777777777777778,
              "#fb9f3a"
             ],
             [
              0.8888888888888888,
              "#fdca26"
             ],
             [
              1,
              "#f0f921"
             ]
            ],
            "type": "histogram2dcontour"
           }
          ],
          "mesh3d": [
           {
            "colorbar": {
             "outlinewidth": 0,
             "ticks": ""
            },
            "type": "mesh3d"
           }
          ],
          "parcoords": [
           {
            "line": {
             "colorbar": {
              "outlinewidth": 0,
              "ticks": ""
             }
            },
            "type": "parcoords"
           }
          ],
          "pie": [
           {
            "automargin": true,
            "type": "pie"
           }
          ],
          "scatter": [
           {
            "fillpattern": {
             "fillmode": "overlay",
             "size": 10,
             "solidity": 0.2
            },
            "type": "scatter"
           }
          ],
          "scatter3d": [
           {
            "line": {
             "colorbar": {
              "outlinewidth": 0,
              "ticks": ""
             }
            },
            "marker": {
             "colorbar": {
              "outlinewidth": 0,
              "ticks": ""
             }
            },
            "type": "scatter3d"
           }
          ],
          "scattercarpet": [
           {
            "marker": {
             "colorbar": {
              "outlinewidth": 0,
              "ticks": ""
             }
            },
            "type": "scattercarpet"
           }
          ],
          "scattergeo": [
           {
            "marker": {
             "colorbar": {
              "outlinewidth": 0,
              "ticks": ""
             }
            },
            "type": "scattergeo"
           }
          ],
          "scattergl": [
           {
            "marker": {
             "colorbar": {
              "outlinewidth": 0,
              "ticks": ""
             }
            },
            "type": "scattergl"
           }
          ],
          "scattermapbox": [
           {
            "marker": {
             "colorbar": {
              "outlinewidth": 0,
              "ticks": ""
             }
            },
            "type": "scattermapbox"
           }
          ],
          "scatterpolar": [
           {
            "marker": {
             "colorbar": {
              "outlinewidth": 0,
              "ticks": ""
             }
            },
            "type": "scatterpolar"
           }
          ],
          "scatterpolargl": [
           {
            "marker": {
             "colorbar": {
              "outlinewidth": 0,
              "ticks": ""
             }
            },
            "type": "scatterpolargl"
           }
          ],
          "scatterternary": [
           {
            "marker": {
             "colorbar": {
              "outlinewidth": 0,
              "ticks": ""
             }
            },
            "type": "scatterternary"
           }
          ],
          "surface": [
           {
            "colorbar": {
             "outlinewidth": 0,
             "ticks": ""
            },
            "colorscale": [
             [
              0,
              "#0d0887"
             ],
             [
              0.1111111111111111,
              "#46039f"
             ],
             [
              0.2222222222222222,
              "#7201a8"
             ],
             [
              0.3333333333333333,
              "#9c179e"
             ],
             [
              0.4444444444444444,
              "#bd3786"
             ],
             [
              0.5555555555555556,
              "#d8576b"
             ],
             [
              0.6666666666666666,
              "#ed7953"
             ],
             [
              0.7777777777777778,
              "#fb9f3a"
             ],
             [
              0.8888888888888888,
              "#fdca26"
             ],
             [
              1,
              "#f0f921"
             ]
            ],
            "type": "surface"
           }
          ],
          "table": [
           {
            "cells": {
             "fill": {
              "color": "#EBF0F8"
             },
             "line": {
              "color": "white"
             }
            },
            "header": {
             "fill": {
              "color": "#C8D4E3"
             },
             "line": {
              "color": "white"
             }
            },
            "type": "table"
           }
          ]
         },
         "layout": {
          "annotationdefaults": {
           "arrowcolor": "#2a3f5f",
           "arrowhead": 0,
           "arrowwidth": 1
          },
          "autotypenumbers": "strict",
          "coloraxis": {
           "colorbar": {
            "outlinewidth": 0,
            "ticks": ""
           }
          },
          "colorscale": {
           "diverging": [
            [
             0,
             "#8e0152"
            ],
            [
             0.1,
             "#c51b7d"
            ],
            [
             0.2,
             "#de77ae"
            ],
            [
             0.3,
             "#f1b6da"
            ],
            [
             0.4,
             "#fde0ef"
            ],
            [
             0.5,
             "#f7f7f7"
            ],
            [
             0.6,
             "#e6f5d0"
            ],
            [
             0.7,
             "#b8e186"
            ],
            [
             0.8,
             "#7fbc41"
            ],
            [
             0.9,
             "#4d9221"
            ],
            [
             1,
             "#276419"
            ]
           ],
           "sequential": [
            [
             0,
             "#0d0887"
            ],
            [
             0.1111111111111111,
             "#46039f"
            ],
            [
             0.2222222222222222,
             "#7201a8"
            ],
            [
             0.3333333333333333,
             "#9c179e"
            ],
            [
             0.4444444444444444,
             "#bd3786"
            ],
            [
             0.5555555555555556,
             "#d8576b"
            ],
            [
             0.6666666666666666,
             "#ed7953"
            ],
            [
             0.7777777777777778,
             "#fb9f3a"
            ],
            [
             0.8888888888888888,
             "#fdca26"
            ],
            [
             1,
             "#f0f921"
            ]
           ],
           "sequentialminus": [
            [
             0,
             "#0d0887"
            ],
            [
             0.1111111111111111,
             "#46039f"
            ],
            [
             0.2222222222222222,
             "#7201a8"
            ],
            [
             0.3333333333333333,
             "#9c179e"
            ],
            [
             0.4444444444444444,
             "#bd3786"
            ],
            [
             0.5555555555555556,
             "#d8576b"
            ],
            [
             0.6666666666666666,
             "#ed7953"
            ],
            [
             0.7777777777777778,
             "#fb9f3a"
            ],
            [
             0.8888888888888888,
             "#fdca26"
            ],
            [
             1,
             "#f0f921"
            ]
           ]
          },
          "colorway": [
           "#636efa",
           "#EF553B",
           "#00cc96",
           "#ab63fa",
           "#FFA15A",
           "#19d3f3",
           "#FF6692",
           "#B6E880",
           "#FF97FF",
           "#FECB52"
          ],
          "font": {
           "color": "#2a3f5f"
          },
          "geo": {
           "bgcolor": "white",
           "lakecolor": "white",
           "landcolor": "#E5ECF6",
           "showlakes": true,
           "showland": true,
           "subunitcolor": "white"
          },
          "hoverlabel": {
           "align": "left"
          },
          "hovermode": "closest",
          "mapbox": {
           "style": "light"
          },
          "paper_bgcolor": "white",
          "plot_bgcolor": "#E5ECF6",
          "polar": {
           "angularaxis": {
            "gridcolor": "white",
            "linecolor": "white",
            "ticks": ""
           },
           "bgcolor": "#E5ECF6",
           "radialaxis": {
            "gridcolor": "white",
            "linecolor": "white",
            "ticks": ""
           }
          },
          "scene": {
           "xaxis": {
            "backgroundcolor": "#E5ECF6",
            "gridcolor": "white",
            "gridwidth": 2,
            "linecolor": "white",
            "showbackground": true,
            "ticks": "",
            "zerolinecolor": "white"
           },
           "yaxis": {
            "backgroundcolor": "#E5ECF6",
            "gridcolor": "white",
            "gridwidth": 2,
            "linecolor": "white",
            "showbackground": true,
            "ticks": "",
            "zerolinecolor": "white"
           },
           "zaxis": {
            "backgroundcolor": "#E5ECF6",
            "gridcolor": "white",
            "gridwidth": 2,
            "linecolor": "white",
            "showbackground": true,
            "ticks": "",
            "zerolinecolor": "white"
           }
          },
          "shapedefaults": {
           "line": {
            "color": "#2a3f5f"
           }
          },
          "ternary": {
           "aaxis": {
            "gridcolor": "white",
            "linecolor": "white",
            "ticks": ""
           },
           "baxis": {
            "gridcolor": "white",
            "linecolor": "white",
            "ticks": ""
           },
           "bgcolor": "#E5ECF6",
           "caxis": {
            "gridcolor": "white",
            "linecolor": "white",
            "ticks": ""
           }
          },
          "title": {
           "x": 0.05
          },
          "xaxis": {
           "automargin": true,
           "gridcolor": "white",
           "linecolor": "white",
           "ticks": "",
           "title": {
            "standoff": 15
           },
           "zerolinecolor": "white",
           "zerolinewidth": 2
          },
          "yaxis": {
           "automargin": true,
           "gridcolor": "white",
           "linecolor": "white",
           "ticks": "",
           "title": {
            "standoff": 15
           },
           "zerolinecolor": "white",
           "zerolinewidth": 2
          }
         }
        },
        "title": {
         "text": "Number of exhibitions by year - The Museum of Modern Art"
        },
        "xaxis": {
         "anchor": "y",
         "domain": [
          0,
          1
         ],
         "title": {
          "text": "Year"
         }
        },
        "yaxis": {
         "anchor": "x",
         "domain": [
          0,
          1
         ],
         "title": {
          "text": "Number of exhibitions"
         }
        }
       }
      }
     },
     "metadata": {},
     "output_type": "display_data"
    },
    {
     "name": "stdout",
     "output_type": "stream",
     "text": [
      "SortedDict({'1952': 8, '1953': 12, '1954': 9, '1955': 8, '1956': 10, '1957': 11, '1958': 8, '1959': 11, '1960': 9, '1961': 10, '1962': 5})\n"
     ]
    },
    {
     "data": {
      "application/vnd.plotly.v1+json": {
       "config": {
        "plotlyServerURL": "https://plot.ly"
       },
       "data": [
        {
         "alignmentgroup": "True",
         "hovertemplate": "Year=%{x}<br>Number of exhibitions=%{y}<extra></extra>",
         "legendgroup": "",
         "marker": {
          "color": "#636efa",
          "pattern": {
           "shape": ""
          }
         },
         "name": "",
         "offsetgroup": "",
         "orientation": "v",
         "showlegend": false,
         "textposition": "auto",
         "type": "bar",
         "x": [
          "1952",
          "1953",
          "1954",
          "1955",
          "1956",
          "1957",
          "1958",
          "1959",
          "1960",
          "1961",
          "1962"
         ],
         "xaxis": "x",
         "y": [
          8,
          12,
          9,
          8,
          10,
          11,
          8,
          11,
          9,
          10,
          5
         ],
         "yaxis": "y"
        }
       ],
       "layout": {
        "barmode": "relative",
        "legend": {
         "tracegroupgap": 0
        },
        "template": {
         "data": {
          "bar": [
           {
            "error_x": {
             "color": "#2a3f5f"
            },
            "error_y": {
             "color": "#2a3f5f"
            },
            "marker": {
             "line": {
              "color": "#E5ECF6",
              "width": 0.5
             },
             "pattern": {
              "fillmode": "overlay",
              "size": 10,
              "solidity": 0.2
             }
            },
            "type": "bar"
           }
          ],
          "barpolar": [
           {
            "marker": {
             "line": {
              "color": "#E5ECF6",
              "width": 0.5
             },
             "pattern": {
              "fillmode": "overlay",
              "size": 10,
              "solidity": 0.2
             }
            },
            "type": "barpolar"
           }
          ],
          "carpet": [
           {
            "aaxis": {
             "endlinecolor": "#2a3f5f",
             "gridcolor": "white",
             "linecolor": "white",
             "minorgridcolor": "white",
             "startlinecolor": "#2a3f5f"
            },
            "baxis": {
             "endlinecolor": "#2a3f5f",
             "gridcolor": "white",
             "linecolor": "white",
             "minorgridcolor": "white",
             "startlinecolor": "#2a3f5f"
            },
            "type": "carpet"
           }
          ],
          "choropleth": [
           {
            "colorbar": {
             "outlinewidth": 0,
             "ticks": ""
            },
            "type": "choropleth"
           }
          ],
          "contour": [
           {
            "colorbar": {
             "outlinewidth": 0,
             "ticks": ""
            },
            "colorscale": [
             [
              0,
              "#0d0887"
             ],
             [
              0.1111111111111111,
              "#46039f"
             ],
             [
              0.2222222222222222,
              "#7201a8"
             ],
             [
              0.3333333333333333,
              "#9c179e"
             ],
             [
              0.4444444444444444,
              "#bd3786"
             ],
             [
              0.5555555555555556,
              "#d8576b"
             ],
             [
              0.6666666666666666,
              "#ed7953"
             ],
             [
              0.7777777777777778,
              "#fb9f3a"
             ],
             [
              0.8888888888888888,
              "#fdca26"
             ],
             [
              1,
              "#f0f921"
             ]
            ],
            "type": "contour"
           }
          ],
          "contourcarpet": [
           {
            "colorbar": {
             "outlinewidth": 0,
             "ticks": ""
            },
            "type": "contourcarpet"
           }
          ],
          "heatmap": [
           {
            "colorbar": {
             "outlinewidth": 0,
             "ticks": ""
            },
            "colorscale": [
             [
              0,
              "#0d0887"
             ],
             [
              0.1111111111111111,
              "#46039f"
             ],
             [
              0.2222222222222222,
              "#7201a8"
             ],
             [
              0.3333333333333333,
              "#9c179e"
             ],
             [
              0.4444444444444444,
              "#bd3786"
             ],
             [
              0.5555555555555556,
              "#d8576b"
             ],
             [
              0.6666666666666666,
              "#ed7953"
             ],
             [
              0.7777777777777778,
              "#fb9f3a"
             ],
             [
              0.8888888888888888,
              "#fdca26"
             ],
             [
              1,
              "#f0f921"
             ]
            ],
            "type": "heatmap"
           }
          ],
          "heatmapgl": [
           {
            "colorbar": {
             "outlinewidth": 0,
             "ticks": ""
            },
            "colorscale": [
             [
              0,
              "#0d0887"
             ],
             [
              0.1111111111111111,
              "#46039f"
             ],
             [
              0.2222222222222222,
              "#7201a8"
             ],
             [
              0.3333333333333333,
              "#9c179e"
             ],
             [
              0.4444444444444444,
              "#bd3786"
             ],
             [
              0.5555555555555556,
              "#d8576b"
             ],
             [
              0.6666666666666666,
              "#ed7953"
             ],
             [
              0.7777777777777778,
              "#fb9f3a"
             ],
             [
              0.8888888888888888,
              "#fdca26"
             ],
             [
              1,
              "#f0f921"
             ]
            ],
            "type": "heatmapgl"
           }
          ],
          "histogram": [
           {
            "marker": {
             "pattern": {
              "fillmode": "overlay",
              "size": 10,
              "solidity": 0.2
             }
            },
            "type": "histogram"
           }
          ],
          "histogram2d": [
           {
            "colorbar": {
             "outlinewidth": 0,
             "ticks": ""
            },
            "colorscale": [
             [
              0,
              "#0d0887"
             ],
             [
              0.1111111111111111,
              "#46039f"
             ],
             [
              0.2222222222222222,
              "#7201a8"
             ],
             [
              0.3333333333333333,
              "#9c179e"
             ],
             [
              0.4444444444444444,
              "#bd3786"
             ],
             [
              0.5555555555555556,
              "#d8576b"
             ],
             [
              0.6666666666666666,
              "#ed7953"
             ],
             [
              0.7777777777777778,
              "#fb9f3a"
             ],
             [
              0.8888888888888888,
              "#fdca26"
             ],
             [
              1,
              "#f0f921"
             ]
            ],
            "type": "histogram2d"
           }
          ],
          "histogram2dcontour": [
           {
            "colorbar": {
             "outlinewidth": 0,
             "ticks": ""
            },
            "colorscale": [
             [
              0,
              "#0d0887"
             ],
             [
              0.1111111111111111,
              "#46039f"
             ],
             [
              0.2222222222222222,
              "#7201a8"
             ],
             [
              0.3333333333333333,
              "#9c179e"
             ],
             [
              0.4444444444444444,
              "#bd3786"
             ],
             [
              0.5555555555555556,
              "#d8576b"
             ],
             [
              0.6666666666666666,
              "#ed7953"
             ],
             [
              0.7777777777777778,
              "#fb9f3a"
             ],
             [
              0.8888888888888888,
              "#fdca26"
             ],
             [
              1,
              "#f0f921"
             ]
            ],
            "type": "histogram2dcontour"
           }
          ],
          "mesh3d": [
           {
            "colorbar": {
             "outlinewidth": 0,
             "ticks": ""
            },
            "type": "mesh3d"
           }
          ],
          "parcoords": [
           {
            "line": {
             "colorbar": {
              "outlinewidth": 0,
              "ticks": ""
             }
            },
            "type": "parcoords"
           }
          ],
          "pie": [
           {
            "automargin": true,
            "type": "pie"
           }
          ],
          "scatter": [
           {
            "fillpattern": {
             "fillmode": "overlay",
             "size": 10,
             "solidity": 0.2
            },
            "type": "scatter"
           }
          ],
          "scatter3d": [
           {
            "line": {
             "colorbar": {
              "outlinewidth": 0,
              "ticks": ""
             }
            },
            "marker": {
             "colorbar": {
              "outlinewidth": 0,
              "ticks": ""
             }
            },
            "type": "scatter3d"
           }
          ],
          "scattercarpet": [
           {
            "marker": {
             "colorbar": {
              "outlinewidth": 0,
              "ticks": ""
             }
            },
            "type": "scattercarpet"
           }
          ],
          "scattergeo": [
           {
            "marker": {
             "colorbar": {
              "outlinewidth": 0,
              "ticks": ""
             }
            },
            "type": "scattergeo"
           }
          ],
          "scattergl": [
           {
            "marker": {
             "colorbar": {
              "outlinewidth": 0,
              "ticks": ""
             }
            },
            "type": "scattergl"
           }
          ],
          "scattermapbox": [
           {
            "marker": {
             "colorbar": {
              "outlinewidth": 0,
              "ticks": ""
             }
            },
            "type": "scattermapbox"
           }
          ],
          "scatterpolar": [
           {
            "marker": {
             "colorbar": {
              "outlinewidth": 0,
              "ticks": ""
             }
            },
            "type": "scatterpolar"
           }
          ],
          "scatterpolargl": [
           {
            "marker": {
             "colorbar": {
              "outlinewidth": 0,
              "ticks": ""
             }
            },
            "type": "scatterpolargl"
           }
          ],
          "scatterternary": [
           {
            "marker": {
             "colorbar": {
              "outlinewidth": 0,
              "ticks": ""
             }
            },
            "type": "scatterternary"
           }
          ],
          "surface": [
           {
            "colorbar": {
             "outlinewidth": 0,
             "ticks": ""
            },
            "colorscale": [
             [
              0,
              "#0d0887"
             ],
             [
              0.1111111111111111,
              "#46039f"
             ],
             [
              0.2222222222222222,
              "#7201a8"
             ],
             [
              0.3333333333333333,
              "#9c179e"
             ],
             [
              0.4444444444444444,
              "#bd3786"
             ],
             [
              0.5555555555555556,
              "#d8576b"
             ],
             [
              0.6666666666666666,
              "#ed7953"
             ],
             [
              0.7777777777777778,
              "#fb9f3a"
             ],
             [
              0.8888888888888888,
              "#fdca26"
             ],
             [
              1,
              "#f0f921"
             ]
            ],
            "type": "surface"
           }
          ],
          "table": [
           {
            "cells": {
             "fill": {
              "color": "#EBF0F8"
             },
             "line": {
              "color": "white"
             }
            },
            "header": {
             "fill": {
              "color": "#C8D4E3"
             },
             "line": {
              "color": "white"
             }
            },
            "type": "table"
           }
          ]
         },
         "layout": {
          "annotationdefaults": {
           "arrowcolor": "#2a3f5f",
           "arrowhead": 0,
           "arrowwidth": 1
          },
          "autotypenumbers": "strict",
          "coloraxis": {
           "colorbar": {
            "outlinewidth": 0,
            "ticks": ""
           }
          },
          "colorscale": {
           "diverging": [
            [
             0,
             "#8e0152"
            ],
            [
             0.1,
             "#c51b7d"
            ],
            [
             0.2,
             "#de77ae"
            ],
            [
             0.3,
             "#f1b6da"
            ],
            [
             0.4,
             "#fde0ef"
            ],
            [
             0.5,
             "#f7f7f7"
            ],
            [
             0.6,
             "#e6f5d0"
            ],
            [
             0.7,
             "#b8e186"
            ],
            [
             0.8,
             "#7fbc41"
            ],
            [
             0.9,
             "#4d9221"
            ],
            [
             1,
             "#276419"
            ]
           ],
           "sequential": [
            [
             0,
             "#0d0887"
            ],
            [
             0.1111111111111111,
             "#46039f"
            ],
            [
             0.2222222222222222,
             "#7201a8"
            ],
            [
             0.3333333333333333,
             "#9c179e"
            ],
            [
             0.4444444444444444,
             "#bd3786"
            ],
            [
             0.5555555555555556,
             "#d8576b"
            ],
            [
             0.6666666666666666,
             "#ed7953"
            ],
            [
             0.7777777777777778,
             "#fb9f3a"
            ],
            [
             0.8888888888888888,
             "#fdca26"
            ],
            [
             1,
             "#f0f921"
            ]
           ],
           "sequentialminus": [
            [
             0,
             "#0d0887"
            ],
            [
             0.1111111111111111,
             "#46039f"
            ],
            [
             0.2222222222222222,
             "#7201a8"
            ],
            [
             0.3333333333333333,
             "#9c179e"
            ],
            [
             0.4444444444444444,
             "#bd3786"
            ],
            [
             0.5555555555555556,
             "#d8576b"
            ],
            [
             0.6666666666666666,
             "#ed7953"
            ],
            [
             0.7777777777777778,
             "#fb9f3a"
            ],
            [
             0.8888888888888888,
             "#fdca26"
            ],
            [
             1,
             "#f0f921"
            ]
           ]
          },
          "colorway": [
           "#636efa",
           "#EF553B",
           "#00cc96",
           "#ab63fa",
           "#FFA15A",
           "#19d3f3",
           "#FF6692",
           "#B6E880",
           "#FF97FF",
           "#FECB52"
          ],
          "font": {
           "color": "#2a3f5f"
          },
          "geo": {
           "bgcolor": "white",
           "lakecolor": "white",
           "landcolor": "#E5ECF6",
           "showlakes": true,
           "showland": true,
           "subunitcolor": "white"
          },
          "hoverlabel": {
           "align": "left"
          },
          "hovermode": "closest",
          "mapbox": {
           "style": "light"
          },
          "paper_bgcolor": "white",
          "plot_bgcolor": "#E5ECF6",
          "polar": {
           "angularaxis": {
            "gridcolor": "white",
            "linecolor": "white",
            "ticks": ""
           },
           "bgcolor": "#E5ECF6",
           "radialaxis": {
            "gridcolor": "white",
            "linecolor": "white",
            "ticks": ""
           }
          },
          "scene": {
           "xaxis": {
            "backgroundcolor": "#E5ECF6",
            "gridcolor": "white",
            "gridwidth": 2,
            "linecolor": "white",
            "showbackground": true,
            "ticks": "",
            "zerolinecolor": "white"
           },
           "yaxis": {
            "backgroundcolor": "#E5ECF6",
            "gridcolor": "white",
            "gridwidth": 2,
            "linecolor": "white",
            "showbackground": true,
            "ticks": "",
            "zerolinecolor": "white"
           },
           "zaxis": {
            "backgroundcolor": "#E5ECF6",
            "gridcolor": "white",
            "gridwidth": 2,
            "linecolor": "white",
            "showbackground": true,
            "ticks": "",
            "zerolinecolor": "white"
           }
          },
          "shapedefaults": {
           "line": {
            "color": "#2a3f5f"
           }
          },
          "ternary": {
           "aaxis": {
            "gridcolor": "white",
            "linecolor": "white",
            "ticks": ""
           },
           "baxis": {
            "gridcolor": "white",
            "linecolor": "white",
            "ticks": ""
           },
           "bgcolor": "#E5ECF6",
           "caxis": {
            "gridcolor": "white",
            "linecolor": "white",
            "ticks": ""
           }
          },
          "title": {
           "x": 0.05
          },
          "xaxis": {
           "automargin": true,
           "gridcolor": "white",
           "linecolor": "white",
           "ticks": "",
           "title": {
            "standoff": 15
           },
           "zerolinecolor": "white",
           "zerolinewidth": 2
          },
          "yaxis": {
           "automargin": true,
           "gridcolor": "white",
           "linecolor": "white",
           "ticks": "",
           "title": {
            "standoff": 15
           },
           "zerolinecolor": "white",
           "zerolinewidth": 2
          }
         }
        },
        "title": {
         "text": "Number of exhibitions by year - Tanager Gallery"
        },
        "xaxis": {
         "anchor": "y",
         "domain": [
          0,
          1
         ],
         "title": {
          "text": "Year"
         }
        },
        "yaxis": {
         "anchor": "x",
         "domain": [
          0,
          1
         ],
         "title": {
          "text": "Number of exhibitions"
         }
        }
       }
      }
     },
     "metadata": {},
     "output_type": "display_data"
    },
    {
     "name": "stdout",
     "output_type": "stream",
     "text": [
      "SortedDict({'1959': 5, '1960': 12, '1961': 3, '1990': 1})\n"
     ]
    },
    {
     "data": {
      "application/vnd.plotly.v1+json": {
       "config": {
        "plotlyServerURL": "https://plot.ly"
       },
       "data": [
        {
         "alignmentgroup": "True",
         "hovertemplate": "Year=%{x}<br>Number of exhibitions=%{y}<extra></extra>",
         "legendgroup": "",
         "marker": {
          "color": "#636efa",
          "pattern": {
           "shape": ""
          }
         },
         "name": "",
         "offsetgroup": "",
         "orientation": "v",
         "showlegend": false,
         "textposition": "auto",
         "type": "bar",
         "x": [
          "1959",
          "1960",
          "1961",
          "1990"
         ],
         "xaxis": "x",
         "y": [
          5,
          12,
          3,
          1
         ],
         "yaxis": "y"
        }
       ],
       "layout": {
        "barmode": "relative",
        "legend": {
         "tracegroupgap": 0
        },
        "template": {
         "data": {
          "bar": [
           {
            "error_x": {
             "color": "#2a3f5f"
            },
            "error_y": {
             "color": "#2a3f5f"
            },
            "marker": {
             "line": {
              "color": "#E5ECF6",
              "width": 0.5
             },
             "pattern": {
              "fillmode": "overlay",
              "size": 10,
              "solidity": 0.2
             }
            },
            "type": "bar"
           }
          ],
          "barpolar": [
           {
            "marker": {
             "line": {
              "color": "#E5ECF6",
              "width": 0.5
             },
             "pattern": {
              "fillmode": "overlay",
              "size": 10,
              "solidity": 0.2
             }
            },
            "type": "barpolar"
           }
          ],
          "carpet": [
           {
            "aaxis": {
             "endlinecolor": "#2a3f5f",
             "gridcolor": "white",
             "linecolor": "white",
             "minorgridcolor": "white",
             "startlinecolor": "#2a3f5f"
            },
            "baxis": {
             "endlinecolor": "#2a3f5f",
             "gridcolor": "white",
             "linecolor": "white",
             "minorgridcolor": "white",
             "startlinecolor": "#2a3f5f"
            },
            "type": "carpet"
           }
          ],
          "choropleth": [
           {
            "colorbar": {
             "outlinewidth": 0,
             "ticks": ""
            },
            "type": "choropleth"
           }
          ],
          "contour": [
           {
            "colorbar": {
             "outlinewidth": 0,
             "ticks": ""
            },
            "colorscale": [
             [
              0,
              "#0d0887"
             ],
             [
              0.1111111111111111,
              "#46039f"
             ],
             [
              0.2222222222222222,
              "#7201a8"
             ],
             [
              0.3333333333333333,
              "#9c179e"
             ],
             [
              0.4444444444444444,
              "#bd3786"
             ],
             [
              0.5555555555555556,
              "#d8576b"
             ],
             [
              0.6666666666666666,
              "#ed7953"
             ],
             [
              0.7777777777777778,
              "#fb9f3a"
             ],
             [
              0.8888888888888888,
              "#fdca26"
             ],
             [
              1,
              "#f0f921"
             ]
            ],
            "type": "contour"
           }
          ],
          "contourcarpet": [
           {
            "colorbar": {
             "outlinewidth": 0,
             "ticks": ""
            },
            "type": "contourcarpet"
           }
          ],
          "heatmap": [
           {
            "colorbar": {
             "outlinewidth": 0,
             "ticks": ""
            },
            "colorscale": [
             [
              0,
              "#0d0887"
             ],
             [
              0.1111111111111111,
              "#46039f"
             ],
             [
              0.2222222222222222,
              "#7201a8"
             ],
             [
              0.3333333333333333,
              "#9c179e"
             ],
             [
              0.4444444444444444,
              "#bd3786"
             ],
             [
              0.5555555555555556,
              "#d8576b"
             ],
             [
              0.6666666666666666,
              "#ed7953"
             ],
             [
              0.7777777777777778,
              "#fb9f3a"
             ],
             [
              0.8888888888888888,
              "#fdca26"
             ],
             [
              1,
              "#f0f921"
             ]
            ],
            "type": "heatmap"
           }
          ],
          "heatmapgl": [
           {
            "colorbar": {
             "outlinewidth": 0,
             "ticks": ""
            },
            "colorscale": [
             [
              0,
              "#0d0887"
             ],
             [
              0.1111111111111111,
              "#46039f"
             ],
             [
              0.2222222222222222,
              "#7201a8"
             ],
             [
              0.3333333333333333,
              "#9c179e"
             ],
             [
              0.4444444444444444,
              "#bd3786"
             ],
             [
              0.5555555555555556,
              "#d8576b"
             ],
             [
              0.6666666666666666,
              "#ed7953"
             ],
             [
              0.7777777777777778,
              "#fb9f3a"
             ],
             [
              0.8888888888888888,
              "#fdca26"
             ],
             [
              1,
              "#f0f921"
             ]
            ],
            "type": "heatmapgl"
           }
          ],
          "histogram": [
           {
            "marker": {
             "pattern": {
              "fillmode": "overlay",
              "size": 10,
              "solidity": 0.2
             }
            },
            "type": "histogram"
           }
          ],
          "histogram2d": [
           {
            "colorbar": {
             "outlinewidth": 0,
             "ticks": ""
            },
            "colorscale": [
             [
              0,
              "#0d0887"
             ],
             [
              0.1111111111111111,
              "#46039f"
             ],
             [
              0.2222222222222222,
              "#7201a8"
             ],
             [
              0.3333333333333333,
              "#9c179e"
             ],
             [
              0.4444444444444444,
              "#bd3786"
             ],
             [
              0.5555555555555556,
              "#d8576b"
             ],
             [
              0.6666666666666666,
              "#ed7953"
             ],
             [
              0.7777777777777778,
              "#fb9f3a"
             ],
             [
              0.8888888888888888,
              "#fdca26"
             ],
             [
              1,
              "#f0f921"
             ]
            ],
            "type": "histogram2d"
           }
          ],
          "histogram2dcontour": [
           {
            "colorbar": {
             "outlinewidth": 0,
             "ticks": ""
            },
            "colorscale": [
             [
              0,
              "#0d0887"
             ],
             [
              0.1111111111111111,
              "#46039f"
             ],
             [
              0.2222222222222222,
              "#7201a8"
             ],
             [
              0.3333333333333333,
              "#9c179e"
             ],
             [
              0.4444444444444444,
              "#bd3786"
             ],
             [
              0.5555555555555556,
              "#d8576b"
             ],
             [
              0.6666666666666666,
              "#ed7953"
             ],
             [
              0.7777777777777778,
              "#fb9f3a"
             ],
             [
              0.8888888888888888,
              "#fdca26"
             ],
             [
              1,
              "#f0f921"
             ]
            ],
            "type": "histogram2dcontour"
           }
          ],
          "mesh3d": [
           {
            "colorbar": {
             "outlinewidth": 0,
             "ticks": ""
            },
            "type": "mesh3d"
           }
          ],
          "parcoords": [
           {
            "line": {
             "colorbar": {
              "outlinewidth": 0,
              "ticks": ""
             }
            },
            "type": "parcoords"
           }
          ],
          "pie": [
           {
            "automargin": true,
            "type": "pie"
           }
          ],
          "scatter": [
           {
            "fillpattern": {
             "fillmode": "overlay",
             "size": 10,
             "solidity": 0.2
            },
            "type": "scatter"
           }
          ],
          "scatter3d": [
           {
            "line": {
             "colorbar": {
              "outlinewidth": 0,
              "ticks": ""
             }
            },
            "marker": {
             "colorbar": {
              "outlinewidth": 0,
              "ticks": ""
             }
            },
            "type": "scatter3d"
           }
          ],
          "scattercarpet": [
           {
            "marker": {
             "colorbar": {
              "outlinewidth": 0,
              "ticks": ""
             }
            },
            "type": "scattercarpet"
           }
          ],
          "scattergeo": [
           {
            "marker": {
             "colorbar": {
              "outlinewidth": 0,
              "ticks": ""
             }
            },
            "type": "scattergeo"
           }
          ],
          "scattergl": [
           {
            "marker": {
             "colorbar": {
              "outlinewidth": 0,
              "ticks": ""
             }
            },
            "type": "scattergl"
           }
          ],
          "scattermapbox": [
           {
            "marker": {
             "colorbar": {
              "outlinewidth": 0,
              "ticks": ""
             }
            },
            "type": "scattermapbox"
           }
          ],
          "scatterpolar": [
           {
            "marker": {
             "colorbar": {
              "outlinewidth": 0,
              "ticks": ""
             }
            },
            "type": "scatterpolar"
           }
          ],
          "scatterpolargl": [
           {
            "marker": {
             "colorbar": {
              "outlinewidth": 0,
              "ticks": ""
             }
            },
            "type": "scatterpolargl"
           }
          ],
          "scatterternary": [
           {
            "marker": {
             "colorbar": {
              "outlinewidth": 0,
              "ticks": ""
             }
            },
            "type": "scatterternary"
           }
          ],
          "surface": [
           {
            "colorbar": {
             "outlinewidth": 0,
             "ticks": ""
            },
            "colorscale": [
             [
              0,
              "#0d0887"
             ],
             [
              0.1111111111111111,
              "#46039f"
             ],
             [
              0.2222222222222222,
              "#7201a8"
             ],
             [
              0.3333333333333333,
              "#9c179e"
             ],
             [
              0.4444444444444444,
              "#bd3786"
             ],
             [
              0.5555555555555556,
              "#d8576b"
             ],
             [
              0.6666666666666666,
              "#ed7953"
             ],
             [
              0.7777777777777778,
              "#fb9f3a"
             ],
             [
              0.8888888888888888,
              "#fdca26"
             ],
             [
              1,
              "#f0f921"
             ]
            ],
            "type": "surface"
           }
          ],
          "table": [
           {
            "cells": {
             "fill": {
              "color": "#EBF0F8"
             },
             "line": {
              "color": "white"
             }
            },
            "header": {
             "fill": {
              "color": "#C8D4E3"
             },
             "line": {
              "color": "white"
             }
            },
            "type": "table"
           }
          ]
         },
         "layout": {
          "annotationdefaults": {
           "arrowcolor": "#2a3f5f",
           "arrowhead": 0,
           "arrowwidth": 1
          },
          "autotypenumbers": "strict",
          "coloraxis": {
           "colorbar": {
            "outlinewidth": 0,
            "ticks": ""
           }
          },
          "colorscale": {
           "diverging": [
            [
             0,
             "#8e0152"
            ],
            [
             0.1,
             "#c51b7d"
            ],
            [
             0.2,
             "#de77ae"
            ],
            [
             0.3,
             "#f1b6da"
            ],
            [
             0.4,
             "#fde0ef"
            ],
            [
             0.5,
             "#f7f7f7"
            ],
            [
             0.6,
             "#e6f5d0"
            ],
            [
             0.7,
             "#b8e186"
            ],
            [
             0.8,
             "#7fbc41"
            ],
            [
             0.9,
             "#4d9221"
            ],
            [
             1,
             "#276419"
            ]
           ],
           "sequential": [
            [
             0,
             "#0d0887"
            ],
            [
             0.1111111111111111,
             "#46039f"
            ],
            [
             0.2222222222222222,
             "#7201a8"
            ],
            [
             0.3333333333333333,
             "#9c179e"
            ],
            [
             0.4444444444444444,
             "#bd3786"
            ],
            [
             0.5555555555555556,
             "#d8576b"
            ],
            [
             0.6666666666666666,
             "#ed7953"
            ],
            [
             0.7777777777777778,
             "#fb9f3a"
            ],
            [
             0.8888888888888888,
             "#fdca26"
            ],
            [
             1,
             "#f0f921"
            ]
           ],
           "sequentialminus": [
            [
             0,
             "#0d0887"
            ],
            [
             0.1111111111111111,
             "#46039f"
            ],
            [
             0.2222222222222222,
             "#7201a8"
            ],
            [
             0.3333333333333333,
             "#9c179e"
            ],
            [
             0.4444444444444444,
             "#bd3786"
            ],
            [
             0.5555555555555556,
             "#d8576b"
            ],
            [
             0.6666666666666666,
             "#ed7953"
            ],
            [
             0.7777777777777778,
             "#fb9f3a"
            ],
            [
             0.8888888888888888,
             "#fdca26"
            ],
            [
             1,
             "#f0f921"
            ]
           ]
          },
          "colorway": [
           "#636efa",
           "#EF553B",
           "#00cc96",
           "#ab63fa",
           "#FFA15A",
           "#19d3f3",
           "#FF6692",
           "#B6E880",
           "#FF97FF",
           "#FECB52"
          ],
          "font": {
           "color": "#2a3f5f"
          },
          "geo": {
           "bgcolor": "white",
           "lakecolor": "white",
           "landcolor": "#E5ECF6",
           "showlakes": true,
           "showland": true,
           "subunitcolor": "white"
          },
          "hoverlabel": {
           "align": "left"
          },
          "hovermode": "closest",
          "mapbox": {
           "style": "light"
          },
          "paper_bgcolor": "white",
          "plot_bgcolor": "#E5ECF6",
          "polar": {
           "angularaxis": {
            "gridcolor": "white",
            "linecolor": "white",
            "ticks": ""
           },
           "bgcolor": "#E5ECF6",
           "radialaxis": {
            "gridcolor": "white",
            "linecolor": "white",
            "ticks": ""
           }
          },
          "scene": {
           "xaxis": {
            "backgroundcolor": "#E5ECF6",
            "gridcolor": "white",
            "gridwidth": 2,
            "linecolor": "white",
            "showbackground": true,
            "ticks": "",
            "zerolinecolor": "white"
           },
           "yaxis": {
            "backgroundcolor": "#E5ECF6",
            "gridcolor": "white",
            "gridwidth": 2,
            "linecolor": "white",
            "showbackground": true,
            "ticks": "",
            "zerolinecolor": "white"
           },
           "zaxis": {
            "backgroundcolor": "#E5ECF6",
            "gridcolor": "white",
            "gridwidth": 2,
            "linecolor": "white",
            "showbackground": true,
            "ticks": "",
            "zerolinecolor": "white"
           }
          },
          "shapedefaults": {
           "line": {
            "color": "#2a3f5f"
           }
          },
          "ternary": {
           "aaxis": {
            "gridcolor": "white",
            "linecolor": "white",
            "ticks": ""
           },
           "baxis": {
            "gridcolor": "white",
            "linecolor": "white",
            "ticks": ""
           },
           "bgcolor": "#E5ECF6",
           "caxis": {
            "gridcolor": "white",
            "linecolor": "white",
            "ticks": ""
           }
          },
          "title": {
           "x": 0.05
          },
          "xaxis": {
           "automargin": true,
           "gridcolor": "white",
           "linecolor": "white",
           "ticks": "",
           "title": {
            "standoff": 15
           },
           "zerolinecolor": "white",
           "zerolinewidth": 2
          },
          "yaxis": {
           "automargin": true,
           "gridcolor": "white",
           "linecolor": "white",
           "ticks": "",
           "title": {
            "standoff": 15
           },
           "zerolinecolor": "white",
           "zerolinewidth": 2
          }
         }
        },
        "title": {
         "text": "Number of exhibitions by year - Reuben Gallery"
        },
        "xaxis": {
         "anchor": "y",
         "domain": [
          0,
          1
         ],
         "title": {
          "text": "Year"
         }
        },
        "yaxis": {
         "anchor": "x",
         "domain": [
          0,
          1
         ],
         "title": {
          "text": "Number of exhibitions"
         }
        }
       }
      }
     },
     "metadata": {},
     "output_type": "display_data"
    },
    {
     "name": "stdout",
     "output_type": "stream",
     "text": [
      "SortedDict({'1952': 3, '1953': 16, '1954': 14, '1955': 9, '1956': 11, '1957': 13, '1958': 11, '1959': 7})\n"
     ]
    },
    {
     "data": {
      "application/vnd.plotly.v1+json": {
       "config": {
        "plotlyServerURL": "https://plot.ly"
       },
       "data": [
        {
         "alignmentgroup": "True",
         "hovertemplate": "Year=%{x}<br>Number of exhibitions=%{y}<extra></extra>",
         "legendgroup": "",
         "marker": {
          "color": "#636efa",
          "pattern": {
           "shape": ""
          }
         },
         "name": "",
         "offsetgroup": "",
         "orientation": "v",
         "showlegend": false,
         "textposition": "auto",
         "type": "bar",
         "x": [
          "1952",
          "1953",
          "1954",
          "1955",
          "1956",
          "1957",
          "1958",
          "1959"
         ],
         "xaxis": "x",
         "y": [
          3,
          16,
          14,
          9,
          11,
          13,
          11,
          7
         ],
         "yaxis": "y"
        }
       ],
       "layout": {
        "barmode": "relative",
        "legend": {
         "tracegroupgap": 0
        },
        "template": {
         "data": {
          "bar": [
           {
            "error_x": {
             "color": "#2a3f5f"
            },
            "error_y": {
             "color": "#2a3f5f"
            },
            "marker": {
             "line": {
              "color": "#E5ECF6",
              "width": 0.5
             },
             "pattern": {
              "fillmode": "overlay",
              "size": 10,
              "solidity": 0.2
             }
            },
            "type": "bar"
           }
          ],
          "barpolar": [
           {
            "marker": {
             "line": {
              "color": "#E5ECF6",
              "width": 0.5
             },
             "pattern": {
              "fillmode": "overlay",
              "size": 10,
              "solidity": 0.2
             }
            },
            "type": "barpolar"
           }
          ],
          "carpet": [
           {
            "aaxis": {
             "endlinecolor": "#2a3f5f",
             "gridcolor": "white",
             "linecolor": "white",
             "minorgridcolor": "white",
             "startlinecolor": "#2a3f5f"
            },
            "baxis": {
             "endlinecolor": "#2a3f5f",
             "gridcolor": "white",
             "linecolor": "white",
             "minorgridcolor": "white",
             "startlinecolor": "#2a3f5f"
            },
            "type": "carpet"
           }
          ],
          "choropleth": [
           {
            "colorbar": {
             "outlinewidth": 0,
             "ticks": ""
            },
            "type": "choropleth"
           }
          ],
          "contour": [
           {
            "colorbar": {
             "outlinewidth": 0,
             "ticks": ""
            },
            "colorscale": [
             [
              0,
              "#0d0887"
             ],
             [
              0.1111111111111111,
              "#46039f"
             ],
             [
              0.2222222222222222,
              "#7201a8"
             ],
             [
              0.3333333333333333,
              "#9c179e"
             ],
             [
              0.4444444444444444,
              "#bd3786"
             ],
             [
              0.5555555555555556,
              "#d8576b"
             ],
             [
              0.6666666666666666,
              "#ed7953"
             ],
             [
              0.7777777777777778,
              "#fb9f3a"
             ],
             [
              0.8888888888888888,
              "#fdca26"
             ],
             [
              1,
              "#f0f921"
             ]
            ],
            "type": "contour"
           }
          ],
          "contourcarpet": [
           {
            "colorbar": {
             "outlinewidth": 0,
             "ticks": ""
            },
            "type": "contourcarpet"
           }
          ],
          "heatmap": [
           {
            "colorbar": {
             "outlinewidth": 0,
             "ticks": ""
            },
            "colorscale": [
             [
              0,
              "#0d0887"
             ],
             [
              0.1111111111111111,
              "#46039f"
             ],
             [
              0.2222222222222222,
              "#7201a8"
             ],
             [
              0.3333333333333333,
              "#9c179e"
             ],
             [
              0.4444444444444444,
              "#bd3786"
             ],
             [
              0.5555555555555556,
              "#d8576b"
             ],
             [
              0.6666666666666666,
              "#ed7953"
             ],
             [
              0.7777777777777778,
              "#fb9f3a"
             ],
             [
              0.8888888888888888,
              "#fdca26"
             ],
             [
              1,
              "#f0f921"
             ]
            ],
            "type": "heatmap"
           }
          ],
          "heatmapgl": [
           {
            "colorbar": {
             "outlinewidth": 0,
             "ticks": ""
            },
            "colorscale": [
             [
              0,
              "#0d0887"
             ],
             [
              0.1111111111111111,
              "#46039f"
             ],
             [
              0.2222222222222222,
              "#7201a8"
             ],
             [
              0.3333333333333333,
              "#9c179e"
             ],
             [
              0.4444444444444444,
              "#bd3786"
             ],
             [
              0.5555555555555556,
              "#d8576b"
             ],
             [
              0.6666666666666666,
              "#ed7953"
             ],
             [
              0.7777777777777778,
              "#fb9f3a"
             ],
             [
              0.8888888888888888,
              "#fdca26"
             ],
             [
              1,
              "#f0f921"
             ]
            ],
            "type": "heatmapgl"
           }
          ],
          "histogram": [
           {
            "marker": {
             "pattern": {
              "fillmode": "overlay",
              "size": 10,
              "solidity": 0.2
             }
            },
            "type": "histogram"
           }
          ],
          "histogram2d": [
           {
            "colorbar": {
             "outlinewidth": 0,
             "ticks": ""
            },
            "colorscale": [
             [
              0,
              "#0d0887"
             ],
             [
              0.1111111111111111,
              "#46039f"
             ],
             [
              0.2222222222222222,
              "#7201a8"
             ],
             [
              0.3333333333333333,
              "#9c179e"
             ],
             [
              0.4444444444444444,
              "#bd3786"
             ],
             [
              0.5555555555555556,
              "#d8576b"
             ],
             [
              0.6666666666666666,
              "#ed7953"
             ],
             [
              0.7777777777777778,
              "#fb9f3a"
             ],
             [
              0.8888888888888888,
              "#fdca26"
             ],
             [
              1,
              "#f0f921"
             ]
            ],
            "type": "histogram2d"
           }
          ],
          "histogram2dcontour": [
           {
            "colorbar": {
             "outlinewidth": 0,
             "ticks": ""
            },
            "colorscale": [
             [
              0,
              "#0d0887"
             ],
             [
              0.1111111111111111,
              "#46039f"
             ],
             [
              0.2222222222222222,
              "#7201a8"
             ],
             [
              0.3333333333333333,
              "#9c179e"
             ],
             [
              0.4444444444444444,
              "#bd3786"
             ],
             [
              0.5555555555555556,
              "#d8576b"
             ],
             [
              0.6666666666666666,
              "#ed7953"
             ],
             [
              0.7777777777777778,
              "#fb9f3a"
             ],
             [
              0.8888888888888888,
              "#fdca26"
             ],
             [
              1,
              "#f0f921"
             ]
            ],
            "type": "histogram2dcontour"
           }
          ],
          "mesh3d": [
           {
            "colorbar": {
             "outlinewidth": 0,
             "ticks": ""
            },
            "type": "mesh3d"
           }
          ],
          "parcoords": [
           {
            "line": {
             "colorbar": {
              "outlinewidth": 0,
              "ticks": ""
             }
            },
            "type": "parcoords"
           }
          ],
          "pie": [
           {
            "automargin": true,
            "type": "pie"
           }
          ],
          "scatter": [
           {
            "fillpattern": {
             "fillmode": "overlay",
             "size": 10,
             "solidity": 0.2
            },
            "type": "scatter"
           }
          ],
          "scatter3d": [
           {
            "line": {
             "colorbar": {
              "outlinewidth": 0,
              "ticks": ""
             }
            },
            "marker": {
             "colorbar": {
              "outlinewidth": 0,
              "ticks": ""
             }
            },
            "type": "scatter3d"
           }
          ],
          "scattercarpet": [
           {
            "marker": {
             "colorbar": {
              "outlinewidth": 0,
              "ticks": ""
             }
            },
            "type": "scattercarpet"
           }
          ],
          "scattergeo": [
           {
            "marker": {
             "colorbar": {
              "outlinewidth": 0,
              "ticks": ""
             }
            },
            "type": "scattergeo"
           }
          ],
          "scattergl": [
           {
            "marker": {
             "colorbar": {
              "outlinewidth": 0,
              "ticks": ""
             }
            },
            "type": "scattergl"
           }
          ],
          "scattermapbox": [
           {
            "marker": {
             "colorbar": {
              "outlinewidth": 0,
              "ticks": ""
             }
            },
            "type": "scattermapbox"
           }
          ],
          "scatterpolar": [
           {
            "marker": {
             "colorbar": {
              "outlinewidth": 0,
              "ticks": ""
             }
            },
            "type": "scatterpolar"
           }
          ],
          "scatterpolargl": [
           {
            "marker": {
             "colorbar": {
              "outlinewidth": 0,
              "ticks": ""
             }
            },
            "type": "scatterpolargl"
           }
          ],
          "scatterternary": [
           {
            "marker": {
             "colorbar": {
              "outlinewidth": 0,
              "ticks": ""
             }
            },
            "type": "scatterternary"
           }
          ],
          "surface": [
           {
            "colorbar": {
             "outlinewidth": 0,
             "ticks": ""
            },
            "colorscale": [
             [
              0,
              "#0d0887"
             ],
             [
              0.1111111111111111,
              "#46039f"
             ],
             [
              0.2222222222222222,
              "#7201a8"
             ],
             [
              0.3333333333333333,
              "#9c179e"
             ],
             [
              0.4444444444444444,
              "#bd3786"
             ],
             [
              0.5555555555555556,
              "#d8576b"
             ],
             [
              0.6666666666666666,
              "#ed7953"
             ],
             [
              0.7777777777777778,
              "#fb9f3a"
             ],
             [
              0.8888888888888888,
              "#fdca26"
             ],
             [
              1,
              "#f0f921"
             ]
            ],
            "type": "surface"
           }
          ],
          "table": [
           {
            "cells": {
             "fill": {
              "color": "#EBF0F8"
             },
             "line": {
              "color": "white"
             }
            },
            "header": {
             "fill": {
              "color": "#C8D4E3"
             },
             "line": {
              "color": "white"
             }
            },
            "type": "table"
           }
          ]
         },
         "layout": {
          "annotationdefaults": {
           "arrowcolor": "#2a3f5f",
           "arrowhead": 0,
           "arrowwidth": 1
          },
          "autotypenumbers": "strict",
          "coloraxis": {
           "colorbar": {
            "outlinewidth": 0,
            "ticks": ""
           }
          },
          "colorscale": {
           "diverging": [
            [
             0,
             "#8e0152"
            ],
            [
             0.1,
             "#c51b7d"
            ],
            [
             0.2,
             "#de77ae"
            ],
            [
             0.3,
             "#f1b6da"
            ],
            [
             0.4,
             "#fde0ef"
            ],
            [
             0.5,
             "#f7f7f7"
            ],
            [
             0.6,
             "#e6f5d0"
            ],
            [
             0.7,
             "#b8e186"
            ],
            [
             0.8,
             "#7fbc41"
            ],
            [
             0.9,
             "#4d9221"
            ],
            [
             1,
             "#276419"
            ]
           ],
           "sequential": [
            [
             0,
             "#0d0887"
            ],
            [
             0.1111111111111111,
             "#46039f"
            ],
            [
             0.2222222222222222,
             "#7201a8"
            ],
            [
             0.3333333333333333,
             "#9c179e"
            ],
            [
             0.4444444444444444,
             "#bd3786"
            ],
            [
             0.5555555555555556,
             "#d8576b"
            ],
            [
             0.6666666666666666,
             "#ed7953"
            ],
            [
             0.7777777777777778,
             "#fb9f3a"
            ],
            [
             0.8888888888888888,
             "#fdca26"
            ],
            [
             1,
             "#f0f921"
            ]
           ],
           "sequentialminus": [
            [
             0,
             "#0d0887"
            ],
            [
             0.1111111111111111,
             "#46039f"
            ],
            [
             0.2222222222222222,
             "#7201a8"
            ],
            [
             0.3333333333333333,
             "#9c179e"
            ],
            [
             0.4444444444444444,
             "#bd3786"
            ],
            [
             0.5555555555555556,
             "#d8576b"
            ],
            [
             0.6666666666666666,
             "#ed7953"
            ],
            [
             0.7777777777777778,
             "#fb9f3a"
            ],
            [
             0.8888888888888888,
             "#fdca26"
            ],
            [
             1,
             "#f0f921"
            ]
           ]
          },
          "colorway": [
           "#636efa",
           "#EF553B",
           "#00cc96",
           "#ab63fa",
           "#FFA15A",
           "#19d3f3",
           "#FF6692",
           "#B6E880",
           "#FF97FF",
           "#FECB52"
          ],
          "font": {
           "color": "#2a3f5f"
          },
          "geo": {
           "bgcolor": "white",
           "lakecolor": "white",
           "landcolor": "#E5ECF6",
           "showlakes": true,
           "showland": true,
           "subunitcolor": "white"
          },
          "hoverlabel": {
           "align": "left"
          },
          "hovermode": "closest",
          "mapbox": {
           "style": "light"
          },
          "paper_bgcolor": "white",
          "plot_bgcolor": "#E5ECF6",
          "polar": {
           "angularaxis": {
            "gridcolor": "white",
            "linecolor": "white",
            "ticks": ""
           },
           "bgcolor": "#E5ECF6",
           "radialaxis": {
            "gridcolor": "white",
            "linecolor": "white",
            "ticks": ""
           }
          },
          "scene": {
           "xaxis": {
            "backgroundcolor": "#E5ECF6",
            "gridcolor": "white",
            "gridwidth": 2,
            "linecolor": "white",
            "showbackground": true,
            "ticks": "",
            "zerolinecolor": "white"
           },
           "yaxis": {
            "backgroundcolor": "#E5ECF6",
            "gridcolor": "white",
            "gridwidth": 2,
            "linecolor": "white",
            "showbackground": true,
            "ticks": "",
            "zerolinecolor": "white"
           },
           "zaxis": {
            "backgroundcolor": "#E5ECF6",
            "gridcolor": "white",
            "gridwidth": 2,
            "linecolor": "white",
            "showbackground": true,
            "ticks": "",
            "zerolinecolor": "white"
           }
          },
          "shapedefaults": {
           "line": {
            "color": "#2a3f5f"
           }
          },
          "ternary": {
           "aaxis": {
            "gridcolor": "white",
            "linecolor": "white",
            "ticks": ""
           },
           "baxis": {
            "gridcolor": "white",
            "linecolor": "white",
            "ticks": ""
           },
           "bgcolor": "#E5ECF6",
           "caxis": {
            "gridcolor": "white",
            "linecolor": "white",
            "ticks": ""
           }
          },
          "title": {
           "x": 0.05
          },
          "xaxis": {
           "automargin": true,
           "gridcolor": "white",
           "linecolor": "white",
           "ticks": "",
           "title": {
            "standoff": 15
           },
           "zerolinecolor": "white",
           "zerolinewidth": 2
          },
          "yaxis": {
           "automargin": true,
           "gridcolor": "white",
           "linecolor": "white",
           "ticks": "",
           "title": {
            "standoff": 15
           },
           "zerolinecolor": "white",
           "zerolinewidth": 2
          }
         }
        },
        "title": {
         "text": "Number of exhibitions by year - Hansa Gallery"
        },
        "xaxis": {
         "anchor": "y",
         "domain": [
          0,
          1
         ],
         "title": {
          "text": "Year"
         }
        },
        "yaxis": {
         "anchor": "x",
         "domain": [
          0,
          1
         ],
         "title": {
          "text": "Number of exhibitions"
         }
        }
       }
      }
     },
     "metadata": {},
     "output_type": "display_data"
    },
    {
     "name": "stdout",
     "output_type": "stream",
     "text": [
      "SortedDict({'1960': 3, '1961': 9, '1962': 12, '1963': 10, '1964': 11, '1965': 6})\n"
     ]
    },
    {
     "data": {
      "application/vnd.plotly.v1+json": {
       "config": {
        "plotlyServerURL": "https://plot.ly"
       },
       "data": [
        {
         "alignmentgroup": "True",
         "hovertemplate": "Year=%{x}<br>Number of exhibitions=%{y}<extra></extra>",
         "legendgroup": "",
         "marker": {
          "color": "#636efa",
          "pattern": {
           "shape": ""
          }
         },
         "name": "",
         "offsetgroup": "",
         "orientation": "v",
         "showlegend": false,
         "textposition": "auto",
         "type": "bar",
         "x": [
          "1960",
          "1961",
          "1962",
          "1963",
          "1964",
          "1965"
         ],
         "xaxis": "x",
         "y": [
          3,
          9,
          12,
          10,
          11,
          6
         ],
         "yaxis": "y"
        }
       ],
       "layout": {
        "barmode": "relative",
        "legend": {
         "tracegroupgap": 0
        },
        "template": {
         "data": {
          "bar": [
           {
            "error_x": {
             "color": "#2a3f5f"
            },
            "error_y": {
             "color": "#2a3f5f"
            },
            "marker": {
             "line": {
              "color": "#E5ECF6",
              "width": 0.5
             },
             "pattern": {
              "fillmode": "overlay",
              "size": 10,
              "solidity": 0.2
             }
            },
            "type": "bar"
           }
          ],
          "barpolar": [
           {
            "marker": {
             "line": {
              "color": "#E5ECF6",
              "width": 0.5
             },
             "pattern": {
              "fillmode": "overlay",
              "size": 10,
              "solidity": 0.2
             }
            },
            "type": "barpolar"
           }
          ],
          "carpet": [
           {
            "aaxis": {
             "endlinecolor": "#2a3f5f",
             "gridcolor": "white",
             "linecolor": "white",
             "minorgridcolor": "white",
             "startlinecolor": "#2a3f5f"
            },
            "baxis": {
             "endlinecolor": "#2a3f5f",
             "gridcolor": "white",
             "linecolor": "white",
             "minorgridcolor": "white",
             "startlinecolor": "#2a3f5f"
            },
            "type": "carpet"
           }
          ],
          "choropleth": [
           {
            "colorbar": {
             "outlinewidth": 0,
             "ticks": ""
            },
            "type": "choropleth"
           }
          ],
          "contour": [
           {
            "colorbar": {
             "outlinewidth": 0,
             "ticks": ""
            },
            "colorscale": [
             [
              0,
              "#0d0887"
             ],
             [
              0.1111111111111111,
              "#46039f"
             ],
             [
              0.2222222222222222,
              "#7201a8"
             ],
             [
              0.3333333333333333,
              "#9c179e"
             ],
             [
              0.4444444444444444,
              "#bd3786"
             ],
             [
              0.5555555555555556,
              "#d8576b"
             ],
             [
              0.6666666666666666,
              "#ed7953"
             ],
             [
              0.7777777777777778,
              "#fb9f3a"
             ],
             [
              0.8888888888888888,
              "#fdca26"
             ],
             [
              1,
              "#f0f921"
             ]
            ],
            "type": "contour"
           }
          ],
          "contourcarpet": [
           {
            "colorbar": {
             "outlinewidth": 0,
             "ticks": ""
            },
            "type": "contourcarpet"
           }
          ],
          "heatmap": [
           {
            "colorbar": {
             "outlinewidth": 0,
             "ticks": ""
            },
            "colorscale": [
             [
              0,
              "#0d0887"
             ],
             [
              0.1111111111111111,
              "#46039f"
             ],
             [
              0.2222222222222222,
              "#7201a8"
             ],
             [
              0.3333333333333333,
              "#9c179e"
             ],
             [
              0.4444444444444444,
              "#bd3786"
             ],
             [
              0.5555555555555556,
              "#d8576b"
             ],
             [
              0.6666666666666666,
              "#ed7953"
             ],
             [
              0.7777777777777778,
              "#fb9f3a"
             ],
             [
              0.8888888888888888,
              "#fdca26"
             ],
             [
              1,
              "#f0f921"
             ]
            ],
            "type": "heatmap"
           }
          ],
          "heatmapgl": [
           {
            "colorbar": {
             "outlinewidth": 0,
             "ticks": ""
            },
            "colorscale": [
             [
              0,
              "#0d0887"
             ],
             [
              0.1111111111111111,
              "#46039f"
             ],
             [
              0.2222222222222222,
              "#7201a8"
             ],
             [
              0.3333333333333333,
              "#9c179e"
             ],
             [
              0.4444444444444444,
              "#bd3786"
             ],
             [
              0.5555555555555556,
              "#d8576b"
             ],
             [
              0.6666666666666666,
              "#ed7953"
             ],
             [
              0.7777777777777778,
              "#fb9f3a"
             ],
             [
              0.8888888888888888,
              "#fdca26"
             ],
             [
              1,
              "#f0f921"
             ]
            ],
            "type": "heatmapgl"
           }
          ],
          "histogram": [
           {
            "marker": {
             "pattern": {
              "fillmode": "overlay",
              "size": 10,
              "solidity": 0.2
             }
            },
            "type": "histogram"
           }
          ],
          "histogram2d": [
           {
            "colorbar": {
             "outlinewidth": 0,
             "ticks": ""
            },
            "colorscale": [
             [
              0,
              "#0d0887"
             ],
             [
              0.1111111111111111,
              "#46039f"
             ],
             [
              0.2222222222222222,
              "#7201a8"
             ],
             [
              0.3333333333333333,
              "#9c179e"
             ],
             [
              0.4444444444444444,
              "#bd3786"
             ],
             [
              0.5555555555555556,
              "#d8576b"
             ],
             [
              0.6666666666666666,
              "#ed7953"
             ],
             [
              0.7777777777777778,
              "#fb9f3a"
             ],
             [
              0.8888888888888888,
              "#fdca26"
             ],
             [
              1,
              "#f0f921"
             ]
            ],
            "type": "histogram2d"
           }
          ],
          "histogram2dcontour": [
           {
            "colorbar": {
             "outlinewidth": 0,
             "ticks": ""
            },
            "colorscale": [
             [
              0,
              "#0d0887"
             ],
             [
              0.1111111111111111,
              "#46039f"
             ],
             [
              0.2222222222222222,
              "#7201a8"
             ],
             [
              0.3333333333333333,
              "#9c179e"
             ],
             [
              0.4444444444444444,
              "#bd3786"
             ],
             [
              0.5555555555555556,
              "#d8576b"
             ],
             [
              0.6666666666666666,
              "#ed7953"
             ],
             [
              0.7777777777777778,
              "#fb9f3a"
             ],
             [
              0.8888888888888888,
              "#fdca26"
             ],
             [
              1,
              "#f0f921"
             ]
            ],
            "type": "histogram2dcontour"
           }
          ],
          "mesh3d": [
           {
            "colorbar": {
             "outlinewidth": 0,
             "ticks": ""
            },
            "type": "mesh3d"
           }
          ],
          "parcoords": [
           {
            "line": {
             "colorbar": {
              "outlinewidth": 0,
              "ticks": ""
             }
            },
            "type": "parcoords"
           }
          ],
          "pie": [
           {
            "automargin": true,
            "type": "pie"
           }
          ],
          "scatter": [
           {
            "fillpattern": {
             "fillmode": "overlay",
             "size": 10,
             "solidity": 0.2
            },
            "type": "scatter"
           }
          ],
          "scatter3d": [
           {
            "line": {
             "colorbar": {
              "outlinewidth": 0,
              "ticks": ""
             }
            },
            "marker": {
             "colorbar": {
              "outlinewidth": 0,
              "ticks": ""
             }
            },
            "type": "scatter3d"
           }
          ],
          "scattercarpet": [
           {
            "marker": {
             "colorbar": {
              "outlinewidth": 0,
              "ticks": ""
             }
            },
            "type": "scattercarpet"
           }
          ],
          "scattergeo": [
           {
            "marker": {
             "colorbar": {
              "outlinewidth": 0,
              "ticks": ""
             }
            },
            "type": "scattergeo"
           }
          ],
          "scattergl": [
           {
            "marker": {
             "colorbar": {
              "outlinewidth": 0,
              "ticks": ""
             }
            },
            "type": "scattergl"
           }
          ],
          "scattermapbox": [
           {
            "marker": {
             "colorbar": {
              "outlinewidth": 0,
              "ticks": ""
             }
            },
            "type": "scattermapbox"
           }
          ],
          "scatterpolar": [
           {
            "marker": {
             "colorbar": {
              "outlinewidth": 0,
              "ticks": ""
             }
            },
            "type": "scatterpolar"
           }
          ],
          "scatterpolargl": [
           {
            "marker": {
             "colorbar": {
              "outlinewidth": 0,
              "ticks": ""
             }
            },
            "type": "scatterpolargl"
           }
          ],
          "scatterternary": [
           {
            "marker": {
             "colorbar": {
              "outlinewidth": 0,
              "ticks": ""
             }
            },
            "type": "scatterternary"
           }
          ],
          "surface": [
           {
            "colorbar": {
             "outlinewidth": 0,
             "ticks": ""
            },
            "colorscale": [
             [
              0,
              "#0d0887"
             ],
             [
              0.1111111111111111,
              "#46039f"
             ],
             [
              0.2222222222222222,
              "#7201a8"
             ],
             [
              0.3333333333333333,
              "#9c179e"
             ],
             [
              0.4444444444444444,
              "#bd3786"
             ],
             [
              0.5555555555555556,
              "#d8576b"
             ],
             [
              0.6666666666666666,
              "#ed7953"
             ],
             [
              0.7777777777777778,
              "#fb9f3a"
             ],
             [
              0.8888888888888888,
              "#fdca26"
             ],
             [
              1,
              "#f0f921"
             ]
            ],
            "type": "surface"
           }
          ],
          "table": [
           {
            "cells": {
             "fill": {
              "color": "#EBF0F8"
             },
             "line": {
              "color": "white"
             }
            },
            "header": {
             "fill": {
              "color": "#C8D4E3"
             },
             "line": {
              "color": "white"
             }
            },
            "type": "table"
           }
          ]
         },
         "layout": {
          "annotationdefaults": {
           "arrowcolor": "#2a3f5f",
           "arrowhead": 0,
           "arrowwidth": 1
          },
          "autotypenumbers": "strict",
          "coloraxis": {
           "colorbar": {
            "outlinewidth": 0,
            "ticks": ""
           }
          },
          "colorscale": {
           "diverging": [
            [
             0,
             "#8e0152"
            ],
            [
             0.1,
             "#c51b7d"
            ],
            [
             0.2,
             "#de77ae"
            ],
            [
             0.3,
             "#f1b6da"
            ],
            [
             0.4,
             "#fde0ef"
            ],
            [
             0.5,
             "#f7f7f7"
            ],
            [
             0.6,
             "#e6f5d0"
            ],
            [
             0.7,
             "#b8e186"
            ],
            [
             0.8,
             "#7fbc41"
            ],
            [
             0.9,
             "#4d9221"
            ],
            [
             1,
             "#276419"
            ]
           ],
           "sequential": [
            [
             0,
             "#0d0887"
            ],
            [
             0.1111111111111111,
             "#46039f"
            ],
            [
             0.2222222222222222,
             "#7201a8"
            ],
            [
             0.3333333333333333,
             "#9c179e"
            ],
            [
             0.4444444444444444,
             "#bd3786"
            ],
            [
             0.5555555555555556,
             "#d8576b"
            ],
            [
             0.6666666666666666,
             "#ed7953"
            ],
            [
             0.7777777777777778,
             "#fb9f3a"
            ],
            [
             0.8888888888888888,
             "#fdca26"
            ],
            [
             1,
             "#f0f921"
            ]
           ],
           "sequentialminus": [
            [
             0,
             "#0d0887"
            ],
            [
             0.1111111111111111,
             "#46039f"
            ],
            [
             0.2222222222222222,
             "#7201a8"
            ],
            [
             0.3333333333333333,
             "#9c179e"
            ],
            [
             0.4444444444444444,
             "#bd3786"
            ],
            [
             0.5555555555555556,
             "#d8576b"
            ],
            [
             0.6666666666666666,
             "#ed7953"
            ],
            [
             0.7777777777777778,
             "#fb9f3a"
            ],
            [
             0.8888888888888888,
             "#fdca26"
            ],
            [
             1,
             "#f0f921"
            ]
           ]
          },
          "colorway": [
           "#636efa",
           "#EF553B",
           "#00cc96",
           "#ab63fa",
           "#FFA15A",
           "#19d3f3",
           "#FF6692",
           "#B6E880",
           "#FF97FF",
           "#FECB52"
          ],
          "font": {
           "color": "#2a3f5f"
          },
          "geo": {
           "bgcolor": "white",
           "lakecolor": "white",
           "landcolor": "#E5ECF6",
           "showlakes": true,
           "showland": true,
           "subunitcolor": "white"
          },
          "hoverlabel": {
           "align": "left"
          },
          "hovermode": "closest",
          "mapbox": {
           "style": "light"
          },
          "paper_bgcolor": "white",
          "plot_bgcolor": "#E5ECF6",
          "polar": {
           "angularaxis": {
            "gridcolor": "white",
            "linecolor": "white",
            "ticks": ""
           },
           "bgcolor": "#E5ECF6",
           "radialaxis": {
            "gridcolor": "white",
            "linecolor": "white",
            "ticks": ""
           }
          },
          "scene": {
           "xaxis": {
            "backgroundcolor": "#E5ECF6",
            "gridcolor": "white",
            "gridwidth": 2,
            "linecolor": "white",
            "showbackground": true,
            "ticks": "",
            "zerolinecolor": "white"
           },
           "yaxis": {
            "backgroundcolor": "#E5ECF6",
            "gridcolor": "white",
            "gridwidth": 2,
            "linecolor": "white",
            "showbackground": true,
            "ticks": "",
            "zerolinecolor": "white"
           },
           "zaxis": {
            "backgroundcolor": "#E5ECF6",
            "gridcolor": "white",
            "gridwidth": 2,
            "linecolor": "white",
            "showbackground": true,
            "ticks": "",
            "zerolinecolor": "white"
           }
          },
          "shapedefaults": {
           "line": {
            "color": "#2a3f5f"
           }
          },
          "ternary": {
           "aaxis": {
            "gridcolor": "white",
            "linecolor": "white",
            "ticks": ""
           },
           "baxis": {
            "gridcolor": "white",
            "linecolor": "white",
            "ticks": ""
           },
           "bgcolor": "#E5ECF6",
           "caxis": {
            "gridcolor": "white",
            "linecolor": "white",
            "ticks": ""
           }
          },
          "title": {
           "x": 0.05
          },
          "xaxis": {
           "automargin": true,
           "gridcolor": "white",
           "linecolor": "white",
           "ticks": "",
           "title": {
            "standoff": 15
           },
           "zerolinecolor": "white",
           "zerolinewidth": 2
          },
          "yaxis": {
           "automargin": true,
           "gridcolor": "white",
           "linecolor": "white",
           "ticks": "",
           "title": {
            "standoff": 15
           },
           "zerolinecolor": "white",
           "zerolinewidth": 2
          }
         }
        },
        "title": {
         "text": "Number of exhibitions by year - Green Gallery"
        },
        "xaxis": {
         "anchor": "y",
         "domain": [
          0,
          1
         ],
         "title": {
          "text": "Year"
         }
        },
        "yaxis": {
         "anchor": "x",
         "domain": [
          0,
          1
         ],
         "title": {
          "text": "Number of exhibitions"
         }
        }
       }
      }
     },
     "metadata": {},
     "output_type": "display_data"
    },
    {
     "name": "stdout",
     "output_type": "stream",
     "text": [
      "SortedDict({'1959': 5, '1960': 7, '1961': 3, '1962': 1})\n"
     ]
    },
    {
     "data": {
      "application/vnd.plotly.v1+json": {
       "config": {
        "plotlyServerURL": "https://plot.ly"
       },
       "data": [
        {
         "alignmentgroup": "True",
         "hovertemplate": "Year=%{x}<br>Number of exhibitions=%{y}<extra></extra>",
         "legendgroup": "",
         "marker": {
          "color": "#636efa",
          "pattern": {
           "shape": ""
          }
         },
         "name": "",
         "offsetgroup": "",
         "orientation": "v",
         "showlegend": false,
         "textposition": "auto",
         "type": "bar",
         "x": [
          "1959",
          "1960",
          "1961",
          "1962"
         ],
         "xaxis": "x",
         "y": [
          5,
          7,
          3,
          1
         ],
         "yaxis": "y"
        }
       ],
       "layout": {
        "barmode": "relative",
        "legend": {
         "tracegroupgap": 0
        },
        "template": {
         "data": {
          "bar": [
           {
            "error_x": {
             "color": "#2a3f5f"
            },
            "error_y": {
             "color": "#2a3f5f"
            },
            "marker": {
             "line": {
              "color": "#E5ECF6",
              "width": 0.5
             },
             "pattern": {
              "fillmode": "overlay",
              "size": 10,
              "solidity": 0.2
             }
            },
            "type": "bar"
           }
          ],
          "barpolar": [
           {
            "marker": {
             "line": {
              "color": "#E5ECF6",
              "width": 0.5
             },
             "pattern": {
              "fillmode": "overlay",
              "size": 10,
              "solidity": 0.2
             }
            },
            "type": "barpolar"
           }
          ],
          "carpet": [
           {
            "aaxis": {
             "endlinecolor": "#2a3f5f",
             "gridcolor": "white",
             "linecolor": "white",
             "minorgridcolor": "white",
             "startlinecolor": "#2a3f5f"
            },
            "baxis": {
             "endlinecolor": "#2a3f5f",
             "gridcolor": "white",
             "linecolor": "white",
             "minorgridcolor": "white",
             "startlinecolor": "#2a3f5f"
            },
            "type": "carpet"
           }
          ],
          "choropleth": [
           {
            "colorbar": {
             "outlinewidth": 0,
             "ticks": ""
            },
            "type": "choropleth"
           }
          ],
          "contour": [
           {
            "colorbar": {
             "outlinewidth": 0,
             "ticks": ""
            },
            "colorscale": [
             [
              0,
              "#0d0887"
             ],
             [
              0.1111111111111111,
              "#46039f"
             ],
             [
              0.2222222222222222,
              "#7201a8"
             ],
             [
              0.3333333333333333,
              "#9c179e"
             ],
             [
              0.4444444444444444,
              "#bd3786"
             ],
             [
              0.5555555555555556,
              "#d8576b"
             ],
             [
              0.6666666666666666,
              "#ed7953"
             ],
             [
              0.7777777777777778,
              "#fb9f3a"
             ],
             [
              0.8888888888888888,
              "#fdca26"
             ],
             [
              1,
              "#f0f921"
             ]
            ],
            "type": "contour"
           }
          ],
          "contourcarpet": [
           {
            "colorbar": {
             "outlinewidth": 0,
             "ticks": ""
            },
            "type": "contourcarpet"
           }
          ],
          "heatmap": [
           {
            "colorbar": {
             "outlinewidth": 0,
             "ticks": ""
            },
            "colorscale": [
             [
              0,
              "#0d0887"
             ],
             [
              0.1111111111111111,
              "#46039f"
             ],
             [
              0.2222222222222222,
              "#7201a8"
             ],
             [
              0.3333333333333333,
              "#9c179e"
             ],
             [
              0.4444444444444444,
              "#bd3786"
             ],
             [
              0.5555555555555556,
              "#d8576b"
             ],
             [
              0.6666666666666666,
              "#ed7953"
             ],
             [
              0.7777777777777778,
              "#fb9f3a"
             ],
             [
              0.8888888888888888,
              "#fdca26"
             ],
             [
              1,
              "#f0f921"
             ]
            ],
            "type": "heatmap"
           }
          ],
          "heatmapgl": [
           {
            "colorbar": {
             "outlinewidth": 0,
             "ticks": ""
            },
            "colorscale": [
             [
              0,
              "#0d0887"
             ],
             [
              0.1111111111111111,
              "#46039f"
             ],
             [
              0.2222222222222222,
              "#7201a8"
             ],
             [
              0.3333333333333333,
              "#9c179e"
             ],
             [
              0.4444444444444444,
              "#bd3786"
             ],
             [
              0.5555555555555556,
              "#d8576b"
             ],
             [
              0.6666666666666666,
              "#ed7953"
             ],
             [
              0.7777777777777778,
              "#fb9f3a"
             ],
             [
              0.8888888888888888,
              "#fdca26"
             ],
             [
              1,
              "#f0f921"
             ]
            ],
            "type": "heatmapgl"
           }
          ],
          "histogram": [
           {
            "marker": {
             "pattern": {
              "fillmode": "overlay",
              "size": 10,
              "solidity": 0.2
             }
            },
            "type": "histogram"
           }
          ],
          "histogram2d": [
           {
            "colorbar": {
             "outlinewidth": 0,
             "ticks": ""
            },
            "colorscale": [
             [
              0,
              "#0d0887"
             ],
             [
              0.1111111111111111,
              "#46039f"
             ],
             [
              0.2222222222222222,
              "#7201a8"
             ],
             [
              0.3333333333333333,
              "#9c179e"
             ],
             [
              0.4444444444444444,
              "#bd3786"
             ],
             [
              0.5555555555555556,
              "#d8576b"
             ],
             [
              0.6666666666666666,
              "#ed7953"
             ],
             [
              0.7777777777777778,
              "#fb9f3a"
             ],
             [
              0.8888888888888888,
              "#fdca26"
             ],
             [
              1,
              "#f0f921"
             ]
            ],
            "type": "histogram2d"
           }
          ],
          "histogram2dcontour": [
           {
            "colorbar": {
             "outlinewidth": 0,
             "ticks": ""
            },
            "colorscale": [
             [
              0,
              "#0d0887"
             ],
             [
              0.1111111111111111,
              "#46039f"
             ],
             [
              0.2222222222222222,
              "#7201a8"
             ],
             [
              0.3333333333333333,
              "#9c179e"
             ],
             [
              0.4444444444444444,
              "#bd3786"
             ],
             [
              0.5555555555555556,
              "#d8576b"
             ],
             [
              0.6666666666666666,
              "#ed7953"
             ],
             [
              0.7777777777777778,
              "#fb9f3a"
             ],
             [
              0.8888888888888888,
              "#fdca26"
             ],
             [
              1,
              "#f0f921"
             ]
            ],
            "type": "histogram2dcontour"
           }
          ],
          "mesh3d": [
           {
            "colorbar": {
             "outlinewidth": 0,
             "ticks": ""
            },
            "type": "mesh3d"
           }
          ],
          "parcoords": [
           {
            "line": {
             "colorbar": {
              "outlinewidth": 0,
              "ticks": ""
             }
            },
            "type": "parcoords"
           }
          ],
          "pie": [
           {
            "automargin": true,
            "type": "pie"
           }
          ],
          "scatter": [
           {
            "fillpattern": {
             "fillmode": "overlay",
             "size": 10,
             "solidity": 0.2
            },
            "type": "scatter"
           }
          ],
          "scatter3d": [
           {
            "line": {
             "colorbar": {
              "outlinewidth": 0,
              "ticks": ""
             }
            },
            "marker": {
             "colorbar": {
              "outlinewidth": 0,
              "ticks": ""
             }
            },
            "type": "scatter3d"
           }
          ],
          "scattercarpet": [
           {
            "marker": {
             "colorbar": {
              "outlinewidth": 0,
              "ticks": ""
             }
            },
            "type": "scattercarpet"
           }
          ],
          "scattergeo": [
           {
            "marker": {
             "colorbar": {
              "outlinewidth": 0,
              "ticks": ""
             }
            },
            "type": "scattergeo"
           }
          ],
          "scattergl": [
           {
            "marker": {
             "colorbar": {
              "outlinewidth": 0,
              "ticks": ""
             }
            },
            "type": "scattergl"
           }
          ],
          "scattermapbox": [
           {
            "marker": {
             "colorbar": {
              "outlinewidth": 0,
              "ticks": ""
             }
            },
            "type": "scattermapbox"
           }
          ],
          "scatterpolar": [
           {
            "marker": {
             "colorbar": {
              "outlinewidth": 0,
              "ticks": ""
             }
            },
            "type": "scatterpolar"
           }
          ],
          "scatterpolargl": [
           {
            "marker": {
             "colorbar": {
              "outlinewidth": 0,
              "ticks": ""
             }
            },
            "type": "scatterpolargl"
           }
          ],
          "scatterternary": [
           {
            "marker": {
             "colorbar": {
              "outlinewidth": 0,
              "ticks": ""
             }
            },
            "type": "scatterternary"
           }
          ],
          "surface": [
           {
            "colorbar": {
             "outlinewidth": 0,
             "ticks": ""
            },
            "colorscale": [
             [
              0,
              "#0d0887"
             ],
             [
              0.1111111111111111,
              "#46039f"
             ],
             [
              0.2222222222222222,
              "#7201a8"
             ],
             [
              0.3333333333333333,
              "#9c179e"
             ],
             [
              0.4444444444444444,
              "#bd3786"
             ],
             [
              0.5555555555555556,
              "#d8576b"
             ],
             [
              0.6666666666666666,
              "#ed7953"
             ],
             [
              0.7777777777777778,
              "#fb9f3a"
             ],
             [
              0.8888888888888888,
              "#fdca26"
             ],
             [
              1,
              "#f0f921"
             ]
            ],
            "type": "surface"
           }
          ],
          "table": [
           {
            "cells": {
             "fill": {
              "color": "#EBF0F8"
             },
             "line": {
              "color": "white"
             }
            },
            "header": {
             "fill": {
              "color": "#C8D4E3"
             },
             "line": {
              "color": "white"
             }
            },
            "type": "table"
           }
          ]
         },
         "layout": {
          "annotationdefaults": {
           "arrowcolor": "#2a3f5f",
           "arrowhead": 0,
           "arrowwidth": 1
          },
          "autotypenumbers": "strict",
          "coloraxis": {
           "colorbar": {
            "outlinewidth": 0,
            "ticks": ""
           }
          },
          "colorscale": {
           "diverging": [
            [
             0,
             "#8e0152"
            ],
            [
             0.1,
             "#c51b7d"
            ],
            [
             0.2,
             "#de77ae"
            ],
            [
             0.3,
             "#f1b6da"
            ],
            [
             0.4,
             "#fde0ef"
            ],
            [
             0.5,
             "#f7f7f7"
            ],
            [
             0.6,
             "#e6f5d0"
            ],
            [
             0.7,
             "#b8e186"
            ],
            [
             0.8,
             "#7fbc41"
            ],
            [
             0.9,
             "#4d9221"
            ],
            [
             1,
             "#276419"
            ]
           ],
           "sequential": [
            [
             0,
             "#0d0887"
            ],
            [
             0.1111111111111111,
             "#46039f"
            ],
            [
             0.2222222222222222,
             "#7201a8"
            ],
            [
             0.3333333333333333,
             "#9c179e"
            ],
            [
             0.4444444444444444,
             "#bd3786"
            ],
            [
             0.5555555555555556,
             "#d8576b"
            ],
            [
             0.6666666666666666,
             "#ed7953"
            ],
            [
             0.7777777777777778,
             "#fb9f3a"
            ],
            [
             0.8888888888888888,
             "#fdca26"
            ],
            [
             1,
             "#f0f921"
            ]
           ],
           "sequentialminus": [
            [
             0,
             "#0d0887"
            ],
            [
             0.1111111111111111,
             "#46039f"
            ],
            [
             0.2222222222222222,
             "#7201a8"
            ],
            [
             0.3333333333333333,
             "#9c179e"
            ],
            [
             0.4444444444444444,
             "#bd3786"
            ],
            [
             0.5555555555555556,
             "#d8576b"
            ],
            [
             0.6666666666666666,
             "#ed7953"
            ],
            [
             0.7777777777777778,
             "#fb9f3a"
            ],
            [
             0.8888888888888888,
             "#fdca26"
            ],
            [
             1,
             "#f0f921"
            ]
           ]
          },
          "colorway": [
           "#636efa",
           "#EF553B",
           "#00cc96",
           "#ab63fa",
           "#FFA15A",
           "#19d3f3",
           "#FF6692",
           "#B6E880",
           "#FF97FF",
           "#FECB52"
          ],
          "font": {
           "color": "#2a3f5f"
          },
          "geo": {
           "bgcolor": "white",
           "lakecolor": "white",
           "landcolor": "#E5ECF6",
           "showlakes": true,
           "showland": true,
           "subunitcolor": "white"
          },
          "hoverlabel": {
           "align": "left"
          },
          "hovermode": "closest",
          "mapbox": {
           "style": "light"
          },
          "paper_bgcolor": "white",
          "plot_bgcolor": "#E5ECF6",
          "polar": {
           "angularaxis": {
            "gridcolor": "white",
            "linecolor": "white",
            "ticks": ""
           },
           "bgcolor": "#E5ECF6",
           "radialaxis": {
            "gridcolor": "white",
            "linecolor": "white",
            "ticks": ""
           }
          },
          "scene": {
           "xaxis": {
            "backgroundcolor": "#E5ECF6",
            "gridcolor": "white",
            "gridwidth": 2,
            "linecolor": "white",
            "showbackground": true,
            "ticks": "",
            "zerolinecolor": "white"
           },
           "yaxis": {
            "backgroundcolor": "#E5ECF6",
            "gridcolor": "white",
            "gridwidth": 2,
            "linecolor": "white",
            "showbackground": true,
            "ticks": "",
            "zerolinecolor": "white"
           },
           "zaxis": {
            "backgroundcolor": "#E5ECF6",
            "gridcolor": "white",
            "gridwidth": 2,
            "linecolor": "white",
            "showbackground": true,
            "ticks": "",
            "zerolinecolor": "white"
           }
          },
          "shapedefaults": {
           "line": {
            "color": "#2a3f5f"
           }
          },
          "ternary": {
           "aaxis": {
            "gridcolor": "white",
            "linecolor": "white",
            "ticks": ""
           },
           "baxis": {
            "gridcolor": "white",
            "linecolor": "white",
            "ticks": ""
           },
           "bgcolor": "#E5ECF6",
           "caxis": {
            "gridcolor": "white",
            "linecolor": "white",
            "ticks": ""
           }
          },
          "title": {
           "x": 0.05
          },
          "xaxis": {
           "automargin": true,
           "gridcolor": "white",
           "linecolor": "white",
           "ticks": "",
           "title": {
            "standoff": 15
           },
           "zerolinecolor": "white",
           "zerolinewidth": 2
          },
          "yaxis": {
           "automargin": true,
           "gridcolor": "white",
           "linecolor": "white",
           "ticks": "",
           "title": {
            "standoff": 15
           },
           "zerolinecolor": "white",
           "zerolinewidth": 2
          }
         }
        },
        "title": {
         "text": "Number of exhibitions by year - Judson Gallery"
        },
        "xaxis": {
         "anchor": "y",
         "domain": [
          0,
          1
         ],
         "title": {
          "text": "Year"
         }
        },
        "yaxis": {
         "anchor": "x",
         "domain": [
          0,
          1
         ],
         "title": {
          "text": "Number of exhibitions"
         }
        }
       }
      }
     },
     "metadata": {},
     "output_type": "display_data"
    },
    {
     "name": "stdout",
     "output_type": "stream",
     "text": [
      "SortedDict({'1957': 2, '1958': 6, '1959': 5, '1960': 6, '1961': 2, '1962': 1})\n"
     ]
    },
    {
     "data": {
      "application/vnd.plotly.v1+json": {
       "config": {
        "plotlyServerURL": "https://plot.ly"
       },
       "data": [
        {
         "alignmentgroup": "True",
         "hovertemplate": "Year=%{x}<br>Number of exhibitions=%{y}<extra></extra>",
         "legendgroup": "",
         "marker": {
          "color": "#636efa",
          "pattern": {
           "shape": ""
          }
         },
         "name": "",
         "offsetgroup": "",
         "orientation": "v",
         "showlegend": false,
         "textposition": "auto",
         "type": "bar",
         "x": [
          "1957",
          "1958",
          "1959",
          "1960",
          "1961",
          "1962"
         ],
         "xaxis": "x",
         "y": [
          2,
          6,
          5,
          6,
          2,
          1
         ],
         "yaxis": "y"
        }
       ],
       "layout": {
        "barmode": "relative",
        "legend": {
         "tracegroupgap": 0
        },
        "template": {
         "data": {
          "bar": [
           {
            "error_x": {
             "color": "#2a3f5f"
            },
            "error_y": {
             "color": "#2a3f5f"
            },
            "marker": {
             "line": {
              "color": "#E5ECF6",
              "width": 0.5
             },
             "pattern": {
              "fillmode": "overlay",
              "size": 10,
              "solidity": 0.2
             }
            },
            "type": "bar"
           }
          ],
          "barpolar": [
           {
            "marker": {
             "line": {
              "color": "#E5ECF6",
              "width": 0.5
             },
             "pattern": {
              "fillmode": "overlay",
              "size": 10,
              "solidity": 0.2
             }
            },
            "type": "barpolar"
           }
          ],
          "carpet": [
           {
            "aaxis": {
             "endlinecolor": "#2a3f5f",
             "gridcolor": "white",
             "linecolor": "white",
             "minorgridcolor": "white",
             "startlinecolor": "#2a3f5f"
            },
            "baxis": {
             "endlinecolor": "#2a3f5f",
             "gridcolor": "white",
             "linecolor": "white",
             "minorgridcolor": "white",
             "startlinecolor": "#2a3f5f"
            },
            "type": "carpet"
           }
          ],
          "choropleth": [
           {
            "colorbar": {
             "outlinewidth": 0,
             "ticks": ""
            },
            "type": "choropleth"
           }
          ],
          "contour": [
           {
            "colorbar": {
             "outlinewidth": 0,
             "ticks": ""
            },
            "colorscale": [
             [
              0,
              "#0d0887"
             ],
             [
              0.1111111111111111,
              "#46039f"
             ],
             [
              0.2222222222222222,
              "#7201a8"
             ],
             [
              0.3333333333333333,
              "#9c179e"
             ],
             [
              0.4444444444444444,
              "#bd3786"
             ],
             [
              0.5555555555555556,
              "#d8576b"
             ],
             [
              0.6666666666666666,
              "#ed7953"
             ],
             [
              0.7777777777777778,
              "#fb9f3a"
             ],
             [
              0.8888888888888888,
              "#fdca26"
             ],
             [
              1,
              "#f0f921"
             ]
            ],
            "type": "contour"
           }
          ],
          "contourcarpet": [
           {
            "colorbar": {
             "outlinewidth": 0,
             "ticks": ""
            },
            "type": "contourcarpet"
           }
          ],
          "heatmap": [
           {
            "colorbar": {
             "outlinewidth": 0,
             "ticks": ""
            },
            "colorscale": [
             [
              0,
              "#0d0887"
             ],
             [
              0.1111111111111111,
              "#46039f"
             ],
             [
              0.2222222222222222,
              "#7201a8"
             ],
             [
              0.3333333333333333,
              "#9c179e"
             ],
             [
              0.4444444444444444,
              "#bd3786"
             ],
             [
              0.5555555555555556,
              "#d8576b"
             ],
             [
              0.6666666666666666,
              "#ed7953"
             ],
             [
              0.7777777777777778,
              "#fb9f3a"
             ],
             [
              0.8888888888888888,
              "#fdca26"
             ],
             [
              1,
              "#f0f921"
             ]
            ],
            "type": "heatmap"
           }
          ],
          "heatmapgl": [
           {
            "colorbar": {
             "outlinewidth": 0,
             "ticks": ""
            },
            "colorscale": [
             [
              0,
              "#0d0887"
             ],
             [
              0.1111111111111111,
              "#46039f"
             ],
             [
              0.2222222222222222,
              "#7201a8"
             ],
             [
              0.3333333333333333,
              "#9c179e"
             ],
             [
              0.4444444444444444,
              "#bd3786"
             ],
             [
              0.5555555555555556,
              "#d8576b"
             ],
             [
              0.6666666666666666,
              "#ed7953"
             ],
             [
              0.7777777777777778,
              "#fb9f3a"
             ],
             [
              0.8888888888888888,
              "#fdca26"
             ],
             [
              1,
              "#f0f921"
             ]
            ],
            "type": "heatmapgl"
           }
          ],
          "histogram": [
           {
            "marker": {
             "pattern": {
              "fillmode": "overlay",
              "size": 10,
              "solidity": 0.2
             }
            },
            "type": "histogram"
           }
          ],
          "histogram2d": [
           {
            "colorbar": {
             "outlinewidth": 0,
             "ticks": ""
            },
            "colorscale": [
             [
              0,
              "#0d0887"
             ],
             [
              0.1111111111111111,
              "#46039f"
             ],
             [
              0.2222222222222222,
              "#7201a8"
             ],
             [
              0.3333333333333333,
              "#9c179e"
             ],
             [
              0.4444444444444444,
              "#bd3786"
             ],
             [
              0.5555555555555556,
              "#d8576b"
             ],
             [
              0.6666666666666666,
              "#ed7953"
             ],
             [
              0.7777777777777778,
              "#fb9f3a"
             ],
             [
              0.8888888888888888,
              "#fdca26"
             ],
             [
              1,
              "#f0f921"
             ]
            ],
            "type": "histogram2d"
           }
          ],
          "histogram2dcontour": [
           {
            "colorbar": {
             "outlinewidth": 0,
             "ticks": ""
            },
            "colorscale": [
             [
              0,
              "#0d0887"
             ],
             [
              0.1111111111111111,
              "#46039f"
             ],
             [
              0.2222222222222222,
              "#7201a8"
             ],
             [
              0.3333333333333333,
              "#9c179e"
             ],
             [
              0.4444444444444444,
              "#bd3786"
             ],
             [
              0.5555555555555556,
              "#d8576b"
             ],
             [
              0.6666666666666666,
              "#ed7953"
             ],
             [
              0.7777777777777778,
              "#fb9f3a"
             ],
             [
              0.8888888888888888,
              "#fdca26"
             ],
             [
              1,
              "#f0f921"
             ]
            ],
            "type": "histogram2dcontour"
           }
          ],
          "mesh3d": [
           {
            "colorbar": {
             "outlinewidth": 0,
             "ticks": ""
            },
            "type": "mesh3d"
           }
          ],
          "parcoords": [
           {
            "line": {
             "colorbar": {
              "outlinewidth": 0,
              "ticks": ""
             }
            },
            "type": "parcoords"
           }
          ],
          "pie": [
           {
            "automargin": true,
            "type": "pie"
           }
          ],
          "scatter": [
           {
            "fillpattern": {
             "fillmode": "overlay",
             "size": 10,
             "solidity": 0.2
            },
            "type": "scatter"
           }
          ],
          "scatter3d": [
           {
            "line": {
             "colorbar": {
              "outlinewidth": 0,
              "ticks": ""
             }
            },
            "marker": {
             "colorbar": {
              "outlinewidth": 0,
              "ticks": ""
             }
            },
            "type": "scatter3d"
           }
          ],
          "scattercarpet": [
           {
            "marker": {
             "colorbar": {
              "outlinewidth": 0,
              "ticks": ""
             }
            },
            "type": "scattercarpet"
           }
          ],
          "scattergeo": [
           {
            "marker": {
             "colorbar": {
              "outlinewidth": 0,
              "ticks": ""
             }
            },
            "type": "scattergeo"
           }
          ],
          "scattergl": [
           {
            "marker": {
             "colorbar": {
              "outlinewidth": 0,
              "ticks": ""
             }
            },
            "type": "scattergl"
           }
          ],
          "scattermapbox": [
           {
            "marker": {
             "colorbar": {
              "outlinewidth": 0,
              "ticks": ""
             }
            },
            "type": "scattermapbox"
           }
          ],
          "scatterpolar": [
           {
            "marker": {
             "colorbar": {
              "outlinewidth": 0,
              "ticks": ""
             }
            },
            "type": "scatterpolar"
           }
          ],
          "scatterpolargl": [
           {
            "marker": {
             "colorbar": {
              "outlinewidth": 0,
              "ticks": ""
             }
            },
            "type": "scatterpolargl"
           }
          ],
          "scatterternary": [
           {
            "marker": {
             "colorbar": {
              "outlinewidth": 0,
              "ticks": ""
             }
            },
            "type": "scatterternary"
           }
          ],
          "surface": [
           {
            "colorbar": {
             "outlinewidth": 0,
             "ticks": ""
            },
            "colorscale": [
             [
              0,
              "#0d0887"
             ],
             [
              0.1111111111111111,
              "#46039f"
             ],
             [
              0.2222222222222222,
              "#7201a8"
             ],
             [
              0.3333333333333333,
              "#9c179e"
             ],
             [
              0.4444444444444444,
              "#bd3786"
             ],
             [
              0.5555555555555556,
              "#d8576b"
             ],
             [
              0.6666666666666666,
              "#ed7953"
             ],
             [
              0.7777777777777778,
              "#fb9f3a"
             ],
             [
              0.8888888888888888,
              "#fdca26"
             ],
             [
              1,
              "#f0f921"
             ]
            ],
            "type": "surface"
           }
          ],
          "table": [
           {
            "cells": {
             "fill": {
              "color": "#EBF0F8"
             },
             "line": {
              "color": "white"
             }
            },
            "header": {
             "fill": {
              "color": "#C8D4E3"
             },
             "line": {
              "color": "white"
             }
            },
            "type": "table"
           }
          ]
         },
         "layout": {
          "annotationdefaults": {
           "arrowcolor": "#2a3f5f",
           "arrowhead": 0,
           "arrowwidth": 1
          },
          "autotypenumbers": "strict",
          "coloraxis": {
           "colorbar": {
            "outlinewidth": 0,
            "ticks": ""
           }
          },
          "colorscale": {
           "diverging": [
            [
             0,
             "#8e0152"
            ],
            [
             0.1,
             "#c51b7d"
            ],
            [
             0.2,
             "#de77ae"
            ],
            [
             0.3,
             "#f1b6da"
            ],
            [
             0.4,
             "#fde0ef"
            ],
            [
             0.5,
             "#f7f7f7"
            ],
            [
             0.6,
             "#e6f5d0"
            ],
            [
             0.7,
             "#b8e186"
            ],
            [
             0.8,
             "#7fbc41"
            ],
            [
             0.9,
             "#4d9221"
            ],
            [
             1,
             "#276419"
            ]
           ],
           "sequential": [
            [
             0,
             "#0d0887"
            ],
            [
             0.1111111111111111,
             "#46039f"
            ],
            [
             0.2222222222222222,
             "#7201a8"
            ],
            [
             0.3333333333333333,
             "#9c179e"
            ],
            [
             0.4444444444444444,
             "#bd3786"
            ],
            [
             0.5555555555555556,
             "#d8576b"
            ],
            [
             0.6666666666666666,
             "#ed7953"
            ],
            [
             0.7777777777777778,
             "#fb9f3a"
            ],
            [
             0.8888888888888888,
             "#fdca26"
            ],
            [
             1,
             "#f0f921"
            ]
           ],
           "sequentialminus": [
            [
             0,
             "#0d0887"
            ],
            [
             0.1111111111111111,
             "#46039f"
            ],
            [
             0.2222222222222222,
             "#7201a8"
            ],
            [
             0.3333333333333333,
             "#9c179e"
            ],
            [
             0.4444444444444444,
             "#bd3786"
            ],
            [
             0.5555555555555556,
             "#d8576b"
            ],
            [
             0.6666666666666666,
             "#ed7953"
            ],
            [
             0.7777777777777778,
             "#fb9f3a"
            ],
            [
             0.8888888888888888,
             "#fdca26"
            ],
            [
             1,
             "#f0f921"
            ]
           ]
          },
          "colorway": [
           "#636efa",
           "#EF553B",
           "#00cc96",
           "#ab63fa",
           "#FFA15A",
           "#19d3f3",
           "#FF6692",
           "#B6E880",
           "#FF97FF",
           "#FECB52"
          ],
          "font": {
           "color": "#2a3f5f"
          },
          "geo": {
           "bgcolor": "white",
           "lakecolor": "white",
           "landcolor": "#E5ECF6",
           "showlakes": true,
           "showland": true,
           "subunitcolor": "white"
          },
          "hoverlabel": {
           "align": "left"
          },
          "hovermode": "closest",
          "mapbox": {
           "style": "light"
          },
          "paper_bgcolor": "white",
          "plot_bgcolor": "#E5ECF6",
          "polar": {
           "angularaxis": {
            "gridcolor": "white",
            "linecolor": "white",
            "ticks": ""
           },
           "bgcolor": "#E5ECF6",
           "radialaxis": {
            "gridcolor": "white",
            "linecolor": "white",
            "ticks": ""
           }
          },
          "scene": {
           "xaxis": {
            "backgroundcolor": "#E5ECF6",
            "gridcolor": "white",
            "gridwidth": 2,
            "linecolor": "white",
            "showbackground": true,
            "ticks": "",
            "zerolinecolor": "white"
           },
           "yaxis": {
            "backgroundcolor": "#E5ECF6",
            "gridcolor": "white",
            "gridwidth": 2,
            "linecolor": "white",
            "showbackground": true,
            "ticks": "",
            "zerolinecolor": "white"
           },
           "zaxis": {
            "backgroundcolor": "#E5ECF6",
            "gridcolor": "white",
            "gridwidth": 2,
            "linecolor": "white",
            "showbackground": true,
            "ticks": "",
            "zerolinecolor": "white"
           }
          },
          "shapedefaults": {
           "line": {
            "color": "#2a3f5f"
           }
          },
          "ternary": {
           "aaxis": {
            "gridcolor": "white",
            "linecolor": "white",
            "ticks": ""
           },
           "baxis": {
            "gridcolor": "white",
            "linecolor": "white",
            "ticks": ""
           },
           "bgcolor": "#E5ECF6",
           "caxis": {
            "gridcolor": "white",
            "linecolor": "white",
            "ticks": ""
           }
          },
          "title": {
           "x": 0.05
          },
          "xaxis": {
           "automargin": true,
           "gridcolor": "white",
           "linecolor": "white",
           "ticks": "",
           "title": {
            "standoff": 15
           },
           "zerolinecolor": "white",
           "zerolinewidth": 2
          },
          "yaxis": {
           "automargin": true,
           "gridcolor": "white",
           "linecolor": "white",
           "ticks": "",
           "title": {
            "standoff": 15
           },
           "zerolinecolor": "white",
           "zerolinewidth": 2
          }
         }
        },
        "title": {
         "text": "Number of exhibitions by year - Brata Gallery"
        },
        "xaxis": {
         "anchor": "y",
         "domain": [
          0,
          1
         ],
         "title": {
          "text": "Year"
         }
        },
        "yaxis": {
         "anchor": "x",
         "domain": [
          0,
          1
         ],
         "title": {
          "text": "Number of exhibitions"
         }
        }
       }
      }
     },
     "metadata": {},
     "output_type": "display_data"
    },
    {
     "name": "stdout",
     "output_type": "stream",
     "text": [
      "SortedDict({'1958': 2, '1959': 6})\n"
     ]
    },
    {
     "data": {
      "application/vnd.plotly.v1+json": {
       "config": {
        "plotlyServerURL": "https://plot.ly"
       },
       "data": [
        {
         "alignmentgroup": "True",
         "hovertemplate": "Year=%{x}<br>Number of exhibitions=%{y}<extra></extra>",
         "legendgroup": "",
         "marker": {
          "color": "#636efa",
          "pattern": {
           "shape": ""
          }
         },
         "name": "",
         "offsetgroup": "",
         "orientation": "v",
         "showlegend": false,
         "textposition": "auto",
         "type": "bar",
         "x": [
          "1958",
          "1959"
         ],
         "xaxis": "x",
         "y": [
          2,
          6
         ],
         "yaxis": "y"
        }
       ],
       "layout": {
        "barmode": "relative",
        "legend": {
         "tracegroupgap": 0
        },
        "template": {
         "data": {
          "bar": [
           {
            "error_x": {
             "color": "#2a3f5f"
            },
            "error_y": {
             "color": "#2a3f5f"
            },
            "marker": {
             "line": {
              "color": "#E5ECF6",
              "width": 0.5
             },
             "pattern": {
              "fillmode": "overlay",
              "size": 10,
              "solidity": 0.2
             }
            },
            "type": "bar"
           }
          ],
          "barpolar": [
           {
            "marker": {
             "line": {
              "color": "#E5ECF6",
              "width": 0.5
             },
             "pattern": {
              "fillmode": "overlay",
              "size": 10,
              "solidity": 0.2
             }
            },
            "type": "barpolar"
           }
          ],
          "carpet": [
           {
            "aaxis": {
             "endlinecolor": "#2a3f5f",
             "gridcolor": "white",
             "linecolor": "white",
             "minorgridcolor": "white",
             "startlinecolor": "#2a3f5f"
            },
            "baxis": {
             "endlinecolor": "#2a3f5f",
             "gridcolor": "white",
             "linecolor": "white",
             "minorgridcolor": "white",
             "startlinecolor": "#2a3f5f"
            },
            "type": "carpet"
           }
          ],
          "choropleth": [
           {
            "colorbar": {
             "outlinewidth": 0,
             "ticks": ""
            },
            "type": "choropleth"
           }
          ],
          "contour": [
           {
            "colorbar": {
             "outlinewidth": 0,
             "ticks": ""
            },
            "colorscale": [
             [
              0,
              "#0d0887"
             ],
             [
              0.1111111111111111,
              "#46039f"
             ],
             [
              0.2222222222222222,
              "#7201a8"
             ],
             [
              0.3333333333333333,
              "#9c179e"
             ],
             [
              0.4444444444444444,
              "#bd3786"
             ],
             [
              0.5555555555555556,
              "#d8576b"
             ],
             [
              0.6666666666666666,
              "#ed7953"
             ],
             [
              0.7777777777777778,
              "#fb9f3a"
             ],
             [
              0.8888888888888888,
              "#fdca26"
             ],
             [
              1,
              "#f0f921"
             ]
            ],
            "type": "contour"
           }
          ],
          "contourcarpet": [
           {
            "colorbar": {
             "outlinewidth": 0,
             "ticks": ""
            },
            "type": "contourcarpet"
           }
          ],
          "heatmap": [
           {
            "colorbar": {
             "outlinewidth": 0,
             "ticks": ""
            },
            "colorscale": [
             [
              0,
              "#0d0887"
             ],
             [
              0.1111111111111111,
              "#46039f"
             ],
             [
              0.2222222222222222,
              "#7201a8"
             ],
             [
              0.3333333333333333,
              "#9c179e"
             ],
             [
              0.4444444444444444,
              "#bd3786"
             ],
             [
              0.5555555555555556,
              "#d8576b"
             ],
             [
              0.6666666666666666,
              "#ed7953"
             ],
             [
              0.7777777777777778,
              "#fb9f3a"
             ],
             [
              0.8888888888888888,
              "#fdca26"
             ],
             [
              1,
              "#f0f921"
             ]
            ],
            "type": "heatmap"
           }
          ],
          "heatmapgl": [
           {
            "colorbar": {
             "outlinewidth": 0,
             "ticks": ""
            },
            "colorscale": [
             [
              0,
              "#0d0887"
             ],
             [
              0.1111111111111111,
              "#46039f"
             ],
             [
              0.2222222222222222,
              "#7201a8"
             ],
             [
              0.3333333333333333,
              "#9c179e"
             ],
             [
              0.4444444444444444,
              "#bd3786"
             ],
             [
              0.5555555555555556,
              "#d8576b"
             ],
             [
              0.6666666666666666,
              "#ed7953"
             ],
             [
              0.7777777777777778,
              "#fb9f3a"
             ],
             [
              0.8888888888888888,
              "#fdca26"
             ],
             [
              1,
              "#f0f921"
             ]
            ],
            "type": "heatmapgl"
           }
          ],
          "histogram": [
           {
            "marker": {
             "pattern": {
              "fillmode": "overlay",
              "size": 10,
              "solidity": 0.2
             }
            },
            "type": "histogram"
           }
          ],
          "histogram2d": [
           {
            "colorbar": {
             "outlinewidth": 0,
             "ticks": ""
            },
            "colorscale": [
             [
              0,
              "#0d0887"
             ],
             [
              0.1111111111111111,
              "#46039f"
             ],
             [
              0.2222222222222222,
              "#7201a8"
             ],
             [
              0.3333333333333333,
              "#9c179e"
             ],
             [
              0.4444444444444444,
              "#bd3786"
             ],
             [
              0.5555555555555556,
              "#d8576b"
             ],
             [
              0.6666666666666666,
              "#ed7953"
             ],
             [
              0.7777777777777778,
              "#fb9f3a"
             ],
             [
              0.8888888888888888,
              "#fdca26"
             ],
             [
              1,
              "#f0f921"
             ]
            ],
            "type": "histogram2d"
           }
          ],
          "histogram2dcontour": [
           {
            "colorbar": {
             "outlinewidth": 0,
             "ticks": ""
            },
            "colorscale": [
             [
              0,
              "#0d0887"
             ],
             [
              0.1111111111111111,
              "#46039f"
             ],
             [
              0.2222222222222222,
              "#7201a8"
             ],
             [
              0.3333333333333333,
              "#9c179e"
             ],
             [
              0.4444444444444444,
              "#bd3786"
             ],
             [
              0.5555555555555556,
              "#d8576b"
             ],
             [
              0.6666666666666666,
              "#ed7953"
             ],
             [
              0.7777777777777778,
              "#fb9f3a"
             ],
             [
              0.8888888888888888,
              "#fdca26"
             ],
             [
              1,
              "#f0f921"
             ]
            ],
            "type": "histogram2dcontour"
           }
          ],
          "mesh3d": [
           {
            "colorbar": {
             "outlinewidth": 0,
             "ticks": ""
            },
            "type": "mesh3d"
           }
          ],
          "parcoords": [
           {
            "line": {
             "colorbar": {
              "outlinewidth": 0,
              "ticks": ""
             }
            },
            "type": "parcoords"
           }
          ],
          "pie": [
           {
            "automargin": true,
            "type": "pie"
           }
          ],
          "scatter": [
           {
            "fillpattern": {
             "fillmode": "overlay",
             "size": 10,
             "solidity": 0.2
            },
            "type": "scatter"
           }
          ],
          "scatter3d": [
           {
            "line": {
             "colorbar": {
              "outlinewidth": 0,
              "ticks": ""
             }
            },
            "marker": {
             "colorbar": {
              "outlinewidth": 0,
              "ticks": ""
             }
            },
            "type": "scatter3d"
           }
          ],
          "scattercarpet": [
           {
            "marker": {
             "colorbar": {
              "outlinewidth": 0,
              "ticks": ""
             }
            },
            "type": "scattercarpet"
           }
          ],
          "scattergeo": [
           {
            "marker": {
             "colorbar": {
              "outlinewidth": 0,
              "ticks": ""
             }
            },
            "type": "scattergeo"
           }
          ],
          "scattergl": [
           {
            "marker": {
             "colorbar": {
              "outlinewidth": 0,
              "ticks": ""
             }
            },
            "type": "scattergl"
           }
          ],
          "scattermapbox": [
           {
            "marker": {
             "colorbar": {
              "outlinewidth": 0,
              "ticks": ""
             }
            },
            "type": "scattermapbox"
           }
          ],
          "scatterpolar": [
           {
            "marker": {
             "colorbar": {
              "outlinewidth": 0,
              "ticks": ""
             }
            },
            "type": "scatterpolar"
           }
          ],
          "scatterpolargl": [
           {
            "marker": {
             "colorbar": {
              "outlinewidth": 0,
              "ticks": ""
             }
            },
            "type": "scatterpolargl"
           }
          ],
          "scatterternary": [
           {
            "marker": {
             "colorbar": {
              "outlinewidth": 0,
              "ticks": ""
             }
            },
            "type": "scatterternary"
           }
          ],
          "surface": [
           {
            "colorbar": {
             "outlinewidth": 0,
             "ticks": ""
            },
            "colorscale": [
             [
              0,
              "#0d0887"
             ],
             [
              0.1111111111111111,
              "#46039f"
             ],
             [
              0.2222222222222222,
              "#7201a8"
             ],
             [
              0.3333333333333333,
              "#9c179e"
             ],
             [
              0.4444444444444444,
              "#bd3786"
             ],
             [
              0.5555555555555556,
              "#d8576b"
             ],
             [
              0.6666666666666666,
              "#ed7953"
             ],
             [
              0.7777777777777778,
              "#fb9f3a"
             ],
             [
              0.8888888888888888,
              "#fdca26"
             ],
             [
              1,
              "#f0f921"
             ]
            ],
            "type": "surface"
           }
          ],
          "table": [
           {
            "cells": {
             "fill": {
              "color": "#EBF0F8"
             },
             "line": {
              "color": "white"
             }
            },
            "header": {
             "fill": {
              "color": "#C8D4E3"
             },
             "line": {
              "color": "white"
             }
            },
            "type": "table"
           }
          ]
         },
         "layout": {
          "annotationdefaults": {
           "arrowcolor": "#2a3f5f",
           "arrowhead": 0,
           "arrowwidth": 1
          },
          "autotypenumbers": "strict",
          "coloraxis": {
           "colorbar": {
            "outlinewidth": 0,
            "ticks": ""
           }
          },
          "colorscale": {
           "diverging": [
            [
             0,
             "#8e0152"
            ],
            [
             0.1,
             "#c51b7d"
            ],
            [
             0.2,
             "#de77ae"
            ],
            [
             0.3,
             "#f1b6da"
            ],
            [
             0.4,
             "#fde0ef"
            ],
            [
             0.5,
             "#f7f7f7"
            ],
            [
             0.6,
             "#e6f5d0"
            ],
            [
             0.7,
             "#b8e186"
            ],
            [
             0.8,
             "#7fbc41"
            ],
            [
             0.9,
             "#4d9221"
            ],
            [
             1,
             "#276419"
            ]
           ],
           "sequential": [
            [
             0,
             "#0d0887"
            ],
            [
             0.1111111111111111,
             "#46039f"
            ],
            [
             0.2222222222222222,
             "#7201a8"
            ],
            [
             0.3333333333333333,
             "#9c179e"
            ],
            [
             0.4444444444444444,
             "#bd3786"
            ],
            [
             0.5555555555555556,
             "#d8576b"
            ],
            [
             0.6666666666666666,
             "#ed7953"
            ],
            [
             0.7777777777777778,
             "#fb9f3a"
            ],
            [
             0.8888888888888888,
             "#fdca26"
            ],
            [
             1,
             "#f0f921"
            ]
           ],
           "sequentialminus": [
            [
             0,
             "#0d0887"
            ],
            [
             0.1111111111111111,
             "#46039f"
            ],
            [
             0.2222222222222222,
             "#7201a8"
            ],
            [
             0.3333333333333333,
             "#9c179e"
            ],
            [
             0.4444444444444444,
             "#bd3786"
            ],
            [
             0.5555555555555556,
             "#d8576b"
            ],
            [
             0.6666666666666666,
             "#ed7953"
            ],
            [
             0.7777777777777778,
             "#fb9f3a"
            ],
            [
             0.8888888888888888,
             "#fdca26"
            ],
            [
             1,
             "#f0f921"
            ]
           ]
          },
          "colorway": [
           "#636efa",
           "#EF553B",
           "#00cc96",
           "#ab63fa",
           "#FFA15A",
           "#19d3f3",
           "#FF6692",
           "#B6E880",
           "#FF97FF",
           "#FECB52"
          ],
          "font": {
           "color": "#2a3f5f"
          },
          "geo": {
           "bgcolor": "white",
           "lakecolor": "white",
           "landcolor": "#E5ECF6",
           "showlakes": true,
           "showland": true,
           "subunitcolor": "white"
          },
          "hoverlabel": {
           "align": "left"
          },
          "hovermode": "closest",
          "mapbox": {
           "style": "light"
          },
          "paper_bgcolor": "white",
          "plot_bgcolor": "#E5ECF6",
          "polar": {
           "angularaxis": {
            "gridcolor": "white",
            "linecolor": "white",
            "ticks": ""
           },
           "bgcolor": "#E5ECF6",
           "radialaxis": {
            "gridcolor": "white",
            "linecolor": "white",
            "ticks": ""
           }
          },
          "scene": {
           "xaxis": {
            "backgroundcolor": "#E5ECF6",
            "gridcolor": "white",
            "gridwidth": 2,
            "linecolor": "white",
            "showbackground": true,
            "ticks": "",
            "zerolinecolor": "white"
           },
           "yaxis": {
            "backgroundcolor": "#E5ECF6",
            "gridcolor": "white",
            "gridwidth": 2,
            "linecolor": "white",
            "showbackground": true,
            "ticks": "",
            "zerolinecolor": "white"
           },
           "zaxis": {
            "backgroundcolor": "#E5ECF6",
            "gridcolor": "white",
            "gridwidth": 2,
            "linecolor": "white",
            "showbackground": true,
            "ticks": "",
            "zerolinecolor": "white"
           }
          },
          "shapedefaults": {
           "line": {
            "color": "#2a3f5f"
           }
          },
          "ternary": {
           "aaxis": {
            "gridcolor": "white",
            "linecolor": "white",
            "ticks": ""
           },
           "baxis": {
            "gridcolor": "white",
            "linecolor": "white",
            "ticks": ""
           },
           "bgcolor": "#E5ECF6",
           "caxis": {
            "gridcolor": "white",
            "linecolor": "white",
            "ticks": ""
           }
          },
          "title": {
           "x": 0.05
          },
          "xaxis": {
           "automargin": true,
           "gridcolor": "white",
           "linecolor": "white",
           "ticks": "",
           "title": {
            "standoff": 15
           },
           "zerolinecolor": "white",
           "zerolinewidth": 2
          },
          "yaxis": {
           "automargin": true,
           "gridcolor": "white",
           "linecolor": "white",
           "ticks": "",
           "title": {
            "standoff": 15
           },
           "zerolinecolor": "white",
           "zerolinewidth": 2
          }
         }
        },
        "title": {
         "text": "Number of exhibitions by year - The City Gallery"
        },
        "xaxis": {
         "anchor": "y",
         "domain": [
          0,
          1
         ],
         "title": {
          "text": "Year"
         }
        },
        "yaxis": {
         "anchor": "x",
         "domain": [
          0,
          1
         ],
         "title": {
          "text": "Number of exhibitions"
         }
        }
       }
      }
     },
     "metadata": {},
     "output_type": "display_data"
    }
   ],
   "source": [
    "filepath = \"api\"\n",
    "filename = \"events_all.json\"\n",
    "\n",
    "with open(os.path.join(filepath, filename), 'r') as json_file:\n",
    "    \n",
    "    number_ex_by_year = {}\n",
    "\n",
    "    data = json.load(json_file)\n",
    "    for event in data.get(\"events\"):\n",
    "\n",
    "        org = event.get(\"org\")\n",
    "        start = event.get(\"start\")\n",
    "        year = start.split(\"-\")[0]\n",
    "\n",
    "        if org in number_ex_by_year:\n",
    "\n",
    "            if year in number_ex_by_year[org]:\n",
    "                number_ex_by_year[org][year] += 1\n",
    "            else:\n",
    "                number_ex_by_year[org][year] = 1\n",
    "        else:\n",
    "            number_ex_by_year[org] = {}\n",
    "            number_ex_by_year[org][year] = 1\n",
    "        \n",
    "    #number_ex_by_year = SortedDict(number_ex_by_year)\n",
    "\n",
    "    \n",
    "\n",
    "    for org in number_ex_by_year:\n",
    "\n",
    "        numbers = number_ex_by_year[org]\n",
    "        numbers = SortedDict(numbers)\n",
    "        print(numbers)\n",
    "        x_values = numbers.keys()\n",
    "        y_values = numbers.values()\n",
    "\n",
    "        fig = px.bar(x=x_values, y=y_values, \n",
    "        labels={\"x\": \"Year\", \"y\": \"Number of exhibitions\"},\n",
    "        title=\"Number of exhibitions by year - \" + org\n",
    "        )\n",
    "        fig.show()\n",
    "        "
   ]
  },
  {
   "cell_type": "markdown",
   "metadata": {},
   "source": [
    "# keyword frequency in exhibition title - all\n"
   ]
  },
  {
   "cell_type": "code",
   "execution_count": 16,
   "metadata": {},
   "outputs": [
    {
     "name": "stdout",
     "output_type": "stream",
     "text": [
      "{'Philippe': 1, 'Starck:': 1, 'Marcos': 1, 'Kurtycz': 1, 'Month': 1, 'Sundays': 1, '1940–1970:': 1, 'Antony': 1, 'Johnsons:': 1, 'Swanlights': 1, '61:': 1, 'Biederman,': 1, 'Gummer,': 1, 'Nigel': 1, 'Hall,': 1, 'Kendrick,': 1, 'Avital': 1, 'Oz': 1, 'Sekula:': 1, 'Geography': 1, 'Lesson:': 1, 'Notes': 1, 'Florine': 1, 'Stettheimer': 1, 'Gods,': 1, 'Heroes,': 1, 'Shepherds': 1, 'Civic': 1, 'l:': 1, 'Rudolf': 1, 'Baranik': 1, 'Stevens': 1, '2004': 1, 'Canopy': 1, 'nARCHITECTS': 1, 'Thresholds/O.M.A.': 1, 'MoMA:': 1, 'Mikhailov:': 1, 'Case': 1, 'Utopia/Utopia': 1, 'Navin': 1, 'Rawanchaikul:': 1, '♥': 1, 'Lassnig': 1, 'Haas:': 1, 'Seventies,': 1, 'Dorothy': 1, 'Vogel': 1, 'Display': 1, 'Shigeru': 1, 'Ban:': 1, 'Arc': 1, 'Piper:': 1, 'Synthesis': 1, 'Intuitions': 1, '1965-2016': 1, 'Helena': 1, 'Hernmarck': 1, 'Lamotte': 1, 'Realm': 1, 'Finial': 1, 'Church': 1, 'Sagrada': 1, 'Familia': 1, 'Gesture': 1, 'Pose:': 1, 'Gerald': 1, 'Murphy': 1, 'Huffman,': 1, 'Rosati,': 1, 'Arnold,': 1, 'White,': 1, 'Levitan': 1, \"Sherman's\": 1, 'Campaign:': 1, 'Barnard': 1, 'Scarritt:': 1, '\"Made': 1, 'Time\"': 1, 'Roads': 1, 'Sandro': 1, 'Martini': 1, 'Staging': 1, 'Action:': 1, 'Antonin': 1, 'Artaud:': 1, 'Workshops': 1, 'Modernity': 1, 'Tweddle:': 1, 'Scull': 1, 'Jensen/First': 1, 'Angelic': 1, 'No.': 1, 'Mediatory': 1, 'Storm': 1, 'Sport': 1, 'Villon': 1, 'Little': 1, 'Could': 1, 'Dearer': 1, 'Modernism:': 1, 'Portinari': 1, 'Cohen': 1, 'Capa': 1, 'Territories': 1, 'Taroni': 1, 'Oceania': 1, 'Report,': 1, '\"Plane:': 1, 'Essential': 1, 'Painting\"': 1, 'Meta-Monumental': 1, 'Garage': 1, '81:': 1, 'Shin': 1, '(Ironworks/Fotodeath)': 1, \"Miró's\": 1, '70': 1, '\"Synthetic': 1, 'Links\"': 1, 'Margolies': 1, 'Stone:': 1, 'possibly': 1, 'Senta': 1, 'Driver': 1, 'Spin-Offs': 1, '\"Entrance,': 1, '1971–1979,': 1, 'Tangled': 1, 'Alphabets:': 1, 'León': 1, 'Mira': 1, 'Schendel': 1, 'Jerome': 1, 'Bel:': 1, 'Gone': 1, 'On\"': 1, 'Bible': 1, 'Illustration': 1, 'France:': 1, '1890–1910': 1, 'Arshile': 1, 'Gorky:': 1, 'Semblances': 1, 'Illusion': 1, 'Shinjuku:': 1, 'Phenomenal': 1, '2012:': 1, 'Abramović,': 1, 'Paxton,': 1, 'Genesis': 1, 'Breyer': 1, 'P-Orridge': 1, 'Naked/Nude': 1, 'Casinò': 1, 'Fantasma': 1, '54:': 1, 'Hirsch': 1, 'Perlman': 1, 'Barney': 1, 'Groundswell:': 1, 'Vérité': 1, 'Paris/Hollywood:': 1, \"Cinema's\": 1, '\"Pour': 1, 'Vous\"': 1, 'Magazine,': 1, '1928–1940': 1, 'Gogh,': 1, 'Starry': 1, 'Animations': 1, 'Eileen': 1, 'Gray': 1, 'Anticipations:': 1, 'Henard': 1, '(1849–1923)': 1, 'Irrational': 1, 'Profusion:': 1, 'Nicole': 1, 'Cherubini,': 1, 'Leuthold,': 1, 'Robins,': 1, 'Schlesinger': 1, 'Skidmore,': 1, 'Owings': 1, 'Coy': 1, 'Howard': 1, 'Persian': 1, 'Fresco': 1, 'Night:': 1, 'Goldberg': 1, 'W.': 1, 'Glier': 1, 'Salvador': 1, 'Dalí': 1, '1974': 1, 'Victoria': 1, '\"Obscura': 1, 'Projections\"': 1, 'Diebenkorn': 1, \"Dine's\": 1, 'Varieties:': 1, 'Bed),': 1, '(See': 1, 'Saw),': 1, '(Chimneyfire': 1, 'Erasers)': 1, 'Fauves': 1, 'Grenier': 1, 'Katharina': 1, 'Sieverding:': 1, '(1984):': 1, 'Frontline:': 1, 'Commentary': 1, 'Mabou': 1, 'Mines:': 1, 'Horse': 1, 'Animation\"': 1, 'End': 1, 'Diversity:': 1, '1991–1992': 1, 'Ferhat': 1, 'Özgürr:': 1, 'Sing': 1, 'Joaquin': 1, 'Hendricks:': 1, '19th': 1, 'Louvre': 1, 'Albi': 1, 'Lyon': 1, 'Colors': 1, 'Toward': 1, 'Steichen:': 1, '1895–1914': 1, 'Promised': 1, 'Nuit': 1, 'Noël': 1, 'Liturgical': 1, 'Vestments': 1, '77:': 1, 'Julian': 1, 'Opie,': 1, 'Ruyter': 1, 'Flip': 1, 'series,': 1, 'Musée': 1, 'la': 1, 'dance:': 1, 'Collective': 1, 'Gestures': 1, 'Reprocessing': 1, 'Dimensions': 1, 'Diary:': 1, 'Twenty-Five': 1, 'Defamation': 1, 'Character': 1, 'Guggenheim': 1, 'Afro-American': 1, 'Jared': 1, 'Bark:': 1, '\"Lights:': 1, 'On/Off\"': 1, 'Neutron': 1, 'Readings\"': 1, '1946–1953:': 1, 'Serra/Sculpture': 1, '22:': 1, 'Gertsch': 1, '\"Wild': 1, 'Beasts\":': 1, 'Fauvism': 1, 'Listening': 1, '2001–2002': 1, 'Shaped': 1, 'Field:': 1, 'Eccentric': 1, 'Formats': 1, '82:': 1, 'Dion—Rescue': 1, 'Archaeology,': 1, 'Turner:': 1, 'Imagination': 1, 'Rites:': 1, 'Word,': 1, 'Flesh,': 1, 'Fracas,': 1, 'Survivors': 1, 'OMA': 1, 'Beijing:': 1, 'Headquarters': 1, 'Ole': 1, 'Scheeren': 1, 'Carolina': 1, 'Priestly': 1, 'Bourke-White,': 1, 'Levitt,': 1, 'Lange,': 1, 'Tana': 1, 'Hoban,': 1, 'Bubley,': 1, 'Hazel-Frieda': 1, 'Normal': 1, 'Laurel': 1, 'Nakadate:': 1, 'Only': 1, 'Lonely': 1, 'Gerson:': 1, 'Arteries': 1, 'Wheaton': 1, 'Adding': 1, 'Up:': 1, '1970–1995': 1, 'Lin:': 1, 'Grind': 1, 'her': 1, 'Subjects:': 1, 'Dine,': 1, 'Ratliff,': 1, 'Victoria:': 1, 'Immaculate': 1, '(1988):': 1, 'Barebones': 1, 'Dancing': 1, 'Gabo,': 1, '1890–1977': 1, 'Liberman': 1, 'Fontcuberta/Pere': 1, 'Formiguera': 1, 'Ethics': 1, 'Ramirez': 1, 'Costumes': 1, 'Mérida': 1, 'Groover': 1, 'Craig,': 1, 'Fornas,': 1, '\"Trio': 1, 'A\"': 1, 'Rainer': 1, 'Vienna/Permanent': 1, 'Boundary:': 1, 'Welch:': 1, 'Drive-In': 1, 'Lundberg': 1, 'Magnus': 1, 'Plessen:': 1, 'Adolph': 1, 'Gottlieb,': 1, '1903–1974': 1, 'Marclay': 1, 'Renewal': 1, 'Tests': 1, 'U.S.O.': 1, 'Centers': 1, 'Frankenthaler:': 1, 'Gruppo': 1, 'A12:': 1, 'Parole': 1, 'Where': 1, '(Who': 1, 'Anyway?),': 1, '1976': 1, 'Maps': 1, 'Battle': 1, '1776–1918': 1, 'Observer:': 1, '2000–2001)': 1, 'Mesches:': 1, 'FBI': 1, 'Files': 1, 'Demuth': 1, 'Grain:': 1, 'Broida': 1, 'ID:': 1, 'Third': 1, 'Humble': 1, 'Michelson:': 1, '\"Devotion': 1, '#3\"': 1, 'Unfamiliar': 1, 'Places:': 1, 'Dane': 1, 'Torbjørn': 1, 'Rødland:': 1, '132': 1, 'BPM': 1, 'Orchestra': 1, 'Abstractions,': 1, '1940s': 1, 'Magician': 1, 'Richards': 1, 'Medical': 1, 'Building,': 1, 'Kahn,': 1, 'Judy': 1, 'FORTY': 1, 'Yank': 1, 'Illustrates': 1, 'Adéagbo:': 1, 'L’ami': 1, 'Dieu': 1, 'Spratt:': 1, 'Ganko': 1, 'Benton,': 1, 'Todd,': 1, '7:': 1, '\"Mirage\"': 1, '72:': 1, 'Armleder/Piotr': 1, 'Uklanski': 1, 'Gifts:': 1, 'Exercises': 1, 'Helmut': 1, 'Weber:': 1, '\"Active': 1, 'Reproductions:': 1, 'Blane': 1, 'Walz': 1, 'Frame': 1, '1999': 1, 'Pavilion': 1, 'Krasner:': 1, 'Sigmund:': 1, 'Highway': 1, 'Infinite': 1, 'Path': 1, 'Coplans': 1, 'Self-Constructing': 1, 'Self-Destroying': 1, 'Conceived': 1, 'Tinguely': 1, 'Braque,': 1, 'Weil': 1, '\"Two': 1, 'Notebooks\"': 1, 'Intensive': 1, 'Highly': 1, 'Detailed': 1, 'Gloria': 1, 'Achille': 1, 'Castiglioni:': 1, 'Design!': 1, 'Sauna': 1, 'Lorca': 1, 'Corcia,': 1, 'Frey,': 1, 'Hanson': 1, 'England:': 1, 'Vandivert': 1, 'Hurson': 1, 'Blake:': 1, 'XXXI,': 1, 'Nan': 1, 'Hoover:': 1, 'Fields': 1, 'Ashkan': 1, 'Sahihi:': 1, 'Drug': 1, 'Neighborhood:': 1, 'Focus': 1, 'Unity': 1, \"Wegman's\": 1, 'Cinderella': 1, 'Midsummer': 1, \"Night's\": 1, 'Epstein': 1, 'Others': 1, 'Historians': 1, 'Viewpoint:': 1, 'Benning,': 1, 'Lovely': 1, 'Highstein:': 1, 'Pipe': 1, '1974/2003': 1, 'Carvers-Modelers-Welders:': 1, '1881–1981': 1, 'DeCarava:': 1, 'Music,': 1, 'Figuratively': 1, 'Sculpting': 1, 'Coma': 1, 'Eyal': 1, 'Danieli,': 1, 'Manon': 1, 'Boer,': 1, 'Shannon': 1, 'Ebner,': 1, 'Fitzpatrick,': 1, 'Anders': 1, 'Goldfarb,': 1, 'Kirk,': 1, 'Puntar,': 1, 'Zybach': 1, 'Francisco/Science': 1, 'Realistic': 1, 'Solutions': 1, 'Phoebe': 1, 'Washburn,': 1, 'Seconds': 1, 'Something': 1, 'Scale,': 1, 'Change:': 1, 'Architectures': 1, 'Engagement': 1, 'Czech': 1, 'Glossolalia:': 1, 'Languages': 1, '47:': 1, 'Courchesne': 1, 'Motet*': 1, 'Lewisohn': 1, '1990)': 1, 'Blaine,': 1, 'Bourgeois,': 1, 'Grampton,': 1, 'Porter,': 1, 'Flavin,': 1, 'Judd,': 1, 'Liubov': 1, 'Popova': 1, '“Strumming': 1, 'Bosendorfer': 1, 'Piano”': 1, 'Montaño:': 1, 'Today\"': 1, 'Noriyuki': 1, 'Haraguchi': 1, 'Sticks': 1, 'Avant-Garde,': 1, '1912–1930': 1, 'Anti-Painting': 1, '1927–1937': 1, 'Maximal': 1, 'Sixties:': 1, 'Pop,': 1, 'Op,': 1, 'Figuration': 1, '1987': 1, 'Rick': 1, 'Dingus': 1, '6th': 1, 'Wolff': 1, 'Price': 1, 'Protest': 1, '2015': 1, 'COSMO': 1, 'b': 1, 'y': 1, 'Andrés': 1, 'Jaque': 1, '/': 1, 'Office': 1, 'Innovation': 1, 'Lascia:': 1, 'Stockholder:': 1, 'Float': 1, 'Thin': 1, 'Air': 1, 'Prairie:': 1, 'Burchfield:': 1, '1916–1918': 1, 'Hume,': 1, 'Angels': 1, 'Gunter': 1, 'Haese': 1, \"D'Amato,\": 1, 'Pope,': 1, 'JoAnn': 1, 'Seated': 1, 'Nude,': 1, '1911:': 1, 'Analysis': 1, 'Bochner': 1, 'Tracy:': 1, 'Terminal': 1, 'Privileges/Privilegios': 1, 'Terminales': 1, 'Seccombe': 1, '58:': 1, 'Rikrit': 1, 'Tiravanija': 1, 'Music:': 1, 'Mirrors': 1, 'Windows:': 1, 'Lawler': 1, 'Tuttle:': 1, 'Octagonals': 1, '1969–1970': 1, 'Selections:': 1, '1974-1984': 1, 'Andrei': 1, 'Khlobistin:': 1, '\"Picture': 1, 'Future\"': 1, 'Schoenbaum': 1, 'Textile': 1, \"Sultan's\": 1, 'Lemons': 1, 'Oils,': 1, 'Thomas;': 1, '1949': 1, '32:': 1, 'Spiegelman': 1, 'Creatures': 1, 'Satiric': 1, 'Poses': 1, 'Kay': 1, 'Sage': 1, 'Byars:': 1, '1/2': 1, 'Autobiography': 1, 'Gutmann:': 1, 'Document': 1, 'Miller:': 1, '\"Art': 1, 'Bulletin,\"': 1, '1968–1989': 1, 'Annette': 1, 'Messager': 1, 'Line/Marie': 1, 'Cool': 1, 'Fabio': 1, 'Balducci,': 1, 'Posed': 1, 'unposed:': 1, 'Stan': 1, 'Smokler:': 1, 'Views:': 1, 'Nick': 1, 'Nixon': 1, 'Promise': 1, 'Photograhy:': 1, 'DG': 1, 'Roberta': 1, 'Amnesty': 1, 'Brooklyn': 1, 'Bridge': 1, 'Collier': 1, 'Jean-Michel': 1, 'Othoniel': 1, \"Mondrian's\": 1, 'DeStijl': 1, 'Colleagues': 1, '11:': 1, 'Line/Trisha': 1, 'Company,': 1, 'Michaela': 1, 'Weisselberg:': 1, 'Actors,': 1, 'Dancers,': 1, 'Bathers': 1, 'Boyle:': 1, 'Telephone': 1, 'Gillen': 1, '1972–1981': 1, 'Once': 1, 'Lobmeyr': 1, 'Brandt': 1, 'Bunce,': 1, 'Johnston,': 1, 'Mundt': 1, 'Chen': 1, 'Zhen:': 1, '44': 1, 'Marker:': 1, 'Owls': 1, 'Noon,': 1, 'Prelude:': 1, 'Hollow': 1, 'Hannah': 1, 'Höch': 1, '1913–15': 1, 'Baim': 1, '2822': 1, '(PS1),': 1, '1987–2009': 1, 'Afrika:': 1, '\"Donaldestruction\"': 1, 'Forever:': 1, '1958–1968': 1, 'Constructions,': 1, 'Pastels,': 1, 'Hanging': 1, '194X-9/11:': 1, 'Cit': 1, 'Baltz:': 1, 'Rule': 1, 'Exception': 1, 'Titus': 1, 'Kaphar:': 1, 'Asphalt': 1, 'Chalk\\n': 1, 'Rankin:': 1, 'Measure': 1, 'Pause': 1, 'Marin': 1, 'Trip:': 1, 'Meyerowitz': 1, 'Homer,': 1, 'Ryder,': 1, 'Eakins': 1, 'Ateliers': 1, 'Prouvé': 1, 'Marin:': 1, 'Oil': 1, 'Low:': 1, 'Jeanne': 1, 'Finley:': 1, 'Mistakes': 1, 'Nauman,': 1, 'Valie': 1, 'Export,': 1, 'Orozco,': 1, 'Henry:': 1, 'XXI': 1, 'Batiste': 1, 'Madalena:': 1, 'Hand-Painted': 1, 'Eastman': 1, 'Theatre,': 1, '1924–192': 1, '56:': 1, 'General': 1, 'Sugarman,': 1, 'D’Vorzon,': 1, 'Voices': 1, 'Graham,': 1, 'Norfleet,': 1, 'Kitsch,': 1, 'Psychedelia,': 1, 'Headlines,': 1, 'Quotations': 1, 'Geometry': 1, '1920s/1970s': 1, 'Christo': 1, 'Wraps': 1, 'Bloom,': 1, 'Button,': 1, 'Drexler,': 1, 'Kilstrom,': 1, 'McLean,': 1, 'Raleigh,': 1, 'Lamb': 1, 'Wedge': 1, 'Lock': 1, 'Handle': 1, 'XXII': 1, 'Pearlstein;': 1, 'Skin': 1, 'Newman,': 1, '1905–1970': 1, 'Hammons:': 1, 'Rousing': 1, 'Rubble,': 1, '1969–1990': 1, 'Household': 1, '$5.00': 1, 'Slingshot': 1, '26:': 1, 'Clipper': 1, 'After:': 1, 'Roman': 1, 'Ondák': 1, 'Farewell': 1, 'Bosnia:': 1, 'Columbia': 1, 'Snow,': 1, 'Adel': 1, 'Abdessemed:': 1, 'Alive': 1, '1984–1985': 1, 'Barragán': 1, 'Harvey': 1, 'Quaytman:': 1, 'Fernanda': 1, 'Cardoso': 1, '2010:': 1, 'Roe': 1, 'Ethridge,': 1, 'Elad': 1, 'Lassry,': 1, 'Prager,': 1, 'Ross-Ho': 1, 'Batya': 1, 'Zamir:': 1, 'Stein,': 1, 'Whidden': 1, 'Brainard:': 1, 'Discovered': 1, 'Picabias': 1, 'Lutz': 1, 'Bacher': 1, 'Forti:': 1, '\"King\\'s': 1, 'Fool\"': 1, 'Rees:': 1, '\"Webelos\"': 1, 'Haugard': 1, 'In-Depth:': 1, 'Spiritual': 1, 'Retreat': 1, 'Ambasz': 1, 'Lange': 1, 'Claude': 1, 'Monet:': 1, 'Gaudí': 1, 'XVI': 1, 'Kleiman:': 1, 'Facing': 1, 'Inward': 1, 'Edelheidt': 1, 'Dive-In': 1, 'Movies:': 1, 'Flix': 1, 'B-yond': 1, 'Reprints': 1, 'Anthropology:': 1, 'Institution': 1, '30:': 1, 'Guillermo': 1, 'Kuitca': 1, 'Brancusi,': 1, 'Helvetica': 1, 'Critical': 1, 'Perspectives:': 1, 'Curators': 1, 'BEATFUSE!': 1, 'OBRA': 1, 'Hedi': 1, 'Slimane:': 1, 'Ventilator': 1, 'Jacobs': 1, 'All': 1, 'Shore': 1, 'Adele': 1, 'Levy': 1, 'Diller': 1, 'Scofidio': 1, 'Hepworth,': 1, ',': 1, '1903-1975': 1, 'Sascha': 1, 'Braunig:': 1, 'Shivers': 1, 'Jennifer': 1, 'Bartlett:': 1, '\"Swimmers': 1, 'Atlanta\"': 1, 'Levitt:': 1, 'Rose:': 1, 'Certain': 1, 'Ambiguities': 1, 'Cajori;': 1, 'Slivka': 1, 'Hot': 1, 'Cold': 1, 'Billingham,': 1, 'Osamu': 1, 'Kanemura,': 1, 'Ristlehueber,': 1, 'Georgina': 1, 'Starr,': 1, 'Tillmans': 1, 'Painted': 1, 'Barr,': 1, 'Jr.,': 1, '1902–1981': 1, 'Fashioning': 1, '1990': 1, 'Noble': 1, 'XXXV': 1, 'Marilyn': 1, 'Belford': 1, '\"Genetic': 1, 'Messages\"': 1, 'Salute': 1, 'Wilmarth': 1, 'Carla': 1, 'Accardi:': 1, 'Triplice': 1, 'Tenda': 1, 'Bali,': 1, 'Background': 1, 'Reoccupation': 1, '103:': 1, 'Thea': 1, 'Djordjadze': 1, \"Filmmakers'\": 1, 'Lawrence': 1, '\"Days\"': 1, 'Masterprints': 1, 'Bofill': 1, 'Krier:': 1, 'Urbanism,': 1, 'Realists': 1, 'Magic-Realists': 1, 'Costa': 1, 'Rica': 1, 'Fuzzy:': 1, '76': 1, 'Jefferson': 1, 'Brody,': 1, 'Soul': 1, 'Lionel': 1, 'Maunz': 1, 'Fischli': 1, 'Weiss:': 1, 'Buckingham:': 1, 'Definition': 1, '1901–1974': 1, 'Calder:': 1, 'Rethinking': 1, 'Proposals': 1, 'Poems': 1, '1965–1985;': 1, '1986': 1, 'Performer': 1, 'Residence': 1, 'Paik': 1, 'Deconstructivist': 1, 'Road': 1, 'Victory': 1, 'Charlesworth:': 1, '1981–1984': 1, 'Wide': 1, 'Egon': 1, 'Schiele:': 1, 'Leopold': 1, 'Deren': 1, 'Land': 1, 'Relief': 1, 'Nedko': 1, 'Solakov:': 1, '(Not': 1, 'So)': 1, 'Frydlender:': 1, 'Wilhelm': 1, 'Lehmbruck:': 1, 'Youth': 1, 'Mutant': 1, 'Materials': 1, '\"Lunar': 1, 'Series\"': 1, 'Andrejevic:': 1, 'XXVIII': 1, 'Abbott': 1, 'Notley': 1, 'Kriesche': 1, 'Uniform:': 1, 'Order': 1, 'Disorder': 1, 'Amnesia': 1, 'Dody': 1, 'Generation:': 1, 'Fantasies:': 1, 'Shutter': 1, 'West/East:': 1, 'Environmental': 1, 'Leatrice': 1, 'Edelson': 1, 'Stackhouse': 1, 'Taylor': 1, 'Knowlton': 1, 'Bacon': 1, 'Proofs': 1, 'Kris': 1, 'Chauncey': 1, 'Hare': 1, '76:': 1, 'Alÿs': 1, 'Clemens': 1, 'Wedemeyer': 1, 'Gaetano': 1, 'Pesce:': 1, 'Skyscraper': 1, 'Houses:': 1, 'Divided:': 1, 'Sissel': 1, 'Tolas,': 1, 'Milovan': 1, 'Markovic,': 1, 'Else': 1, 'Gabriel,': 1, 'Julius.': 1, 'Acquisitons': 1, 'Trouble': 1, '$10.00': 1, 'Hangings': 1, '1930–2006:': 1, 'Ensemble:': 1, '\"Music': 1, 'Parts\"': 1, 'Highstein': 1, '1913–1963': 1, 'Yeohlee': 1, 'Teng': 1, 'Introduction': 1, 'Bryan': 1, 'Hunt:': 1, 'Meckseper': 1, 'Mikhael': 1, 'Subotzky': 1, '1921–1959:': 1, 'Wheeler': 1, 'Ireland': 1, '2016': 1, 'Weaving': 1, 'Escobedo': 1, 'Soliz': 1, 'Kessler:': 1, 'Palace': 1, 'War,': 1, 'Armored': 1, 'Train,': 1, 'Severini': 1, 'Peress:': 1, '\"Telex': 1, 'Iran\"': 1, 'Merchants:': 1, 'Selling': 1, \"Hollywood's\": 1, 'Golden': 1, 'Palestine': 1, 'Parker:': 1, 'Dual': 1, 'Marsicano,': 1, 'RAW-WAR': 1, 'Eastern': 1, 'Kentucky': 1, 'Francisco:': 1, 'Sites': 1, 'Intolerance': 1, 'Connors:': 1, 'Impressionism': 1, 'Mendelsohn,': 1, '1914–1940': 1, 'Koudelka': 1, 'Abstractions': 1, 'Imagery:': 1, 'Neuhaus': 1, 'Ride,': 1, 'Laugh,': 1, 'Cannon': 1, 'Demand': 1, \"Evans'\": 1, 'Subway,': 1, '1938–1941': 1, 'Trajal': 1, 'Harrel:': 1, '\"Used,': 1, 'Abused,': 1, 'Hung': 1, 'Dry,\"': 1, 'dinners,': 1, 'liquid': 1, 'aluminum': 1, 'pieces,': 1, 'pastels,': 1, 'plasters': 1, 'Kenny': 1, 'Scharf': 1, 'Organic': 1, '1989–1990': 1, 'Tunga': 1, 'Nowicki': 1, '1910–1950': 1, '(1981):': 1, 'DANCETEXTFLASH': 1, '1862–1932': 1, 'Oursler:': 1, 'Mourning': 1, 'Gas': 1, \"Station's\": 1, 'Opening': 1, 'Now:': 1, '1955–1975': 1, 'Isamu': 1, 'Sculpture?': 1, 'Rosalind': 1, 'Solomon:': 1, 'Sunday:': 1, 'Cities:': 1, 'Planning': 1, 'Viola': 1, 'Schults': 1, 'EI': 1, 'Arakawa': 1, 'Countdown': 1, 'Happening': 1, '65:': 1, 'Maurizio': 1, 'Cattelan': 1, 'Ideology:': 1, 'Rebecca': 1, 'Garrett': 1, 'Lyne': 1, 'Lapointe': 1, 'Andre': 1, 'Anger': 1, 'Kites': 1, 'Indoor/Outdoor': 1, 'Illustrations': 1, 'Curious': 1, 'Crystals': 1, 'Unusual': 1, 'Purity': 1, 'Sunset:': 1, \"Photography's\": 1, 'Desire:': 1, 'Paxton:': 1, '\"State\"': 1, '\"Satisfyin\\'': 1, 'Lover\"': 1, 'Elliott': 1, 'Erwitt:': 1, 'Improbable': 1, 'Paik,': 1, 'Wegman': 1, 'Skyscrapers': 1, 'Viewing': 1, 'Sol’Sax:': 1, 'Jeans': 1, '43:': 1, 'of...': 1, 'Tall': 1, 'Atelier': 1, 'Lieshout:': 1, 'Darkroom': 1, 'Billy': 1, 'Subtractive': 1, 'Connections': 1, 'Melvin': 1, 'Charney': 1, 'Daguerre': 1, 'Despite': 1, 'Modernism': 1, '15:': 1, 'Line/Xavier': 1, 'Roy,': 1, 'Loris': 1, 'Cecchini:': 1, 'Cloudless': 1, 'Yasuda:': 1, 'Installation/Wall': 1, 'Polar': 1, 'Co-ordinates': 1, 'Drumlevitch,': 1, 'Parker': 1, 'Photo-Image': 1, '35:': 1, 'Kroninger': 1, 'Taste': 1, 'Connoisseur:': 1, 'Feininger,': 1, 'Vasily': 1, 'Kandinsky,': 1, 'Elie': 1, 'Nadelman': 1, 'Ferrer': 1, 'Theophil': 1, 'Repke:': 1, 'Guggenheim,': 1, '1877–1970:': 1, 'Airways': 1, 'Peace': 1, 'Harris:': 1, 'Power/The': 1, 'Pillar': 1, 'Mercy,': 1, 'Monument': 1, 'Latter': 1, 'Ambiguity\"': 1, 'Miri': 1, 'Circular': 1, 'Un': 1, 'Homme-Song': 1, 'Praise': 1, 'Creeley:': 1, 'Short-Term': 1, 'Residencies': 1, 'Neto:': 1, 'Navedenga': 1, 'Banners': 1, '(Cycle': 1, 'II)': 1, 'Suite,': 1, 'Op': 1, '158': 1, 'Mean': 1, 'Streets:': 1, '1940s–1980s': 1, 'Nations': 1, 'Tadanori': 1, 'Yokoo': 1, 'Rob': 1, 'Pruitt:': 1, '\"Evian': 1, 'Waterfall\"': 1, 'Nude:': 1, 'Dearraindrop:': 1, 'Tylenol': 1, '48:': 1, 'Hamilton': 1, 'Bove:': 1, 'Equinox': 1, \"O'Hara/In\": 1, 'Feelings': 1, 'McLaughlin': 1, '(1983):': 1, 'Environments:': 1, 'Yuin:': 1, '\"Nightlife\"': 1, 'Scher:': 1, '(P.T.A.)': 1, 'Sight': 1, 'Gags:': 1, 'Caricature,': 1, 'Grotesque,': 1, 'Eugène': 1, '\"Documents': 1, 'Artistes': 1, 'Toulouse': 1, 'Lautrec': 1, 'Exploring': 1, 'Shimmer': 1, 'Possibility.': 1, 'Cartoonist': 1, 'Lichtenstein': 1, 'Criminal': 1, 'Proceedings': 1, '1988–89': 1, 'Automatic': 1, 'Update': 1, 'Corse': 1, 'Insley:': 1, 'Ceremonial': 1, 'Altered,': 1, 'Stitched': 1, 'Gathered': 1, '1992–1993': 1, 'Vogel:': 1, 'Deferred': 1, 'Cancellation': 1, 'Franky': 1, 'Kong:': 1, 'Workspheres': 1, 'Collages/Great': 1, 'Chatham': 1, '75th': 1, 'Cézanne:': 1, 'Norton:': 1, 'U.N.O.:': 1, 'Repeat': 1, 'Geneva': 1, 'Fiasco?': 1, 'Nachume': 1, 'LeWitt:': 1, 'Block': 1, 'Hallway': 1, 'Boetti:': 1, 'Sonia': 1, 'Landy': 1, 'Sheridan': 1, 'Detachment': 1, 'Invention': 1, 'Frances': 1, 'Stark:': 1, 'Exemplary': 1, 'João': 1, 'Onofre:': 1, 'Pas': 1, \"d'action\": 1, 'Nothing': 1, 'Go': 1, 'Wrong': 1, 'Copy:': 1, '1839': 1, 'Reading,': 1, 'Theatrical': 1, '1881–1961:': 1, 'Marsden': 1, 'Hartley': 1, 'Post-Impressionism': 1, 'Dimitry': 1, 'Merinoff:': 1, '1950-1970': 1, 'Spatial': 1, 'Relationships': 1, 'Constantin': 1, 'Pichler': 1, 'Mixed-Use': 1, 'District': 1, 'Volume:': 1, 'Bed': 1, \"Milone's\": 1, 'Shoe': 1, 'Shine': 1, 'Stand': 1, 'Times:': 1, '92:': 1, 'Yin': 1, 'Xiuzhe': 1, 'Herzog': 1, 'Meuron,': 1, 'Perception': 1, 'Restrained': 1, 'Beckwith:': 1, 'Antoni': 1, 'Tàpies': 1, 'films': 1, 'Guimarães': 1, 'Alechinsky:': 1, 'Hans-Peter': 1, 'Feldmann:': 1, 'Theatre:': 1, 'Invitation': 1, '38:': 1, 'Jana': 1, 'Štěrbáck': 1, 'Beasley:': 1, 'Spot': 1, 'Back\"': 1, 'Avedisian': 1, '1973–1976': 1, 'Takashi': 1, 'Murakami:': 1, 'Mission': 1, 'ko2': 1, 'Braque:': 1, 'Boccioni': 1, 'Winston': 1, 'Innocence': 1, 'Caricatures': 1, 'Hoffmeister': 1, 'Peel': 1, 'Berlin:': 1, 'Developments': 1, '1989–1999': 1, 'Versus': 1, 'Cloth\"': 1, 'Griffith': 1, 'Self': 1, 'Persona,': 1, '1840–1985': 1, 'Sleepless': 1, 'Nights': 1, 'Lovett/Codagnone:': 1, 'Interruption': 1, 'Armando': 1, 'Reverón': 1, 'Figure:': 1, 'Survey:': 1, 'Lab,': 1, 'WNET/Thirteen': 1, '1998)': 1, 'Hunt': 1, 'Ball:': 1, '(Matthew': 1, 'Barney)': 1, 'Crane': 1, 'Acquisition': 1, 'Especially': 1, 'Donated': 1, 'Treasure:': 1, 'Basel': 1, 'Ondine:': 1, 'Mensch:': 1, 'Pregnancy': 1, 'Nicoletti': 1, 'Annie': 1, 'Ratti': 1, 'Sculptor': 1, 'Clemente:': 1, 'Argonaut': 1, 'Fuente:': 1, '\"Transmutation': 1, 'Zero\"': 1, 'Change,': 1, 'Inc.': 1, '2002': 1, 'Playa': 1, 'Urbana/Urban': 1, 'Beach': 1, 'Massie': 1, '60:': 1, 'Currin,': 1, 'Peyton,': 1, 'Tuymans': 1, 'Thresholds/Santiago': 1, 'Calatrava:': 1, 'Expression': 1, 'Kobland:': 1, 'Experiencing': 1, 'Place\"': 1, 'Kaprow': 1, 'Hidden': 1, 'Products': 1, 'Fernando': 1, 'Benedit': 1, 'Heaven:': 1, 'View,': 1, 'Dig': 1, 'This:': 1, 'Angeles': 1, '1960-1980': 1, '23:': 1, 'Lorna': 1, 'Simpson': 1, 'Brancusi:': 1, 'Installation,': 1, 'Musee': 1, \"l'Art\": 1, 'Moderne,': 1, 'Armory': 1, 'Liquid': 1, 'Sky': 1, 'Ball-Nogues': 1, 'Virtuoso': 1, 'Kei': 1, \"Takei's\": 1, 'Earth:': 1, '\"Light:': 1, 'Retrospective\"': 1, 'Marcopoulos': 1, 'Street:': 1, 'York\\n': 1, '1910–1934': 1, 'Drexler': 1, \"Directors'\": 1, 'Ford/Renoir/Sternberg': 1, '87:': 1, 'Sigalit': 1, 'Landau': 1, 'Steiner': 1, 'Paintings-Drawings-Pastels': 1, 'Ahearn': 1, '1919–1928': 1, 'Rough': 1, 'Cut:': 1, 'Sharp': 1, 'Konzai': 1, '57:': 1, 'Bul': 1, 'Lee/Chie': 1, 'Matsui': 1, 'Stamps': 1, 'Stamp': 1, 'Hamish': 1, 'Fulton': 1, 'Room:': 1, '1968–1987': 1, 'Factory': 1, 'Crown': 1, 'Strand:': 1, '1915–1945': 1, 'Timeline:': 1, 'Chronicle': 1, 'US': 1, 'Intervention': 1, 'Moufarrege': 1, 'Package': 1, '1950–1992,': 1, 'Thresholds/Bernard': 1, 'Tschumi:': 1, 'IM': 1, 'Heung-soon:': 1, 'Reincarnation': 1, 'Boutis': 1, 'Mechanics': 1, 'XXIV': 1, 'Gilliam': 1, 'Sheeler': 1, 'Monumental': 1, 'Iseli': 1, 'Possibility/Franz': 1, 'Pennsylvania': 1, 'Avenue,': 1, 'Washington,': 1, 'D.C.': 1, 'Brian': 1, \"O'Neill:\": 1, '\"Fallen': 1, 'Fluhe\"': 1, 'Z': 1, 'Borofsky': 1, 'Surasi': 1, 'Kusolwong': 1, 'Wunderkammer:': 1, 'Curiosities': 1, 'Grooms:': 1, 'UFA': 1, '1918–1943': 1, 'Morehead:': 1, '\"Straight': 1, 'Male\"': 1, 'Cathey': 1, 'Overview:': 1, 'A.I.R.': 1, 'Watching': 1, 'Hultén:': 1, 'Aged': 1, '3–12': 1, 'Robins': 1, 'Levitan,': 1, 'Messina,': 1, 'Transformed': 1, 'Media:': 1, '41:': 1, '100:': 1, 'Akram': 1, 'Zaatari': 1, 'Two:': 1, 'Horace': 1, 'Gregory:': 1, 'Whistler': 1, 'Legend': 1, 'Matrix': 1, 'Seberg': 1, 'Century:': 1, 'Independence': 1, 'Liberation': 1, 'Movements': 1, '1945–1994': 1, 'Close/Liliana': 1, 'Arad:': 1, 'No': 1, 'Discipline': 1, 'Chance:': 1, 'Ferraro:': 1, '100%': 1, 'Dreamwork': 1, 'Quiñones': 1, '1977):': 1, 'Finke': 1, 'Report:': 1, 'McClard:': 1, \"There's\": 1, 'Meat': 1, 'Bones': 1, 'Heuristic': 1, 'Ecdysis\"': 1, 'Allora': 1, 'Calzadilla': 1, 'Passuntino:': 1, 'Europe/USA:': 1, 'Sherman': 1, 'Tensions:': 1, 'Irreverence': 1, 'Business': 1, 'Shapiro:': 1, 'Kitten': 1, 'Season': 1, 'Hoyt': 1, 'Mika': 1, 'Rottenberg:': 1, 'Mary’s': 1, 'Cherries': 1, 'Halley': 1, 'Quay': 1, 'Deciphering': 1, \"Pharmacist's\": 1, 'Prescription': 1, 'Lip-Reading': 1, 'Puppets': 1, 'Hsieh': 1, 'Quintanilla:': 1, 'Penn': 1, 'Modigliani': 1, 'Turbeville': 1, 'Leather:': 1, '\"L\\'Heure': 1, 'Entre': 1, 'Chien': 1, 'et': 1, 'Loup\"': 1, 'Innovations': 1, 'Animator:': 1, 'Storyboard': 1, 'Austria': 1, 'E.J.': 1, 'Bellocq:': 1, 'Storyville': 1, 'Ferri': 1, 'Greenberg': 1, 'Mac': 1, 'Low': 1, 'Gianfranco': 1, 'Gorgoni:': 1, 'Tight': 1, 'Shots': 1, 'Tunisian': 1, 'Triumph:': 1, 'Elisofon': 1, 'Dartmouth': 1, 'Bergman:': 1, 'Costumes,': 1, 'Disguises': 1, 'Alimpiev,': 1, 'Denevan': 1, 'Marcopoulos,': 1, 'Gandalf': 1, 'Gavan,': 1, 'Hartshorn,': 1, 'Molly': 1, 'Larkey,': 1, 'Prema': 1, 'Murthy,': 1, 'Adam': 1, 'Putnam': 1, 'Newberry:': 1, 'Lipchitz,': 1, '1891–1973': 1, 'Deacon:': 1, 'Bonnard,': 1, '80:': 1, 'Mingwei:': 1, 'Tourist': 1, 'Baldessari': 1, 'Aleko': 1, 'Useless': 1, 'Science': 1, 'Deviations:': 1, 'Types': 1, 'Families': 1, 'Massimo': 1, 'Bartolini:': 1, '(Wave)': 1, 'S.E.M.': 1, 'Ensemble': 1, 'Kotik': 1, 'Jill': 1, 'Kroesen': 1, 'Morley': 1, 'Wilkes': 1, 'Italo': 1, 'Scanga': 1, 'Actual': 1, 'Size': 1, 'Homers': 1, 'Kaj': 1, 'Franck:': 1, '1931–1966,': 1, '42:': 1, 'Moira': 1, 'Dryer': 1, 'Jensen:': 1, 'Kertész,': 1, 'Rodchenko,': 1, 'Moholy-Nagy:': 1, 'Aviary': 1, 'Expressions:': 1, 'Habitats': 1, '97:': 1, 'Boulos': 1, 'Crash': 1, 'Library:': 1, 'Éluard-Dausse': 1, 'Animal.Anima.Animus': 1, 'Gerard': 1, 'Akademia': 1, 'Ruchu': 1, '1963': 1, 'Nudes': 1, 'Transitions': 1, 'Hockney:': 1, 'Guitar': 1, 'Large-Scale': 1, 'Dante': 1, 'Ferretti:': 1, 'Turrell': 1, 'Becher': 1, 'Thonet': 1, 'Jensen;': 1, 'Becker': 1, 'U.S.A.,': 1, '1932–44': 1, 'Search': 1, 'Darkness': 1, 'Until': 1, 'Watercolors;': 1, 'Driven:': 1, 'Friberg': 1, 'Garden:': 1, 'Fabian': 1, 'Barba:': 1, '\"A': 1, 'Wigman': 1, 'Evening,\"': 1, 'Frescoes': 1, 'Man,': 1, '1955–1984': 1, 'Pole': 1, 'Solid': 1, 'Objectives': 1, 'Idenburg': 1, 'Liu': 1, 'Oskar': 1, 'Kokoschka': 1, 'Brownstein': 1, 'Schjeldahl': 1, 'Rebus': 1, 'Mondrian': 1, 'Lindner:': 1, '1901–1978': 1, '1869–1959': 1, 'Gerhard': 1, 'Richter:': 1, 'Stijl': 1, 'Irwin': 1, 'Transfer': 1, 'Clegg': 1, 'Guttmann:': 1, 'Index': 1, 'Commissioned': 1, 'Non-Commissioned': 1, 'Elliott,': 1, 'Powers,': 1, 'Rogalski,': 1, 'Summers': 1, 'Valborg': 1, 'Fletre': 1, 'Soundings': 1, 'Movement:': 1, 'Japan;': 1, 'Rau': 1, 'Railroad': 1, 'XVII': 1, 'Arp:': 1, 'Renée': 1, 'Bradley,': 1, 'Drew': 1, 'Heitzler,': 1, 'Kalup': 1, 'Linzy,': 1, 'Curtis': 1, 'Taiyo': 1, 'Onorato': 1, 'Nico': 1, 'Krebs,': 1, 'Lisi': 1, 'Raskin': 1, 'Hains': 1, 'PS1': 1, 'Long-Term': 1, 'Queens:': 1, 'Burckhardt': 1, 'Delivery:': 1, 'Fabricating': 1, 'Dwelling': 1, 'McKnight': 1, 'Kauffer': 1, 'Léger:': 1, 'Coliseum': 1, 'Associates:': 1, '1975–1990': 1, 'Underknown': 1, 'Ian': 1, 'Cheng:': 1, 'Emissaries': 1, '\"Undercover': 1, 'Blues\"': 1, 'Benni': 1, 'Efrat': 1, 'Grancel': 1, 'Fitz:': 1, '1929–1939': 1, 'Strider:': 1, 'Groell:': 1, 'Albers,': 1, '1888–1976': 1, 'Korakrit': 1, 'Arunanondchai': 1, 'Beshty,': 1, 'Gordon,': 1, 'Leslie': 1, 'Hewitt,': 1, 'Carter': 1, 'Mull,': 1, 'Sterling': 1, 'Ruby,': 1, 'Vanderbeek': 1, 'Impresario:': 1, 'Ambroise': 1, 'Vollard': 1, 'Tilda': 1, 'Swinton:': 1, 'Maybe': 1, 'Marie': 1, 'Cosindas:': 1, 'Polaroid': 1, 'Aspect': 1, 'real': 1, 'viaje': 1, 'Real/The': 1, 'Royal': 1, 'Twenties:': 1, 'Moran': 1, 'Pavlova': 1, 'Sweeney:': 1, 'Sculpture-Architecture': 1, \"'06:\": 1, 'Monk,': 1, 'Probst,': 1, 'Jules': 1, 'Spinatsch': 1, 'Signals:': 1, 'Digits,': 1, 'Fists,': 1, 'Talons': 1, 'Hutchinson': 1, 'Oppenheim': 1, 'Gehry': 1, 'Monotypes,': 1, 'Innocents': 1, 'Brand:': 1, 'no': 1, 'solid': 1, 'footing': 1, '(trained)': 1, 'duck': 1, 'fighting': 1, 'crow': 1, 'Korea': 1, 'Synesthetics:': 1, '83:': 1, 'Sosnowska': 1, 'Asher': 1, 'Scotland': 1, 'Christoph': 1, 'Schlingensief': 1, 'Wiley': 1, 'Fawbush': 1, 'Sietsema': 1, 'Borrelli,': 1, 'Florschuetz,': 1, 'Mandel': 1, 'Cuban': 1, '108:': 1, 'Gauri': 1, 'Gill': 1, 'Tillmans:': 1, 'Known': 1, 'Site:': 1, '*Retrospective*': 1, 'Xavier': 1, 'Roy\\n': 1, 'Looked': 1, 'At:': 1, 'Dalí:': 1, 'Advisory': 1, 'Committee': 1, 'Million': 1, 'Jewish': 1, 'Martyrs': 1, 'Founding': 1, 'Screenings': 1, 'Ripe': 1, 'Atkins': 1, 'Assembled': 1, '1942:': 1, 'Chairs': 1, 'Rennie': 1, 'Mackintosh': 1, 'Decade:': 1, '22': 1, \"Tomorrow's\": 1, 'House:': 1, 'Plans': 1, 'Processing': 1, 'Bareiss': 1, '74:': 1, 'Ricci': 1, 'Albenda': 1, 'Dreaming': 1, 'Nexus': 1, 'Printmaker': 1, 'USA:': 1, 'Post-War': 1, 'Dianna': 1, 'Frid,': 1, 'Kira': 1, 'Harris,': 1, 'Cloud,': 1, 'Heikes,': 1, 'Johannes': 1, 'VanDerBeek': 1, 'XXIII': 1, 'Lipski:': 1, 'Bells': 1, '2017': 1, 'LUMEN': 1, 'Sabin': 1, 'Cara': 1, 'Pearlman:': 1, 'Dressing': 1, 'Burton:': 1, 'Solitary-Behavior': 1, 'Tableaux': 1, 'Forst,': 1, 'Lansner,': 1, 'Pritchard,': 1, 'Gaugin': 1, 'Circle': 1, 'Brittany:': 1, 'Pont-Aven': 1, 'Soirée': 1, 'Points': 1, 'Chair': 1, 'Spirit': 1, 'Primitives:': 1, 'Singular': 1, 'Vision:': 1, 'Landfall': 1, 'V.': 1, 'Anselm': 1, 'Kiefer': 1, 'Treasury': 1, 'Avnet': 1, 'Remfry': 1, 'Stockholm': 1, 'Torr:': 1, 'GoGo': 1, 'UBS': 1, 'London/New': 1, 'York/Hollywood:': 1, 'Invaders': 1, 'Ei': 1, '\"Paris': 1, 'Wizard:': 1, 'Musical,\"': 1, 'Un-Private': 1, 'Rotation:': 1, 'Menschel': 1, 'Menagerie': 1, 'Postwar': 1, 'Organizing': 1, 'Chaos': 1, 'Gunta': 1, 'Stölzl': 1, 'Lake': 1, 'Unrelated': 1, \"Lipchitz's\": 1, 'Birth': 1, 'Muses': 1, \"Atget's\": 1, 'Canevari,': 1, \"O'Neill\": 1, 'Petra': 1, 'Lindholm': 1, 'Martín': 1, 'Chambi': 1, 'Ranney': 1, '\"Drawing': 1, 'Which': 1, 'Makes': 1, 'Itself\"': 1, '1969': 1, 'If': 1, 'Hermetic': 1, 'Golub': 1, 'Spero': 1, 'House”': 1, 'Andrea': 1, 'Zittell': 1, 'Peili:': 1, 'Eating': 1, 'Moon': 1, 'Situ:': 1, 'Translations': 1, 'Jess': 1, 'Darryl': 1, 'Sapien': 1, 'Constancia': 1, 'Vokietaitis:': 1, 'Principle': 1, 'Seaberg:': 1, '\"Here': 1, 'Judge-ment\"': 1, '\"Transcendence\";': 1, 'God\"': 1, 'Model,': 1, '1906-1983': 1, 'Percival': 1, 'Goodman': 1, '33:': 1, 'McCaslin': 1, 'Austrian': 1, 'Institute': 1, 'Raimund': 1, 'Flack,': 1, 'Lund': 1, '1914-1929': 1, 'MacIver': 1, 'Cornell': 1, 'Cooked': 1, '3.0': 1, 'Luigi': 1, 'Ontani:': 1, '1969–2001': 1, 'Baumgartl': 1, 'Marines': 1, 'Fire': 1, 'Greenfield:': 1, 'Wave\"': 1, 'Silicone': 1, 'Valley': 1, 'Carolee': 1, 'Schneemann:': 1, 'Kinetic': 1, '1979–1980': 1, 'Fischerspooner': 1, 'Essay': 1, 'Behind': 1, 'Shield:': 1, 'Warner': 1, 'Bros.': 1, 'System': 1, 'Prize': 1, 'Traveling': 1, 'Exhibitions': 1, 'Boots': 1, 'Antin': 1, 'Lillian': 1, 'Gish': 1, '(or,': 1, 'Spent': 1, 'Year)': 1, 'Birmelin,': 1, 'Cantor;': 1, 'Kirk': 1, 'Varnedoe': 1, '1959–1991': 1, 'Eiko': 1, 'Koma:': 1, 'Caravan': 1, 'Project,\"': 1, 'McAlpin': 1, 'Portikus': 1, 'Frankfurt': 1, '1939–1943': 1, 'Hirshfield': 1, 'Carpenter:': 1, 'Homecoming': 1, '2001)': 1, 'Redon,': 1, 'Moreau,': 1, 'Bresdin': 1, 'Expressionism:': 1, 'Impulse': 1, 'Craig-Martin:': 1, 'Action!': 1, '105:': 1, 'Cinthia': 1, 'Marcelle': 1, 'Buechel,': 1, 'S.J.:': 1, 'Rosebud': 1, 'Pine': 1, 'Ridge': 1, '1922–1942': 1, 'Captive': 1, 'Woman:': 1, 'NEA': 1, 'Cavern': 1, 'Lamps': 1, '28:': 1, 'Kyoko': 1, 'Kumai': 1, 'Circumstance:': 1, 'Episodes': 1, '1960–1980': 1, 'Janis': 1, 'Cartier': 1, 'Bresson': 1, 'XXVII': 1, 'Born': 1, 'out': 1, 'Necessity': 1, '(2000–2001):': 1, 'Strangers/Étrangers': 1, 'Kosloff:': 1, '\"Mural': 1, 'Square': 1, 'Station:': 1, 'Arts\"': 1, 'Scenic': 1, 'Lauterer': 1, 'Sean': 1, 'Scully:': 1, 'Paintings,1975-1979': 1, 'Marepe:': 1, 'Arca': 1, 'Azul': 1, 'Noé': 1, 'Luca': 1, 'Vitone:': 1, 'Hole': 1, 'Eyes': 1, 'Closed/Eyes': 1, 'Open:': 1, 'Abstraction,': 1, 'Pure': 1, 'Impure': 1, '80s': 1, 'Tobey,': 1, 'GCC:': 1, 'Achievements': 1, 'Cry': 1, 'Baby': 1, 'Coplans:': 1, 'Self-Portrait': 1, 'LeDoux:': 1, 'Dowland': 1, '\"When': 1, 'Name': 1, 'Konraad': 1, 'Lueg\":': 1, '1963–1968': 1, 'Dusseldorf': 1, 'Gallerist': 1, '(1939–1996)': 1, 'Balzac': 1, 'Tangible': 1, 'Len': 1, 'Lye': 1, 'Szarek': 1, 'Liberty': 1, '28th': 1, 'Editorial': 1, 'Directors': 1, 'Tigerman': 1, 'Villa': 1, 'Savoye:': 1, 'Destruction': 1, 'Neglect': 1, 'Xmas': 1, '(1982):': 1, 'Paranarrative': 1, 'Marco': 1, 'Zanuso': 1, 'Sapper:': 1, 'Florence': 1, 'Samuel': 1, 'Marx': 1, 'Comes': 1, 'Written': 1, 'With': 1, 'Lens': 1, 'Steps:': 1, 'Emerging': 1, 'Classic': 1, 'Cisitalia': 1, 'GT,': 1, '1946': 1, 'Claudia': 1, 'Schwalb:': 1, 'Low-Flame': 1, 'Sinsabaugh:': 1, 'Pipe,': 1, 'Glass,': 1, 'Bottle': 1, 'Rum:': 1, 'Appropriation': 1, 'Rosalyn': 1, 'Drexler:': 1, '64:': 1, 'Thater': 1, 'Thing/Thought:': 1, 'Fluxus': 1, 'Editions,': 1, '1962–1978': 1, 'Anatomy': 1, 'Dupuy:': 1, 'lent': 1, 'Bertram': 1, 'Norton': 1, 'Cézanne,': 1, 'Seurat,': 1, 'Bernd': 1, 'Becher:': 1, 'Landscape/Typology': 1, '46:': 1, 'Lucks': 1, 'Halil': 1, 'Altindere:': 1, 'Wonderland': 1, 'Helens': 1, 'Progress,': 1, 'Memorable': 1, 'Drowned': 1, 'Waterworks': 1, 'INASMUCH': 1, 'Is': 1, 'Already': 1, 'Taking': 1, 'Pipilotti': 1, 'Rist:': 1, '(7354': 1, 'Cubic': 1, 'Meters)': 1, 'D’Vorzon': 1, 'Evans,': 1, '1903–1975': 1, 'Oppermann:': 1, '(Why': 1, 'So': 1, 'Different?)': 1, '1970–1986': 1, '(1999)': 1, 'Bellini:': 1, 'Sur': 1, 'Xefirotarch': 1, 'Edmund': 1, 'Jones': 1, 'Breder,': 1, '850': 1, 'Collages:': 1, 'Rivera:': 1, '63:': 1, 'Davie,': 1, 'Udomsak': 1, 'Krisanamis,': 1, 'Pearson,': 1, 'Tomaselli': 1, 'Paci': 1, 'Osaka': 1, 'Remnants': 1, 'Departed': 1, '75:': 1, 'Layla': 1, 'Ali': 1, 'Hedy': 1, 'Fuchs': 1, 'Programs:': 1, 'Braun': 1, 'Co./Chemex': 1, 'Corp.': 1, 'Saret': 1, 'Quality': 1, 'Emmet': 1, 'Gowin': 1, 'Haselberg:': 1, 'Vezzoli:': 1, 'Teatro': 1, '1881–1938': 1, 'Unreal': 1, '1974–1976': 1, 'Salvaged:': 1, 'Stout': 1, 'Feng': 1, 'Mengbo': 1, 'Gastone': 1, 'Novelli': 1, 'Goetz:': 1, '\"Realm': 1, 'Mind\"': 1, 'Trustee': 1, 'ULAE': 1, '51': 1, 'SAFE:': 1, 'Risk': 1, '1986–1988': 1, 'Weinstein:': 1, 'Illuminated': 1, 'Heilmann': 1, 'Girouard:': 1, '\"Revival\"': 1, 'Bellamy:': 1, 'Few': 1, 'Clerk,': 1, 'Hadzi,': 1, 'Kabak:': 1, 'Civil': 1, 'Frontier': 1, '9+1': 1, 'Political:': 1, 'Stances': 1, 'Design?': 1, '1944–56': 1, 'Emergency': 1, 'Travelers': 1, 'Whistler:': 1, 'Mother': 1, 'Spaces:': 1, 'Spectrum': 1, 'Film:': 1, 'Ealing': 1, 'Romare': 1, 'Bearden:': 1, 'Prevalence': 1, 'Bearable': 1, 'Lightness…Likeness': 1, 'Whitten': 1, 'Ingrid': 1, 'Roschek': 1, 'Myth:': 1, 'Mythologies': 1, 'Wagner': 1, 'Penn:': 1, 'Finkelstein,': 1, 'Maxwell,': 1, 'J.Sanders;': 1, 'Lipchitz': 1, 'Coe:': 1, 'Than': 1, '1980': 1, '(2011):': 1, 'Gus': 1, 'Sant': 1, 'Franco:': 1, 'River': 1, 'Photograph': 1, 'Nonas:': 1, '\"Montezuma\\'s': 1, 'Breakfast\"': 1, 'Hay:': 1, '\"Blue\"': 1, 'Canada': 1, \"'67\": 1, 'Underground': 1, 'Gallery:': 1, 'London': 1, '1920s–1940s': 1, 'Wael': 1, 'Shawky:': 1, 'Cabaret': 1, 'Crusades': 1, 'Worked:': 1, '1950s': 1, 'Weiner': 1, 'Campus': 1, 'Zeke': 1, 'Berman,': 1, 'Antonio': 1, 'Mendoza,': 1, 'Joy': 1, 'Ross,': 1, 'Spano': 1, 'Playground': 1, 'Printsequence': 1, 'Ehrlich:': 1, 'Ruth': 1, 'Fredenthal': 1, 'Netherlands': 1, 'am': 1, 'me,': 1, 'horse': 1, 'mine\"': 1, 'Locus': 1, 'Sharaku': 1, 'Børre': 1, 'Sæthre': 1, 'Drawings-Paintings': 1, 'McCracken:': 1, 'Heroic': 1, 'Stance,': 1, '1965–1986': 1, 'Toulouse-Lautrec,': 1, '78:': 1, 'Hornig': 1, 'Turrell:': 1, '\"Meeting\"': 1, 'Giulio': 1, 'Paolini': 1, 'Libby': 1, 'McInnis:': 1, 'Beans': 1, 'Rice': 1, 'Klein': 1, 'XIV': 1, 'Kohn,': 1, 'Schapiro:': 1, 'Steel:': 1, 'Standarization': 1, 'Wachsmann': 1, 'Artschwager': 1, 'Ratliff': 1, 'Painters:': 1, 'Epstein,': 1, 'Grooms,': 1, 'Milder,': 1, 'Passuntino,': 1, 'Weisselberg': 1, 'Maquette:': 1, 'Sheaf': 1, 'Wool:': 1, 'Otterson': 1, 'Chadwick:': 1, 'Bad': 1, 'Blooms': 1, 'Seidner': 1, 'Samore:': 1, 'Suicidist': 1, 'Wallace:': 1, 'Methods': 1, 'Attachment': 1, 'Stigmata': 1, 'Ancien': 1, 'Régime': 1, 'Wofford': 1, 'Rain': 1, 'Paper,': 1, '1963–1974': 1, 'Spoerri': 1, 'Royden': 1, 'Glory:': 1, 'Flags': 1, 'Figurative': 1, 'Inventions': 1, 'Gavin': 1, 'Kenyon:': 1, 'Reliquary': 1, 'Void': 1, 'Elise': 1, 'Asher:': 1, 'Stars:': 1, '1951–1995': 1, 'Nonas': 1, 'Yoko': 1, 'Ono:': 1, 'Freight': 1, 'Follett:': 1, 'Speaking': 1, 'AIDS': 1, '1956': 1, 'Habitat': 1, 'XXX,': 1, 'Focus/New': 1, 'Fisher:': 1, 'Balance': 1, 'Yugoslavia:': 1, 'Report': 1, 'Act': 1, 'Habit': 1, 'Mirror:': 1, 'Racial': 1, 'Prejudice': 1, 'Bang': 1, 'Olufsen:': 1, 'Jakob': 1, 'Elisabetta': 1, 'Benassi': 1, 'Dammann': 1, 'Herb': 1, 'Full': 1, 'Steam': 1, 'Ahead,': 1, '1930s': 1, '1890–1965': 1, 'Dreamland:': 1, 'Experiements': 1, \"1970's\": 1, '0044:': 1, 'Irish': 1, '21st': 1, 'Eames,': 1, '1907–1978': 1, 'Mickalene': 1, '24:': 1, 'Walls': 1, 'Sculptors:': 1, 'Lars': 1, 'Lerup': 1, 'Anton': 1, 'Heyboer;': 1, 'Lewitt;': 1, \"Moore's\": 1, 'Elephant': 1, 'Skull': 1, 'Housing:': 1, 'Industrial': 1, 'Frammartino:': 1, 'Alberi\\n': 1, \"Björk's\": 1, 'Stonemilker': 1, 'Huang': 1, 'Ryan:': 1, 'Caponigro:': 1, 'Crawford': 1, 'Shops': 1, 'designed': 1, 'Geo/Metric:': 1, '96:': 1, 'Haris': 1, 'Epaminonda': 1, 'School,': 1, 'Celebration': 1, 'Qingsong': 1, 'Wang:': 1, 'Bath': 1, 'Tomorrow,': 1, 'Faux': 1, 'Beast': 1, 'Flash': 1, 'Poirier': 1, 'Colette:': 1, 'Primarily': 1, 'Structural:': 1, 'Minimalist': 1, 'Post-Minimalist': 1, 'Johns': 1, 'Takeshi': 1, 'Asada,': 1, 'Kobayashi,': 1, 'Juxtapositions:': 1, 'Williamsburg': 1, 'Beattie': 1, 'Lithographers': 1, '25:': 1, 'Chart:': 1, 'Reinventing': 1, 'Color,': 1, '1950': 1, '1839–1937': 1, 'their': 1, 'Heritage': 1, 'Prisoner': 1, 'Stories': 1, 'Duane': 1, 'Michals': 1, 'Mercedes': 1, 'Eggleston': 1, '21:': 1, 'Cildo': 1, 'Meireles': 1, 'Pip': 1, 'Chodorov,': 1, 'Korman,': 1, 'Joanna': 1, 'Pousette-Dart': 1, 'Transcripts,': 1, 'Rise': 1, 'Rock': 1, 'Papers': 1, 'Scissor': 1, '53:': 1, 'Oliver': 1, 'Herring/Leo': 1, 'Nilson': 1, 'Aernout': 1, 'Mik': 1, \"(L'Hiver\": 1, \"l'Amour)\": 1, 'Expropriated': 1, 'Kiesler': 1, '84:': 1, 'Josiah': 1, 'McElheny': 1, 'Flower': 1, 'Persons': 1, 'Misaki': 1, 'Kawai:': 1, 'Octopus': 1, 'Scene:': 1, 'Witold': 1, 'Technology:': 1, 'Tamarind:': 1, 'Lithography': 1, 'D.J.': 1, 'McDonald': 1, 'Dancers:': 1, 'Rehearsal': 1, 'Nineties:': 1, 'Post-war': 1, 'Heartfield:': 1, 'Beast:': 1, 'Botta': 1, 'Manipulation': 1, 'D.N.A.': 1, '(Metamorphosis': 1, 'Skin)': 1, 'Castelli:': 1, 'Leo': 1, 'Castelli': 1, 'Fri.Art:': 1, 'Switzerland': 1, 'Proscenium:': 1, 'Staged': 1, 'works': 1, 'Applebroog,': 1, 'XV': 1, 'Hubley': 1, 'Johnston': 1, 'Foster:': 1, 'Vacation': 1, 'Magritte:': 1, 'Mystery': 1, 'Ordinary': 1, '1926–1938': 1, 'Sardines': 1, 'Derain': 1, 'Lachaise': 1, 'Torso;': 1, 'Bunshaft': 1, 'Noise': 1, 'Clarence': 1, 'Move': 1, 'Religious': 1, 'Southwest': 1, 'Anthony': 1, 'Caro': 1, 'Swinden,': 1, 'Morrison,': 1, 'Steubing,': 1, 'Leiter,': 1, 'Pottery': 1, 'Kitaoji': 1, 'Rosanjin': 1, '1910–1980': 1, 'Rising': 1, 'Currents:': 1, \"York's\": 1, 'Waterfront': 1, 'Beirne': 1, 'Seen:': 1, 'Mona': 1, 'Hatoum:': 1, 'Elsewhere': 1, 'Appelt,': 1, 'Brooks,': 1, 'Darrel': 1, 'Ellis,': 1, 'Flynt,': 1, 'Miss,': 1, 'Gundula': 1, 'Schulze': 1, 'Toshio': 1, 'Shibata': 1, 'Men:': 1, 'Faustin': 1, 'Linyekula:': 1, '\"What': 1, 'Anyway…/Self': 1, 'Portraits\"': 1, 'Many': 1, 'Faces:': 1, 'Isabelle': 1, 'Huppert': 1, 'Self:': 1, \"Miller's\": 1, 'Wife': 1, 'Documentaries,': 1, 'Nicola': 1, 'López': 1, 'Sigal': 1, 'Kröller-Müller': 1, 'Museum,': 1, 'Otterlo': 1, 'Friday': 1, 'Architects:': 1, '\"Projective': 1, 'Images\"': 1, 'Gordon:': 1, 'Timeline': 1, 'Monk': 1, 'Get?': 1, 'Katrín': 1, 'Sigurdardóttir:': 1, 'Fringes': 1, 'Movement': 1, 'École': 1, 'des': 1, 'Beaux-Arts': 1, '1961–2000': 1, 'Giancarlo': 1, 'Neri:': 1, '\"Still': 1, 'Night\"': 1, 'Jerusalem': 1, 'Jos': 1, 'Gruyter': 1, 'Harald': 1, 'Thys:': 1, 'Minor': 1, 'Manzanar:': 1, 'Loyal': 1, 'Japanese-American': 1, 'Relocation': 1, 'Radical': 1, 'Invention,': 1, '1913–1917': 1, 'Held,': 1, 'Gash,': 1, 'Fromboluti,': 1, 'Duback,': 1, 'Young,': 1, 'Silbert,': 1, 'Stout;': 1, 'Frank,': 1, 'Terris,': 1, 'Trajan': 1, '1998': 1, 'Percutaneous': 1, 'Delights': 1, 'Gelatin': 1, 'Félix': 1, 'Vallotton:': 1, 'Hadjimichalis:': 1, 'Richenburg': 1, 'Pencil:': 1, 'Szarkowski:': 1, 'Jaime': 1, 'Manrique': 1, 'Ardila': 1, 'Capel-Cure': 1, 'Alejandro': 1, 'Jodorowsky:': 1, 'Holy': 1, 'Mountain': 1, 'Joy:': 1, 'Printed,': 1, 'Cut,': 1, 'Folded,': 1, 'Torn': 1, 'Beshty': 1, 'Lartigue:': 1, 'Humanism': 1, 'Materialism': 1, 'Muse:': 1, 'Reflect': 1, 'Dormitories': 1, 'Downtown:': 1, 'World/New': 1, 'Thek': 1, \"Gogh's\": 1, 'Postman:': 1, 'Roulin': 1, 'Kerry': 1, 'Tribe': 1, 'Maja': 1, 'Bajevic:': 1, 'Richardson,': 1, '1838–1886:': 1, 'Idiom': 1, 'Younger': 1, 'Fifties': 1, 'Burt': 1, 'Barr:': 1, '\"Primitivism\"': 1, 'Affinity': 1, 'Tribal': 1, '50:': 1, 'Savings': 1, 'Lescaze': 1, 'Lines,': 1, 'Grids,': 1, 'Stains,': 1, 'Zadik': 1, 'Zadikian:': 1, 'Billboard': 1, 'Stillness:': 1, 'Snow/Sam': 1, 'Taylor-Wood': 1, 'René': 1, 'Magritte': 1, 'Brice': 1, 'Marden:': 1, 'Schrager:': 1, 'Acts:': 1, 'Pamela': 1, 'Kramlich': 1, 'Trust': 1, 'Lara': 1, 'Favaretto:': 1, 'Knocked': 1, 'Huffman:': 1, 'Yamamoto:': 1, 'Blocks': 1, 'Bamboo': 1, 'Contemporary:': 1, 'Conwill': 1, 'Mitchell:': 1, '1891–1976': 1, 'CODA': 1, 'Smith/81': 1, 'Guest': 1, 'McLean': 1, 'August': 1, '(1876–1964)': 1, 'Lucian': 1, 'Freud:': 1, \"Painter's\": 1, 'Concerts': 1, 'AUTObodies:': 1, 'Speed,': 1, 'Sport,': 1, 'Never': 1, 'Scoring': 1, \"Cage's\": 1, '\"4\\'33\"\"': 1, '(Contemporary': 1, 'Show)': 1, 'Su-Mei': 1, 'Tse': 1, '2011:': 1, 'Moyra': 1, 'Davey,': 1, 'Georgiou,': 1, 'Deana': 1, 'Lawson,': 1, 'Rickard,': 1, 'Viviane': 1, 'Sassen,': 1, 'Dali': 1, '14': 1, '(version': 1, '#2,': 1, 'ps1,': 1, 'nov': 1, '2009)': 1, 'Guerrilla': 1, 'Girls': 1, 'Whitney': 1, 'Gris': 1, 'Stamm:': 1, '1972–1980': 1, 'Slides': 1, 'Dissolving': 1, 'Lantern': 1, 'Attack:': 1, 'Recombinant': 1, 'Phoenix': 1, 'Cadere': 1, '(1934–1978)': 1, 'Cocco:': 1, 'Shore:': 1, 'Surfaces': 1, 'Byars,': 1, 'Shown': 1, '1958–1959': 1, 'Faigenbaum,': 1, 'Louie,': 1, 'Schmidt': 1, 'Wilding': 1, 'XVIII': 1, 'Koras': 1, 'Iliazd': 1, 'Yves': 1, 'Ger': 1, 'Elk': 1, 'Isadora': 1, 'Duncan:': 1, 'Memorabilia': 1, 'Zackary': 1, 'Drucker:': 1, 'Least': 1, 'Exist': 1, 'Borofsky,': 1, 'Clemente,': 1, 'Merz,': 1, 'Penck,': 1, 'Penone': 1, 'Unique/Multiples:': 1, 'Sculpture/Photos': 1, 'Vuillard,': 1, 'Aitken:': 1, 'Sleepwalkers': 1, '1870–1910': 1, 'Fresh': 1, 'Paint:': 1, 'Laib': 1, 'Octavius': 1, 'Adamson': 1, 'Niemeyer:': 1, '1929–1949': 1, 'Maximus': 1, 'Courthouse': 1, 'Studios:': 1, 'Doe': 1, 'Co.,': 1, 'Kuivila,': 1, 'XXth': 1, 'Roads:': 1, 'Next': 1, 'Fukui': 1, 'Kyoto': 1, '1905–1983': 1, 'Novros': 1, 'Tales': 1, 'Pinnacle': 1, '\"Porte-Voix': 1, 'Audio': 1, 'Installations\"': 1, 'Paris-the': 1, 'Fabrications:': 1, 'Tectonic': 1, 'Edelheit': 1, 'Bogdan': 1, 'Mync': 1, 'Working': 1, 'Now?': 1, 'Pictorial': 1, 'Memoir': 1, 'Saul': 1, 'Leiter:': 1, 'Nineteenth-': 1, 'Twentieth-Centuries': 1, 'Star': 1, 'Place)': 1, 'Scarritt': 1, 'Jeremy': 1, 'Documentaries': 1, 'Honoring': 1, 'Ninetieth': 1, 'Leckey': 1, 'Alain': 1, 'Kirili:': 1, 'Calligraphy': 1, 'Disappearing': 1, 'Unclarified': 1, 'Origin': 1, 'Corner': 1, 'Marriage': 1, 'Reason': 1, 'Squalor': 1, 'Guitars': 1, '45:': 1, 'Hoberman': 1, 'Photo-Secession': 1, '(American': 1, '1902–1910)': 1, 'Gregory': 1, 'Ain': 1, 'Schum:': 1, '1968–1973': 1, '34:': 1, 'Gonzalez-Torres': 1, '1935–1941': 1, 'Stair': 1, 'Procession': 1, 'Dorota': 1, 'Jurczak': 1, 'Abel': 1, 'Auer:': 1, 'Slimy': 1, 'Trail': 1, 'Slug': 1, 'Snail': 1, 'Progressions:': 1, 'Legacy': 1, 'Xu': 1, 'Shirin': 1, 'Neshat,': 1, '(Banners': 1, 'Counter': 1, 'Space:': 1, 'Kitchen': 1, 'Linder': 1, 'Jo': 1, 'Maureen': 1, 'Gallace': 1, 'Salvation': 1, 'Reception': 1, 'Schultz': 1, 'Politicians:': 1, '1843': 1, '1993': 1, 'Burle': 1, 'Marx:': 1, '1934': 1, 'Tense:': 1, 'Joann': 1, 'Morgan:': 1, 'Floating': 1, 'Reflections': 1, 'Deng': 1, 'Tai:': 1, 'Collecting:': 1, 'Scultpure': 1, 'Furniture,': 1, 'Fabric': 1, 'Tableware': 1, 'Thursday': 1, '2001': 1, 'subWave': 1, 'ROY': 1, 'Bambi:': 1, 'Sánchez:': 1, '\"Ricanstructions:': 1, '90s\"': 1, 'Clockwork': 1, '1999–2000': 1, 'Kolb:': 1, 'Videotapes': 1, 'Relations:': 1, 'Dumas:': 1, 'Measuring': 1, 'Grave': 1, 'Liturgy': 1, 'Lives': 1, 'Camouflage': 1, 'Civilian': 1, '1999–2000)': 1, 'Nixon:': 1, 'Parasite': 1, 'Organization': 1, 'Bayer:': 1, 'Reopening:': 1, '67:': 1, 'Reichek': 1, 'Print/Out,': 1, \"Printin'\": 1, 'Naturalism': 1, 'Series;': 1, 'Word': 1, '1879–1967': 1, 'Shimon': 1, 'Attie,': 1, 'Abelardo': 1, 'Morell,': 1, 'Jorge': 1, 'Ribalta,': 1, 'Michal': 1, 'Rovner': 1, 'Windows,': 1, 'Portrait/Project': 1, 'Bonwit': 1, 'Teller': 1, 'Fact/Fiction': 1, 'Medardo': 1, 'Rosso,': 1, '1858–1928': 1, 'Lost': 1, 'Vanguard:': 1, '1922–32': 1, 'Pare': 1, 'Postcards': 1, 'Alphaville:': 1, 'Jean-Luc': 1, 'Godard': 1, '1963–1992': 1, 'Meriem': 1, 'Bennani:': 1, 'FLY': 1, 'Circulating': 1, 'Library': 1, 'Lebrun:': 1, 'Crucifixion': 1, 'Rania': 1, 'Stephan': 1, 'Scores:': 1, 'Theme': 1, 'Print:': 1, '1980–95': 1, '69:': 1, 'Jacquette': 1, 'Presentations': 1, '1963–1993': 1, 'Kreeger': 1, 'Davidson:': 1, 'Sculptural': 1, 'Centre': 1, 'Fox:': 1, 'Temperature': 1, 'Rothko,': 1, '1903–1970': 1, 'Harryhausen:': 1, 'Effects': 1, '1881–1938:': 1, '55:': 1, 'Pieter': 1, 'Laurens': 1, 'Mol': 1, '91:': 1, 'Artur': 1, 'Zmijewski': 1, 'Andre:': 1, 'Deutch,': 1, 'Stefan': 1, 'Eins,': 1, 'McKendree': 1, 'Key,': 1, 'Lewis,': 1, 'Maljkovic,': 1, 'Senam': 1, 'Okudzeto': 1, 'Niles': 1, 'Spencer:': 1, 'NeoHooDoo:': 1, 'Faith': 1, 'Spencer': 1, 'Postpuritanism:': 1, 'Kayserzinn': 1, 'Pewter': 1, '2000': 1, 'Dunescape': 1, 'SHoP': 1, 'LaBruce': 1, 'Picks': 1, 'Flicks': 1, '94:': 1, 'Henrik': 1, 'Olesen': 1, '23': 1, 'Sullivan:': 1, '1856–1924': 1, 'Printer:': 1, \"Motherwell's\": 1, 'Giglio,': 1, 'Mihailov,': 1, 'Steinmetz,': 1, 'Beat': 1, 'Streuli': 1, 'Nara': 1, 'Hall': 1, 'Käsebier:': 1, 'Accord': 1, '1881–1973': 1, 'PM': 1, 'Reporter': 1, 'Sep-11': 1, 'Portfolios': 1, 'Country': 1, 'Scale': 1, 'Alexis': 1, '\"Chinese': 1, 'Junk\"': 1, 'Elyn': 1, 'Zimmerman:': 1, 'Compass': 1, 'Hand:': 1, 'Rothschild': 1, 'Stenberg': 1, 'Revolution': 1, 'Electric': 1, 'Currents,': 1, '1900–1940': 1, 'Surface:': 1, 'Matta': 1, 'Denny:': 1, \"Innovator's\": 1, 'Dilemma': 1, 'Conceptualism': 1, 'Moore:': 1, 'Fame': 1, 'Rivers/Terry': 1, 'Southern:': 1, 'Donkey': 1, 'Darling': 1, 'Pioneers': 1, '1893–1983': 1, 'Symbolism,': 1, 'Synthesists,': 1, '29:': 1, 'Thierry': 1, 'Kuntzel': 1, 'Weimar': 1, 'Daydreams': 1, 'Nightmares': 1, 'Hangings:': 1, 'Classicism': 1, 'Use': 1, 'Behrman': 1, 'Frankie': 1, 'Mann': 1, 'Planet': 1, 'Baden,': 1, 'Gaudnek,': 1, 'Rabkin:': 1, 'Fighting': 1, 'Neutra:': 1, 'Style': 1, 'Holding': 1, 'Interboro': 1, 'Partners': 1, 'Artistic': 1, 'Collaborations:': 1, 'Universal': 1, 'Limited': 1, 'Maurice': 1, 'Sterne:': 1, 'Leland': 1, 'Bell': 1, '64': 1, 'Follett': 1, 'Ginnever,': 1, 'Oldenburg,': 1, 'Nipper': 1, 'Japanther:': 1, '\"Tessa': 1, 'Picture,\"': 1, 'Ancestral': 1, 'Al': 1, 'Held:': 1, 'Exact': 1, 'Instant': 1, 'Kate': 1, 'Ericson': 1, 'Ziegler': 1, 'Dantzic': 1, 'Cirkut': 1, 'BERLINART': 1, '1961–1987': 1, 'Green:': 1, 'Resonating': 1, 'Wm.': 1, 'Schwedler:': 1, 'Plywood': 1, 'Roseville': 1, 'Pasolini:\\n*Teorema,': 1, 'Medea*,': 1, '*SalÃ³*,': 1, '120': 1, 'Sodom*': 1, 'Beaugrand': 1, 'Lucks:': 1, 'Wish': 1, 'Luck:': 1, 'Kristian': 1, 'Kožul,': 1, 'Tomislav': 1, 'Buntak,': 1, 'Alen': 1, 'Floričić': 1, 'Judd': 1, 'Gifted:': 1, 'MoMA,': 1, '1929–1983': 1, 'Reeva': 1, 'Potoff': 1, 'Bock:': 1, 'Stapelung': 1, 'Ambasz/Steven': 1, 'Holl:': 1, 'Overview': 1, 'Benrimo,': 1, 'Townley,': 1, 'Tyler:': 1, '1940': 1, 'Collins:': 1, 'Niches': 1, 'in:': 1, 'Giacomo': 1, 'Manzu:': 1, 'Portal': 1, 'Death': 1, 'Apartment': 1, '(Appartement-Temoin)': 1, 'Tempo': 1, '1890–1990': 1, 'Lurie:': 1, 'Musicians': 1, 'Fielding': 1, 'Molyneux': 1, 'Paradise:': 1, 'Norbert': 1, 'Kricke': 1, 'XII': 1, 'Winsor:': 1, 'Premium': 1, 'VIII': 1, 'Brand': 1, 'Byrne': 1, 'Automobile': 1, 'Middle': 1, 'Europe:': 1, 'Multiples/1960': 1, 'Knowles': 1, 'Grossman:': 1, 'Beauchamp:': 1, 'Bartana:': 1, 'Painting;': 1, 'XL:': 1, '1884–1961': 1, '1880–1945': 1, 'Nakian': 1, 'Janine': 1, 'Antoni,': 1, 'Shahzia': 1, 'Sikander,': 1, 'Kara': 1, 'Jeppe': 1, 'Hein:': 1, 'Jacki': 1, 'Palms': 1, 'Franciszek': 1, 'Starowieyski': 1, 'Technics': 1, 'Creativity:': 1, 'Kläs': 1, 'Energy': 1, 'Emmanuel': 1, 'Pereire': 1, 'Panhuysen': 1, 'Nauman': 1, 'Re-picturing': 1, 'Past/Picturing': 1, 'Sanderson:': 1, 'Free': 1, 'Israel': 1, 'Avedon:': 1, 'Avedon': 1, 'McGinley': 1, 'González': 1, 'Child:': 1, 'Growing': 1, 'Design,': 1, '1900–2000': 1, 'Exquisite': 1, 'Corpses:': 1, 'Disfiguration': 1, 'Alchemical': 1, 'Players': 1, 'Lucier:': 1, 'Flood': 1, 'Dream/Reality/Dream': 1, 'Avant-Garde/Works': 1, 'Moorman:': 1, 'Easter': 1, 'Cello': 1, 'Recital': 1, 'Following': 1, \"Matisse's\": 1, 'XII:': 1, 'Solbert': 1, '99:': 1, 'Meiro': 1, 'Koizumi': 1, 'form': 1, '79:': 1, 'Liam': 1, 'Gillick:': 1, 'Literally': 1, 'Compulsive': 1, 'Etching': 1, '1953': 1, 'Joel-Peter': 1, 'Witkin:': 1, 'Surfaces/Textures': 1, 'P.F.1': 1, '(Public': 1, 'Farm': 1, 'WORK': 1, 'Ideal': 1, 'Motif:': 1, 'Weston,': 1, 'Muniz:': 1, 'Reflex': 1, 'Tatyana': 1, 'Grosman': 1, 'Arturo': 1, 'Herrera': 1, '1989):': 1, 'Music/Mapping': 1, 'Math': 1, 'Bass:': 1, 'Off': 1, 'Modotti': 1, '93:': 1, 'Dinh': 1, 'Q.': 1, 'Lê': 1, 'NewYork/New': 1, 'Dean': 1, 'Moss': 1, 'Laylah': 1, 'Ali:': 1, '\"Voluntaries\"': 1, 'Flanagan': 1, 'Trecartin:': 1, 'Ever': 1, 'Ninetieth-Birthday': 1, 'XXXVIII': 1, 'Obstacles:': 1, 'Miniature': 1, 'Golf': 1, 'Agnes': 1, 'Clear': 1, 'Landscape:': 1, '(1987):': 1, 'He/She:': 1, 'Love,': 1, 'Sex,': 1, 'Gender': 1, 'Hafif:': 1, '\"Breaking': 1, 'Color\"': 1, '(1997–1998)': 1, 'Frankenthaler,': 1, 'Hofmann,': 1, 'Kline,': 1, 'Marca-Relli,': 1, 'Mitchell;': 1, 'Am': 1, 'Alive:': 1, 'Anatomically': 1, 'Incorrect': 1, 'Matisse/Gaudí:': 1, 'Ecclesiastical': 1, 'Kramer': 1, 'Matters': 1, 'Futurism': 1, 'Preserved': 1, 'Ink': 1, 'Projects/Installations': 1, 'Ricky': 1, 'Swallow': 1, 'Drummond': 1, \"60's:\": 1, 'Lartigue': 1, 'Levinstein': 1, 'Old-New': 1, 'Masato': 1, 'Okada': 1, '98:': 1, 'Slavs': 1, 'Tatars': 1, 'Justen': 1, 'Ladda': 1, 'Subject...to': 1, 'Conversations': 1, 'OEM': 1, 'Purchases': 1, 'Rauschenberg,': 1, '\"Inferno\"': 1, 'Yiddish': 1, 'Narrativo': 1, 'Y': 1, 'Pintura': 1, 'Mexicana': 1, 'Inferno': 1, 'Live/Work:': 1, 'Arbus': 1, 'Isca': 1, 'Greenfield-Sanders:': 1, 'Styles': 1, \"Movin'\": 1, 'Collecting': 1, 'Depth:': 1, 'Grosz,': 1, 'Schwitters,': 1, '40:': 1, 'Identities': 1, 'Casey': 1, '1963–1977': 1, 'Interior': 1, 'Theories:': 1, '1942–1962': 1, 'Schmidt:': 1, 'Einheit': 1, '(U-NI-TY)': 1, 'Sentiment,': 1, 'Redux': 1, 'Residency:': 1, 'Laboratory': 1, 'Freedoms': 1, 'Meier:': 1, 'Villon:': 1, 'Samara': 1, 'Golden:': 1, 'Flat': 1, 'Knife': 1, 'Lady': 1, 'Hawarden,': 1, 'Victorian': 1, 'Hafif': 1, 'Close,': 1, 'Head-On/The': 1, 'Observed': 1, 'Elastic': 1, 'Orlofsky': 1, 'Progress:': 1, 'Roche,': 1, 'Papo': 1, 'Colo': 1, 'Willie': 1, 'Cole': 1, 'Hub:': 1, 'Network': 1, 'Sandback': 1, 'Antin:': 1, '1898–1945': 1, 'Eduardo': 1, 'Paolozzi': 1, 'Ignatz': 1, 'Wiemeler,': 1, 'Bookbinder': 1, 'Denkmal': 1, '11,': 1, '53': 1, 'Street,': 1, 'York,': 1, '(Jan': 1, 'Cock)': 1, 'Arthur': 1, 'Dove': 1, 'Kolodzie': 1, 'Cyprien': 1, 'Gaillard:': 1, 'Crystal': 1, 'Theatergarden': 1, 'Bestiarium': 1, 'Imhof:': 1, 'DEAL': 1, 'Theo': 1, 'Doesburg:': 1, 'Development': 1, 'Illusion:': 1, 'Lennert': 1, 'Performances': 1, 'Icebreakers:': 1, 'Picturing': 1, '\"Greatness\"': 1, 'Cameron': 1, 'McNall:': 1, '\"Black': 1, '+': 1, 'White\"': 1, 'Corporations': 1, 'Carlito': 1, 'Carvalhosa:': 1, 'Sum': 1, 'Florene': 1, 'Knute': 1, 'Merz:': 1, 'L’Horizon': 1, 'Lumière': 1, 'Traverse': 1, 'Notre': 1, 'du': 1, 'Jour': 1, 'Roni': 1, 'Horn': 1, 'UPA:': 1, 'Cartoon': 1, 'Pozzi': 1, 'Kuchar:': 1, 'Pagan': 1, 'Rhapsodies': 1, 'Fort': 1, 'Custer,': 1, 'Michigan': 1, 'Balthus:': 1, 'Matisse/Picasso': 1, 'Sixty': 1, 'Esthetics': 1, 'Helens:': 1, 'Instruments': 1, 'Francois': 1, 'Baschet': 1, 'Serra:': 1, 'Afangar': 1, 'Icelandic': 1, 'Pastimes': 1, 'Passlof': 1, 'Guernica:': 1, 'Postscripts': 1, 'Braque': 1, 'Grosz:': 1, 'City,': 1, 'Grooms': 1, 'Milder': 1, 'Riper:': 1, 'Piece,': 1, 'Inches,': 1, 'Room\"': 1, 'Minimalia:': 1, 'Roth:': 1, 'Ramapo': 1, \"Taster's\": 1, 'Ortman:': 1, 'Meg': 1, 'Shea:': 1, 'Presentation': 1, \"Monet's\": 1, 'Lilies': 1, '52:': 1, 'Carrie': 1, 'Mae': 1, 'Weems': 1, 'Polio': 1, 'Couches,': 1, 'Diamonds': 1, 'Pie': 1, 'Rey': 1, 'Akdogan,': 1, 'Edgardo': 1, 'Aragón,': 1, 'Ilja': 1, 'Karilampi,': 1, 'Caitlin': 1, 'Keogh': 1, 'Variaciones': 1, 'Ornamentales': 1, 'Betsey': 1, '(Aztec,': 1, 'Mayan,': 1, 'Incan)': 1, 'Execution': 1, 'Maximilian': 1, 'Brandt:': 1, 'Re-installation': 1, 'Rooms/7': 1, 'Art;': 1, 'Setting': 1, 'Buzz': 1, 'Club:': 1, 'News': 1, '14:': 1, 'Line/Ralph': 1, 'Lemon,': 1, 'Phelan': 1, 'Beasts': 1, 'Vessa': 1, 'Norman': 1, 'Bel': 1, \"Geddes'\": 1, 'Maneuver': 1, 'Jones,': 1, 'Russell:': 1, 'Synchromist': 1, 'Studies,': 1, '1910–1922': 1, 'Function': 1, 'Undesignable': 1, 'Caleb': 1, 'Bingham,': 1, 'Missouri': 1, 'Artist,': 1, '1811–1879': 1, 'Multiplex:': 1, '1970–Now': 1, 'Serious': 1, 'Fun': 1, 'Veiled': 1, 'Unveiled:': 1, '(Unveiled)': 1, 'Johanna': 1, 'Billing,': 1, 'Cordova,': 1, 'Greenberger': 1, 'Rafferty,': 1, 'Yaron': 1, 'Leshem,': 1, 'Ohad': 1, 'Meromi,': 1, 'Demetrius': 1, 'Oliver,': 1, 'Kon': 1, 'Trubkovich': 1, 'Louisa': 1, 'Matthiasdottir:': 1, 'Negro': 1, 'Hanne': 1, 'Tierney:': 1, 'Satin': 1, 'Strings': 1, 'Avant': 1, 'Garde:': 1, 'one)': 1, 'Letters': 1, 'Rosemarie': 1, 'Trockel': 1, 'Maillol,': 1, 'Celebrate': 1, 'Clif': 1, 'Balch': 1, 'Moji': 1, 'Baratloo:': 1, '\"Fabrications': 1, 'Understatements:': 1, 'Projects\"': 1, 'Henk': 1, 'Visch:': 1, 'See/I': 1, 'Understand/I': 1, 'Know/I': 1, 'Remember/I': 1, 'Tomáš': 1, 'Rafa:': 1, 'Nationalisms': 1, '\"Thought': 1, 'Models\"': 1, 'Australian': 1, 'Accent': 1, 'Albert': 1, 'Kotin': 1, 'Sirugo': 1, \"Abbott's\": 1, 'Olivetti:': 1, 'Aleksandra': 1, 'Mir:': 1, 'Umbrella': 1, 'F-111': 1, 'Pony?': 1, 'Collage:': 1, '1960–1985': 1, 'Madsen': 1, 'Greetings!': 1, 'Senso': 1, 'Unico:': 1, '2003': 1, 'Light-Wing': 1, 'Wiscombe/EMERGENT': 1, 'Pendulum': 1, 'Joint\"': 1, 'Lithographs:': 1, 'Processes': 1, 'Bart': 1, 'Wasserman:': 1, '1945–1975': 1, 'Forum': 1, 'Viñoly': 1, 'Wait,': 1, 'Later': 1, 'this': 1, 'will': 1, 'be': 1, 'Nothing:': 1, '20:': 1, 'Vernon': 1, 'Fisher': 1, 'Constructivism': 1, 'Poland,': 1, '1923–1936': 1, 'B.': 1, 'Flannagan': 1, '1900:': 1, 'Wild': 1, 'Forms': 1, 'Continuity': 1, '75': 1, 'Helmets': 1, 'Me/Out': 1, '1949–50,': 1, 'Michelle': 1, 'Stuart:': 1, 'Correspondences': 1, 'Edmondson': 1, 'Paper:': 1, 'Pressed,': 1, 'Stained,': 1, 'Slashed,': 1, 'Folded': 1, 'than': 1, 'One:': 1, 'Horowitz:': 1, 'And/Or': 1, 'Logical': 1, 'Foundations': 1, '(May': 1, 'Wall:': 1, 'Graffiti': 1, 'Standpoints:': 1, 'Photography,': 1, '1940–1955': 1, 'Mouth': 1, 'Speed:': 1, 'Uelsmann': 1, 'Photographers,': 1, '1921–1941': 1, 'Taeuber-Arp': 1, 'Blocks:': 1, 'Gehry:': 1, 'Prototypes': 1, '17': 1, 'Discussions:': 1, 'Works/Words': 1, 'Mekas:': 1, 'Beauty': 1, 'Together': 1, 'Quartet': 1, 'Clifford': 1, 'Owens:': 1, 'Feldman': 1, 'Process': 1, \"Deren's\": 1, 'Legacy:': 1, 'Red:': 1, 'Hungarian': 1, 'Revolutionary': 1, '191': 1, 'Buckley:': 1, '1969–1985': 1, 'Beirne:': 1, 'Time-less': 1, '(Cell)': 1, 'Simmons': 1, '10th': 1, 'Dawn': 1, 'Tadashi': 1, 'Kawamata': 1, '36:': 1, 'Erica': 1, 'Rothenberg': 1, 'Responsive': 1, 'Have': 1, 'Him?': 1, 'McGinness': 1, 'Julie': 1, 'Wachtel:': 1, 'Follow': 1, 'Leader': 1, 'Refining': 1, \"Jaguar's\": 1, 'E-Type': 1, 'Tobey': 1, 'Mangurian': 1, 'Craig': 1, 'Hodgetts:': 1, 'Disasters': 1, 'Francisco': 1, 'Goya,': 1, 'Darger,': 1, 'Jake': 1, 'Dinos': 1, 'Chapman': 1, 'Color:': 1, 'Flashlight': 1, 'Flaming': 1, 'Creature': 1, 'Williams:': 1, 'Continent': 1, '(W)': 1, 'Guernica': 1, 'Miguel': 1, 'Angel': 1, 'Rios:': 1, 'Ninos': 1, 'Brotan': 1, 'Noche': 1, 'Remaking': 1, 'Make-Believe': 1, 'Burlin': 1, '(1886–1969):': 1, 'Fink': 1, 'Metropolitan': 1, 'Krasner,': 1, '1911-1984:': 1, 'Malelade': 1, 'Jewelry': 1, 'Barry:': 1, 'Ostrow:': 1, 'Rumi': 1, 'Edge:': 1, 'Werner': 1, 'Dannheisser': 1, 'Kippenberger:': 1, \"Cameron's\": 1, 'Foreclosed:': 1, 'Rehousing': 1, 'Clutter': 1, 'Happenstance:': 1, 'Cumming': 1, 'Oyvind': 1, 'Fahlstrom:': 1, '\"Fagler': 1, 'Sverige\"': 1, 'Timebomb:': 1, 'Performative': 1, 'Events': 1, 'Balthus': 1, 'Bond': 1, 'NYC': 1, '1915–1935': 1, 'Wars:': 1, 'Donner': 1, 'Knowles,': 1, 'Hitchcock': 1, 'Centenary': 1, 'Tolerance': 1, 'Deep': 1, 'Alterations:': 1, '1994–1995': 1, 'Designers': 1, 'Digitally': 1, 'Mastered:': 1, \"Museum's\": 1, 'Magnetism': 1, 'Terra': 1, 'Cotta': 1, 'Works/New': 1, '1977–1981': 1, 'Darren': 1, 'Bader:': 1, 'Programs/Programming': 1, 'Designs:': 1, 'Karl': 1, 'Gerstner': 1, 'Anita': 1, 'Thatcher:': 1, 'Lighthouse': 1, 'Zilvinas': 1, 'Kempinas': 1, 'Pearlstein': 1, '1960s:': 1, 'Puzzle:': 1, 'Below': 1, 'Openings': 1, 'Return': 1, 'Blog': 1, 'Women/Image': 1, 'Robbins:': 1, 'Framing': 1, 'Antonakos:': 1, 'Neon': 1, 'Chapel': 1, 'Gianakos:': 1, 'afterparty': 1, 'MOS': 1, 'Grace': 1, 'M.': 1, 'Mayer': 1, '88:': 1, 'Lucy': 1, 'McKenzie': 1, 'Growth,': 1, 'Maturity': 1, 'Map': 1, 'Wax': 1, 'Hallucination': 1, 'Truth': 1, 'Link:': 1, 'Viewpoints': 1, 'Diagramming': 1, 'Microchips': 1, 'Cutouts': 1, 'two)': 1, 'Klee,': 1, 'Lehmbruck,': 1, 'Maillol': 1, 'Lois:': 1, '\"Esquire\"': 1, 'Covers': 1, '20s': 1, 'Marin,': 1, 'Weber': 1, 'Duback:': 1, 'Elrod:': 1, 'Nobody': 1, 'Sees': 1, 'Us': 1, 'XXV': 1, '(available': 1, '$100)': 1, 'Viola:': 1, 'Multi-Disciplinary': 1, 'Documentary': 1, 'Inclinations:': 1, 'Impossibility': 1, 'Perpetual': 1, 'Holden': 1, 'Limbo': 1, '1980–Now': 1, 'Sound-Theatre-Happenings': 1, 'HWKN': 1, 'Ross:': 1, 'Sunlight': 1, 'Dispersion': 1, 'Criss': 1, 'Cross:': 1, 'Gonzalez': 1, 'Seurat:': 1, \"Steichen's\": 1, 'Delphiniums': 1, 'Forties': 1, 'Pfaffman:': 1, 'Her': 1, 'Throat': 1, 'Lanigan-Schmidt:\\nTender': 1, 'Among': 1, 'Junk': 1, 'Stirling': 1, 'Prina:': 1, 'Monochrome': 1, 'Redon:': 1, 'Zones': 1, 'Bethany': 1, 'Eden-Jacobson': 1, 'Wing': 1, 'Archipenko:': 1, 'Architects,': 1, 'Painters,': 1, 'Collaborative': 1, 'Stirling:': 1, 'University': 1, 'Retreat:': 1, 'Field': 1, 'Kathe': 1, 'Burkhart': 1, 'Masson': 1, 'Chitra': 1, 'Ganesh': 1, 'Artists,': 1, 'Kelly,': 1, 'Fragmentation': 1, 'Kuivila:': 1, 'Parallel': 1, 'Lines': 1, 'Reich:': 1, 'Erotic': 1, 'Object:': 1, 'Chantry:': 1, 'Greatest': 1, 'Hits,': 1, 'Vol.': 1, 'Etc.': 1, 'Archive': 1, 'Visible:': 1, 'Pleasures': 1, 'Terrors': 1, 'Comfort': 1, 'Surrealism:': 1, 'Feininger:': 1, 'Ruin': 1, 'Sea': 1, 'Family:': 1, \"Fuller's\": 1, 'Dymaxion': 1, 'Deployment': 1, 'XXXII': 1, 'Florian': 1, 'Slotawa': 1, 'Callahan,': 1, 'Croner,': 1, \"Renoir's\": 1, 'Reclining': 1, \"Paxton's\": 1, 'Installation:': 1, '\"Weight': 1, 'Sensation\"': 1, '66:': 1, 'Campana/Ingo': 1, 'Maurer': 1, 'Paulina': 1, 'Olowska:': 1, 'Screenings:': 1, 'Paintings/Motion': 1, 'Doom': 1, '13,': 1, 'Rineke': 1, 'Dijkstra,': 1, 'Le,': 1, 'Vic': 1, 'Kuni‚': 1, 'Sigiura': 1, 'Leatherdale:': 1, 'Aycock': 1, 'Hurson:': 1, '1969–1983': 1, 'Counter-Monuments': 1, 'Fenneker:': 1, 'Maillart:': 1, 'Engineer': 1, 'Wessel,': 1, 'Frei': 1, '71:': 1, 'Bock': 1, 'Sculptor:': 1, 'Fiore,': 1, 'Rabinowitz,': 1, 'Spindler': 1, 'Knte': 1, 'Milton': 1, 'Glaser': 1, 'Joanne': 1, 'Fridley:': 1, 'Person': 1, 'Remunerated': 1, 'Period': 1, '360': 1, 'Consecutive': 1, 'Hours': 1, 'Bladen:': 1, 'Beattie,': 1, 'Stone': 1, 'Vuillard': 1, 'Lesson': 1, 'Calder,': 1, '1898–1976': 1, 'McEwen:': 1, 'Dog': 1, 'Imprint': 1, 'Plöger:': 1, 'Buffie': 1, '40s': 1, 'Italy': 1, 'Damien': 1, 'Hirst,': 1, 'Spring,': 1, 'Things,': 1, 'Volume': 1, 'Brook': 1, 'Scream': 1, '1887–1965': 1, 'Signatures': 1, '(for': 1, 'Go)': 1, 'XXVth': 1, 'Sad': 1, 'Rhetoric': 1, 'Persuasion': 1, 'Graphic-Photographic': 1, 'Harun': 1, 'Farocki:': 1, '(at': 1, 'Distance)': 1, 'Glenda': 1, 'Hydler:': 1, '\"In': 1, 'Reverence:': 1, 'Work\"': 1, 'Rodney': 1, 'McMillian:': 1, 'Deifik': 1, 'Hayter': 1, '17:': 1, 'Gravure': 1, 'Goldfinger:': 1, 'Iconic': 1, 'Title': 1, 'Halley,': 1, 'Exploding': 1, 'about': 1, 'Exchange': 1, 'Rates': 1, 'Bodies': 1, 'Values': 1, 'Clarke:': 1, 'Sandor': 1, 'Ajzenstat': 1, 'Ward': 1, 'Fleming': 1, '(1985):': 1, 'On-Site:': 1, 'Gun': 1, 'Spex': 1, 'Ecstatic': 1, 'Alphabets/Heaps': 1, '1990–1991': 1, 'Jetelová': 1, '61': 1, '31': 1, 'Aquatints': 1, \"Buffon's\": 1, '\"Histoire': 1, 'Naturelle\"': 1, 'Farber:': 1, '1+1': 1, 'Abstraction-Création,': 1, 'Non-Figuratif': 1, 'Close:': 1, 'Editioned': 1, 'Phyllis': 1, 'Yampolsky:': 1, 'Caivano,': 1, 'Woods:': 1, 'Nonfiction': 1, 'Parkett:': 1, '1984': 1, 'Hopper:': 1, 'Sentiment:': 1, 'Magic:': 1, 'Disney': 1, 'Outside': 1, 'Insight': 1, 'Homer': 1, 'Layne’s': 1, 'Fashions': 1, 'Lozano,': 1, '1961–1971': 1, 'Print?': 1, \"'n'\": 1, 'Paste:': 1, 'Lawrence:': 1, 'Migration': 1, 'Loans': 1, 'Serra': 1, '51:': 1, 'McCarthy': 1, 'Struth': 1, 'Sergej': 1, 'Paintings:': 1, 'Declared': 1, 'Chapters': 1, 'I–XVIII': 1, 'Endowment': 1, 'Tricorne': 1, 'Abakanowicz:': 1, 'Games': 1, 'Picnic': 1, 'Ocean:': 1, 'Korean-Japanese': 1, 'Matched': 1, 'America:': 1, 'Monsters': 1, '39:': 1, 'Herold': 1, 'Markus': 1, 'Oehlen': 1, 'Holstad,': 1, 'Justin': 1, 'Lowe,': 1, 'Tracy': 1, 'Nakayama,': 1, 'Rough,': 1, 'Arctic': 1, 'Hysteria:': 1, 'Finland': 1, 'Videoart': 1, 'Germany:': 1, '1963–1982': 1, '(1986):': 1, 'Shared': 1, 'Borrowed': 1, 'Cross-Cultural': 1, 'Influences': 1, 'Erik': 1, 'Steinbrecher:': 1, 'Couch': 1, 'Park': 1, 'Literature:': 1, 'Evenings': 1, 'Brazil:': 1, 'Genevieve': 1, 'Naylor': 1, 'Puzzles': 1, 'Runa': 1, 'Islam': 1, 'Museum:': 1, '1939': 1, 'Goodwin/Stone': 1, 'Thorne:': 1, 'Eero': 1, 'Saarinen,': 1, '1910–1961': 1, 'XI': 1, 'Eberhard': 1, 'Blum:': 1, 'Cage,': 1, 'Sixty-Two': 1, 'Mesostics': 1, 'Re': 1, 'Cunningham,': 1, 'Voice': 1, 'Unaccompanied': 1, 'Using': 1, 'Microphone': 1, 'Germany,': 1, '1923': 1, 'Loop': 1, 'Thomas:': 1, '37:': 1, 'Lafont': 1, 'Santiago': 1, \"Calatrava's\": 1, 'Transportation': 1, 'Hub': 1, 'Trade': 1, '44:': 1, 'Pippin': 1, '24': 1, 'Place:': 1, 'Masuo': 1, 'Ikeda': 1, 'Then,': 1, 'Dara': 1, 'Birnbaum:': 1, '\"Kiss': 1, 'Girls:': 1, 'Them': 1, 'Cry\"': 1, 'Breuer:': 1, 'Interiors': 1, 'Clark': 1, 'Tinguely:': 1, 'La': 1, 'Vittoria': 1, 'U.S.A.:': 1, 'Tinsel': 1, '1984:': 1, '1900–1960;': 1, 'Blooming': 1, 'Signs': 1, 'J.Mitchell,': 1, 'J.Sanders,': 1, 'Steubing': 1, 'Suvero:': 1, 'Simonds': 1, 'Miss': 1, 'Themes': 1, 'Variation': 1, 'Soundings:': 1, 'Sets': 1, 'Vancouver': 1, 'Visa': 1, 'Aronson:': 1, 'Mirós': 1, 'Damaged': 1, 'Goods': 1, 'Tent': 1, 'Fei': 1, 'Waves:': 1, 'Skate': 1, 'Comic': 1, 'Image-Breaking,': 1, 'Image-Making': 1, 'Alina': 1, 'Szapocznikow:': 1, 'Undone,': 1, '1955–1972': 1, 'Guy': 1, 'Cointet.': 1, 'Sisters': 1, 'Espahor': 1, 'Iedet': 1, 'ko': 1, 'Uluner!': 1, 'Shrine': 1, '62:': 1, 'McQueen': 1, '1983–1984': 1, 'Voulkos:': 1, 'Costume': 1, 'V:': 1, 'Askevold': 1, 'Renee': 1, 'Blood': 1, 'Insight:': 1, '90': 1, 'Carroll': 1, 'Hampton': 1, 'Album': 1, \"'05:\": 1, 'Garaicoa,': 1, 'Bertien': 1, 'Manen,': 1, 'Pisciotta,': 1, 'Robin': 1, 'Rhode': 1, 'Tadao': 1, 'Ando': 1, 'Philip-Lorca': 1, 'diCorcia:': 1, '\"Hell’s': 1, 'Breath\"': 1, 'Yankowitz': 1, '68': 1, 'Pollock:': 1, 'Grosz': 1, 'Timeless': 1, 'Engaging': 1, 'Participatory': 1, 'Mirrors,': 1, 'Mechanisms,': 1, 'Shelters': 1, 'Fassbinder:': 1, 'Alexanderplatz': 1, 'Yang': 1, 'Lian': 1, 'Hsieh:': 1, 'Alternating': 1, 'Vice': 1, 'Versa,': 1, 'e': 1, 'Boetti': 1, 'Morocco:': 1, '1912–1913': 1, 'Takehisa': 1, 'Kosugi': 1, 'Deformations:': 1, 'Apects': 1, 'Grotesque': 1, '90:': 1, 'Song': 1, 'Dong': 1, 'Puryear': 1, 'Humphrey': 1, 'Asian': 1, 'Huma': 1, 'Bhabha:': 1, 'Oppenheim:': 1, 'And': 1, 'Grew': 1, 'Fingers': 1, 'Gabo': 1, 'Antoine': 1, 'Pevsner': 1, 'Grain': 1, 'Elevators:': 1, 'Cohen:': 1, 'Klees': 1, 'Book/Shelf': 1, 'Metallic': 1, 'Fabrics': 1, 'Brass': 1, 'Quintet': 1, 'Gunnar': 1, 'Asplund': 1, 'Sanja': 1, 'Iveković:': 1, 'Violence': 1, 'Every,': 1, 'Weight': 1, 'Silk': 1, 'Sir': 1, 'Edwin': 1, 'Landseer': 1, 'Lutyens': 1, 'Newman': 1, 'Hilma': 1, 'af': 1, 'Klint': 1, 'Opera': 1, 'Spoerri,': 1, '631': 1, 'Sensibility:': 1, 'Horizons': 1, 'Herman': 1, 'Cherry:': 1, 'Transformations': 1, 'Goldblatt:': 1, 'Africa': 1, 'Brecht': 1, 'Talk': 1, 'Me:': 1, 'Irwin:': 1, 'Kapital': 1, 'Albers:': 1, 'Topf:': 1, '\"Game': 1, 'Situations\"': 1, 'Motta': 1, '59:': 1, 'Wood': 1, 'Rossellini': 1, '1960–69': 1, 'Gay': 1, 'Block:': 1, 'Rescuers': 1, 'Holocaust': 1, 'Pissarro': 1, '1865': 1, '1885': 1, 'Soutine': 1, 'Artists:': 1, 'Irony': 1, 'Breaking': 1, 'Away:': 1, '2002–2003': 1, 'Griffith,': 1, 'Blagg': 1, 'Tisa': 1, 'Bruce:': 1, 'Motherwell:': 1, 'Lyric': 1, 'Suite': 1, 'Hardwick,': 1, 'Michele': 1, 'Lamy': 1, 'Corrine': 1, 'Guibert,': 1, 'Regina': 1, 'Kravitz': 1, 'Verses': 1, 'without': 1, 'pre-1945': 1, 'XIII': 1, 'Levinthal:': 1, 'Cowboy': 1, 'Panama': 1, 'Canal': 1, 'Ernest': 1, '\"Red\"': 1, 'Hallen': 1, 'Ressler:': 1, 'Space…Private': 1, 'Thoughts,': 1, 'Space…Public': 1, 'Thoughts': 1, 'Murray:': 1, '2011;': 1, 'includes': 1, 'Hayes,': 1, 'maximus': 1, '68:': 1, 'Kentridge': 1, 'Conceptual': 1, '1960–1976': 1, '1872–1944': 1, 'Chim↑Pom': 1, 'Matta-Clark:': 1, 'Reorganizing': 1, 'Swift': 1, 'Things:': 1, 'Co.': 1, 'Clyde': 1, 'Connell:': 1, '1949–1958': 1, '89:': 1, 'Klara': 1, 'Liden': 1, \"Printin,'\": 1, 'Print/Out': 1, '\"Maria': 1, 'Campos-Pons,': 1, 'Spoken': 1, 'Softly': 1, 'Mama”': 1, 'Gestures:': 1, 'Troyan': 1, 'Tecau:': 1, 'Icons': 1, 'Spikes': 1, '[New': 1, 'III]': 1, 'K.': 1, 'Metzker': 1, 'Primitives': 1, 'Adversary': 1, 'Di': 1, 'Spirito,': 1, 'Kriesberg,': 1, 'Mintz': 1, 'Brassaï,': 1, '1899–1984:': 1, 'Fallingwater:': 1, 'Revisited': 1, 'Klinger,': 1, 'Lovis': 1, 'Corinth,': 1, 'Rohlfs': 1, 'Portraiture:': 1, 'Transformation': 1, 'Eternal': 1, 'Mick': 1, 'O’Shea:': 1, 'Toy': 1, 'Box': 1, 'Saret:': 1, 'Carpinteros:': 1, 'Ciudad': 1, 'Transportable': 1, '(Transportable': 1, 'City)': 1, 'Yoors:': 1, 'Crafting': 1, 'Genre:': 1, 'Bigelow': 1, \"Kahn's\": 1, 'Riesenfeld': 1, 'Jazz:': 1, 'Geist:': 1, 'Brief': 1, 'Knot:': 1, 'Povera': 1, 'Bartana': 1, 'Brad': 1, 'Gooch': 1, 'Favorites:': 1, 'Students': 1, 'Lynda': 1, 'Benglis:': 1, 'Sparkle': 1, 'Knots': 1, 'Sandberg:': 1, '1989–2006': 1, 'Leckey:': 1, 'Containers': 1, 'Drivers': 1, 'Samurai': 1, 'Tree': 1, 'Invariants': 1, '2)': 1, 'Plywood:': 1, 'Material,': 1, 'Process,': 1, 'Aïda': 1, 'Ruilova:': 1, 'Hey!': 1, 'Gerson': 1, 'Rocklin:': 1, 'Symbolist': 1, 'Aesthetic': 1, 'Armin': 1, 'Paley': 1, 'Pictures:': 1, 'S-21': 1, '1975–79': 1, 'Hoppe:': 1, 'Georgia': 1, 'Beckley:': 1, '\"Triad': 1, 'Triangle\"': 1, 'Year': 1, 'Craig-Martin': 1, 'Rosenberg:': 1, 'Setters': 1, 'Photograph,': 1, 'Film,': 1, 'Photobook': 1, 'Award': 1, 'Maquettes': 1, 'Ensor/Posada': 1, '49:': 1, 'Rubins': 1, '85:': 1, 'Perjovschi': 1, 'Consumer': 1, 'Tools:': 1, 'Tunnel': 1, 'Emil': 1, 'Latham:': 1, 'Base': 1, 'Universe': 1, 'Scuplture': 1, 'Ikam': 1, 'Dalí,': 1, 'Moore,': 1, 'Gross': 1, 'VII': 1, 'Naked/Nude:': 1, 'G.': 1, 'Robinson': 1, '1750–1900': 1, 'Pixar:': 1, 'Boyd,': 1, 'Ana': 1, 'Horvat,': 1, 'Minus': 1, \"O'Hare\": 1, 'Roof': 1, 'An-My': 1, 'Lê:': 1, '(1999–2002)': 1, 'Wooden': 1, 'Works,': 1, 'Including': 1, 'Bures': 1, 'Becker,': 1, 'Gordin,': 1, 'Rocklin,': 1, 'Terris;': 1, 'Brach,': 1, 'County,': 1, 'Haas,': 1, 'Hoehn,': 1, 'Ortman': 1, 'Andreyevich:': 1, 'Applied': 1, 'Aleksandr': 1, 'Scripts': 1, 'Nation': 1, 'Nostalgia': 1, 'Integrated': 1, 'Kitchen,': 1, 'Bathroom,': 1, 'Designers:': 1, 'Bruno': 1, 'Munari': 1, 'Alvin': 1, 'Lustig': 1, 'Thonet,': 1, 'Guimard,': 1, 'Rietveld': 1, 'Slow': 1, 'Metahaven:': 1, 'Islands': 1, 'Cloud\\n': 1, '\"Talking': 1, 'Myself\"': 1, \"'07:\": 1, 'Tanyth': 1, 'Berkeley,': 1, 'McFarland,': 1, 'Berni': 1, 'Searle': 1, 'Acquisitions;': 1, '1947–1953;': 1, 'Katherine': 1, 'Dreier': 1, 'Bequest;': 1, 'Kuniyoshi': 1, 'Spencer;': 1, 'Germany;': 1, 'Varieties': 1, 'Kilstrom': 1, '73:': 1, 'Goto,': 1, 'Hultberg,': 1, 'Hujar': 1, \"Today's\": 1, 'Context': 1, 'Junyer': 1, 'Shigeko': 1, 'Kubota': 1, 'Worth': 1, 'Saving': 1, 'Sildar': 1, 'Watercolor': 1, 'Otterness': 1, 'Developing': 1, 'Creativeness': 1, 'Gaston': 1, 'Lachaise:': 1, '86:': 1, 'Gert': 1, 'Uwe': 1, 'Tobias': 1, 'XXIX': 1, 'Detective': 1, 'Warehouse': 1, 'Kertész': 1, 'CONFETTISYSTEM:': 1, 'Division': 1, 'Multiplication': 1, 'Thirteen:': 1, 'Kohn:': 1, 'Bohemia:': 1, 'False': 1, 'Consciousness': 1, 'Then': 1, 'Now:Eight': 1, 'Propositions': 1, 'Corot,': 1, 'Daumier': 1, 'Informal': 1, 'Emerson,': 1, 'fluorescent': 1, 'light': 1, '13:': 1, 'Line/Anne': 1, 'Teresa': 1, 'Keersmaeker,': 1, 'Schellmann': 1, 'Berger,': 1, 'Frelinghuysen,': 1, 'Jackson,': 1, 'Klavun,': 1, 'Petersen,': 1, 'Rivers,': 1, 'Stillman,': 1, 'Tworkov,': 1, 'Vicente': 1, 'Monroe,': 1, 'Schwartz,': 1, 'Sowers': 1, 'make': 1, 'Photogram': 1, 'Tremlett': 1, 'Eija-Liisa': 1, 'Ahtila:': 1, 'Wind”': 1, 'Labrouste:': 1, 'Trumbull': 1, 'Mason': 1, 'Yoshio': 1, 'Taniguchi': 1, 'Leslie,': 1, 'Dieu,': 1, 'Parallax': 1, 'York-Köln': 1, 'Kim': 1, 'Sooja:': 1, 'Needle': 1, 'Acquired': 2, 'Franz': 2, 'Don': 2, 'Paperworks': 2, 'Rem': 2, 'Koolhaas': 2, 'Peterson': 2, 'Taxi': 2, 'Neil': 2, 'Logic': 2, 'Rauschenberg': 2, 'Tapestries': 2, 'Lucks,': 2, 'Ortman;': 2, 'N.': 2, 'Warm': 2, 'Up': 2, '1919–1933:': 2, 'Centennial': 2, 'Glamour': 2, 'Allegories': 2, 'Gjon': 2, 'Mili': 2, 'Roberto': 2, 'Cajori:': 2, 'Expansion': 2, 'Sale': 2, 'Mendelsohn:': 2, 'Combatant': 2, 'Status': 2, 'Tribunals,': 2, 'pp.': 2, '002954–003064:': 2, 'Circus': 2, 'Furnishings': 2, '1945': 2, 'Gorchov:': 2, 'Installation\"': 2, 'Ferrari': 2, 'Must': 2, 'Kurt': 2, 'Schwitters': 2, 'Composing': 2, 'Thrall': 2, 'Soby': 2, 'Rousseau': 2, 'Always': 2, 'Strangers': 2, 'Constructing': 2, 'Joyce': 2, 'Merrill': 2, 'Ida': 2, 'Fischer': 2, 'Samaras': 2, '(A': 2, 'Shining': 2, 'Window': 2, 'Score': 2, 'Cartier-Bresson': 2, 'Seen': 2, 'Mechanical': 2, 'Encounters': 2, 'Can': 2, 'Grey': 2, 'Geoffrey': 2, 'Sketchbooks': 2, 'Given': 2, 'Billboards': 2, 'Poons': 2, 'performance': 2, 'Reality': 2, 'Almost': 2, 'Grillo:': 2, 'Affinities': 2, 'Extraordinary': 2, 'Shapiro': 2, 'Voices:': 2, 'Beckwith': 2, 'Trip': 2, 'Central': 2, 'Television': 2, 'North': 2, 'T.': 2, 'Margaret': 2, 'Esther': 2, 'Larsen': 2, 'College': 2, \"Picasso's\": 2, 'Demoiselles': 2, \"d'Avignon\": 2, 'Friends': 2, 'Face': 2, 'Paris:': 2, 'Stein': 2, 'Rod': 2, 'Rhodes': 2, 'Naum': 2, 'Harvard': 2, 'Jonas:': 2, 'Longer': 2, 'Knowlton:': 2, 'Speyer:': 2, 'Seventeen': 2, 'Architecture:': 2, 'Roger': 2, 'Clock': 2, 'Screen': 2, 'Plane': 2, 'Thursdays': 2, 'Müller:': 2, 'Study': 2, 'Message': 2, 'Matter:': 2, 'Alternative': 2, 'Méliès:': 2, 'Pioneer': 2, 'Satellite': 2, 'Research': 2, 'Linn': 2, 'Theater': 2, 'Abraham': 2, 'Frederick': 2, 'Reed': 2, 'Grillo,': 2, 'Jonas': 2, 'Simple': 2, 'Lily': 2, 'Auchincloss': 2, 'Life:': 2, '95:': 2, 'Sabine': 2, 'Bitter': 2, 'Pacific': 2, 'Coast': 2, 'Resistance': 2, 'Lewitt': 2, 'Miró,': 2, 'Sylvia': 2, 'Labor': 2, 'Graves': 2, 'Angelo': 2, 'Ippolito:': 2, 'Sadie': 2, 'Called': 2, 'Jene': 2, 'Piece': 2, 'African': 2, 'Decorative': 2, 'Drawing,': 2, 'Roy': 2, 'Side': 2, 'Diana': 2, 'Fiction': 2, 'Seasons': 2, 'Moments': 2, 'Myth': 2, 'Luc': 2, 'Janet': 2, 'Cardiff:': 2, '*The': 2, 'Chamberlain,': 2, 'Stefanelli,': 2, 'Terris': 2, 'Palestine:': 2, 'Janz:': 2, 'Revolution:': 2, 'Russian': 2, 'Nanae': 2, 'Momiyama': 2, '1970': 2, 'Annual': 2, 'Marjorie': 2, 'Of': 2, 'Standing': 2, 'Portfolio': 2, '6:': 2, 'Verburg': 2, '40': 2, 'Visual': 2, 'Levitt': 2, '1960s': 2, 'Friedman': 2, 'Phillip': 2, 'Allen:': 2, 'Forst:': 2, 'Friedlander': 2, 'Tanguy': 2, 'Beyond': 2, 'Moskowitz': 2, 'Amsterdam:': 2, '12:': 2, 'Courtyard': 2, 'Event': 2, 'Peggy': 2, 'Brown': 2, 'She': 2, 'Invisible': 2, '1980–1981)': 2, 'Hazelet:': 2, 'Hansa': 2, 'Men': 2, 'Photomontages': 2, 'Kirchner': 2, 'XIX,': 2, 'Toys': 2, 'Cartier-Bresson:': 2, 'Marclay:': 2, 'Records': 2, 'Yayoi': 2, 'Kusama': 2, 'Preliminary': 2, 'Lewis': 2, 'Lipski': 2, 'Every': 2, 'Thirteen': 2, 'Car': 2, 'Expressionism': 2, 'Naive': 2, 'IX': 2, 'Works:': 2, 'Jonas,': 2, 'Dale': 2, 'Idea': 2, 'Bernice': 2, 'Roma': 2, 'Motion,': 2, 'Sirugo,': 2, 'Johnson,': 2, 'Past': 2, 'Barnett': 2, 'Whitman': 2, 'Beuys': 2, '4:': 2, 'Peress': 2, 'Gigliotti:': 2, 'Ausable': 2, 'Chasm': 2, 'Dead': 2, 'Mexico': 2, 'Amanda': 2, 'Secret': 2, '(1)': 2, 'Today:': 2, 'Emilio': 2, 'Cunningham': 2, 'Understanding': 2, 'Choice': 2, 'Martha': 2, 'Great': 2, '1800–1950': 2, 'Wartime': 2, 'Material': 2, 'Smithsonian': 2, 'Bird': 2, 'Manuel': 2, 'Alvarez': 2, 'Bravo': 2, '60': 2, 'Minimalism': 2, 'Bontecou:': 2, 'Site': 2, 'Ricardo': 2, 'Minds': 2, 'Modernity:': 2, '1880–1980,': 2, 'Demand,': 2, 'Sophie': 2, 'Franklin': 2, 'Watkins': 2, 'Machines': 2, 'Sue': 2, 'Webster': 2, 'Problem': 2, '1943:': 2, 'Childhood': 2, 'Stout:': 2, 'Munch:': 2, 'Inside': 2, 'Thinking': 2, 'Modern:': 2, 'Ireland:': 2, 'Nam': 2, 'June': 2, 'Seurat': 2, 'France': 2, 'Vienna': 2, 'Maya': 2, 'Cube': 2, 'Leandro': 2, 'Alphabet': 2, 'Gursky': 2, 'Milet': 2, 'Hard': 2, 'Berenice': 2, 'Movies': 2, 'Wesley:': 2, 'Rose': 2, 'Committed': 2, 'Visions': 2, 'Beth': 2, 'Heads': 2, 'Ippolito;': 2, 'Variants': 2, 'Rothko': 2, 'Build': 2, 'Rolf': 2, 'VI': 2, 'Perspectives': 2, 'Decade': 2, '5th': 2, '2008:': 2, 'Josephine': 2, 'Brought': 2, 'Light:': 2, 'Cinema,': 2, 'L.': 2, 'Goodwin': 2, 'Jon': 2, 'A.M.': 2, 'Illustrators': 2, 'Gedney': 2, 'Painting?': 2, 'Happenings': 2, 'Train': 2, 'Angeles:': 2, 'Exhibtion': 2, \"Sculptor's\": 2, 'Noguchi:': 2, 'Come': 2, 'Swimming': 2, 'Mullican': 2, 'Intimate': 2, 'Feininger': 2, 'Galleries': 2, 'Rodchenko': 2, 'Nora': 2, 'Neuhaus:': 2, 'Original': 2, 'Isquith:': 2, 'Graham:': 2, 'These': 2, 'Down': 2, 'Members': 2, 'Collect': 2, 'Apple:': 2, 'Burton': 2, '80th': 2, 'Ronnie': 2, 'Steven': 2, 'Sachs': 2, 'Bauhaus:': 2, 'Rafael': 2, 'Memoriam': 2, 'Cy': 2, 'Twombly:': 2, 'Arp': 2, 'Suzanne': 2, 'Acts': 2, 'Ernesto': 2, 'Wilfred:': 2, 'Lumia': 2, 'United': 2, 'Thirty': 2, '20th-Century': 2, 'Island': 2, 'over': 2, 'Dancers': 2, 'Eames': 2, 'Wit': 2, 'Pour': 2, 'Techniques': 2, 'Their': 2, 'Jenny': 2, 'Nude': 2, 'Concrete': 2, 'Baer': 2, 'Alighiero': 2, 'Game': 2, 'Plan': 2, 'Before': 2, 'Thing': 2, 'Transforming': 2, 'Chronologies:': 2, 'Matisse,': 2, 'Pozzi:': 2, 'Weber,': 2, 'Swiss': 2, 'Brancusi': 2, 'Dominicis': 2, 'CommuNYCations:': 2, 'Cao': 2, 'Pierre': 2, '\"I': 2, 'Want': 2, 'Pioneering': 2, 'Mr.': 2, 'Experience': 2, '\"Paper': 2, 'D.W.': 2, 'Portrait:': 2, \"Photographer's\": 2, 'Course': 2, 'Cassandre': 2, 'Documents': 2, 'Vision': 2, 'TV': 2, 'Major': 2, 'Flavin:': 2, 'Benefit': 2, '30th': 2, 'Sofia': 2, 'Departure': 2, 'Ground': 2, 'Metaphor': 2, 'Any': 2, 'Nelson': 2, 'Imagery': 2, 'Concert': 2, 'Presents:': 2, 'Solo': 2, 'Moving': 2, 'Ari': 2, 'East': 2, '100th': 2, 'Lynne': 2, 'Centennial:': 2, 'Ralph': 2, 'Wolf': 2, 'Trends': 2, 'Edge': 2, \"Artists'\": 2, 'Bidlo': 2, 'Point': 2, 'Press': 2, 'Elements': 2, 'Natural': 2, 'Baselitz': 2, 'Geist': 2, 'Gerry': 2, 'Motherwell': 2, 'Orozco': 2, 'Worlds': 2, 'Gemini': 2, 'G.E.L.': 2, 'Africa,': 2, 'Porter': 2, 'Strand,': 2, 'Photos': 2, 'By': 2, '\"Subject:': 2, '9:': 2, 'Multiples': 2, 'Concepts': 2, 'Brothers:': 2, 'Tehching': 2, 'Long': 2, 'Spain': 2, 'Irving': 2, '46': 2, 'Eliot': 2, 'Orozco:': 2, 'Pop:': 2, 'Masks': 2, 'Guston': 2, 'Pablo': 2, 'Standard': 2, 'Performance:': 2, 'Malcolm': 2, 'Cathy': 2, 'Siskind': 2, '1977–1978)': 2, 'Dine:': 2, 'Hovagimyan:': 2, 'Nature': 2, 'Friedlander:': 2, 'Forgotten': 2, 'Contrasts': 2, 'Italy:': 2, 'Domestic': 2, 'Hilla': 2, 'Allen': 2, 'Ruppersberg': 2, 'Orpheus': 2, 'Selection:': 2, 'Visionary': 2, 'Lettering': 2, 'Arrangements': 2, 'Rivera': 2, 'Grosvenor': 2, 'Vik': 2, 'Muniz,': 2, 'Additions': 2, 'Trisha': 2, 'Donnelly': 2, 'Rauschenberg:': 2, 'Galleries:': 2, '2006:': 2, 'Raymond': 2, 'Walk': 2, 'Astoria': 2, 'Rudy': 2, 'Duchamp': 2, 'Kandinsky': 2, 'Advertising': 2, 'State': 2, '2009:': 2, 'Walead': 2, 'Daniel': 2, 'Sara': 2, 'Computer': 2, 'El': 2, 'Real': 2, 'Tadaaki': 2, 'Kuwayama': 2, 'Kahn': 2, 'Ocean': 2, 'Defense': 2, 'Taryn': 2, 'Simon:': 2, 'Countries': 2, 'Indian': 2, 'States': 2, 'Impact': 2, 'Writers': 2, 'Resnick': 2, 'Published': 2, 'To': 2, 'Kelley': 2, 'Shahn': 2, 'Fruit': 2, 'Ed': 2, '18': 2, '9': 2, 'York/New': 2, 'Watercolors:': 2, 'Trees': 2, 'Flying': 2, '2005:': 2, 'Jay': 2, 'Corbusier': 2, 'Pasilis,': 2, 'Samaras,': 2, 'Chirico': 2, 'Abramović:': 2, 'LeWitt': 2, 'Hayes:': 2, 'Lester': 2, 'Diane': 2, 'Arakawa:': 2, 'Suvero': 2, 'Realism': 2, 'Spanish': 2, 'U.S.': 2, 'Paolo': 2, 'Amy': 2, 'Rockburne:': 2, 'Aspects': 2, '“The': 2, 'Restaurant': 2, 'Zhang': 2, 'Arch': 2, 'Ballet': 2, 'Berman': 2, 'Lisette': 2, 'Cantor,': 2, 'Loren': 2, 'Sherman:': 2, 'Complete': 2, 'Stills': 2, 'D.': 2, 'Rockefeller,': 2, 'Hector': 2, 'Guimard': 2, 'Ready': 2, 'Howe': 2, 'Hans': 2, 'Hofmann': 2, 'Harriet': 2, 'Mapping': 2, 'Personal': 2, 'Subway': 2, 'Songs': 2, 'Paint': 2, 'Konrad': 2, 'Rodin': 2, 'Park:': 2, 'Club': 2, 'Schoenborn': 2, 'People:': 2, 'Car:': 2, 'Creston': 2, 'Loans:': 2, 'Gauguin,': 2, 'Karin': 2, 'Sander': 2, 'Morton': 2, 'Charlotte': 2, 'Mount': 2, 'St.': 2, 'Laurie': 2, 'Anderson': 2, 'Anna': 2, '2005': 2, 'Sonnier': 2, 'GNY:': 2, 'Rotating': 2, 'Bid': 2, 'Creative': 2, 'Europe,': 2, 'Richardson': 2, 'Altered': 2, 'Everyday': 2, 'was': 2, 'Matter': 2, 'Out:': 2, 'Chinese': 2, 'King': 2, 'One': 2, 'Transport': 2, '8:': 2, 'not': 2, 'Experiment': 2, 'Burckhardt:': 2, 'Rugs': 2, 'Ad': 2, 'Sigmar': 2, 'Polke:': 2, 'Rabinowitch': 2, 'Katz': 2, '11': 2, 'Like': 2, 'Iron': 2, 'Morgan': 2, 'Sonnier:': 2, 'Jensen': 2, 'since': 2, '1989)': 2, 'Rudolph': 2, 'Independent': 2, 'Willem': 2, '1980s': 2, 'Competition:': 2, 'Winter': 2, 'Wave': 2, 'Pier': 2, '35': 2, 'Chicago': 2, 'Fin-de-Siècle': 2, 'Animal': 2, 'Toiny': 2, 'Manny': 2, 'Farber,': 2, 'Patricia': 2, 'Patterson': 2, 'Jeff': 2, 'Nina': 2, 'Better': 2, 'Folk': 2, 'Geometric': 2, '1965': 2, 'Documentation': 2, 'Connie': 2, 'Beckley': 2, 'Ray,': 2, 'Ellen': 2, 'Douglas': 2, 'Kathryn': 2, 'That': 2, 'Shapes': 2, '1890s': 2, 'Painter': 2, 'Panoramas': 2, 'O.': 2, 'Tyler': 2, 'Evening': 2, 'Step': 2, 'Hobson': 2, 'Funny': 2, 'Tapes': 2, 'Objects:': 2, '1900': 2, 'Channel': 2, 'Houston': 2, '1999:': 2, 'Ernst,': 2, 'Silence:': 2, 'Juan': 2, 'Space,': 2, 'Reagan': 2, 'Know': 2, 'Hotel': 2, 'Hill': 2, '1978–1979)': 2, 'Paula': 2, 'Nocturne': 2, 'Limax': 2, 'Sports': 2, 'Kandinsky:': 2, 'Compositions': 2, 'Taliesin': 2, 'Brandt,': 2, 'Tuttle': 2, 'Masters:': 2, 'Readings': 2, 'Super': 2, 'Young:': 2, 'Shaw:': 2, \"Johnson's\": 2, 'Abbas': 2, 'Kiarostami:': 2, 'Maker': 2, 'Martin:': 2, 'Kings': 2, '1912–1914': 2, 'Bookworks': 2, '(Part': 2, 'Bing,': 2, 'Army': 2, 'Unnatural': 2, 'Lillie': 2, 'P.': 2, 'Bliss': 2, 'Unit': 2, 'Animated': 2, '2000:': 2, 'Winogrand': 2, 'Marlene': 2, 'Cell': 2, 'Fourteen': 2, 'Association': 2, 'Elaine': 2, '10:': 2, 'Hershman:': 2, 'Modernist': 2, 'Tchelitchew:': 2, 'Musical': 2, 'Alÿs:': 2, 'Deception': 2, 'Experimental': 2, 'Communication': 2, 'Convention': 2, 'Foundation': 2, 'Rosenquist:': 2, 'Welcome': 2, 'Water': 2, 'Swedish': 2, 'Sources': 2, 'Denise': 2, 'Days': 2, 'Catherine': 2, 'Modern,': 2, '1975–2005': 2, 'Yael': 2, 'Photographed': 2, 'Seventies': 2, 'Merce': 2, 'Building:': 2, 'Adams,': 2, 'Marcia': 2, 'Faces': 2, 'Figures:': 2, 'Kooning,': 2, 'Freilicher,': 2, 'Politics': 2, 'Gilman': 2, 'Change': 2, '34': 2, \"Dante's\": 2, 'Arte': 2, 'Representation': 2, 'Lighting': 2, 'Ideas': 2, 'Sensation': 2, 'Kooning': 2, '1994': 2, 'America,': 2, 'Ensor': 2, 'Winsor': 2, 'Stiles': 2, 'Pearlstein:': 2, 'Groot,': 2, 'Directions': 2, 'Incidental': 2, 'Changing': 2, 'Morris:': 2, '(part': 2, 'Do': 2, 'Mondrian:': 2, 'Parisian': 2, 'Kraftwerk': 2, 'Hollywood': 2, 'Seeing': 2, 'Ernst:': 2, 'Klaus': 2, 'Rinke': 2, 'Within': 2, 'Green': 2, 'Pistoletto:': 2, 'Zero': 2, 'Storage': 2, 'Sixties': 2, 'Kruger': 2, 'Information': 2, 'Hopper': 2, 'Wendy': 2, \"O'Keeffe\": 2, 'Monuments': 2, '90s': 2, 'Blume': 2, 'Cage': 2, 'Bishop': 2, 'Willi': 2, 'Apple': 2, 'Visions:': 2, 'Exposition': 2, 'Chaim': 2, '1980–1981': 2, 'Recently': 3, 'Mel': 3, 'Canadian': 3, 'Boris': 3, 'Maria': 3, 'Ernst': 3, 'Williams': 3, 'Herbert': 3, 'Adrian': 3, 'Gouaches': 3, 'Bernard': 3, 'Kahn:': 3, 'Twentieth-Century': 3, 'Park,': 3, 'Asher,': 3, 'Calder': 3, '1960': 3, 'Bauhaus': 3, '5:': 3, 'Be': 3, 'Eric': 3, 'Review': 3, 'Susan': 3, 'Chagall': 3, 'Company': 3, 'Marina': 3, 'Tina': 3, 'Acquisition:': 3, 'Les': 3, 'Close': 3, 'Social': 3, 'Age': 3, 'Government': 3, 'Raw': 3, 'Fifteen': 3, 'Museums': 3, 'Morris,': 3, 'Lisa': 3, 'Different': 3, 'through': 3, 'Fund': 3, 'Fine': 3, 'Its': 3, '2000)': 3, 'There': 3, 'Nineteenth-Century': 3, 'It': 3, 'Gertrude': 3, 'Stella': 3, 'Marcus': 3, 'Wesselmann:': 3, 'Carlos': 3, 'Win': 3, 'Yvonne': 3, 'Take': 3, 'von': 3, 'City:': 3, 'Shows': 3, 'Vito': 3, 'Acconci:': 3, '': 3, 'Against': 3, 'R.': 3, 'Woman': 3, 'Mind': 3, 'Parker,': 3, 'Murray': 3, 'Work:': 3, 'Built': 3, 'Printmakers:': 3, 'Morandi': 3, 'U.S.A.': 3, 'Society': 3, 'Design:': 3, 'Double': 3, 'Dubuffet:': 3, 'Cubism': 3, '2007:': 3, 'Andreas': 3, 'San': 3, 'Project:': 3, 'Fernand': 3, 'Polish': 3, 'Mural': 3, 'Dodd:': 3, 'A.': 3, 'Stout,': 3, 'Charlemagne': 3, 'Alberto': 3, 'Magic': 3, 'Six': 3, 'Miró:': 3, 'Stella:': 3, 'Jessica': 3, 'Roots': 3, 'Graham': 3, 'Gary': 3, 'Cubist': 3, 'At': 3, 'This': 3, '2011': 3, 'Andrew': 3, 'Ken': 3, 'Ansel': 3, 'Steel': 3, 'Grand': 3, 'Piet': 3, 'Me': 3, 'Singer': 3, 'Chris': 3, 'Make': 3, 'Situations': 3, 'Floor': 3, 'Pieces': 3, 'Fine:': 3, 'Joel': 3, 'Watercolors,': 3, 'Unknown': 3, 'Common': 3, 'Workspace': 3, 'Sal': 3, 'Romano': 3, 'Stuart': 3, 'Gilles': 3, 'Luis': 3, 'Histories': 3, 'Printmakers': 3, 'Multiple': 3, 'Odilon': 3, 'Redon': 3, '2006': 3, 'Freedom': 3, 'Sense': 3, 'Large': 3, 'Shaping': 3, '1979–1980)': 3, 'H.': 3, 'Tim': 3, 'Christopher': 3, 'Human': 3, 'Nauman:': 3, 'Salon': 3, 'Leon': 3, 'Architecture,': 3, 'Matthew': 3, 'Inventing': 3, '1910–1925': 3, '19': 3, 'Form:': 3, 'Fuller': 3, 'Forti': 3, 'Atlas': 3, 'Alice': 3, 'Generation': 3, 'Gauguin': 3, 'Woodcuts': 3, 'Hazelet': 3, 'Dix': 3, 'Gino': 3, 'Giacometti': 3, 'Making': 3, 'Films': 3, 'Carol': 3, 'Matt': 3, 'Nolde': 3, 'Printed': 3, 'Decades': 3, 'Nouveau': 3, 'Ritual': 3, 'Pool': 3, '12': 3, 'Kenneth': 3, 'Perspective': 3, 'Atget': 3, '1999)': 3, 'Hand': 3, 'Unique': 3, 'Japan': 3, 'King,': 3, 'Collage': 3, 'J.': 3, 'Around': 3, '70:': 3, 'Alvar': 3, 'Aalto:': 3, 'Last': 3, 'Ann': 3, 'Collaborations': 3, 'Julia': 3, 'Travel': 3, 'Area': 3, 'Reinhardt': 3, 'Will': 3, 'Image:': 3, 'Kelly:': 3, 'Romantic': 3, 'Best': 3, 'Lucio': 3, 'Short': 3, 'Walter': 3, 'Subject': 3, 'Cultural': 3, 'Wright': 3, 'Britain': 3, 'Winogrand:': 3, 'Francesco': 3, 'Jane': 3, 'Chasubles': 3, 'Narrative': 3, '2007': 3, 'Extended': 3, 'Takes': 3, 'Nicolas': 3, 'Dada,': 3, 'Dodd': 3, 'Georg': 3, 'Kooning:': 3, 'Oldenburg': 3, 'Forst': 3, '1890–1976': 3, 'Cindy': 3, 'Deborah': 3, 'White:': 3, 'Germany': 3, 'Abby': 3, 'Johnson': 3, 'Ryman': 3, 'Victor': 3, 'Chagall:': 3, 'Not': 3, 'Callahan': 3, 'Twenty': 3, 'Centuries': 3, 'Latin-American': 3, 'Dubuffet': 3, 'Construction': 3, 'Typography': 3, 'Bernhard': 3, 'Animals': 3, '1977)': 3, '2010': 3, 'Wright,': 3, 'Photographic': 3, 'Rubin': 3, 'Mitchell,': 3, 'Marcel': 3, 'Photographs,': 3, 'Another': 3, \"Sculptors'\": 3, '1987)': 3, 'Pasilis': 3, 'Repke,': 3, 'Nine': 3, 'Lynn': 3, 'Brassaï': 3, 'his': 3, 'Anni': 3, 'Starts:': 3, 'Kanovitz,': 3, 'Photo': 3, 'Eleanor': 3, 'Jr.': 3, 'View:': 3, 'Motion': 3, 'Stanley': 3, 'Auditorium': 3, 'Gohlke': 3, 'Mario': 3, 'Gold': 3, 'Towards': 3, '\"New\"': 3, 'Terry': 3, 'Fay': 3, 'Lansner': 3, \"MoMA's\": 3, 'Yorkers': 3, 'India': 3, 'Cut': 3, 'Kentridge:': 3, 'Highlights': 3, 'Old': 3, 'Corridor': 3, 'On-site': 3, 'Michelangelo': 3, 'Nicholas': 3, 'Manhattan': 3, 'Gordon': 3, 'Animation': 3, 'Cities': 3, 'Brody': 3, 'Wars': 3, 'Moore': 3, 'Industry': 3, 'Lounge': 3, 'Twenties': 3, 'Tanaka': 3, 'Expressionists': 3, 'Philadelphia': 3, 'Single': 3, 'Just': 3, 'Birds': 3, 'Party': 3, 'Fair': 3, 'Doug': 3, 'Rohe:': 3, 'Alison': 3, 'Rouault': 3, 'B': 3, 'Sunday': 3, 'Orchestra:': 3, 'Sounds': 3, 'Left': 3, 'Women:': 3, '1)': 3, 'Robbins': 3, 'Shadow': 3, 'Soviet': 3, 'Mirror': 3, 'Ray': 3, 'Julio': 3, 'Images:': 3, 'Jerry': 3, 'Jackie': 3, 'Heart': 3, 'Ryan': 3, 'into': 3, '15': 3, 'Form': 3, 'Manet': 3, 'Beauchamp': 3, 'Evans': 3, 'Handmade': 3, 'IV:': 3, 'Travels': 3, 'Magdalena': 3, 'Couples': 4, 'May': 4, 'Place': 4, 'Builds': 4, 'I:': 4, 'China': 4, '16': 4, 'I.': 4, 'Outdoor': 4, 'Cohen,': 4, 'Series:': 4, 'Look': 4, '1979)': 4, 'Marc': 4, 'III:': 4, 'Second': 4, 'Illustrated': 4, 'Kiki': 4, 'Stieglitz': 4, 'Pattern': 4, '1985):': 4, 'Ted': 4, 'Morris': 4, 'Jazz': 4, 'Housing': 4, 'Ten': 4, 'or': 4, 'Sarah': 4, 'Graphics': 4, '1:': 4, 'Perle': 4, \"60's\": 4, 'Jack': 4, 'Evans:': 4, 'Houses': 4, 'Rosenquist': 4, 'Times': 4, 'Weston': 4, 'Mexican': 4, '3:': 4, 'Bourgeois': 4, 'Samaras:': 4, 'Without': 4, 'Ways': 4, 'Olafur': 4, 'Eliasson': 4, 'Segal:': 4, 'Pastels': 4, 'Warhol:': 4, 'We': 4, 'Are': 4, 'Line': 4, 'Stankiewicz': 4, 'Queens': 4, 'Symphony': 4, 'Schapiro,': 4, 'Wilson': 4, 'Kevin': 4, 'Body': 4, 'Homage': 4, 'Blue': 4, 'High': 4, 'Ludwig': 4, 'Today': 4, 'Léger': 4, 'Forty': 4, 'Sam': 4, 'Political': 4, 'Carl': 4, 'Media': 4, 'Donald': 4, 'Stankiewicz:': 4, 'Fantastic': 4, 'Bank': 4, 'Sally': 4, 'Munch': 4, 'Popular': 4, 'Anthology': 4, 'Archives': 4, 'Loan': 4, 'Davidson': 4, 'Davis': 4, 'Wolfgang': 4, 'Giorgio': 4, 'Assemblage': 4, 'Jacob': 4, 'Lilly': 4, 'Murals': 4, 'Beckmann': 4, 'Buckminster': 4, 'First': 4, 'Francis': 4, 'Otto': 4, '1955–1970:': 4, 'Festival': 4, 'Lyonel': 4, 'South': 4, 'Picasso,': 4, 'Rooms': 4, 'Photographs:': 4, 'Birthday': 4, 'Tower': 4, 'Community': 4, 'Views': 4, 'Fifty': 4, 'Pollock': 4, 'Being': 4, 'Own': 4, 'Toulouse-Lautrec': 4, 'Action': 4, 'Collections:': 4, 'X': 4, 'Designer': 4, 'Structure': 4, 'Aldrich': 4, 'Kelly': 4, 'Sidney': 4, 'Jonathan': 4, 'Bladen': 4, 'Posters,': 4, 'Parts': 4, '2003):': 4, 'Story': 4, 'Tanaka:': 4, 'Impressions': 4, 'Present': 4, 'Eighties': 4, 'Monika': 4, 'Dennis': 4, '20': 4, 'Reproductions': 4, 'Diego': 4, 'Felix': 4, 'Goldberg,': 4, 'Windows': 4, 'Dada': 4, 'Preview:': 4, '10': 4, 'F.': 4, 'England': 4, 'Krushenick': 4, 'Fred': 4, 'There:': 4, 'Travels,': 4, 'Studios': 4, 'Wright:': 4, 'Anne': 4, 'Environment': 4, 'Automobiles': 4, 'Stieglitz,': 4, 'Structures': 4, 'P.S.1': 4, '7': 4, 'Segal': 4, 'Picture': 4, 'Designing': 4, 'Drawn': 4, 'Surrealist': 5, 'Drawing:': 5, 'Abstraction': 5, '1988):': 5, 'War:': 5, 'Alan': 5, 'C.': 5, 'Things': 5, 'World:': 5, 'Harry': 5, 'Periphery,': 5, 'Ron': 5, 'Studies': 5, 'Figure': 5, 'Night': 5, 'Italian': 5, 'E.': 5, 'Glass': 5, 'Dine': 5, 'Simone': 5, 'Machine': 5, 'Gogh': 5, 'Book': 5, 'Simon': 5, '1978):': 5, 'Helen': 5, 'Dorothea': 5, 'Love': 5, '5': 5, 'About': 5, '(MoMA):': 5, 'Atget:': 5, 'Family': 5, 'Day': 5, 'Gift': 5, '1985)': 5, 'Looking': 5, 'Time:': 5, 'Andy': 5, 'Diogenes': 5, '1979–1980):': 5, 'Albers': 5, 'Architect': 5, 'Elizabeth': 5, 'Johnson:': 5, 'York:': 5, 'Whitman:': 5, 'Textiles': 5, '2:': 5, 'Fall': 5, 'Tony': 5, 'Twelve': 5, '2012': 5, 'Bonnard': 5, 'Louise': 5, 'Bob': 5, 'Show:': 5, 'Miles': 5, 'Language': 5, 'Street': 5, 'Places': 5, '1980)': 5, 'Gabriel': 5, '1984)': 5, 'Wesselmann': 5, 'Fine,': 5, 'Joe': 5, 'Other': 5, 'Painting,': 5, 'Müller': 5, 'Myron': 5, 'Collection,': 5, 'Katz:': 5, 'Groell,': 5, 'Painting:': 5, 'Los': 5, 'View': 5, 'Ben': 5, 'Johns:': 5, 'Clocktower': 5, 'Jackson': 5, 'Late': 5, 'Miller': 5, 'Building': 5, 'Keith': 5, '6': 5, '1978)': 5, 'Garry': 5, 'Greater': 5, 'Nancy': 5, 'Surrealism': 5, 'Object': 5, 'Dieter': 5, 'Photographer': 5, 'Project,': 5, 'Lithographs': 5, 'S.': 5, '2008': 5, 'Ortman,': 5, 'Models': 5, 'Vertical': 5, 'Portrait': 5, 'Honor': 5, 'IV': 5, 'More': 5, 'Roth': 5, 'Judith': 5, 'California': 5, 'André': 5, '8': 5, 'Editions': 5, 'Corbusier:': 6, 'Sculptures': 6, 'MoMA': 6, 'Dream': 6, 'Collectors': 6, 'Living': 6, 'Brazil': 6, 'Oldenburg:': 6, 'Bequest': 6, 'British': 6, 'Vincent': 6, 'Urban': 6, 'Eugene': 6, '1984):': 6, 'Van': 6, 'Larry': 6, 'Light': 6, '2013': 6, 'Constructions': 6, 'Studio:': 6, '2001):': 6, 'Follett,': 6, 'Your': 6, 'Christian': 6, 'V': 6, 'ALS': 6, 'Masterpieces': 6, 'Josef': 6, 'Time': 6, 'Sol': 6, 'di': 6, 'Rohe': 6, 'Small': 6, 'Lois': 6, 'Adams': 6, '20th': 6, 'White': 6, 'Good': 6, 'Cézanne': 6, 'Penthouse:': 6, 'Edvard': 6, 'Tribute': 6, 'Berlin': 6, 'Sculpture:': 6, 'Culture': 6, 'Hazelet,': 6, 'Katz,': 6, 'Rocklin': 6, 'Steichen': 6, 'Center': 6, 'Alex': 6, 'Under': 6, 'Histories:': 6, 'Live': 6, 'Artworks': 6, 'Examining': 6, 'Past.': 6, 'Space': 6, 'Stephen': 6, 'Europe': 6, '1986)': 6, 'Patrick': 6, '1978–1979):': 6, 'Wall': 6, 'What': 6, 'Tokyo': 6, 'Avant-Garde': 6, '2009': 6, 'Into': 6, 'Jasper': 6, 'Designed': 6, 'Room': 6, 'Eye': 6, 'Chuck': 6, 'Garden': 6, 'Expressionist': 6, 'How': 6, 'Made': 6, 'Beauchamp,': 6, 'Scott': 6, 'Eight': 6, 'Cajori,': 6, 'Survey': 6, 'Model': 7, 'History': 7, 'Paris': 7, 'Geist,': 7, 'Alexander': 7, 'Memory': 7, 'Jacques': 7, 'Words': 7, 'Reading': 7, 'Red': 7, 'Smith:': 7, 'School': 7, 'Steve': 7, 'Mike': 7, '$10': 7, 'French': 7, 'Masters': 7, 'Prints,': 7, 'Acquisitions,': 7, 'Department': 7, 'Here': 7, '1981)': 7, '1980–1981):': 7, 'After': 7, 'Kaprow:': 7, 'Children': 7, 'Georges': 7, '–': 7, 'Still': 7, 'an': 7, 'Abstraction:': 7, 'Arts': 7, 'Big': 7, 'III': 7, 'Early': 7, '1982)': 7, 'Latin': 7, 'Line:': 7, 'Rockefeller': 7, 'under': 7, '1987):': 7, 'Pearlstein,': 7, 'Landscapes': 7, 'II:': 7, 'Anniversary': 7, 'Buildings': 7, 'Cinema': 7, '2004):': 7, 'Ellsworth': 7, 'Printmaking': 7, 'Japanese': 7, 'Installations': 7, 'Ronald': 7, 'People': 7, 'Min': 7, 'Isquith,': 7, 'West': 8, 'Louis': 8, 'Day.': 8, 'Lucas': 8, 'Miró': 8, 'Claes': 8, 'Through': 8, 'Women': 8, 'P.S.': 8, 'Jan': 8, 'Camera': 8, 'Mary': 8, 'Dan': 8, 'Seven': 8, 'My': 8, 'Barbara': 8, '25': 8, '4': 8, 'Joseph': 8, 'Klee': 8, 'Theatre': 8, 'Years:': 8, 'Home': 9, 'Useful': 9, 'Dodd,': 9, 'Since': 9, 'Sweet': 9, '\"The': 9, 'Paintings,': 9, 'Alfred': 9, 'City': 9, 'Stage': 9, 'Mrs.': 9, 'Collections': 9, 'Competition': 9, 'Collages': 9, 'Man': 9, '3': 9, 'Arnold': 9, 'Choice:': 9, 'Images': 9, 'der': 9, '1986):': 9, 'Untitled': 9, 'Carnival': 9, 'Martin': 9, 'German': 9, 'Ippolito,': 9, 'Performing': 9, '50': 9, 'Image': 9, '2002):': 9, 'Sculpture,': 9, 'Open': 9, 'Henry': 9, 'Prints:': 9, 'Video:': 9, 'For': 9, 'You': 9, 'Allan': 10, 'Black': 10, 'Inaugural': 10, 'Books': 10, 'Barry': 10, 'De': 10, 'Masterworks': 10, 'Photography:': 10, 'Sculptors': 10, 'Mies': 10, '2': 10, 'Christmas': 10, 'Picasso:': 10, 'Bruce': 10, 'Life': 10, 'Between': 10, 'Lloyd': 10, 'Furniture': 11, 'Penthouse': 11, 'His': 11, 'Landscape': 11, '-': 11, 'Twentieth': 11, 'Jim': 11, 'Poster': 11, 'Private': 11, '100': 11, 'Walker': 11, 'Four': 11, \"Artist's\": 11, 'Watercolors': 11, '1983)': 11, 'Thomas': 11, 'Pop': 11, 'Le': 12, 'Spaces': 12, 'Etchings': 12, '1983):': 12, 'Matisse:': 12, 'Permanent': 12, 'Architectural': 12, 'Art:': 12, 'Drawings:': 12, 'Edward': 12, 'World': 12, 'Lee': 12, 'Holiday': 12, 'Art,': 12, 'Fashion': 12, 'Focus:': 12, 'Americans': 13, 'Drawings,': 13, 'Spring': 13, 'Tom': 13, 'Gifts': 13, 'Abstract': 13, 'Rotation': 13, 'II': 13, 'Selected': 13, 'I': 14, 'Master': 14, 'Project': 14, 'Photographers': 14, 'Smith': 14, 'Peter': 14, '&': 14, 'House': 14, 'Pictures': 14, 'Graphic': 14, 'Two': 14, 'Group': 14, 'Out': 14, 'conjunction': 14, 'exhibition,': 14, 'Reinstallation': 14, 'Objects': 15, 'Portraits': 15, 'Charles': 15, 'Exhibition:': 15, 'Memorial': 15, 'Print': 15, 'Designs': 15, 'Artist': 15, 'Philip': 15, 'America': 15, 'Five': 16, 'Selection': 16, '1979):': 16, 'Changes': 16, 'Bill': 16, 'Mark': 16, 'Jean': 16, 'van': 16, '1981):': 16, 'Talent': 16, 'Now': 16, 'Music': 16, \"Children's\": 16, 'Matisse': 17, 'Some': 17, 'European': 17, '1982):': 17, 'Max': 17, 'is': 17, 'Color': 18, 'In': 18, 'Joan': 18, 'Poetry': 18, '1': 18, '1980):': 18, 'Gallery': 18, 'Three': 19, '(MoMA': 19, 'PS1):': 19, 'Summer': 19, 'Picasso': 19, 'Henri': 19, 'Michael': 19, 'Years': 19, 'On': 19, 'War': 20, 'Public': 21, '[Penthouse': 21, 'Exhibition]': 21, 'Series': 21, 'de': 21, 'as': 22, '(Summer': 22, 'Painters': 22, 'Paper': 23, 'George': 23, 'William': 24, 'Frank': 24, 'Installation': 24, 'James': 26, 'From': 26, 'Century': 26, 'Dance': 27, 'Collection:': 27, 'David': 27, 'An': 27, 'Retrospective': 28, 'Architects': 28, 'Lending': 30, 'Paul': 30, 'Service': 31, 'Sound': 31, 'York': 32, 'with': 32, 'Young': 33, 'Drawing': 34, 'Posters': 34, 'Show': 35, 'Richard': 35, 'Part': 36, 'Performance': 36, 'on': 36, 'Work': 37, 'National': 37, 'John': 38, 'at': 40, 'Artists': 45, 'Robert': 48, 'a': 51, 'International': 55, 'Film': 57, 'Acquisitions:': 58, 'Studio': 58, 'Program': 61, 'Design': 65, 'Works': 66, '(Fall': 68, '(Spring': 70, 'Prints': 71, 'Contemporary': 72, 'to': 74, 'Selections': 75, 'Architecture': 79, 'Special': 79, 'Acquisitions': 79, 'Exhibition': 79, '(Winter': 83, 'Museum': 85, 'for': 88, 'American': 94, 'Photographs': 94, 'Photography': 95, 'Video': 102, 'Painting': 103, 'Projects:': 105, 'Drawings': 108, 'A': 132, 'Paintings': 137, 'Modern': 138, 'Sculpture': 141, 'Recent': 143, 'Projects': 176, 'Art': 181, 'Collection': 194, 'in': 201, 'New': 207, 'by': 253, 'from': 282, 'The': 334, 'of': 467, 'the': 539, 'and': 600}\n"
     ]
    }
   ],
   "source": [
    "filepath = \"api\"\n",
    "filename = \"events_all.json\"\n",
    "\n",
    "with open(os.path.join(filepath, filename), 'r') as json_file:\n",
    "    \n",
    "    numbers = {}\n",
    "\n",
    "    data = json.load(json_file)\n",
    "    \n",
    "    for event in data.get(\"events\"):\n",
    "        \n",
    "        title = event.get(\"_label\")\n",
    "       \n",
    "        keywords = title.split(\" \")\n",
    "        for keyword in keywords:\n",
    "            if keyword in numbers:\n",
    "                numbers[keyword] += 1\n",
    "            else:\n",
    "                numbers[keyword] = 1\n",
    "    \n",
    "    numbers = dict(sorted(numbers.items(), key=lambda item: item[1]))\n",
    "    \n",
    "        \n",
    "        \n",
    "        \n",
    "    print(numbers)\n",
    "    \n",
    "    \n",
    "        "
   ]
  },
  {
   "cell_type": "markdown",
   "metadata": {},
   "source": [
    "# keyword frequency in exhibition title - non MoMa"
   ]
  },
  {
   "cell_type": "code",
   "execution_count": 17,
   "metadata": {},
   "outputs": [
    {
     "name": "stdout",
     "output_type": "stream",
     "text": [
      "{'Huffman,': 1, 'Rosati,': 1, 'Arnold,': 1, 'White,': 1, 'Levitan': 1, 'Circus': 1, '(Ironworks/Fotodeath)': 1, 'Ida': 1, 'Fischer': 1, 'Varieties:': 1, '(A': 1, 'Shining': 1, 'Bed),': 1, 'Simone': 1, '(See': 1, 'Saw),': 1, '(Chimneyfire': 1, 'Erasers)': 1, 'Fine': 1, 'Dine,': 1, 'Ratliff,': 1, 'Benton,': 1, 'Todd,': 1, 'Gloria': 1, 'Graves': 1, 'Private': 1, 'Myth': 1, 'Blaine,': 1, 'Bourgeois,': 1, 'Grampton,': 1, 'Porter,': 1, 'Flavin,': 1, 'Judd,': 1, 'Marjorie': 1, 'Lascia:': 1, 'David': 1, 'Seccombe': 1, 'Levitt': 1, 'Oils,': 1, 'Thomas;': 1, 'White': 1, 'Fantastic': 1, 'Creatures': 1, 'Satiric': 1, 'Poses': 1, 'Michaela': 1, 'Weisselberg:': 1, 'Constructions,': 1, 'Pastels,': 1, 'Floor': 1, 'Hanging': 1, 'Pieces': 1, 'Sugarman,': 1, 'Bernice': 1, 'D’Vorzon,': 1, 'Bloom,': 1, 'Button,': 1, 'R.': 1, 'Drexler,': 1, 'Kilstrom,': 1, 'McLean,': 1, 'Raleigh,': 1, 'Johnson,': 1, 'Pearlstein;': 1, 'Stein,': 1, 'Whidden': 1, 'Haugard': 1, 'Edelheidt': 1, 'Joan': 1, 'Jacobs': 1, 'Cajori;': 1, 'Slivka': 1, 'Inaugural': 1, 'Space': 1, 'Brody,': 1, 'Poems': 1, 'Andrejevic:': 1, 'Dody': 1, 'Leatrice': 1, 'Rose': 1, 'Marsicano,': 1, 'Series:': 1, 'Magic': 1, 'Train': 1, 'Ride,': 1, 'Big': 1, 'Laugh,': 1, 'Cannon': 1, 'dinners,': 1, 'liquid': 1, 'aluminum': 1, 'pieces,': 1, 'pastels,': 1, 'plasters': 1, 'Spring': 1, 'Happening': 1, 'Theophil': 1, 'Repke:': 1, 'Collages/Great': 1, 'Nude': 1, '&': 1, 'Still': 1, 'Life': 1, 'Dorothea': 1, 'Baer': 1, 'Building': 1, 'Hallway': 1, 'Mural': 1, 'Exemplary': 1, '1': 1, 'Beckwith:': 1, 'Edward': 1, 'Avedisian': 1, 'Kaprow': 1, 'Lynne': 1, 'Drexler': 1, 'Kahn:': 1, 'Paintings-Drawings-Pastels': 1, 'Konzai': 1, 'Boutis': 1, 'Grooms:': 1, 'Levitan,': 1, 'Messina,': 1, 'Horace': 1, 'Gregory:': 1, 'Whistler': 1, 'Legend': 1, 'Peter': 1, 'Passuntino:': 1, 'Nora': 1, 'Speyer:': 1, 'Jensen:': 1, 'Dine:': 1, 'Car': 1, 'Crash': 1, 'Jensen;': 1, 'Becker': 1, 'Renée': 1, 'Rubin': 1, 'Miller': 1, 'Groell:': 1, 'Johnson': 1, 'Sweeney:': 1, 'Sculpture-Architecture': 1, 'Neil': 1, 'Founding': 1, 'Forst,': 1, 'Lansner,': 1, 'Pritchard,': 1, '-': 1, 'Kahn': 1, '“The': 1, 'House”': 1, 'Moon': 1, 'Americans': 1, 'Flack,': 1, 'Lund': 1, 'Birmelin,': 1, 'Cantor;': 1, 'Lester': 1, 'Johnson:': 1, 'Early': 1, 'Xmas': 1, 'Rosalyn': 1, 'Drexler:': 1, 'Sculptures': 1, 'Lucks': 1, 'Charlotte': 1, 'Park:': 1, 'Berenice': 1, 'D’Vorzon': 1, 'Remnants': 1, 'Nature': 1, 'Departed': 1, 'Hedy': 1, 'Fuchs': 1, 'Stout': 1, 'Finkelstein,': 1, 'Maxwell,': 1, 'J.Sanders;': 1, 'Drawings-Paintings': 1, 'Watercolors,': 1, 'Ratliff': 1, 'Painters:': 1, 'Epstein,': 1, 'Grooms,': 1, 'Milder,': 1, 'Passuntino,': 1, 'Weisselberg': 1, 'Wofford': 1, 'Max': 1, 'Spoerri': 1, 'Elise': 1, 'Asher:': 1, 'Follett:': 1, 'Retrospective': 1, 'Steel': 1, 'Iron': 1, '1956': 1, 'Herb': 1, 'Brown': 1, 'Rudolph': 1, 'Burckhardt:': 1, 'Takeshi': 1, 'Asada,': 1, 'Bob': 1, 'Kobayashi,': 1, 'Beattie': 1, 'III': 1, 'Mercedes': 1, 'Matter:': 1, 'Painting': 1, 'Swinden,': 1, 'Morrison,': 1, 'Steubing,': 1, 'Leiter,': 1, 'Three': 1, 'Men:': 1, 'Held,': 1, 'Gash,': 1, 'Fromboluti,': 1, 'Duback,': 1, 'Young,': 1, 'Silbert,': 1, 'Stout;': 1, 'Frank,': 1, 'Terris,': 1, 'Trajan': 1, 'Richenburg': 1, 'Work:': 1, 'I': 1, 'Huffman:': 1, 'Fred': 1, 'Mitchell:': 1, 'McLean': 1, '(Contemporary': 1, 'Show)': 1, 'Francesco': 1, 'Cocco:': 1, 'Lee': 1, 'Byars,': 1, 'performance': 1, 'Koras': 1, 'Sports': 1, 'Edelheit': 1, 'Saul': 1, 'Leiter:': 1, 'Environment': 1, '23': 1, '18': 1, 'Parts': 1, 'Oldenburg': 1, 'Leland': 1, 'Bell': 1, 'Follett': 1, 'Ginnever,': 1, 'Oldenburg,': 1, 'Yayoi': 1, 'Kusama': 1, 'Lucks:': 1, 'Don': 1, 'Judd': 1, 'Anne': 1, 'Samaras': 1, 'Barbara': 1, 'Beauchamp:': 1, 'Performance:': 1, 'his': 1, 'Alchemical': 1, 'Players': 1, '1953': 1, 'de': 1, 'Frankenthaler,': 1, 'Hofmann,': 1, 'Kline,': 1, 'Marca-Relli,': 1, 'Mitchell;': 1, 'Drummond': 1, 'Old-New': 1, 'Two': 1, 'Man': 1, 'Lennert': 1, 'Anderson': 1, 'Knute': 1, 'Patricia': 1, 'Passlof': 1, 'Black': 1, 'City,': 1, 'People:': 1, 'Grooms': 1, 'Jay': 1, 'Milder': 1, 'Ortman:': 1, 'Brassaï': 1, 'Jones,': 1, 'Louisa': 1, 'Matthiasdottir:': 1, 'one)': 1, 'Albert': 1, 'Kotin': 1, 'Sirugo': 1, 'Georges': 1, 'Mouth': 1, 'at': 1, 'the': 1, 'Prints': 1, '17': 1, 'Feldman': 1, 'on': 1, '10th': 1, 'Terra': 1, 'Cotta': 1, 'Pearlstein': 1, 'Below': 1, 'Zero': 1, '1960': 1, 'Cutouts': 1, 'two)': 1, 'Duback:': 1, 'Evening': 1, 'Sound-Theatre-Happenings': 1, 'Nicolas': 1, 'Film': 1, 'Screenings:': 1, 'Machine': 1, 'Made': 1, 'Paintings/Motion': 1, 'Doom': 1, '4': 1, 'a': 1, 'Sculptor:': 1, 'Fiore,': 1, 'Jacob': 1, 'Rabinowitz,': 1, 'Louis': 1, 'Spindler': 1, 'Knte': 1, 'Beattie,': 1, 'Stone': 1, '15': 1, 'Ray': 1, 'Gun': 1, 'Spex': 1, 'Phyllis': 1, 'Yampolsky:': 1, 'Benefit': 1, 'Yvonne': 1, 'Thomas:': 1, '24': 1, 'Ed': 1, 'Clark': 1, 'J.Mitchell,': 1, 'J.Sanders,': 1, 'Steubing': 1, 'Suvero:': 1, 'Apple': 1, 'Shrine': 1, '68': 1, 'Ralph': 1, 'Humphrey': 1, 'Cohen:': 1, 'Daniel': 1, 'Spoerri,': 1, 'Room': 1, '631': 1, 'Herman': 1, 'Cherry:': 1, 'Brecht': 1, '[New': 1, 'III]': 1, 'Geist:': 1, '50': 1, 'Raymond': 1, 'Rocklin:': 1, 'Becker,': 1, 'Gordin,': 1, 'Rocklin,': 1, 'Terris;': 1, 'Graphics': 1, 'Bing,': 1, 'Brach,': 1, 'County,': 1, 'Haas,': 1, 'Hoehn,': 1, 'Ortman': 1, 'Andreyevich:': 1, 'Kenneth': 1, 'Kilstrom': 1, 'Sildar': 1, 'Katz': 1, 'Gabriel': 1, 'Kohn:': 1, 'fluorescent': 1, 'light': 1, 'Berger,': 1, 'Frelinghuysen,': 1, 'Jackson,': 1, 'Klavun,': 1, 'Petersen,': 1, 'Rivers,': 1, 'Stillman,': 1, 'Tworkov,': 1, 'Vicente': 1, 'Alice': 1, 'Trumbull': 1, 'Mason': 1, 'Leslie,': 1, 'Dieu,': 1, 'Lucks,': 2, 'Ortman;': 2, 'Cajori:': 2, 'E.': 2, 'Morris': 2, 'Larry': 2, 'Poons': 2, 'Grillo:': 2, 'Beckwith': 2, 'Marcus': 2, 'Müller:': 2, 'Grillo,': 2, 'Angelo': 2, 'Ippolito:': 2, 'Chamberlain,': 2, 'Stefanelli,': 2, 'Terris': 2, 'Morris,': 2, 'Williams': 2, 'Nanae': 2, 'Momiyama': 2, 'Samaras:': 2, 'Andrew': 2, 'Forst:': 2, 'Hazelet:': 2, 'Constructions': 2, 'Hansa': 2, 'Romano': 2, 'Sirugo,': 2, 'Martha': 2, 'Stout:': 2, 'Sculpture,': 2, 'Milet': 2, 'Ippolito;': 2, 'Happenings': 2, 'Ben': 2, 'Isquith:': 2, '6': 2, 'Flavin:': 2, 'Watercolors': 2, 'Wolf': 2, 'Geist': 2, 'Alfred': 2, 'Tadaaki': 2, 'Kuwayama': 2, 'Resnick': 2, 'Five': 2, 'Pasilis,': 2, 'Samaras,': 2, 'Suvero': 2, 'Cantor,': 2, 'Creston': 2, 'Morton': 2, 'Mitchell,': 2, 'King': 2, 'Nicholas': 2, 'O.': 2, 'Tyler': 2, 'Sculptors': 2, 'Kooning,': 2, 'Freilicher,': 2, 'Stiles': 2, 'Pearlstein:': 2, 'Groot,': 2, 'Morris:': 2, '(part': 2, 'King,': 2, 'Cohen,': 3, 'Park,': 3, 'Asher,': 3, 'Jacques': 3, 'Rosenquist': 3, 'Wesselmann:': 3, 'Segal:': 3, 'Pastels': 3, 'Parker,': 3, 'Dodd:': 3, 'Stout,': 3, 'Martin': 3, 'Singer': 3, 'Fine:': 3, 'Sal': 3, 'Dan': 3, 'in': 3, 'Lilly': 3, 'Hazelet': 3, 'Small': 3, 'Jane': 3, 'Dodd': 3, 'Sidney': 3, 'Red': 3, 'Forst': 3, 'Gallery': 3, 'Felix': 3, 'Pasilis': 3, 'Repke,': 3, 'Street': 3, 'Mark': 3, 'Contemporary': 3, 'Kanovitz,': 3, 'Fay': 3, 'Lansner': 3, 'Recent': 3, 'F.': 3, 'Philip': 3, 'Paul': 3, 'Part': 3, 'Brody': 3, 'Christmas': 3, 'De': 3, 'Beauchamp': 3, 'Artists': 3, 'Painters': 3, 'Dine': 4, 'Perle': 4, 'John': 4, 'Drawings,': 4, 'Paintings,': 4, 'Stankiewicz': 4, 'Schapiro,': 4, 'Wilson': 4, 'Lucas': 4, 'Miles': 4, 'Stankiewicz:': 4, 'Sally': 4, 'Whitman:': 4, 'New': 4, 'Myron': 4, 'American': 4, 'Joseph': 4, 'Alex': 4, 'Katz:': 4, 'Ronald': 4, 'Bladen': 4, 'Show:': 4, 'Goldberg,': 4, 'Krushenick': 4, 'Segal': 4, 'Charles': 5, 'Jim': 5, 'James': 5, 'Exhibition': 5, 'di': 5, 'Arnold': 5, 'Wesselmann': 5, 'Fine,': 5, 'Müller': 5, 'Groell,': 5, 'Ortman,': 5, 'William': 5, 'Oldenburg:': 6, 'Claes': 6, 'Tom': 6, 'Follett,': 6, 'Jan': 6, 'Lois': 6, 'Hazelet,': 6, 'Katz,': 6, 'Rocklin': 6, 'Beauchamp,': 6, 'Cajori,': 6, 'Geist,': 7, 'Collages': 7, 'Jean': 7, 'Kaprow:': 7, 'An': 7, 'Pearlstein,': 7, 'Isquith,': 7, 'of': 7, 'Allan': 8, 'The': 8, 'Works': 8, 'Dodd,': 9, 'Richard': 9, 'Work': 9, 'Ippolito,': 9, 'George': 11, 'Group': 11, 'Robert': 12, 'Show': 12, 'Drawings': 22, 'Sculpture': 25, 'and': 35, 'by': 46, 'Paintings': 75}\n"
     ]
    }
   ],
   "source": [
    "filepath = \"api\"\n",
    "filename = \"events_nonmoma.json\"\n",
    "\n",
    "with open(os.path.join(filepath, filename), 'r') as json_file:\n",
    "    \n",
    "    numbers = {}\n",
    "\n",
    "    data = json.load(json_file)\n",
    "    \n",
    "    for event in data.get(\"events\"):\n",
    "        \n",
    "        title = event.get(\"_label\")\n",
    "       \n",
    "        keywords = title.split(\" \")\n",
    "        for keyword in keywords:\n",
    "            if keyword in numbers:\n",
    "                numbers[keyword] += 1\n",
    "            else:\n",
    "                numbers[keyword] = 1\n",
    "    \n",
    "    numbers = dict(sorted(numbers.items(), key=lambda item: item[1]))\n",
    "    \n",
    "        \n",
    "        \n",
    "        \n",
    "    print(numbers)\n",
    "    \n",
    "    \n",
    "        "
   ]
  },
  {
   "cell_type": "markdown",
   "metadata": {},
   "source": [
    "# Create a forced network diagram\n",
    "\n",
    "diagram with links between artists and organisations (via inclusion in exhibitions)"
   ]
  },
  {
   "cell_type": "code",
   "execution_count": 18,
   "metadata": {},
   "outputs": [],
   "source": [
    "filepath = \"api\"\n",
    "filename = \"events_all.json\"\n",
    "\n",
    "with open(os.path.join(filepath, filename), 'r') as json_file:\n",
    "    \n",
    "    nodes = []\n",
    "    links = []\n",
    "\n",
    "    data = json.load(json_file)\n",
    "    for event in data.get(\"events\"):\n",
    "\n",
    "        org = event.get(\"org\")\n",
    "\n",
    "        nodes_ids  = [x['id'] for x in nodes]\n",
    "       \n",
    "        if org == \"The \":\n",
    "            continue\n",
    "        if org == \"MoMA PS1\":\n",
    "            continue\n",
    "        if org not in nodes_ids:\n",
    "            nodes.append({\"id\": org, \"group\": 1})\n",
    "\n",
    "          \n",
    "        influenced_by = event.get(\"influenced_by\")\n",
    "        for person in influenced_by:\n",
    "            if person not in nodes_ids:\n",
    "                nodes.append({\"id\": person, \"group\": 2})\n",
    "\n",
    "            #links_sources  = [x['source'] for x in links]\n",
    "\n",
    "            links.append({\"source\": org, \"target\": person, \"value\": 1})\n",
    "\n",
    "    with open('org_artist_links_nonmoma.json', 'w') as file:\n",
    "        file.write(json.dumps({\"nodes\": nodes, \"links\": links}))\n",
    "        "
   ]
  },
  {
   "cell_type": "code",
   "execution_count": 19,
   "metadata": {},
   "outputs": [],
   "source": [
    "filepath = \"api\"\n",
    "filename = \"events_all.json\"\n",
    "\n",
    "with open(os.path.join(filepath, filename), 'r') as json_file:\n",
    "    \n",
    "    nodes = []\n",
    "    links = []\n",
    "\n",
    "    data = json.load(json_file)\n",
    "    for event in data.get(\"events\"):\n",
    "\n",
    "        org = event.get(\"org\")\n",
    "\n",
    "        nodes_ids  = [x['id'] for x in nodes]\n",
    "       \n",
    "        list_orgs = ['Tanager Gallery', \"Brata Gallery\", \"Hansa Gallery\", \"MoMA PS1\"]\n",
    "        if org not in list_orgs:\n",
    "            continue\n",
    "        \n",
    "        if org not in nodes_ids:\n",
    "            nodes.append({\"id\": org, \"group\": 1})\n",
    "\n",
    "        influenced_by = event.get(\"influenced_by\")\n",
    "        for person in influenced_by:\n",
    "            if person not in nodes_ids:\n",
    "                nodes.append({\"id\": person, \"group\": 2})\n",
    "\n",
    "            links.append({\"source\": org, \"target\": person, \"value\": 1})\n",
    "\n",
    "\n",
    "    list_links_persons  = [x['target'] for x in links]\n",
    "    list_nodes_ids = [x['id'] for x in nodes]\n",
    "\n",
    "    nonmoma_links = []\n",
    "    moma_links = []\n",
    "\n",
    "    for link in links:\n",
    "        if link.get(\"source\") not in [\"MoMA PS1\", \"The Museum of Modern Art\"]:\n",
    "            nonmoma_links.append(link)\n",
    "        else:\n",
    "            moma_links.append(link)\n",
    "\n",
    "    list_persons_nonmoma = [x['target'] for x in nonmoma_links]\n",
    "    list_persons_moma = [x['target'] for x in moma_links]\n",
    "\n",
    "    # get persons in moma list that are not in nonmoma list and then remove links including them \n",
    "    # and remove corresponding nodes\n",
    "\n",
    "    list_persons_uniquetomoma= []\n",
    "    for person in list_persons_moma:\n",
    "        if person not in list_persons_nonmoma:\n",
    "            list_persons_uniquetomoma.append(person)\n",
    "\n",
    "    \n",
    "    i = 0\n",
    "    while i < len(links):\n",
    "        link = links[i]\n",
    "        if \"target\" in link: \n",
    "            person = link.get(\"target\")\n",
    "            if person in list_persons_uniquetomoma:\n",
    "                \n",
    "                del links[i]\n",
    "        i += 1\n",
    "\n",
    "    i = 0\n",
    " \n",
    "\n",
    "    with open('org_artist_links_10thstreet.json', 'w') as file:\n",
    "        file.write(json.dumps({\"nodes\": nodes, \"links\": links}))\n",
    "\n",
    "\n",
    " \n",
    "        "
   ]
  },
  {
   "cell_type": "markdown",
   "metadata": {},
   "source": [
    "Timeline visualisation"
   ]
  },
  {
   "cell_type": "code",
   "execution_count": 20,
   "metadata": {},
   "outputs": [],
   "source": [
    "# Make JSON data file\n",
    "\n",
    "filepath = \"api\"\n",
    "filename = \"events_all.json\"\n",
    "\n",
    "events_list = []\n",
    "\n",
    "with open(os.path.join(filepath, filename), 'r') as json_file:\n",
    "    data = json.load(json_file)\n",
    "    for event in data.get(\"events\"):\n",
    "\n",
    "        start = event.get(\"start\").split(\"T\")[0]\n",
    "\n",
    "        start_year = start.split(\"-\")[0]\n",
    "        start_month = start.split(\"-\")[1]\n",
    "        start_day = start.split(\"-\")[2]\n",
    "\n",
    "        end = event.get(\"start\").split(\"T\")[0]\n",
    "\n",
    "        end_year = start.split(\"-\")[0]\n",
    "        end_month = start.split(\"-\")[1]\n",
    "        end_day = start.split(\"-\")[2]\n",
    "         \n",
    "        \n",
    "\n",
    "        display_date = str(start) + \" - \" + str(end)\n",
    "\n",
    "        headline = event.get(\"_label\")\n",
    "\n",
    "        event_vis = {\n",
    "      \"media\": {\n",
    "        \"url\": \"\",\n",
    "        \"caption\": \"\",\n",
    "        \"credit\": \"\",\n",
    "        \"thumbnail\": \"\"\n",
    "      },\n",
    "      \"display_date\": display_date,\n",
    "      \"start_date\": {\n",
    "        \"year\": start_year,\n",
    "        \"month\": start_month,\n",
    "        \"day\": start_day\n",
    "      },\n",
    "      \"end_date\": {\n",
    "        \"year\": end_year,\n",
    "        \"month\": end_month,\n",
    "        \"day\": end_day\n",
    "      },\n",
    "      \"text\": {\n",
    "        \"headline\": headline,\n",
    "        \"text\": \"\"\n",
    "      },\n",
    "      \"type\": \"title\",\n",
    "      \"background\": {  \"color\": \"#3f83e8\"  }\n",
    "    }\n",
    "        events_list.append(event_vis)\n",
    "\n",
    "\n",
    "  \n",
    "\n",
    "\n",
    "with open('events_all_timeline.json', 'w') as file:\n",
    "        file.write(json.dumps({\"events\": events_list}))"
   ]
  },
  {
   "cell_type": "code",
   "execution_count": 21,
   "metadata": {},
   "outputs": [],
   "source": [
    "# Make JSON data file\n",
    "\n",
    "filepath = \"data/summary/venue/exhibitions\"\n",
    "filename = \"index.json\"\n",
    "\n",
    "\n",
    "\n",
    "with open(os.path.join(filepath, filename), 'r') as json_file:\n",
    "    data = json.load(json_file)\n",
    "\n",
    "    for venue in data.get(\"venues\"):\n",
    "      events_list = []\n",
    "\n",
    "      filename_venue = venue.get(\"filename\") + \".json\"\n",
    "      with open(os.path.join(filepath, filename_venue), 'r') as venue_file:\n",
    "        data = json.load(venue_file)\n",
    "     \n",
    "\n",
    "        for event in data.get(\"events\"):\n",
    "\n",
    "          start = event.get(\"start\").split(\"T\")[0]\n",
    "          start_year = start.split(\"-\")[0]\n",
    "          start_month = start.split(\"-\")[1]\n",
    "          start_day = start.split(\"-\")[2]\n",
    "\n",
    "          end = event.get(\"start\").split(\"T\")[0]\n",
    "          end_year = start.split(\"-\")[0]\n",
    "          end_month = start.split(\"-\")[1]\n",
    "          end_day = start.split(\"-\")[2]\n",
    "          display_date = str(start) + \" - \" + str(end)\n",
    "          headline = event.get(\"_label\")\n",
    "\n",
    "          event_vis = {\n",
    "              \"media\": {   \"url\": \"\",   \"caption\": \"\",   \"credit\": \"\",  \"thumbnail\": \"\"   },\n",
    "              \"display_date\": display_date,\n",
    "              \"start_date\": {   \"year\": start_year,  \"month\": start_month, \"day\": start_day },\n",
    "              \"end_date\": { \"year\": end_year, \"month\": end_month, \"day\": end_day},\n",
    "              \"text\": {   \"headline\": headline,\"text\": \"\"  },\n",
    "              \"type\": \"title\",\n",
    "              \"background\": {  \"color\": \"#3f83e8\"  }\n",
    "            }\n",
    "          events_list.append(event_vis)\n",
    "\n",
    "      \n",
    "      with open('data/summary/venue/timeline/' + filename_venue , 'w') as file:\n",
    "        file.write(json.dumps({\"events\": events_list}))"
   ]
  },
  {
   "cell_type": "code",
   "execution_count": 26,
   "metadata": {},
   "outputs": [
    {
     "data": {
      "text/html": [
       "<head></head><body>        <link title=\"timeline-styles\" rel=\"stylesheet\"  href=\"https://cdn.knightlab.com/libs/timeline3/latest/css/timeline.css\"/>        <script src=\"https://cdn.knightlab.com/libs/timeline3/latest/js/timeline.js\"></script>            <h1>Timeline of exhibition data</h1>        <div id=\"timeline-embed\" style=\"width: 100%; height: 400px\"></div>        <script type=\"text/javascript\"> window.timeline = new TL.Timeline(\"timeline-embed\", \"./data/summary/venue/timeline/HansaGallery.json\");</script></body>"
      ],
      "text/plain": [
       "<IPython.core.display.HTML object>"
      ]
     },
     "execution_count": 26,
     "metadata": {},
     "output_type": "execute_result"
    }
   ],
   "source": [
    "from IPython.display import HTML\n",
    "\n",
    "import json\n",
    "try:\n",
    "    import json\n",
    "except:\n",
    "    %pip install json\n",
    "    import json\n",
    "\n",
    "\n",
    "\n",
    "from operator import itemgetter\n",
    "\n",
    "import os\n",
    "\n",
    "from datetime import datetime\n",
    "\n",
    "\n",
    "local_html_file = '<head>\\\n",
    "</head>\\\n",
    "<body>\\\n",
    "        <link title=\"timeline-styles\" rel=\"stylesheet\"  href=\"https://cdn.knightlab.com/libs/timeline3/latest/css/timeline.css\"/>\\\n",
    "        <script src=\"https://cdn.knightlab.com/libs/timeline3/latest/js/timeline.js\"></script>\\\n",
    "            <h1>Timeline of exhibition data</h1>\\\n",
    "        <div id=\"timeline-embed\" style=\"width: 100%; height: 400px\"></div>\\\n",
    "        <script type=\"text/javascript\"> window.timeline = new TL.Timeline(\"timeline-embed\", \"./data/summary/venue/timeline/HansaGallery.json\");</script>\\\n",
    "</body>'\n",
    "\n",
    "HTML(local_html_file)"
   ]
  },
  {
   "cell_type": "code",
   "execution_count": 27,
   "metadata": {},
   "outputs": [
    {
     "data": {
      "application/vnd.jupyter.widget-view+json": {
       "model_id": "461a91489be145b7a68c4d62733f9325",
       "version_major": 2,
       "version_minor": 0
      },
      "text/plain": [
       "Dropdown(options=(('Please select a venue', ''), ('42nd Venice Biennale', '42ndVeniceBiennale'), ('44th Venice…"
      ]
     },
     "metadata": {},
     "output_type": "display_data"
    }
   ],
   "source": [
    "try:\n",
    "    import ipywidgets\n",
    "except:\n",
    "    %pip install ipywidgets\n",
    "    import ipywidgets\n",
    "\n",
    "from ipywidgets import Layout, FileUpload \n",
    "from IPython.display import display, IFrame, HTML, Image\n",
    "from IPython.core.display import Javascript        \n",
    " \n",
    "import os\n",
    "\n",
    "try:\n",
    "    import json\n",
    "except:\n",
    "    %pip install json\n",
    "    import json \n",
    "\n",
    "\n",
    "\n",
    "    \n",
    "selectOptions = []\n",
    "selectOptions = [('Please select a venue', '')]\n",
    "\n",
    "filepath = \"data/summary/venue/exhibitions\"\n",
    "filename = \"index.json\"\n",
    "filepath_timeline = \"data/summary/venue/timeline\"\n",
    "\n",
    "\n",
    "\n",
    "with open(os.path.join(filepath, filename), 'r') as json_file:\n",
    "    data = json.load(json_file)\n",
    "\n",
    "    for venue in data.get(\"venues\"):\n",
    "        filename = venue.get(\"filename\")\n",
    "        name = venue.get(\"name\")\n",
    "        selectOptions.append( (name , filename))\n",
    "\n",
    "local_html_file = \"\"\n",
    "\n",
    "def dropdown_eventhandler(change):\n",
    "    \n",
    "    filename_venue=change.new\n",
    "    with open(os.path.join(filepath_timeline, filename_venue + '.json'), 'r') as venue_file:\n",
    "        local_html_file = '<link title=\"timeline-styles\" rel=\"stylesheet\"  href=\"https://cdn.knightlab.com/libs/timeline3/latest/css/timeline.css\"/><script src=\"https://cdn.knightlab.com/libs/timeline3/latest/js/timeline.js\"></script>'\n",
    "\n",
    "        local_html_file += '<h1>Timeline of exhibition data ' + filename_venue + '</h1>\\\n",
    "        <div id=\"timeline-embed-' + venue.get(\"filename\") + '\" style=\"background-color:blue;width: 100%; height: 700px\">' + filename_venue +'</div>\\\n",
    "        <script type=\"text/javascript\"> window.timeline = new TL.Timeline(\"timeline-embed-' + venue.get(\"filename\") + '\", \"./data/summary/venue/timeline/' + filename_venue + '.json\");</script>'\n",
    "        display(HTML(local_html_file))     \n",
    "    \n",
    "   \n",
    "\n",
    "selectObject = ipywidgets.Dropdown(options=selectOptions)\n",
    "selectObject.observe(dropdown_eventhandler, names='value')\n",
    "\n",
    "display(selectObject)\n",
    "\n",
    "\n",
    "\n"
   ]
  }
 ],
 "metadata": {
  "kernelspec": {
   "display_name": "Python 3.9.12 64-bit",
   "language": "python",
   "name": "python3"
  },
  "language_info": {
   "codemirror_mode": {
    "name": "ipython",
    "version": 3
   },
   "file_extension": ".py",
   "mimetype": "text/x-python",
   "name": "python",
   "nbconvert_exporter": "python",
   "pygments_lexer": "ipython3",
   "version": "3.9.12"
  },
  "vscode": {
   "interpreter": {
    "hash": "aee8b7b246df8f9039afb4144a1f6fd8d2ca17a180786b69acc140d282b71a49"
   }
  }
 },
 "nbformat": 4,
 "nbformat_minor": 2
}
